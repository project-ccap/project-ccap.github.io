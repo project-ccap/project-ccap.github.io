{
  "nbformat": 4,
  "nbformat_minor": 0,
  "metadata": {
    "colab": {
      "name": "2021_0903BERT_demo.ipynb",
      "private_outputs": true,
      "provenance": [],
      "authorship_tag": "ABX9TyO1hXxSeKvonn0+fRkQxB6Z",
      "include_colab_link": true
    },
    "kernelspec": {
      "name": "python3",
      "display_name": "Python 3"
    },
    "language_info": {
      "name": "python"
    }
  },
  "cells": [
    {
      "cell_type": "markdown",
      "metadata": {
        "id": "view-in-github",
        "colab_type": "text"
      },
      "source": [
        "<a href=\"https://colab.research.google.com/github/project-ccap/project-ccap.github.io/blob/master/2021notebooks/2021_0903BERT_demo.ipynb\" target=\"_parent\"><img src=\"https://colab.research.google.com/assets/colab-badge.svg\" alt=\"Open In Colab\"/></a>"
      ]
    },
    {
      "cell_type": "markdown",
      "metadata": {
        "id": "HmJpattUEaMN"
      },
      "source": [
        "# ごく簡単な BERT の使い方\n",
        "\n",
        "- date: 2021_0903\n",
        "- author: 浅川伸一\n",
        "- 参考サイト: https://huggingface.co/bert-base-multilingual-cased\n"
      ]
    },
    {
      "cell_type": "code",
      "metadata": {
        "id": "yAJrbOJsARF8"
      },
      "source": [
        "# MeCab\b, fugashi, ipadic のインストール\n",
        "!apt install aptitude swig\n",
        "!aptitude install mecab libmecab-dev mecab-ipadic-utf8 git make curl xz-utils file -y\n",
        "!pip install mecab-python3\n",
        "!git clone --depth 1 https://github.com/neologd/mecab-ipadic-neologd.git\n",
        "!echo yes | mecab-ipadic-neologd/bin/install-mecab-ipadic-neologd -n -a\n",
        "\n",
        "import subprocess\n",
        "\n",
        "cmd='echo `mecab-config --dicdir`\"/mecab-ipadic-neologd\"'\n",
        "path_neologd = (subprocess.Popen(cmd, stdout=subprocess.PIPE,\n",
        "                           shell=True).communicate()[0]).decode('utf-8')\n",
        "\n",
        "!pip install fugashi[unidic]\n",
        "!python -m unidic download\n",
        "!pip install ipadic"
      ],
      "execution_count": null,
      "outputs": []
    },
    {
      "cell_type": "code",
      "metadata": {
        "id": "vaceAxAx_1Gj"
      },
      "source": [
        "# allennlp の transformers のインストール\n",
        "!pip install transformers\n",
        "from transformers import BertTokenizer, BertModel\n",
        "from transformers import pipeline"
      ],
      "execution_count": null,
      "outputs": []
    },
    {
      "cell_type": "code",
      "metadata": {
        "id": "xv4l4qKe_8m0"
      },
      "source": [
        "# 学習済 BERT 日本語モデルのインストール special thanks to 東北大学 乾研究室\n",
        "unmasker = pipeline('fill-mask', model='cl-tohoku/bert-base-japanese-whole-word-masking')"
      ],
      "execution_count": null,
      "outputs": []
    },
    {
      "cell_type": "code",
      "metadata": {
        "id": "gVfY0zl7AAo7"
      },
      "source": [
        "# ここからは，実演です\n",
        "masked_sentences = [['ニューラルネットワーク は 神経 心理学 の [MASK] です.'],\n",
        "                    ['札幌 クラーク 病院 は 神経 心理学 の [MASK] です.'],\n",
        "                    ['東京女子大学 は [MASK] な 大学 です.'],\n",
        "                    ['[MASK] 大学 は リベラル な 大学 です.'],\n",
        "                    ]\n",
        "for sentence in masked_sentences:\n",
        "    for x in unmasker(sentence):\n",
        "        print(f\"{x['sequence']}, スコア: {x['score']:.3f} \")\n",
        "\n",
        "#for x in unmasker(\"ニューラルネットワーク は 神経 心理学 の [MASK] です.\"):\n",
        "#    print(f\"{x['sequence']}, スコア:{x['score']:.3f} \")\n",
        "#print(unmasker(\"札幌 クラーク 病院 は 神経 心理学 の [MASK] です.\"))"
      ],
      "execution_count": null,
      "outputs": []
    },
    {
      "cell_type": "code",
      "metadata": {
        "id": "1ccntkNQAJze"
      },
      "source": [
        "unmasker(['CCAP は 神経 心理学 に とって [MASK] な 存在 です.'])"
      ],
      "execution_count": null,
      "outputs": []
    },
    {
      "cell_type": "code",
      "metadata": {
        "id": "QoIg7ncqCQT9"
      },
      "source": [
        "# 以下は BERT モデルの内部を確認する作業\n",
        "model = BertModel.from_pretrained('cl-tohoku/bert-base-japanese-whole-word-masking')\n",
        "#print(model)"
      ],
      "execution_count": null,
      "outputs": []
    },
    {
      "cell_type": "code",
      "metadata": {
        "id": "Qk7FGql8Sz-z"
      },
      "source": [
        "from transformers import BertConfig\n",
        "\n",
        "# 東北大学 乾研究室の設定を確認\n",
        "config_japanese = BertConfig.from_pretrained('cl-tohoku/bert-base-japanese-whole-word-masking')\n",
        "print(config_japanese)"
      ],
      "execution_count": null,
      "outputs": []
    },
    {
      "cell_type": "code",
      "metadata": {
        "id": "PeysNYSbTNN3"
      },
      "source": [
        "# 分かち書きをするための tokenizer を呼び出して利用するため\n",
        "import torch \n",
        "tokenizer = BertTokenizer.from_pretrained('cl-tohoku/bert-base-japanese-whole-word-masking')\n"
      ],
      "execution_count": null,
      "outputs": []
    },
    {
      "cell_type": "code",
      "metadata": {
        "id": "UL7sPczpTnlN"
      },
      "source": [
        "input_ids = tokenizer.encode(f'''\n",
        "    青葉山で{tokenizer.mask_token}の研究をしています。\n",
        "''', return_tensors='pt')\n",
        "print(input_ids)"
      ],
      "execution_count": null,
      "outputs": []
    },
    {
      "cell_type": "code",
      "metadata": {
        "id": "P28SaBj8Ufwf"
      },
      "source": [
        ""
      ],
      "execution_count": null,
      "outputs": []
    },
    {
      "cell_type": "code",
      "metadata": {
        "id": "gxZ2XxhpVKfH"
      },
      "source": [
        ""
      ],
      "execution_count": null,
      "outputs": []
    }
  ]
}