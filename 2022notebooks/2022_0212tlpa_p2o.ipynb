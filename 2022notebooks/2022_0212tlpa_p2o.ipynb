{
 "cells": [
  {
   "cell_type": "markdown",
   "metadata": {},
   "source": [
    "# TLPA 絵画命名検査での発話単語逆モデル CCAP バージョン\n",
    "\n",
    "- date: 2022-0206\n",
    "- filename: 2022_0212tlpa_p2o.ipynb\n",
    "- file required: 呼称(TLPA)語彙属性.xlsx\n",
    "- author: 浅川伸一\n",
    "- license: MIT"
   ]
  },
  {
   "cell_type": "markdown",
   "metadata": {},
   "source": [
    "## 手続き\n",
    "\n",
    "\n",
    "### 材料\n",
    "\n",
    "TLPA の絵画命名課題に用いられる図版 200 枚を単語にして刺激語として用いた。\n",
    "TLPA の本課題は，入力が白黒画像であるが，これを単語として表現した場合，複数の表記が考えられる。\n",
    "たとえば，「海苔巻き」と「ノリ巻き」とであれば，どちらでも刺激図版を表す単語として用いることができる。\n",
    "今回は，日本語ウィキペディア 2021 年 5 月版に記載のあった単語を用いることとした。\n",
    "このため，200 枚の図版に対して，237 語の刺激語を用いた。\n",
    "一方，NTT 日本語語彙特性 (天野，近藤, 1999) の頻度に基づいて，最頻語を 10,000 語用いて訓練データとした。\n",
    "NTT 日本語語彙特性に基づく単語頻度のうち，記号やアルファベットを除き，かつ，上述の TLPA 単語 237 語を除外した\n",
    "上位 10,000 語を訓練データとした。\n",
    "\n",
    "訓練においては，各入力単語は，文字別に付番した番号を文字トークン ID とした。\n",
    "この文字トークン ID を ワンホットベクトルとみなし，入力層に与えた。\n",
    "出力の音素表現については，単語の読みを mecab (Kudo, 2007) によって取得した。\n",
    "得られた単語の読みを julius 表記によってアルファベット文字列に変換した情報をワンホットベクトルとみなして出力表現とした。\n",
    "このようにして得られた，単語の音表現は 41 種 と特殊トークン 4 種の計 45 種 であった。\n",
    "特殊トークン 4 種とは，入力表現でも用いられた，次の 4 種である。\n",
    "\n",
    "* '\\<EOW\\>': 単語の終端を表す特殊トークン\n",
    "* '\\<SOW\\>': 単語の先端を表す特殊トークン\n",
    "* '\\<UNK\\>': 未知記号を表す特殊トークン\n",
    "* '\\<PAD\\>': 埋め草用特殊トークン，ミニバッチ学習の際に入出力表現ベクトルの次元を揃えるために用いられる\n",
    "    \n",
    "このようにして得られた入力用文字トークンは，1903 種，音トークンは先述のとおり 45 種とした。\n",
    "入力文字トークン系列の最大系列長は 12, 出力音トークン系列の最大系列長は，28 であった。\n",
    "\n",
    "たとえば，単語「バス」についての入出力表現は，以下の通りである:\n",
    "\n",
    "```\n",
    "{0: {'orig': 'バス', 'ortho': ['バ', 'ス'], 'phone': ['b', 'a', 's', 'u'], 'ortho_ids': [696, 519], 'phone_ids': [25, 7, 19, 12]\n",
    "```\n",
    "\n",
    "### 訓練手続き\n",
    "\n",
    "材料の項で述べた単語の書記素表現系列から音表現系列への変換を，符号化器=復号化器モデル，あるいは seq2seq モデル，(Sutskever et.al, 2014, arxiv:1409.3215) \n",
    "を用いて学習させた。\n",
    "中間層のニューロン数は 64 または 256 とした。\n",
    "符号化器=復号化器モデルに用いた理関連とニューラルネットワークとして GRU (Cho, et.al, 2014) を用いた。\n",
    "学習の評価には，負の対数尤度を用いた。\n",
    "学習は Adam (Kingma and Welling, 2015, arxiv:1412.6980) を用いて訓練した。\n",
    "このとき学習係数は 0.01，alpha, beta の値は PyTorch の既定値を用いた。\n",
    "各学習エポックでは，10,000 語のデータが用いれ，TLPA 語は学習には用いず，検証データして用いた。\n",
    "\n",
    "\n",
    "\n",
    "\n",
    "### 補足\n",
    "- 用いた TLPA 単語 (237 語)\n",
    "```\n",
    "'バス', '緑', '桜', 'のり巻き', '海苔巻', '五重塔', 'コップ', 'ごぼう', '土踏まず', '風呂', 'ヒトデ', 'ハム', 'うさぎ', '兎', 'ウサギ', 'ロープウェイ', '学校', 'ちりとり', '縁側', '歯', 'ねぎ', 'あじさい', '紫陽花', '灰色', '天井', '鍵', '肌色', 'ワニ', '鰐', '電車', '顔', '松', 'ガードレール', '柿', 'ちまき', '信号', 'ススキ', '薄', 'じょうろ', 'ジョウロ', 'コンセント', '天ぷら', 'てんぷら', '中指', 'ヨット', 'ピンク', 'フクロウ', 'ふくろう', 'みかん', '蜜柑', 'ミカン', '柱', '角砂糖', '犬', 'かご', '駕籠', 'バラ', '薔薇', '鍋', 'まぶた', 'くるみ', '黒', 'デパート', 'カーネーション', '城', 'アリ', '豆腐', 'ドライバー', '紺', '階段', '戦車', '人参', '背中', '鏡餅', 'スプーン', '朝顔', '金色', '足', 'ふすま', 'へび', '蛇', 'ヘビ', 'レモン', '公園', '乳母車', '床', '藤', 'ピンセット', 'トラック', 'いちご', '苺', 'イチゴ', '黄土色', '銭湯', 'ナマズ', 'ソバ', '蕎麦', 'おなか', 'お腹', 'オレンジ', 'バター', '工場', 'ハト', '鳩', '電卓', 'のど仏', '喉仏', 'チューリップ', '白菜', 'トラクター', '廊下', 'パトカー', '押し入れ', '鉛筆', '目尻', '芋', '吊橋', '赤', 'かき氷', '豹', 'サボテン', 'ピラミッド', 'サイ', '目', 'ひまわり', 'はたき', 'さしみ', '刺身', '玄関', 'トマト', '黄緑', '三輪車', 'にわとり', '鶏', 'つむじ', 'アスパラガス', 'ドア', '銀色', 'ウイスキー', '梅', 'タクシー', '動物園', '床の間', 'こげ茶', 'ぶどう', '葡萄', 'ブドウ', '飴', '毛虫', 'アイロン', '寺', 'そり', 'ひょうたん', '首', '消しゴム', '頬', 'イチョウ', 'いちょう', '駅', '餃子', '牛', 'びわ', '枇杷', '飛行機', '畳', '白', '竹', 'ペリカン', '紫', '手すり', '口', '大根', '風車', '鋏', 'ハサミ', '潜水艦', 'ステーキ', 'マッチ', '二階', '落花生', 'ごはん', 'ご飯', '自転車', '歩道橋', 'クジラ', '鯨', '茶色', 'あやめ', 'ふくらはぎ', 'もも', '桃', '鯛焼き', '道路', '靴べら', '水色', '壁', 'タンポポ', 'たんぽぽ', 'いかだ', 'ヤギ', '山羊', '鼻', 'エビ', '海老', '台所', 'オートバイ', 'かぶ', '蕪', '柳', 'しゃもじ', 'まんじゅう', '饅頭', 'かかと', '薄紫', '家', 'おせち料理', '青', '傘', 'つくし', 'リンゴ', '林檎', '馬車', '線路', 'タツノオトシゴ', '耳', '便所', 'レンコン', '蓮根', '猫', '黄色', 'へそ', '街灯', '障子', '酒', '船', '安全ピン', 'もみじ'\n",
    "```\n",
    "\n",
    "- 用いた音表現\n",
    "```\n",
    "'<EOW>', '<SOW>', '<UNK>', '<PAD>', 'n', 'o', 'h', 'a', 'i', 't', 'g', 'r', 'u', 'd', 'e', 'sh', 'q', 'm', 'k', 's', 'y', 'ch', 'p', 'N', '', 'b', 'ts', 'o:', 'ky', 'f', 'w', 'ry', 'gy', 'u:', 'z', 'j', 'py', 'hy', 'i:', 'e:', 'a:', 'by', 'ny', 'my', 'dy'\n",
    "```"
   ]
  },
  {
   "cell_type": "markdown",
   "metadata": {},
   "source": [
    "# 0. ハイパーパラメータの定義"
   ]
  },
  {
   "cell_type": "code",
   "execution_count": 3,
   "metadata": {},
   "outputs": [
    {
     "name": "stdout",
     "output_type": "stream",
     "text": [
      "Current directory is /Users/asakawa/study/2022ccap/notebooks\n"
     ]
    },
    {
     "data": {
      "text/plain": [
       "{'traindata_size': 10000,\n",
       " 'epochs': 20,\n",
       " 'hidden_size': 256,\n",
       " 'loss_func': CrossEntropyLoss(),\n",
       " 'optim_func': torch.optim.adam.Adam,\n",
       " 'lr': 0.001,\n",
       " 'dropout_p': 0.1}"
      ]
     },
     "execution_count": 3,
     "metadata": {},
     "output_type": "execute_result"
    }
   ],
   "source": [
    "print(f'Current directory is {os.getcwd()}')\n",
    "\n",
    "import torch.nn\n",
    "import torch.optim\n",
    "\n",
    "params = {\n",
    "    #ハイパーパラメータの定義\n",
    "    'traindata_size': 10000,\n",
    "    'epochs' :20,\n",
    "    'hidden_size': 256,\n",
    "    'loss_func' : torch.nn.CrossEntropyLoss(), # 交差エントロピー損失\n",
    "    #'loss_func': torch.nn.NLLLoss(),          # 負の対数尤度損失   \n",
    "\n",
    "    #'optim_func': torch.optim.SGD,\n",
    "    #'optim_func': torch.optim.AdamW,\n",
    "    'optim_func': torch.optim.Adam, \n",
    "\n",
    "    'lr': 0.001,                               #学習率\n",
    "    'dropout_p':0.1,\n",
    "    'path_saved':'2022_0212tlpa_p2o.pt',\n",
    "}\n",
    "\n",
    "params # 確認のため印字"
   ]
  },
  {
   "cell_type": "markdown",
   "metadata": {},
   "source": [
    "## 0.1 準備作業  必要となるライブラリの輸入"
   ]
  },
  {
   "cell_type": "code",
   "execution_count": 4,
   "metadata": {},
   "outputs": [],
   "source": [
    "import os\n",
    "import sys\n",
    "import typing\n",
    "import numpy as np\n",
    "import random\n",
    "import pandas as pd\n",
    "import gzip\n",
    "from termcolor import colored\n",
    "\n",
    "# from tqdm import tqdm         #commandline で実行時\n",
    "from tqdm.notebook import tqdm  #jupyter で実行時\n",
    "\n",
    "isColab = 'google.colab' in str(get_ipython())\n",
    "if isColab:\n",
    "    !pip install Levenshtein > /dev/null 2>&1\n",
    "    !pip install japanize_matplotlib > /dev/null 2>&1\n",
    "    !pip install jaconv > /dev/null 2>&1\n",
    "\n",
    "import Levenshtein    \n",
    "import jaconv    "
   ]
  },
  {
   "cell_type": "markdown",
   "metadata": {},
   "source": [
    "# 1 データセットの読み込み"
   ]
  },
  {
   "cell_type": "code",
   "execution_count": null,
   "metadata": {},
   "outputs": [],
   "source": [
    "%load_ext autoreload\n",
    "%autoreload 2\n",
    "\n",
    "# 自作ライブラリの読み込み\n",
    "if isColab:\n",
    "    ![ -d ccap ] & /bin/rm -rf ccap\n",
    "    !git clone https://github.com/ShinAsakawa/ccap.git\n",
    "\n",
    "from ccap import ccap_w2v\n",
    "w2v = ccap_w2v(is2017=False, isColab=isColab).w2v\n",
    "\n",
    "import MeCab\n",
    "# yomi = MeCab.Tagger('-Oyomi -d /opt/homebrew/lib/mecab/dic/mecab-ipadic-neologd').parse\n",
    "# yomi_ipa = MeCab.Tagger('-Oyomi -d /opt/homebrew/lib/mecab/dic/ipadic').parse\n",
    "#from ccap.mecab_settings import wakati\n",
    "from ccap.mecab_settings import yomi\n",
    "\n",
    "from ccap.tlpa_o2p import TLPA\n",
    "tlpa = TLPA(traindata_size=params['traindata_size'])\n",
    "print(colored(f'訓練データサイズ:{len(tlpa.training_data)} 語。NTT 日本語語彙特性の頻度上位 {len(tlpa.training_data)} 語','blue',attrs=['bold']))\n",
    "print('ただし，TLPA に用いられる単語は含まない')\n",
    "print(colored(f'検証データサイズ:{len(tlpa.tlpa_data)} TLPA 単語数','blue',attrs=['bold']))\n",
    "print(colored(f'音素数:{len(tlpa.phone_vocab)}','blue',attrs=['bold']))\n",
    "print(colored(f'書記素数:{len(tlpa.ortho_vocab)}','blue',attrs=['bold']))\n",
    "print(colored(f'最長書記素(文字)数:{tlpa.max_ortho_length}, 最長音素数:{tlpa.max_phone_length}', 'blue',attrs=['bold']))"
   ]
  },
  {
   "cell_type": "code",
   "execution_count": 6,
   "metadata": {},
   "outputs": [
    {
     "name": "stdout",
     "output_type": "stream",
     "text": [
      "None\n"
     ]
    }
   ],
   "source": [
    "# 再現性確保のため乱数の種を固定する\n",
    "import random\n",
    "import torch\n",
    "\n",
    "# リソースの選択（CPU/GPU）\n",
    "device = torch.device(\"cuda:0\" if torch.cuda.is_available() else \"cpu\")\n",
    "\n",
    "# 乱数シード固定（再現性の担保）\n",
    "def fix_seed(seed):\n",
    "    random.seed(seed)  # for random\n",
    "    np.random.seed(seed) # for numpy\n",
    "\n",
    "    # for pytorch\n",
    "    torch.manual_seed(seed)\n",
    "    torch.cuda.manual_seed_all(seed)\n",
    "    torch.backends.cudnn.deterministic = True\n",
    "    torch.backends.cudnn.benchmark = False\n",
    "\n",
    "seed = 42\n",
    "fix_seed(seed)\n",
    "\n",
    "# データローダーのサブプロセスの乱数の seed が固定\n",
    "def worker_init_fn(worker_id):\n",
    "    np.random.seed(np.random.get_state()[1][0] + worker_id)\n",
    "\n",
    "print(worker_init_fn(1))"
   ]
  },
  {
   "cell_type": "code",
   "execution_count": 7,
   "metadata": {},
   "outputs": [],
   "source": [
    "import torch\n",
    "import torch.utils.data\n",
    "\n",
    "class _train_dataset(torch.utils.data.Dataset):\n",
    "    '''\n",
    "    上で読み込んだ自作データ管理ライブラリ TLPA でも良いので冗長なのだが，訓練データセットと検証データセットとを明示的に定義しておく\n",
    "    '''\n",
    "    \n",
    "    def __init__(self, tlpa=tlpa)->None:\n",
    "        self.tlpa = tlpa\n",
    "        self.data = tlpa.training_data\n",
    "        self.order = {i:self.data[x] for i, x in enumerate(self.data)}\n",
    "        \n",
    "    def __len__(self)->int:\n",
    "        return len(self.data)\n",
    "    \n",
    "    def __getitem__(self, x:int):\n",
    "        return self.order[x]['phone_ids'] + [self.tlpa.ortho_vocab.index('<EOW>')], self.order[x]['ortho_ids'] + [self.tlpa.phone_vocab.index('<EOW>')]\n",
    "    \n",
    "    def convert_ortho_ids_to_tokens(self, ids:list):\n",
    "        return [self.tlpa.ortho_vocab[idx] for idx in ids]\n",
    "    \n",
    "    def convert_phone_ids_to_tokens(self, ids:list):\n",
    "        return [self.tlpa.phone_vocab[idx] for idx in ids]\n",
    "\n",
    "\n",
    "class _val_dataset(torch.utils.data.Dataset):\n",
    "    def __init__(self, tlpa=tlpa)->None:\n",
    "        self.tlpa = tlpa\n",
    "        self.data = tlpa.tlpa_data\n",
    "        self.order = {i:self.data[x] for i, x in enumerate(self.data)}\n",
    "        \n",
    "    def __len__(self)->int:\n",
    "        return len(self.data)\n",
    "    \n",
    "    def __getitem__(self, x:int):\n",
    "        return self.order[x]['phone_ids'] + [self.tlpa.ortho_vocab.index('<EOW>')], self.order[x]['ortho_ids'] + [self.tlpa.phone_vocab.index('<EOW>')]\n",
    "        #return self.order[x]['ortho_ids'], self.order[x]['phone_ids']\n",
    "    \n",
    "    def convert_ortho_ids_to_tokens(self, ids:list):\n",
    "        return [self.tlpa.ortho_vocab[idx] for idx in ids]\n",
    "    \n",
    "    def convert_phone_ids_to_tokens(self, ids:list):\n",
    "        return [self.tlpa.phone_vocab[idx] for idx in ids]\n",
    "    \n",
    "train_dataset = _train_dataset()\n",
    "val_dataset = _val_dataset()\n",
    "\n",
    "# # 上で定義したデータセットの出力検証。 ランダムサンプリングを N 回繰り返す\n",
    "# N = 5\n",
    "# X = np.random.randint(val_dataset.__len__(),size=N)\n",
    "# for x in X:\n",
    "#     orth, phon = val_dataset.__getitem__(x)\n",
    "#     print(f'検証データセット 入力単語 ID:{orth}, トークン:{val_dataset.convert_ortho_ids_to_tokens(orth)}')\n",
    "#     print(f'検証データセット 出力単語 ID:{phon}, トークン:{val_dataset.convert_phone_ids_to_tokens(phon)}')\n",
    "\n",
    "#     orth, phon = train_dataset.__getitem__(x)\n",
    "#     print(f'訓練データセット 入力単語 ID:{orth}, トークン:{train_dataset.convert_ortho_ids_to_tokens(orth)}')\n",
    "#     print(f'訓練データセット 出力単語 ID:{phon}, トークン:{train_dataset.convert_phone_ids_to_tokens(phon)}\\n---')\n",
    "    \n",
    "\n",
    "#print(val_dataset.tlpa.max_ortho_length)\n",
    "#print(val_dataset.tlpa.max_phone_length)\n",
    "\n",
    "#print(train_dataset.tlpa.max_ortho_length)\n",
    "#print(train_dataset.tlpa.max_phone_length)"
   ]
  },
  {
   "cell_type": "markdown",
   "metadata": {},
   "source": [
    "# 2 学習に用いる，符号化器 (エンコーダ)，復号化器 (デコーダ) の定義"
   ]
  },
  {
   "cell_type": "code",
   "execution_count": 8,
   "metadata": {},
   "outputs": [],
   "source": [
    "import torch\n",
    "import torch.nn as nn\n",
    "import torch.optim as optim\n",
    "import torch.nn.functional as F\n",
    "\n",
    "class EncoderRNN(nn.Module):\n",
    "    '''RNNによる符号化器'''\n",
    "    def __init__(self, n_inp, n_hid):\n",
    "        super().__init__()\n",
    "        self.n_hid = n_hid\n",
    "\n",
    "        self.embedding = nn.Embedding(n_inp, n_hid)\n",
    "        self.gru = nn.GRU(n_hid, n_hid)\n",
    "\n",
    "    def forward(self, inp, hid):\n",
    "        embedded = self.embedding(inp).view(1, 1, -1)\n",
    "        out = embedded\n",
    "        out, hid = self.gru(out, hid)\n",
    "        return out, hid\n",
    "\n",
    "    def initHidden(self):\n",
    "        return torch.zeros(1, 1, self.n_hid, device=device)\n",
    "\n",
    "\n",
    "class AttnDecoderRNN(nn.Module):\n",
    "    '''注意付き復号化器の定義'''\n",
    "    def __init__(self, n_hid, n_out, dropout_p=0.1, max_length=tlpa.max_phone_length+1):\n",
    "        super().__init__()\n",
    "        self.n_hid = n_hid\n",
    "        self.n_out = n_out\n",
    "        self.dropout_p = dropout_p\n",
    "        self.max_length = max_length\n",
    "\n",
    "        self.embedding = nn.Embedding(self.n_out, self.n_hid)\n",
    "        self.attn = nn.Linear(self.n_hid * 2, self.max_length)\n",
    "        self.attn_combine = nn.Linear(self.n_hid * 2, self.n_hid)\n",
    "        self.dropout = nn.Dropout(self.dropout_p)\n",
    "        self.gru = nn.GRU(self.n_hid, self.n_hid)\n",
    "        self.out = nn.Linear(self.n_hid, self.n_out)\n",
    "\n",
    "    def forward(self, inp, hid, encoder_outputs):\n",
    "        embedded = self.embedding(inp).view(1, 1, -1)\n",
    "        embedded = self.dropout(embedded)\n",
    "\n",
    "        attn_weights = F.softmax(self.attn(torch.cat((embedded[0], hid[0]), 1)), dim=1)\n",
    "        attn_applied = torch.bmm(attn_weights.unsqueeze(0), encoder_outputs.unsqueeze(0))\n",
    "\n",
    "        out = torch.cat((embedded[0], attn_applied[0]), 1)\n",
    "        out = self.attn_combine(out).unsqueeze(0)\n",
    "\n",
    "        out = F.relu(out)\n",
    "        out, hid = self.gru(out, hid)\n",
    "\n",
    "        out = F.log_softmax(self.out(out[0]), dim=1)\n",
    "        return out, hid, attn_weights\n",
    "\n",
    "    def initHidden(self):\n",
    "        return torch.zeros(1, 1, self.n_hid, device=device)"
   ]
  },
  {
   "cell_type": "markdown",
   "metadata": {},
   "source": [
    "# 3. 訓練関数 `train()` の定義 教師強制付き"
   ]
  },
  {
   "cell_type": "code",
   "execution_count": 9,
   "metadata": {},
   "outputs": [],
   "source": [
    "def convert_ids2tensor(sentence_ids):\n",
    "    return torch.tensor(sentence_ids, dtype=torch.long, device=device).view(-1, 1)\n",
    "\n",
    "teacher_forcing_ratio = 0.5  # 教師強制率。文献によっては，訓練中にこの値を徐々に減衰させることも行われます\n",
    "\n",
    "def train(input_tensor, \n",
    "          target_tensor, \n",
    "          encoder, decoder, \n",
    "          encoder_optimizer, decoder_optimizer, \n",
    "          criterion, max_length=tlpa.max_phone_length+1):\n",
    "    \n",
    "    encoder_hidden = encoder.initHidden() # 符号化器の中間層を初期化\n",
    "    encoder_optimizer.zero_grad()         # 符号化器の最適化関数の初期化\n",
    "    decoder_optimizer.zero_grad()         # 復号化器の最適化関数の初期化\n",
    "\n",
    "    input_length = input_tensor.size(0)\n",
    "    target_length = target_tensor.size(0)\n",
    "    encoder_outputs = torch.zeros(max_length, encoder.n_hid, device=device)\n",
    "    loss = 0\n",
    "\n",
    "    for ei in range(input_length):\n",
    "        encoder_output, encoder_hidden = encoder(\n",
    "            input_tensor[ei], encoder_hidden)\n",
    "        encoder_outputs[ei] = encoder_output[0, 0]\n",
    "\n",
    "    decoder_input = torch.tensor([[train_dataset.tlpa.ortho_vocab.index('<SOW>')]], device=device)\n",
    "    decoder_hidden = encoder_hidden\n",
    "    \n",
    "    # 教師強制をするか否かを確率的に決める\n",
    "    use_teacher_forcing = True if random.random() < teacher_forcing_ratio else False\n",
    "    if use_teacher_forcing: # 教師強制する場合 Teacher forcing: Feed the target as the next input\n",
    "        for di in range(target_length):\n",
    "            decoder_output, decoder_hidden, decoder_attention = decoder(\n",
    "                decoder_input, decoder_hidden, encoder_outputs)\n",
    "            loss += criterion(decoder_output, target_tensor[di])\n",
    "            decoder_input = target_tensor[di]  # Teacher forcing\n",
    "\n",
    "    else: # 教師強制しない場合 Without teacher forcing: use its own predictions as the next input\n",
    "        for di in range(target_length):\n",
    "            decoder_output, decoder_hidden, decoder_attention = decoder(\n",
    "                decoder_input, decoder_hidden, encoder_outputs)\n",
    "            topv, topi = decoder_output.topk(1)\n",
    "            decoder_input = topi.squeeze().detach()  # detach from history as input\n",
    "\n",
    "            loss += criterion(decoder_output, target_tensor[di])\n",
    "            if decoder_input.item() == train_dataset.tlpa.ortho_vocab.index('<EOW>'):\n",
    "                break\n",
    "\n",
    "    loss.backward()\n",
    "    encoder_optimizer.step()\n",
    "    decoder_optimizer.step()\n",
    "\n",
    "    return loss.item() / target_length"
   ]
  },
  {
   "cell_type": "code",
   "execution_count": 10,
   "metadata": {},
   "outputs": [],
   "source": [
    "import time\n",
    "import math\n",
    "\n",
    "def asMinutes(s):\n",
    "    \"\"\"時間変数を見やすいように，分と秒に変換して返す\"\"\"\n",
    "    m = math.floor(s / 60)\n",
    "    s -= m * 60\n",
    "    return f'{int(m):2d}分 {int(s):2d}秒'\n",
    "    return '%dm %ds' % (m, s)\n",
    "\n",
    "\n",
    "def timeSince(since, percent):\n",
    "    \"\"\"開始時刻 since と，現在の処理が全処理中に示す割合 percent を与えて，経過時間と残り時間を計算して表示する\"\"\"\n",
    "    now = time.time()  #現在時刻を取得\n",
    "    s = now - since    # 開始時刻から現在までの経過時間を計算\n",
    "    #s = since - now    \n",
    "    es = s / (percent) # 経過時間を現在までの処理割合で割って終了予想時間を計算\n",
    "    rs = es - s        # 終了予想時刻から経過した時間を引いて残り時間を計算\n",
    "\n",
    "    return f'経過時間:{asMinutes(s)} (残り時間 {asMinutes(rs)})'"
   ]
  },
  {
   "cell_type": "markdown",
   "metadata": {},
   "source": [
    "# 4. `fit()` 関数の定義 エポックを反復して `train()` を呼び出す"
   ]
  },
  {
   "cell_type": "code",
   "execution_count": 11,
   "metadata": {},
   "outputs": [],
   "source": [
    "def fit(encoder:nn.Module, \n",
    "        decoder:nn.Module, \n",
    "        epochs:int=params['epochs'],\n",
    "        lr:float=params['lr'],\n",
    "        n_sample:int=3)->list:\n",
    "    \n",
    "    start_time = time.time()\n",
    "    \n",
    "    encoder.train()\n",
    "    decoder.train()\n",
    "\n",
    "    encoder_optimizer = params['optim_func'](encoder.parameters(), lr=lr)\n",
    "    decoder_optimizer = params['optim_func'](decoder.parameters(), lr=lr)\n",
    "    criterion = params['loss_func']\n",
    "    losses = []\n",
    "\n",
    "    for epoch in range(epochs):\n",
    "        epoch_loss = 0\n",
    "        \n",
    "        #エポックごとに学習順をシャッフルする\n",
    "        learning_order = np.random.permutation(train_dataset.__len__())\n",
    "        for i in range(train_dataset.__len__()):\n",
    "            x = learning_order[i]   # ランダムにデータを取り出す \n",
    "            inputs, targets = train_dataset.__getitem__(x)\n",
    "            input_tensor = convert_ids2tensor(inputs)\n",
    "            target_tensor = convert_ids2tensor(targets)\n",
    "            \n",
    "            #訓練の実施\n",
    "            loss = train(input_tensor, target_tensor, \n",
    "                         encoder, decoder, \n",
    "                         encoder_optimizer, decoder_optimizer, \n",
    "                         criterion)\n",
    "            epoch_loss += loss\n",
    "        \n",
    "        losses.append(epoch_loss/train_dataset.__len__())\n",
    "        print(colored(f'エポック:{epoch:2d} 損失:{epoch_loss/train_dataset.__len__():.2f}', 'cyan', attrs=['bold']),\n",
    "              f'{timeSince(start_time, (epoch+1) * train_dataset.__len__()/(epochs * train_dataset.__len__()))}')\n",
    "        \n",
    "        evaluateRandomly(encoder, decoder, n=n_sample)\n",
    "        \n",
    "    return losses"
   ]
  },
  {
   "cell_type": "markdown",
   "metadata": {},
   "source": [
    "# 5 評価関数 `evaluate()` の定義"
   ]
  },
  {
   "cell_type": "code",
   "execution_count": 12,
   "metadata": {},
   "outputs": [],
   "source": [
    "def evaluate(encoder:nn.Module, \n",
    "             decoder:nn.Module, \n",
    "             input_ids:list, \n",
    "             max_length:int=tlpa.max_phone_length+1)->(list,torch.LongTensor):\n",
    "    with torch.no_grad():\n",
    "        input_tensor = convert_ids2tensor(input_ids)\n",
    "        input_length = input_tensor.size()[0]\n",
    "        encoder_hidden = encoder.initHidden()\n",
    "\n",
    "        encoder_outputs = torch.zeros(max_length, encoder.n_hid, device=device)\n",
    "\n",
    "        for ei in range(input_length):\n",
    "            encoder_output, encoder_hidden = encoder(input_tensor[ei], encoder_hidden)\n",
    "            encoder_outputs[ei] += encoder_output[0, 0]\n",
    "\n",
    "        decoder_input = torch.tensor([[val_dataset.tlpa.phone_vocab.index('<SOW>')]], device=device)\n",
    "        decoder_hidden = encoder_hidden\n",
    "\n",
    "        decoded_words, decoded_ids = [], []  # decoded_ids を追加\n",
    "        decoder_attentions = torch.zeros(max_length, max_length)\n",
    "\n",
    "        for di in range(max_length):\n",
    "            decoder_output, decoder_hidden, decoder_attention = decoder(\n",
    "                decoder_input, decoder_hidden, encoder_outputs)\n",
    "            decoder_attentions[di] = decoder_attention.data\n",
    "            topv, topi = decoder_output.data.topk(1)\n",
    "            decoded_ids.append(int(topi.squeeze().detach())) # decoded_ids に追加\n",
    "            if topi.item() == val_dataset.tlpa.ortho_vocab.index('<EOW>'):\n",
    "                decoded_words.append('<EOW>')\n",
    "                break\n",
    "            else:\n",
    "                decoded_words.append(val_dataset.tlpa.ortho_vocab[topi.item()])\n",
    "\n",
    "            decoder_input = topi.squeeze().detach()\n",
    "\n",
    "        return decoded_words, decoded_ids, decoder_attentions[:di + 1]  # decoded_ids を返すように変更\n",
    "        #return decoded_words, decoder_attentions[:di + 1]    "
   ]
  },
  {
   "cell_type": "code",
   "execution_count": 13,
   "metadata": {},
   "outputs": [],
   "source": [
    "def evaluateRandomly(encoder:nn.Module, \n",
    "                     decoder:nn.Module, \n",
    "                     n:int=5)->float:\n",
    "    \n",
    "    srcs, preds = [], []\n",
    "    for x in np.random.randint(val_dataset.__len__(), size=n):\n",
    "        input_ids, target_ids = val_dataset.__getitem__(x)\n",
    "        input_words = val_dataset.convert_phone_ids_to_tokens(input_ids)\n",
    "        print(f'入力: {target_ids}<-{input_ids}:{input_words}')\n",
    "        output_words, output_ids, attentions = evaluate(encoder, decoder, input_ids)\n",
    "\n",
    "        srcs.append(input_words)\n",
    "        preds.append(output_words)\n",
    "        print(f'出力: {output_ids}',f':{output_words}')\n",
    "        print('---')\n",
    "    return srcs, preds"
   ]
  },
  {
   "cell_type": "code",
   "execution_count": 51,
   "metadata": {},
   "outputs": [
    {
     "name": "stdout",
     "output_type": "stream",
     "text": [
      "--2022-02-14 17:33:47--  https://project-ccap.github.io/2022checkponits/2022_0214tlpa_p2o.pt\n",
      "Resolving project-ccap.github.io (project-ccap.github.io)... 185.199.108.153, 185.199.109.153, 185.199.110.153, ...\n",
      "Connecting to project-ccap.github.io (project-ccap.github.io)|185.199.108.153|:443... connected.\n",
      "HTTP request sent, awaiting response... 200 OK\n",
      "Length: 7667573 (7.3M) [application/octet-stream]\n",
      "Saving to: ‘2022_0214tlpa_p2o.pt.1’\n",
      "\n",
      "2022_0214tlpa_p2o.p 100%[===================>]   7.31M  30.1MB/s    in 0.2s    \n",
      "\n",
      "2022-02-14 17:33:47 (30.1 MB/s) - ‘2022_0214tlpa_p2o.pt.1’ saved [7667573/7667573]\n",
      "\n",
      "-rw-r--r-- 1 asakawa staff 7667573 Feb 14 17:28 2022_0214tlpa_p2o.pt\n",
      "-rw-r--r-- 1 asakawa staff 5776053 Feb 13 00:08 2022_0212tlpa_o2p.pt\n"
     ]
    },
    {
     "data": {
      "text/plain": [
       "<All keys matched successfully>"
      ]
     },
     "execution_count": 51,
     "metadata": {},
     "output_type": "execute_result"
    }
   ],
   "source": [
    "!wget https://project-ccap.github.io/2022checkponits/2022_0214tlpa_p2o.pt \n",
    "!gls -lt *.pt\n",
    "\n",
    "checkpoint = torch.load('2022_0214tlpa_p2o.pt')\n",
    "encoder3 = EncoderRNN(len(tlpa.phone_vocab), hidden_size).to(device)\n",
    "decoder3 = AttnDecoderRNN(n_hid=hidden_size, n_out=len(tlpa.ortho_vocab), dropout_p=params['dropout_p']).to(device)\n",
    "encoder3.load_state_dict(checkpoint['encoder'])\n",
    "decoder3.load_state_dict(checkpoint['decoder'])\n"
   ]
  },
  {
   "cell_type": "markdown",
   "metadata": {},
   "source": [
    "# 6. 学習の実施"
   ]
  },
  {
   "cell_type": "code",
   "execution_count": 16,
   "metadata": {},
   "outputs": [
    {
     "name": "stdout",
     "output_type": "stream",
     "text": [
      "\u001b[1m\u001b[36mエポック: 0 損失:3.76\u001b[0m 経過時間: 2分 36秒 (残り時間 49分 24秒)\n",
      "入力: [29, 387, 27, 14, 0]<-[7, 34, 8, 19, 7, 8, 0]:['a', 'j', 'i', 's', 'a', 'i', '<EOW>']\n",
      "出力: [113, 27, 0] :['自', 'さ', '<EOW>']\n",
      "---\n",
      "入力: [1833, 0]<-[17, 8, 13, 5, 11, 8, 0]:['m', 'i', 'd', 'o', 'r', 'i', '<EOW>']\n",
      "出力: [31, 31, 0] :['り', 'り', '<EOW>']\n",
      "---\n",
      "入力: [1656, 0]<-[18, 7, 19, 7, 0]:['k', 'a', 's', 'a', '<EOW>']\n",
      "出力: [453, 27, 0] :['課', 'さ', '<EOW>']\n",
      "---\n",
      "\u001b[1m\u001b[36mエポック: 1 損失:2.65\u001b[0m 経過時間: 5分 10秒 (残り時間 46分 36秒)\n",
      "入力: [1747, 1237, 0]<-[9, 25, 27, 12, 0]:['t', 'o:', 'f', 'u', '<EOW>']\n",
      "出力: [389, 389, 0] :['負', '負', '<EOW>']\n",
      "---\n",
      "入力: [702, 405, 393, 0]<-[21, 8, 22, 18, 12, 0]:['p', 'i', 'N', 'k', 'u', '<EOW>']\n",
      "出力: [702, 405, 393, 0] :['ピ', 'ン', 'ク', '<EOW>']\n",
      "---\n",
      "入力: [1848, 1849, 0]<-[23, 7, 11, 7, 0]:['b', 'a', 'r', 'a', '<EOW>']\n",
      "出力: [695, 695, 0] :['バ', 'バ', '<EOW>']\n",
      "---\n",
      "\u001b[1m\u001b[36mエポック: 2 損失:2.17\u001b[0m 経過時間: 7分 46秒 (残り時間 44分  2秒)\n",
      "入力: [19, 47, 1586, 0]<-[18, 7, 18, 8, 10, 25, 11, 8, 0]:['k', 'a', 'k', 'i', 'g', 'o:', 'r', 'i', '<EOW>']\n",
      "出力: [315, 47, 212, 0] :['海', 'き', '上', '<EOW>']\n",
      "---\n",
      "入力: [1766, 965, 0]<-[18, 37, 11, 5, 0]:['k', 'i:', 'r', 'o', '<EOW>']\n",
      "出力: [701, 162, 0] :['コ', 'ー', '<EOW>']\n",
      "---\n",
      "入力: [1864, 0]<-[12, 17, 14, 0]:['u', 'm', 'e', '<EOW>']\n",
      "出力: [1169, 35, 0] :['埋', 'め', '<EOW>']\n",
      "---\n",
      "\u001b[1m\u001b[36mエポック: 3 損失:1.84\u001b[0m 経過時間:10分 22秒 (残り時間 41分 29秒)\n",
      "入力: [1309, 163, 0]<-[6, 7, 9, 5, 0]:['h', 'a', 't', 'o', '<EOW>']\n",
      "出力: [266, 11, 0] :['ほ', 'と', '<EOW>']\n",
      "---\n",
      "入力: [701, 405, 404, 405, 163, 0]<-[18, 5, 22, 19, 14, 22, 9, 5, 0]:['k', 'o', 'N', 's', 'e', 'N', 't', 'o', '<EOW>']\n",
      "出力: [701, 405, 405, 255, 405, 0] :['コ', 'ン', 'ン', 'テ', 'ン', '<EOW>']\n",
      "---\n",
      "入力: [628, 391, 514, 237, 162, 0]<-[12, 8, 19, 12, 18, 37, 0]:['u', 'i', 's', 'u', 'k', 'i:', '<EOW>']\n",
      "出力: [877, 158, 47, 14, 0] :['移', '域', 'き', 'い', '<EOW>']\n",
      "---\n",
      "\u001b[1m\u001b[36mエポック: 4 損失:1.61\u001b[0m 経過時間:12分 58秒 (残り時間 38分 54秒)\n",
      "入力: [94, 433, 0]<-[4, 8, 18, 7, 8, 0]:['n', 'i', 'k', 'a', 'i', '<EOW>']\n",
      "出力: [7, 19, 0] :['に', 'か', '<EOW>']\n",
      "---\n",
      "入力: [14, 67, 1070, 28, 0]<-[8, 29, 25, 0]:['i', 'ch', 'o:', '<EOW>']\n",
      "出力: [146, 120, 0] :['一', '長', '<EOW>']\n",
      "---\n",
      "入力: [315, 869, 0]<-[14, 23, 8, 0]:['e', 'b', 'i', '<EOW>']\n",
      "出力: [610, 257, 0] :['エ', 'ビ', '<EOW>']\n",
      "---\n",
      "\u001b[1m\u001b[36mエポック: 5 損失:1.42\u001b[0m 経過時間:15分 33秒 (残り時間 36分 18秒)\n",
      "入力: [1656, 0]<-[18, 7, 19, 7, 0]:['k', 'a', 's', 'a', '<EOW>']\n",
      "出力: [352, 0] :['朝', '<EOW>']\n",
      "---\n",
      "入力: [19, 19, 11, 0]<-[18, 7, 18, 7, 9, 5, 0]:['k', 'a', 'k', 'a', 't', 'o', '<EOW>']\n",
      "出力: [19, 19, 19, 0] :['か', 'か', 'か', '<EOW>']\n",
      "---\n",
      "入力: [1876, 1401, 47, 0]<-[9, 7, 8, 20, 7, 18, 8, 0]:['t', 'a', 'i', 'y', 'a', 'k', 'i', '<EOW>']\n",
      "出力: [149, 1098, 0] :['対', '崎', '<EOW>']\n",
      "---\n",
      "\u001b[1m\u001b[36mエポック: 6 損失:1.32\u001b[0m 経過時間:18分  9秒 (残り時間 33分 42秒)\n",
      "入力: [904, 187, 628, 0]<-[23, 12, 13, 25, 0]:['b', 'u', 'd', 'o:', '<EOW>']\n",
      "出力: [890, 207, 0] :['武', '動', '<EOW>']\n",
      "---\n",
      "入力: [406, 393, 320, 162, 0]<-[9, 7, 18, 12, 15, 37, 0]:['t', 'a', 'k', 'u', 'sh', 'i:', '<EOW>']\n",
      "出力: [463, 13, 14, 0] :['助', 'し', 'い', '<EOW>']\n",
      "---\n",
      "入力: [19, 19, 11, 0]<-[18, 7, 18, 7, 9, 5, 0]:['k', 'a', 'k', 'a', 't', 'o', '<EOW>']\n",
      "出力: [209, 209, 376, 0] :['カ', 'カ', 'ノ', '<EOW>']\n",
      "---\n",
      "\u001b[1m\u001b[36mエポック: 7 損失:1.23\u001b[0m 経過時間:20分 44秒 (残り時間 31分  6秒)\n",
      "入力: [679, 0]<-[27, 12, 34, 8, 0]:['f', 'u', 'j', 'i', '<EOW>']\n",
      "出力: [539, 37, 0] :['夫', '人', '<EOW>']\n",
      "---\n",
      "入力: [1634, 0]<-[19, 7, 18, 12, 11, 7, 0]:['s', 'a', 'k', 'u', 'r', 'a', '<EOW>']\n",
      "出力: [259, 20, 0] :['作', 'ら', '<EOW>']\n",
      "---\n",
      "入力: [1859, 0]<-[8, 17, 5, 0]:['i', 'm', 'o', '<EOW>']\n",
      "出力: [14, 16, 0] :['い', 'も', '<EOW>']\n",
      "---\n",
      "\u001b[1m\u001b[36mエポック: 8 損失:1.16\u001b[0m 経過時間:23分 21秒 (残り時間 28分 32秒)\n",
      "入力: [526, 478, 0]<-[28, 7, 4, 8, 0]:['w', 'a', 'n', 'i', '<EOW>']\n",
      "出力: [58, 0] :['わ', '<EOW>']\n",
      "---\n",
      "入力: [860, 625, 957, 0]<-[4, 7, 17, 7, 33, 12, 0]:['n', 'a', 'm', 'a', 'z', 'u', '<EOW>']\n",
      "出力: [24, 375, 61, 0] :['な', 'ず', 'む', '<EOW>']\n",
      "---\n",
      "入力: [1868, 0]<-[6, 25, 0]:['h', 'o:', '<EOW>']\n",
      "出力: [169, 0] :['方', '<EOW>']\n",
      "---\n",
      "\u001b[1m\u001b[36mエポック: 9 損失:1.10\u001b[0m 経過時間:25分 56秒 (残り時間 25分 56秒)\n",
      "入力: [176, 1315, 0]<-[5, 4, 7, 18, 7, 0]:['o', 'n', 'a', 'k', 'a', '<EOW>']\n",
      "出力: [74, 74, 0] :['中', '中', '<EOW>']\n",
      "---\n",
      "入力: [8, 40, 1877, 1877, 0]<-[9, 7, 22, 21, 5, 21, 5, 0]:['t', 'a', 'N', 'p', 'o', 'p', 'o', '<EOW>']\n",
      "出力: [390, 390, 0] :['担', '担', '<EOW>']\n",
      "---\n",
      "入力: [1876, 1401, 47, 0]<-[9, 7, 8, 20, 7, 18, 8, 0]:['t', 'a', 'i', 'y', 'a', 'k', 'i', '<EOW>']\n",
      "出力: [75, 810, 0] :['大', '様', '<EOW>']\n",
      "---\n",
      "\u001b[1m\u001b[36mエポック:10 損失:1.03\u001b[0m 経過時間:28分 32秒 (残り時間 23分 20秒)\n",
      "入力: [1459, 125, 20, 0]<-[18, 12, 24, 12, 23, 14, 11, 7, 0]:['k', 'u', 'ts', 'u', 'b', 'e', 'r', 'a', '<EOW>']\n",
      "出力: [393, 392, 904, 0] :['ク', 'ラ', 'ブ', '<EOW>']\n",
      "---\n",
      "入力: [315, 869, 0]<-[14, 23, 8, 0]:['e', 'b', 'i', '<EOW>']\n",
      "出力: [159, 0] :['選', '<EOW>']\n",
      "---\n",
      "入力: [406, 393, 320, 162, 0]<-[9, 7, 18, 12, 15, 37, 0]:['t', 'a', 'k', 'u', 'sh', 'i:', '<EOW>']\n",
      "出力: [342, 13, 14, 0] :['育', 'し', 'い', '<EOW>']\n",
      "---\n",
      "\u001b[1m\u001b[36mエポック:11 損失:1.00\u001b[0m 経過時間:31分  7秒 (残り時間 20分 44秒)\n",
      "入力: [702, 392, 744, 745, 187, 0]<-[21, 8, 11, 7, 17, 8, 16, 13, 5, 0]:['p', 'i', 'r', 'a', 'm', 'i', 'q', 'd', 'o', '<EOW>']\n",
      "出力: [392, 129, 632, 162, 187, 745, 0] :['ラ', 'ソ', 'リ', 'ー', 'ド', 'ッ', '<EOW>']\n",
      "---\n",
      "入力: [7, 58, 11, 31, 0]<-[4, 8, 28, 7, 9, 5, 11, 8, 0]:['n', 'i', 'w', 'a', 't', 'o', 'r', 'i', '<EOW>']\n",
      "出力: [7, 58, 7, 0] :['に', 'わ', 'に', '<EOW>']\n",
      "---\n",
      "入力: [362, 430, 28, 0]<-[10, 5, 23, 25, 0]:['g', 'o', 'b', 'o:', '<EOW>']\n",
      "出力: [835, 202, 0] :['物', '合', '<EOW>']\n",
      "---\n",
      "\u001b[1m\u001b[36mエポック:12 損失:0.98\u001b[0m 経過時間:33分 42秒 (残り時間 18分  9秒)\n",
      "入力: [16, 16, 0]<-[17, 5, 17, 5, 0]:['m', 'o', 'm', 'o', '<EOW>']\n",
      "出力: [843, 0] :['百', '<EOW>']\n",
      "---\n",
      "入力: [905, 934, 0]<-[9, 14, 22, 34, 25, 0]:['t', 'e', 'N', 'j', 'o:', '<EOW>']\n",
      "出力: [520, 201, 0] :['展', '場', '<EOW>']\n",
      "---\n",
      "入力: [702, 405, 393, 0]<-[21, 8, 22, 18, 12, 0]:['p', 'i', 'N', 'k', 'u', '<EOW>']\n",
      "出力: [391, 405, 393, 0] :['イ', 'ン', 'ク', '<EOW>']\n",
      "---\n",
      "\u001b[1m\u001b[36mエポック:13 損失:0.96\u001b[0m 経過時間:36分 22秒 (残り時間 15分 35秒)\n",
      "入力: [786, 39, 58, 31, 0]<-[6, 8, 17, 7, 28, 7, 11, 8, 0]:['h', 'i', 'm', 'a', 'w', 'a', 'r', 'i', '<EOW>']\n",
      "出力: [667, 85, 0] :['非', '回', '<EOW>']\n",
      "---\n",
      "入力: [1817, 1564, 0]<-[18, 14, 17, 12, 15, 8, 0]:['k', 'e', 'm', 'u', 'sh', 'i', '<EOW>']\n",
      "出力: [49, 0] :['け', '<EOW>']\n",
      "---\n",
      "入力: [1451, 871, 0]<-[20, 7, 10, 8, 0]:['y', 'a', 'g', 'i', '<EOW>']\n",
      "出力: [1077, 871, 0] :['薬', 'ギ', '<EOW>']\n",
      "---\n",
      "\u001b[1m\u001b[36mエポック:14 損失:0.94\u001b[0m 経過時間:38分 58秒 (残り時間 12分 59秒)\n",
      "入力: [6, 8, 47, 0]<-[6, 7, 9, 7, 18, 8, 0]:['h', 'a', 't', 'a', 'k', 'i', '<EOW>']\n",
      "出力: [879, 382, 0] :['破', '機', '<EOW>']\n",
      "---\n",
      "入力: [628, 562, 871, 0]<-[12, 19, 7, 10, 8, 0]:['u', 's', 'a', 'g', 'i', '<EOW>']\n",
      "出力: [399, 27, 14, 0] :['過', 'さ', 'い', '<EOW>']\n",
      "---\n",
      "入力: [4, 31, 1421, 47, 0]<-[4, 5, 11, 8, 17, 7, 18, 8, 0]:['n', 'o', 'r', 'i', 'm', 'a', 'k', 'i', '<EOW>']\n",
      "出力: [648, 31, 666, 78, 0] :['乗', 'り', '込', 'み', '<EOW>']\n",
      "---\n",
      "\u001b[1m\u001b[36mエポック:15 損失:0.91\u001b[0m 経過時間:41分 38秒 (残り時間 10分 24秒)\n",
      "入力: [67, 31, 11, 31, 0]<-[29, 8, 11, 8, 9, 5, 11, 8, 0]:['ch', 'i', 'r', 'i', 't', 'o', 'r', 'i', '<EOW>']\n",
      "出力: [67, 1070, 11, 31, 0] :['ち', 'ょ', 'と', 'り', '<EOW>']\n",
      "---\n",
      "入力: [860, 625, 957, 0]<-[4, 7, 17, 7, 33, 12, 0]:['n', 'a', 'm', 'a', 'z', 'u', '<EOW>']\n",
      "出力: [39, 375, 0] :['ま', 'ず', '<EOW>']\n",
      "---\n",
      "入力: [48, 32, 13, 0]<-[24, 12, 18, 12, 15, 8, 0]:['ts', 'u', 'k', 'u', 'sh', 'i', '<EOW>']\n",
      "出力: [48, 0] :['つ', '<EOW>']\n",
      "---\n",
      "\u001b[1m\u001b[36mエポック:16 損失:0.91\u001b[0m 経過時間:44分 15秒 (残り時間  7分 48秒)\n",
      "入力: [701, 405, 404, 405, 163, 0]<-[18, 5, 22, 19, 14, 22, 9, 5, 0]:['k', 'o', 'N', 's', 'e', 'N', 't', 'o', '<EOW>']\n",
      "出力: [701, 405, 397, 163, 0] :['コ', 'ン', '取', 'ト', '<EOW>']\n",
      "---\n",
      "入力: [29, 30, 35, 0]<-[7, 20, 7, 17, 14, 0]:['a', 'y', 'a', 'm', 'e', '<EOW>']\n",
      "出力: [529, 402, 0] :['役', '目', '<EOW>']\n",
      "---\n",
      "入力: [6, 8, 47, 0]<-[6, 7, 9, 7, 18, 8, 0]:['h', 'a', 't', 'a', 'k', 'i', '<EOW>']\n",
      "出力: [879, 1103, 0] :['破', '棄', '<EOW>']\n",
      "---\n",
      "\u001b[1m\u001b[36mエポック:17 損失:0.89\u001b[0m 経過時間:46分 52秒 (残り時間  5分 12秒)\n",
      "入力: [625, 745, 496, 0]<-[17, 7, 16, 29, 8, 0]:['m', 'a', 'q', 'ch', 'i', '<EOW>']\n",
      "出力: [39, 67, 0] :['ま', 'ち', '<EOW>']\n",
      "---\n",
      "入力: [1766, 373, 965, 0]<-[25, 13, 5, 8, 11, 5, 0]:['o:', 'd', 'o', 'i', 'r', 'o', '<EOW>']\n",
      "出力: [189, 126, 0] :['生', '度', '<EOW>']\n",
      "---\n",
      "入力: [406, 393, 320, 162, 0]<-[9, 7, 18, 12, 15, 37, 0]:['t', 'a', 'k', 'u', 'sh', 'i:', '<EOW>']\n",
      "出力: [70, 13, 14, 0] :['分', 'し', 'い', '<EOW>']\n",
      "---\n",
      "\u001b[1m\u001b[36mエポック:18 損失:0.87\u001b[0m 経過時間:49分 28秒 (残り時間  2分 36秒)\n",
      "入力: [695, 406, 162, 0]<-[23, 7, 9, 39, 0]:['b', 'a', 't', 'a:', '<EOW>']\n",
      "出力: [695, 406, 162, 0] :['バ', 'タ', 'ー', '<EOW>']\n",
      "---\n",
      "入力: [402, 1858, 0]<-[17, 14, 34, 8, 11, 8, 0]:['m', 'e', 'j', 'i', 'r', 'i', '<EOW>']\n",
      "出力: [989, 387, 0] :['命', 'じ', '<EOW>']\n",
      "---\n",
      "入力: [428, 696, 628, 238, 0]<-[34, 25, 11, 5, 0]:['j', 'o:', 'r', 'o', '<EOW>']\n",
      "出力: [387, 623, 0] :['じ', 'ゃ', '<EOW>']\n",
      "---\n",
      "\u001b[1m\u001b[36mエポック:19 損失:0.87\u001b[0m 経過時間:52分  3秒 (残り時間  0分  0秒)\n",
      "入力: [23, 552, 1626, 0]<-[18, 5, 10, 14, 29, 7, 0]:['k', 'o', 'g', 'e', 'ch', 'a', '<EOW>']\n",
      "出力: [560, 120, 0] :['語', '長', '<EOW>']\n",
      "---\n",
      "入力: [7, 58, 11, 31, 0]<-[4, 8, 28, 7, 9, 5, 11, 8, 0]:['n', 'i', 'w', 'a', 't', 'o', 'r', 'i', '<EOW>']\n",
      "出力: [7, 11, 0] :['に', 'と', '<EOW>']\n",
      "---\n",
      "入力: [373, 923, 39, 375, 0]<-[24, 12, 29, 8, 27, 12, 17, 7, 33, 12, 0]:['ts', 'u', 'ch', 'i', 'f', 'u', 'm', 'a', 'z', 'u', '<EOW>']\n",
      "出力: [156, 478, 497, 0] :['心', 'ニ', 'ム', '<EOW>']\n",
      "---\n",
      "CPU times: user 1h 20min 5s, sys: 5min 46s, total: 1h 25min 52s\n",
      "Wall time: 52min 3s\n"
     ]
    }
   ],
   "source": [
    "%%time\n",
    "hidden_size = params['hidden_size']\n",
    "encoder = EncoderRNN(len(tlpa.phone_vocab), hidden_size).to(device)\n",
    "decoder = AttnDecoderRNN(n_hid=hidden_size, n_out=len(tlpa.ortho_vocab), dropout_p=params['dropout_p']).to(device)\n",
    "\n",
    "losses = []\n",
    "losses = losses + fit(encoder, decoder, epochs=params['epochs'], n_sample=3)\n",
    "#losses = losses + fit(encoder, decoder, epochs=2, n_sample=3)"
   ]
  },
  {
   "cell_type": "code",
   "execution_count": 18,
   "metadata": {},
   "outputs": [
    {
     "name": "stdout",
     "output_type": "stream",
     "text": [
      "\u001b[1m\u001b[36mエポック: 0 損失:1.08\u001b[0m 経過時間: 2分 46秒 (残り時間 52分 35秒)\n",
      "入力: [373, 923, 39, 375, 0]<-[24, 12, 29, 8, 27, 12, 17, 7, 33, 12, 0]:['ts', 'u', 'ch', 'i', 'f', 'u', 'm', 'a', 'z', 'u', '<EOW>']\n",
      "出力: [673, 1172, 497, 0] :['付', '詰', 'ム', '<EOW>']\n",
      "---\n",
      "入力: [1766, 1833, 0]<-[18, 8, 17, 8, 13, 5, 11, 8, 0]:['k', 'i', 'm', 'i', 'd', 'o', 'r', 'i', '<EOW>']\n",
      "出力: [237, 31, 187, 0] :['キ', 'り', 'ド', '<EOW>']\n",
      "---\n",
      "入力: [176, 24, 19, 0]<-[5, 4, 7, 18, 7, 0]:['o', 'n', 'a', 'k', 'a', '<EOW>']\n",
      "出力: [253, 0] :['最', '<EOW>']\n",
      "---\n",
      "入力: [1005, 1835, 0]<-[27, 12, 11, 5, 0]:['f', 'u', 'r', 'o', '<EOW>']\n",
      "出力: [1120, 0] :['ふ', '<EOW>']\n",
      "---\n",
      "入力: [163, 625, 163, 0]<-[9, 5, 17, 7, 9, 5, 0]:['t', 'o', 'm', 'a', 't', 'o', '<EOW>']\n",
      "出力: [11, 11, 16, 0] :['と', 'と', 'も', '<EOW>']\n",
      "---\n",
      "\u001b[1m\u001b[36mエポック: 1 損失:0.91\u001b[0m 経過時間: 5分 30秒 (残り時間 49分 30秒)\n",
      "入力: [533, 1256, 0]<-[18, 25, 14, 22, 0]:['k', 'o:', 'e', 'N', '<EOW>']\n",
      "出力: [889, 785, 0] :['講', '演', '<EOW>']\n",
      "---\n",
      "入力: [1391, 0]<-[27, 12, 4, 14, 0]:['f', 'u', 'n', 'e', '<EOW>']\n",
      "出力: [1005, 0] :['風', '<EOW>']\n",
      "---\n",
      "入力: [59, 0]<-[18, 12, 23, 8, 0]:['k', 'u', 'b', 'i', '<EOW>']\n",
      "出力: [660, 489, 0] :['区', '備', '<EOW>']\n",
      "---\n",
      "入力: [679, 0]<-[27, 12, 34, 8, 0]:['f', 'u', 'j', 'i', '<EOW>']\n",
      "出力: [1324, 536, 0] :['富', '士', '<EOW>']\n",
      "---\n",
      "入力: [971, 256, 405, 428, 0]<-[5, 11, 14, 22, 34, 8, 0]:['o', 'r', 'e', 'N', 'j', 'i', '<EOW>']\n",
      "出力: [130, 212, 0] :['連', '上', '<EOW>']\n",
      "---\n",
      "\u001b[1m\u001b[36mエポック: 2 損失:0.87\u001b[0m 経過時間: 8分 15秒 (残り時間 46分 45秒)\n",
      "入力: [1853, 0]<-[6, 14, 23, 8, 0]:['h', 'e', 'b', 'i', '<EOW>']\n",
      "出力: [1062, 257, 0] :['ヘ', 'ビ', '<EOW>']\n",
      "---\n",
      "入力: [1850, 0]<-[4, 7, 23, 14, 0]:['n', 'a', 'b', 'e', '<EOW>']\n",
      "出力: [24, 125, 0] :['な', 'べ', '<EOW>']\n",
      "---\n",
      "入力: [671, 0]<-[18, 12, 29, 8, 0]:['k', 'u', 'ch', 'i', '<EOW>']\n",
      "出力: [298, 0] :['組', '<EOW>']\n",
      "---\n",
      "入力: [163, 392, 393, 406, 162, 0]<-[9, 5, 11, 7, 18, 12, 9, 39, 0]:['t', 'o', 'r', 'a', 'k', 'u', 't', 'a:', '<EOW>']\n",
      "出力: [163, 392, 393, 406, 162, 0] :['ト', 'ラ', 'ク', 'タ', 'ー', '<EOW>']\n",
      "---\n",
      "入力: [526, 478, 0]<-[28, 7, 4, 8, 0]:['w', 'a', 'n', 'i', '<EOW>']\n",
      "出力: [58, 14, 0] :['わ', 'い', '<EOW>']\n",
      "---\n",
      "\u001b[1m\u001b[36mエポック: 3 損失:0.85\u001b[0m 経過時間:10分 57秒 (残り時間 43分 48秒)\n",
      "入力: [1309, 163, 0]<-[6, 7, 9, 5, 0]:['h', 'a', 't', 'o', '<EOW>']\n",
      "出力: [538, 0] :['半', '<EOW>']\n",
      "---\n",
      "入力: [8, 40, 1877, 1877, 0]<-[9, 7, 22, 21, 5, 21, 5, 0]:['t', 'a', 'N', 'p', 'o', 'p', 'o', '<EOW>']\n",
      "出力: [390, 405, 269, 0] :['担', 'ン', 'プ', '<EOW>']\n",
      "---\n",
      "入力: [4, 31, 1421, 47, 0]<-[4, 5, 11, 8, 17, 7, 18, 8, 0]:['n', 'o', 'r', 'i', 'm', 'a', 'k', 'i', '<EOW>']\n",
      "出力: [648, 31, 666, 31, 0] :['乗', 'り', '込', 'り', '<EOW>']\n",
      "---\n",
      "入力: [395, 288, 0]<-[19, 14, 22, 15, 7, 0]:['s', 'e', 'N', 'sh', 'a', '<EOW>']\n",
      "出力: [159, 65, 0] :['選', '者', '<EOW>']\n",
      "---\n",
      "入力: [636, 635, 0]<-[19, 14, 22, 11, 5, 0]:['s', 'e', 'N', 'r', 'o', '<EOW>']\n",
      "出力: [500, 500, 0] :['論', '論', '<EOW>']\n",
      "---\n",
      "\u001b[1m\u001b[36mエポック: 4 損失:0.83\u001b[0m 経過時間:13分 30秒 (残り時間 40分 32秒)\n",
      "入力: [971, 162, 163, 695, 391, 0]<-[25, 9, 5, 23, 7, 8, 0]:['o:', 't', 'o', 'b', 'a', 'i', '<EOW>']\n",
      "出力: [220, 75, 0] :['応', '大', '<EOW>']\n",
      "---\n",
      "入力: [562, 732, 255, 405, 0]<-[19, 7, 23, 5, 9, 14, 22, 0]:['s', 'a', 'b', 'o', 't', 'e', 'N', '<EOW>']\n",
      "出力: [709, 520, 0] :['佐', '展', '<EOW>']\n",
      "---\n",
      "入力: [207, 835, 1256, 0]<-[13, 25, 23, 12, 24, 12, 14, 22, 0]:['d', 'o:', 'b', 'u', 'ts', 'u', 'e', 'N', '<EOW>']\n",
      "出力: [51, 252, 835, 0] :['同', '断', '物', '<EOW>']\n",
      "---\n",
      "入力: [113, 737, 288, 0]<-[34, 8, 9, 14, 22, 15, 7, 0]:['j', 'i', 't', 'e', 'N', 'sh', 'a', '<EOW>']\n",
      "出力: [113, 103, 411, 0] :['自', '社', '当', '<EOW>']\n",
      "---\n",
      "入力: [14, 67, 362, 0]<-[8, 29, 8, 10, 5, 0]:['i', 'ch', 'i', 'g', 'o', '<EOW>']\n",
      "出力: [146, 66, 0] :['一', '後', '<EOW>']\n",
      "---\n",
      "\u001b[1m\u001b[36mエポック: 5 損失:0.83\u001b[0m 経過時間:16分  4秒 (残り時間 37分 30秒)\n",
      "入力: [695, 406, 162, 0]<-[23, 7, 9, 39, 0]:['b', 'a', 't', 'a:', '<EOW>']\n",
      "出力: [695, 162, 406, 0] :['バ', 'ー', 'タ', '<EOW>']\n",
      "---\n",
      "入力: [1854, 0]<-[8, 29, 8, 10, 5, 0]:['i', 'ch', 'i', 'g', 'o', '<EOW>']\n",
      "出力: [146, 519, 0] :['一', '護', '<EOW>']\n",
      "---\n",
      "入力: [1844, 0]<-[6, 7, 15, 8, 11, 7, 0]:['h', 'a', 'sh', 'i', 'r', 'a', '<EOW>']\n",
      "出力: [629, 0] :['橋', '<EOW>']\n",
      "---\n",
      "入力: [27, 13, 78, 0]<-[19, 7, 15, 8, 17, 8, 0]:['s', 'a', 'sh', 'i', 'm', 'i', '<EOW>']\n",
      "出力: [637, 13, 0] :['差', 'し', '<EOW>']\n",
      "---\n",
      "入力: [701, 745, 269, 0]<-[18, 5, 16, 21, 12, 0]:['k', 'o', 'q', 'p', 'u', '<EOW>']\n",
      "出力: [701, 745, 269, 0] :['コ', 'ッ', 'プ', '<EOW>']\n",
      "---\n",
      "\u001b[1m\u001b[36mエポック: 6 損失:0.82\u001b[0m 経過時間:18分 41秒 (残り時間 34分 42秒)\n",
      "入力: [1406, 0]<-[6, 7, 9, 5, 0]:['h', 'a', 't', 'o', '<EOW>']\n",
      "出力: [11, 11, 0] :['と', 'と', '<EOW>']\n",
      "---\n",
      "入力: [671, 0]<-[18, 12, 29, 8, 0]:['k', 'u', 'ch', 'i', '<EOW>']\n",
      "出力: [641, 0] :['打', '<EOW>']\n",
      "---\n",
      "入力: [1856, 1200, 0]<-[4, 5, 13, 5, 23, 5, 9, 5, 18, 14, 0]:['n', 'o', 'd', 'o', 'b', 'o', 't', 'o', 'k', 'e', '<EOW>']\n",
      "出力: [4, 11, 19, 0] :['の', 'と', 'か', '<EOW>']\n",
      "---\n",
      "入力: [1021, 0]<-[7, 5, 0]:['a', 'o', '<EOW>']\n",
      "出力: [1021, 0] :['青', '<EOW>']\n",
      "---\n",
      "入力: [556, 965, 0]<-[17, 8, 33, 12, 8, 11, 5, 0]:['m', 'i', 'z', 'u', 'i', 'r', 'o', '<EOW>']\n",
      "出力: [14, 375, 0] :['い', 'ず', '<EOW>']\n",
      "---\n",
      "\u001b[1m\u001b[36mエポック: 7 損失:0.81\u001b[0m 経過時間:21分 18秒 (残り時間 31分 57秒)\n",
      "入力: [373, 923, 39, 375, 0]<-[24, 12, 29, 8, 27, 12, 17, 7, 33, 12, 0]:['ts', 'u', 'ch', 'i', 'f', 'u', 'm', 'a', 'z', 'u', '<EOW>']\n",
      "出力: [48, 28, 39, 39, 0] :['つ', 'う', 'ま', 'ま', '<EOW>']\n",
      "---\n",
      "入力: [1223, 0]<-[6, 7, 0]:['h', 'a', '<EOW>']\n",
      "出力: [180, 0] :['派', '<EOW>']\n",
      "---\n",
      "入力: [679, 0]<-[27, 12, 34, 8, 0]:['f', 'u', 'j', 'i', '<EOW>']\n",
      "出力: [1324, 536, 0] :['富', '士', '<EOW>']\n",
      "---\n",
      "入力: [1862, 89, 0]<-[10, 14, 22, 18, 7, 22, 0]:['g', 'e', 'N', 'k', 'a', 'N', '<EOW>']\n",
      "出力: [484, 191, 0] :['原', '案', '<EOW>']\n",
      "---\n",
      "入力: [671, 0]<-[18, 12, 29, 8, 0]:['k', 'u', 'ch', 'i', '<EOW>']\n",
      "出力: [313, 0] :['告', '<EOW>']\n",
      "---\n",
      "\u001b[1m\u001b[36mエポック: 8 損失:0.80\u001b[0m 経過時間:23分 55秒 (残り時間 29分 14秒)\n",
      "入力: [187, 392, 391, 695, 162, 0]<-[13, 5, 11, 7, 8, 23, 39, 0]:['d', 'o', 'r', 'a', 'i', 'b', 'a:', '<EOW>']\n",
      "出力: [392, 391, 391, 392, 391, 391, 391, 391, 391, 391, 391, 391, 391, 391, 391, 391, 391, 391, 391, 391, 391, 391, 391, 391, 391, 162, 0] :['ラ', 'イ', 'イ', 'ラ', 'イ', 'イ', 'イ', 'イ', 'イ', 'イ', 'イ', 'イ', 'イ', 'イ', 'イ', 'イ', 'イ', 'イ', 'イ', 'イ', 'イ', 'イ', 'イ', 'イ', 'イ', 'ー', '<EOW>']\n",
      "---\n",
      "入力: [632, 405, 694, 0]<-[11, 8, 22, 10, 5, 0]:['r', 'i', 'N', 'g', 'o', '<EOW>']\n",
      "出力: [1130, 66, 0] :['隣', '後', '<EOW>']\n",
      "---\n",
      "入力: [41, 31, 0]<-[19, 5, 11, 8, 0]:['s', 'o', 'r', 'i', '<EOW>']\n",
      "出力: [41, 175, 0] :['そ', 'ろ', '<EOW>']\n",
      "---\n",
      "入力: [1223, 0]<-[6, 7, 0]:['h', 'a', '<EOW>']\n",
      "出力: [180, 0] :['派', '<EOW>']\n",
      "---\n",
      "入力: [74, 241, 0]<-[4, 7, 18, 7, 20, 12, 23, 8, 0]:['n', 'a', 'k', 'a', 'y', 'u', 'b', 'i', '<EOW>']\n",
      "出力: [74, 241, 0] :['中', '指', '<EOW>']\n",
      "---\n",
      "\u001b[1m\u001b[36mエポック: 9 損失:0.79\u001b[0m 経過時間:26分 33秒 (残り時間 26分 33秒)\n",
      "入力: [786, 1070, 28, 8, 40, 0]<-[36, 25, 9, 7, 22, 0]:['hy', 'o:', 't', 'a', 'N', '<EOW>']\n",
      "出力: [319, 224, 0] :['評', '判', '<EOW>']\n",
      "---\n",
      "入力: [1656, 0]<-[18, 7, 19, 7, 0]:['k', 'a', 's', 'a', '<EOW>']\n",
      "出力: [117, 117, 0] :['査', '査', '<EOW>']\n",
      "---\n",
      "入力: [163, 392, 393, 406, 162, 0]<-[9, 5, 11, 7, 18, 12, 9, 39, 0]:['t', 'o', 'r', 'a', 'k', 'u', 't', 'a:', '<EOW>']\n",
      "出力: [163, 392, 392, 393, 406, 162, 0] :['ト', 'ラ', 'ラ', 'ク', 'タ', 'ー', '<EOW>']\n",
      "---\n",
      "入力: [632, 405, 694, 0]<-[11, 8, 22, 10, 5, 0]:['r', 'i', 'N', 'g', 'o', '<EOW>']\n",
      "出力: [1130, 66, 0] :['隣', '後', '<EOW>']\n",
      "---\n",
      "入力: [315, 869, 0]<-[14, 23, 8, 0]:['e', 'b', 'i', '<EOW>']\n",
      "出力: [159, 0] :['選', '<EOW>']\n",
      "---\n",
      "\u001b[1m\u001b[36mエポック:10 損失:0.81\u001b[0m 経過時間:29分 11秒 (残り時間 23分 53秒)\n",
      "入力: [75, 474, 0]<-[13, 7, 8, 18, 5, 22, 0]:['d', 'a', 'i', 'k', 'o', 'N', '<EOW>']\n",
      "出力: [971, 391, 971, 0] :['オ', 'イ', 'オ', '<EOW>']\n",
      "---\n",
      "入力: [48, 61, 387, 0]<-[24, 12, 17, 12, 34, 8, 0]:['ts', 'u', 'm', 'u', 'j', 'i', '<EOW>']\n",
      "出力: [541, 0] :['字', '<EOW>']\n",
      "---\n",
      "入力: [176, 1315, 0]<-[5, 4, 7, 18, 7, 0]:['o', 'n', 'a', 'k', 'a', '<EOW>']\n",
      "出力: [644, 309, 0] :['小', '野', '<EOW>']\n",
      "---\n",
      "入力: [1350, 558, 0]<-[23, 14, 22, 34, 5, 0]:['b', 'e', 'N', 'j', 'o', '<EOW>']\n",
      "出力: [680, 599, 0] :['弁', '除', '<EOW>']\n",
      "---\n",
      "入力: [1488, 0]<-[14, 18, 8, 0]:['e', 'k', 'i', '<EOW>']\n",
      "出力: [1303, 0] :['液', '<EOW>']\n",
      "---\n",
      "\u001b[1m\u001b[36mエポック:11 損失:0.80\u001b[0m 経過時間:31分 50秒 (残り時間 21分 13秒)\n",
      "入力: [1676, 413, 0]<-[11, 25, 18, 7, 0]:['r', 'o:', 'k', 'a', '<EOW>']\n",
      "出力: [238, 162, 408, 0] :['ロ', 'ー', '化', '<EOW>']\n",
      "---\n",
      "入力: [625, 745, 496, 0]<-[17, 7, 16, 29, 8, 0]:['m', 'a', 'q', 'ch', 'i', '<EOW>']\n",
      "出力: [39, 15, 67, 0] :['ま', 'っ', 'ち', '<EOW>']\n",
      "---\n",
      "入力: [19, 362, 0]<-[18, 7, 10, 5, 0]:['k', 'a', 'g', 'o', '<EOW>']\n",
      "出力: [209, 492, 0] :['カ', '々', '<EOW>']\n",
      "---\n",
      "入力: [1120, 32, 20, 6, 568, 0]<-[27, 12, 18, 12, 11, 7, 6, 7, 10, 8, 0]:['f', 'u', 'k', 'u', 'r', 'a', 'h', 'a', 'g', 'i', '<EOW>']\n",
      "出力: [893, 310, 568, 310, 226, 0] :['古', '技', 'ぎ', '技', '市', '<EOW>']\n",
      "---\n",
      "入力: [7, 58, 11, 31, 0]<-[4, 8, 28, 7, 9, 5, 11, 8, 0]:['n', 'i', 'w', 'a', 't', 'o', 'r', 'i', '<EOW>']\n",
      "出力: [7, 58, 14, 0] :['に', 'わ', 'い', '<EOW>']\n",
      "---\n",
      "\u001b[1m\u001b[36mエポック:12 損失:0.80\u001b[0m 経過時間:34分 27秒 (残り時間 18分 33秒)\n",
      "入力: [1451, 871, 0]<-[20, 7, 10, 8, 0]:['y', 'a', 'g', 'i', '<EOW>']\n",
      "出力: [225, 137, 0] :['容', '議', '<EOW>']\n",
      "---\n",
      "入力: [1886, 0]<-[4, 14, 18, 5, 0]:['n', 'e', 'k', 'o', '<EOW>']\n",
      "出力: [870, 701, 870, 0] :['ネ', 'コ', 'ネ', '<EOW>']\n",
      "---\n",
      "入力: [256, 645, 405, 0]<-[11, 14, 17, 5, 22, 0]:['r', 'e', 'm', 'o', 'N', '<EOW>']\n",
      "出力: [256, 405, 405, 0] :['レ', 'ン', 'ン', '<EOW>']\n",
      "---\n",
      "入力: [744, 209, 405, 0]<-[17, 8, 18, 7, 22, 0]:['m', 'i', 'k', 'a', 'N', '<EOW>']\n",
      "出力: [1002, 121, 0] :['未', '間', '<EOW>']\n",
      "---\n",
      "入力: [905, 1787, 20, 0]<-[9, 14, 22, 21, 12, 11, 7, 0]:['t', 'e', 'N', 'p', 'u', 'r', 'a', '<EOW>']\n",
      "出力: [255, 1240, 405, 255, 0] :['テ', 'ャ', 'ン', 'テ', '<EOW>']\n",
      "---\n",
      "\u001b[1m\u001b[36mエポック:13 損失:0.79\u001b[0m 経過時間:37分  4秒 (残り時間 15分 53秒)\n",
      "入力: [1876, 1401, 47, 0]<-[9, 7, 8, 20, 7, 18, 8, 0]:['t', 'a', 'i', 'y', 'a', 'k', 'i', '<EOW>']\n",
      "出力: [118, 75, 0] :['代', '大', '<EOW>']\n",
      "---\n",
      "入力: [556, 965, 0]<-[17, 8, 33, 12, 8, 11, 5, 0]:['m', 'i', 'z', 'u', 'i', 'r', 'o', '<EOW>']\n",
      "出力: [556, 1048, 0] :['水', '旨', '<EOW>']\n",
      "---\n",
      "入力: [78, 19, 40, 0]<-[17, 8, 18, 7, 22, 0]:['m', 'i', 'k', 'a', 'N', '<EOW>']\n",
      "出力: [239, 121, 0] :['期', '間', '<EOW>']\n",
      "---\n",
      "入力: [75, 474, 0]<-[13, 7, 8, 18, 5, 22, 0]:['d', 'a', 'i', 'k', 'o', 'N', '<EOW>']\n",
      "出力: [75, 391, 971, 0] :['大', 'イ', 'オ', '<EOW>']\n",
      "---\n",
      "入力: [123, 622, 288, 0]<-[19, 7, 22, 11, 8, 22, 15, 7, 0]:['s', 'a', 'N', 'r', 'i', 'N', 'sh', 'a', '<EOW>']\n",
      "出力: [253, 183, 320, 321, 0] :['最', '高', 'シ', 'ア', '<EOW>']\n",
      "---\n",
      "\u001b[1m\u001b[36mエポック:14 損失:0.78\u001b[0m 経過時間:39分 40秒 (残り時間 13分 13秒)\n",
      "入力: [362, 6, 40, 0]<-[10, 5, 6, 7, 22, 0]:['g', 'o', 'h', 'a', 'N', '<EOW>']\n",
      "出力: [152, 538, 0] :['五', '半', '<EOW>']\n",
      "---\n",
      "入力: [326, 0]<-[8, 14, 0]:['i', 'e', '<EOW>']\n",
      "出力: [391, 88, 0] :['イ', 'え', '<EOW>']\n",
      "---\n",
      "入力: [1873, 0]<-[6, 7, 19, 7, 17, 8, 0]:['h', 'a', 's', 'a', 'm', 'i', '<EOW>']\n",
      "出力: [744, 514, 744, 0] :['ミ', 'ス', 'ミ', '<EOW>']\n",
      "---\n",
      "入力: [306, 417, 0]<-[10, 7, 16, 18, 25, 0]:['g', 'a', 'q', 'k', 'o:', '<EOW>']\n",
      "出力: [306, 417, 0] :['学', '校', '<EOW>']\n",
      "---\n",
      "入力: [1885, 474, 0]<-[11, 14, 22, 18, 5, 22, 0]:['r', 'e', 'N', 'k', 'o', 'N', '<EOW>']\n",
      "出力: [500, 500, 0] :['論', '論', '<EOW>']\n",
      "---\n",
      "\u001b[1m\u001b[36mエポック:15 損失:0.79\u001b[0m 経過時間:42分 16秒 (残り時間 10分 34秒)\n",
      "入力: [1844, 0]<-[6, 7, 15, 8, 11, 7, 0]:['h', 'a', 'sh', 'i', 'r', 'a', '<EOW>']\n",
      "出力: [727, 20, 0] :['走', 'ら', '<EOW>']\n",
      "---\n",
      "入力: [671, 0]<-[18, 12, 29, 8, 0]:['k', 'u', 'ch', 'i', '<EOW>']\n",
      "出力: [313, 0] :['告', '<EOW>']\n",
      "---\n",
      "入力: [1876, 1401, 47, 0]<-[9, 7, 8, 20, 7, 18, 8, 0]:['t', 'a', 'i', 'y', 'a', 'k', 'i', '<EOW>']\n",
      "出力: [810, 46, 0] :['様', '約', '<EOW>']\n",
      "---\n",
      "入力: [533, 1256, 0]<-[18, 25, 14, 22, 0]:['k', 'o:', 'e', 'N', '<EOW>']\n",
      "出力: [533, 278, 0] :['公', '援', '<EOW>']\n",
      "---\n",
      "入力: [32, 10, 78, 0]<-[18, 12, 11, 12, 17, 8, 0]:['k', 'u', 'r', 'u', 'm', 'i', '<EOW>']\n",
      "出力: [32, 78, 0] :['く', 'み', '<EOW>']\n",
      "---\n",
      "\u001b[1m\u001b[36mエポック:16 損失:0.80\u001b[0m 経過時間:44分 54秒 (残り時間  7分 55秒)\n",
      "入力: [1839, 0]<-[18, 7, 10, 8, 0]:['k', 'a', 'g', 'i', '<EOW>']\n",
      "出力: [209, 871, 0] :['カ', 'ギ', '<EOW>']\n",
      "---\n",
      "入力: [1634, 0]<-[19, 7, 18, 12, 11, 7, 0]:['s', 'a', 'k', 'u', 'r', 'a', '<EOW>']\n",
      "出力: [1634, 0] :['桜', '<EOW>']\n",
      "---\n",
      "入力: [695, 392, 0]<-[23, 7, 11, 7, 0]:['b', 'a', 'r', 'a', '<EOW>']\n",
      "出力: [695, 392, 0] :['バ', 'ラ', '<EOW>']\n",
      "---\n",
      "入力: [6, 8, 47, 0]<-[6, 7, 9, 7, 18, 8, 0]:['h', 'a', 't', 'a', 'k', 'i', '<EOW>']\n",
      "出力: [879, 8, 0] :['破', 'た', '<EOW>']\n",
      "---\n",
      "入力: [251, 1768, 0]<-[13, 14, 22, 9, 7, 18, 12, 0]:['d', 'e', 'N', 't', 'a', 'k', 'u', '<EOW>']\n",
      "出力: [406, 339, 393, 88, 0] :['タ', '伝', 'ク', 'え', '<EOW>']\n",
      "---\n",
      "\u001b[1m\u001b[36mエポック:17 損失:0.79\u001b[0m 経過時間:47分 33秒 (残り時間  5分 17秒)\n",
      "入力: [1347, 0]<-[12, 15, 8, 0]:['u', 'sh', 'i', '<EOW>']\n",
      "出力: [28, 13, 0] :['う', 'し', '<EOW>']\n",
      "---\n",
      "入力: [1886, 0]<-[4, 14, 18, 5, 0]:['n', 'e', 'k', 'o', '<EOW>']\n",
      "出力: [870, 701, 870, 0] :['ネ', 'コ', 'ネ', '<EOW>']\n",
      "---\n",
      "入力: [556, 965, 0]<-[17, 8, 33, 12, 8, 11, 5, 0]:['m', 'i', 'z', 'u', 'i', 'r', 'o', '<EOW>']\n",
      "出力: [556, 14, 0] :['水', 'い', '<EOW>']\n",
      "---\n",
      "入力: [406, 405, 809, 809, 0]<-[9, 7, 22, 21, 5, 21, 5, 0]:['t', 'a', 'N', 'p', 'o', 'p', 'o', '<EOW>']\n",
      "出力: [390, 390, 0] :['担', '担', '<EOW>']\n",
      "---\n",
      "入力: [1864, 0]<-[12, 17, 14, 0]:['u', 'm', 'e', '<EOW>']\n",
      "出力: [1169, 35, 0] :['埋', 'め', '<EOW>']\n",
      "---\n",
      "\u001b[1m\u001b[36mエポック:18 損失:0.79\u001b[0m 経過時間:50分 14秒 (残り時間  2分 38秒)\n",
      "入力: [771, 1707, 0]<-[19, 14, 22, 9, 25, 0]:['s', 'e', 'N', 't', 'o:', '<EOW>']\n",
      "出力: [395, 1146, 0] :['戦', '闘', '<EOW>']\n",
      "---\n",
      "入力: [352, 1216, 0]<-[7, 19, 7, 10, 7, 5, 0]:['a', 's', 'a', 'g', 'a', 'o', '<EOW>']\n",
      "出力: [1622, 0] :['浅', '<EOW>']\n",
      "---\n",
      "入力: [610, 257, 0]<-[14, 23, 8, 0]:['e', 'b', 'i', '<EOW>']\n",
      "出力: [159, 0] :['選', '<EOW>']\n",
      "---\n",
      "入力: [321, 514, 782, 392, 925, 514, 0]<-[7, 19, 12, 21, 7, 11, 7, 10, 7, 19, 12, 0]:['a', 's', 'u', 'p', 'a', 'r', 'a', 'g', 'a', 's', 'u', '<EOW>']\n",
      "出力: [514, 1240, 392, 925, 514, 0] :['ス', 'ャ', 'ラ', 'ガ', 'ス', '<EOW>']\n",
      "---\n",
      "入力: [209, 162, 870, 162, 320, 696, 405, 0]<-[18, 39, 4, 38, 15, 5, 22, 0]:['k', 'a:', 'n', 'e:', 'sh', 'o', 'N', '<EOW>']\n",
      "出力: [209, 392, 162, 320, 696, 405, 320, 0] :['カ', 'ラ', 'ー', 'シ', 'ョ', 'ン', 'シ', '<EOW>']\n",
      "---\n",
      "\u001b[1m\u001b[36mエポック:19 損失:0.78\u001b[0m 経過時間:52分 50秒 (残り時間  0分  0秒)\n",
      "入力: [1870, 1871, 0]<-[23, 8, 28, 7, 0]:['b', 'i', 'w', 'a', '<EOW>']\n",
      "出力: [257, 632, 0] :['ビ', 'リ', '<EOW>']\n",
      "---\n",
      "入力: [428, 696, 628, 238, 0]<-[34, 25, 11, 5, 0]:['j', 'o:', 'r', 'o', '<EOW>']\n",
      "出力: [387, 635, 0] :['じ', '路', '<EOW>']\n",
      "---\n",
      "入力: [402, 1858, 0]<-[17, 14, 34, 8, 11, 8, 0]:['m', 'e', 'j', 'i', 'r', 'i', '<EOW>']\n",
      "出力: [989, 387, 0] :['命', 'じ', '<EOW>']\n",
      "---\n",
      "入力: [1861, 0]<-[36, 25, 0]:['hy', 'o:', '<EOW>']\n",
      "出力: [109, 0] :['表', '<EOW>']\n",
      "---\n",
      "入力: [433, 432, 0]<-[18, 7, 8, 13, 7, 22, 0]:['k', 'a', 'i', 'd', 'a', 'N', '<EOW>']\n",
      "出力: [102, 204, 0] :['会', '談', '<EOW>']\n",
      "---\n"
     ]
    }
   ],
   "source": [
    "losses = losses + fit(encoder, decoder, epochs=params['epochs'], n_sample=5)"
   ]
  },
  {
   "cell_type": "markdown",
   "metadata": {},
   "source": [
    "# 7 学習経過の描画"
   ]
  },
  {
   "cell_type": "code",
   "execution_count": 19,
   "metadata": {},
   "outputs": [
    {
     "data": {
      "text/plain": [
       "<Figure size 432x288 with 0 Axes>"
      ]
     },
     "metadata": {},
     "output_type": "display_data"
    },
    {
     "data": {
      "image/png": "[encoded data removed]",
      "text/plain": [
       "<Figure size 432x288 with 1 Axes>"
      ]
     },
     "metadata": {
      "image/png": {
       "height": 248,
       "width": 371
      },
      "needs_background": "light"
     },
     "output_type": "display_data"
    }
   ],
   "source": [
    "import matplotlib.pyplot as plt\n",
    "import japanize_matplotlib\n",
    "import matplotlib.ticker as ticker\n",
    "import numpy as np\n",
    "\n",
    "def showPlot(points:list)->None:\n",
    "    plt.figure()\n",
    "    fig, ax = plt.subplots()\n",
    "    loc = ticker.MultipleLocator(base=0.2) # this locator puts ticks at regular intervals\n",
    "    ax.yaxis.set_major_locator(loc)\n",
    "    plt.plot(points)\n",
    "    \n",
    "showPlot(losses)    "
   ]
  },
  {
   "cell_type": "code",
   "execution_count": 20,
   "metadata": {},
   "outputs": [
    {
     "name": "stdout",
     "output_type": "stream",
     "text": [
      "入力: [480, 745, 163, 0]<-[20, 5, 16, 9, 5, 0]:['y', 'o', 'q', 't', 'o', '<EOW>']\n",
      "出力: [119, 15, 0] :['新', 'っ', '<EOW>']\n",
      "---\n",
      "入力: [1839, 0]<-[18, 7, 10, 8, 0]:['k', 'a', 'g', 'i', '<EOW>']\n",
      "出力: [209, 871, 0] :['カ', 'ギ', '<EOW>']\n",
      "---\n",
      "入力: [971, 256, 405, 428, 0]<-[5, 11, 14, 22, 34, 8, 0]:['o', 'r', 'e', 'N', 'j', 'i', '<EOW>']\n",
      "出力: [130, 822, 0] :['連', '健', '<EOW>']\n",
      "---\n",
      "入力: [38, 581, 0]<-[6, 14, 23, 8, 0]:['h', 'e', 'b', 'i', '<EOW>']\n",
      "出力: [839, 0] :['編', '<EOW>']\n",
      "---\n",
      "入力: [74, 241, 0]<-[4, 7, 18, 7, 20, 12, 23, 8, 0]:['n', 'a', 'k', 'a', 'y', 'u', 'b', 'i', '<EOW>']\n",
      "出力: [74, 859, 0] :['中', '西', '<EOW>']\n",
      "---\n"
     ]
    }
   ],
   "source": [
    "_ = evaluateRandomly(encoder, decoder, n=5)"
   ]
  },
  {
   "cell_type": "markdown",
   "metadata": {},
   "source": [
    "# 8 自由入力による評価"
   ]
  },
  {
   "cell_type": "code",
   "execution_count": 27,
   "metadata": {},
   "outputs": [
    {
     "name": "stdout",
     "output_type": "stream",
     "text": [
      "['<PAD>', '<PAD>', '<PAD>', '<PAD>', '<PAD>', '<PAD>', '<PAD>', '<PAD>', '<PAD>', '<PAD>', '<PAD>', '<PAD>', '<PAD>', '<PAD>', '<PAD>', '<PAD>', '<PAD>', '<PAD>', '<PAD>', '<PAD>', '<PAD>', '<PAD>', 'k', 'e', 'r', 'o', 'r', 'o']\n"
     ]
    }
   ],
   "source": [
    "def tokenize(inp_word:str, pad:bool=False)->list:\n",
    "    if pad:\n",
    "        ret = [tlpa.phone_vocab.index('<PAD>') for _ in range(tlpa.max_phone_length - len(inp_word))]\n",
    "    else:\n",
    "        ret = []\n",
    "    return ret + [tlpa.phone_vocab.index(ch) if ch in tlpa.phone_vocab else tlpa.phone_vocab[tlpa.phone_vocab.index('<UNK>')] for ch in inp_word]\n",
    "\n",
    "\n",
    "#print(train_dataset.convert_phone_ids_to_tokens(tokenize('keroro',pad=True)))"
   ]
  },
  {
   "cell_type": "code",
   "execution_count": 28,
   "metadata": {},
   "outputs": [],
   "source": [
    "def evaluate_free_input(encoder:nn.Module, \n",
    "                        decoder:nn.Module,\n",
    "                        inp=None,\n",
    "                       )->None:\n",
    "    if inp == None:\n",
    "        inp = input()\n",
    "    inp = jaconv.normalize(inp)\n",
    "    inputs = tokenize(inp, pad=False)\n",
    "    input_ids = inputs\n",
    "    output_tokens, output_words, attentions = evaluate(encoder, decoder, input_ids)\n",
    "    #output_ids = val_dataset.convert_phone_ids_to_tokens(output_tokens)\n",
    "    output_ids = output_tokens\n",
    "    return input_ids, output_ids\n"
   ]
  },
  {
   "cell_type": "code",
   "execution_count": 30,
   "metadata": {},
   "outputs": [
    {
     "name": "stdin",
     "output_type": "stream",
     "text": [
      " keroro\n"
     ]
    },
    {
     "name": "stdout",
     "output_type": "stream",
     "text": [
      "['k', 'e', 'r', 'o', 'r', 'o']\n",
      "['け', 'え', 'え', '<EOW>']\n"
     ]
    }
   ],
   "source": [
    "inp, out = evaluate_free_input(encoder,decoder)\n",
    "print(val_dataset.convert_phone_ids_to_tokens(inp))\n",
    "print(out)"
   ]
  },
  {
   "cell_type": "markdown",
   "metadata": {},
   "source": [
    "# 9 エンコーダの内部表現の取得"
   ]
  },
  {
   "cell_type": "code",
   "execution_count": 31,
   "metadata": {},
   "outputs": [],
   "source": [
    "def get_an_encoder_representation(encoder:nn.Module,\n",
    "                                  input_ids:list,\n",
    "                                  max_length:int=tlpa.max_phone_length+1)->(list,torch.LongTensor):\n",
    "    with torch.no_grad():\n",
    "        input_tensor = convert_ids2tensor(input_ids)\n",
    "        input_length = input_tensor.size()[0]\n",
    "        encoder_hidden = encoder.initHidden()\n",
    "        encoder_outputs = torch.zeros(max_length, encoder.n_hid, device=device)\n",
    "\n",
    "        for ei in range(input_length):\n",
    "            encoder_output, encoder_hidden = encoder(input_tensor[ei],\n",
    "                                                     encoder_hidden)\n",
    "            encoder_outputs[ei] += encoder_output[0, 0]\n",
    "\n",
    "        return encoder_hidden\n"
   ]
  },
  {
   "cell_type": "code",
   "execution_count": 32,
   "metadata": {},
   "outputs": [
    {
     "name": "stdout",
     "output_type": "stream",
     "text": [
      "(237, 256)\n"
     ]
    }
   ],
   "source": [
    "X = np.zeros((val_dataset.__len__(),hidden_size))\n",
    "for i in range(val_dataset.__len__()):\n",
    "    x = get_an_encoder_representation(encoder, input_ids = val_dataset.__getitem__(1)[0])\n",
    "    X[i] = x.squeeze(0).clone().detach().numpy()[0]\n",
    "\n",
    "print(X.shape)"
   ]
  },
  {
   "cell_type": "code",
   "execution_count": 33,
   "metadata": {},
   "outputs": [
    {
     "name": "stdout",
     "output_type": "stream",
     "text": [
      "Preprocessing the data using PCA...\n",
      "Computing pairwise distances...\n",
      "Computing P-values for point  0  of  237 ...\n",
      "Mean value of sigma:  2.9802322387695312e-08\n",
      "Iteration  250 : error is  2.755681036318062e-09\n",
      "Iteration  500 : error is  -6.653764564226295e-11\n",
      "Iteration  750 : error is  -8.036013853661205e-11\n",
      "Iteration  1000 : error is  -8.169946427233602e-11\n"
     ]
    }
   ],
   "source": [
    "import ccap.tsne as tsne\n",
    "\n",
    "tsne_result = tsne.tsne(X)"
   ]
  },
  {
   "cell_type": "markdown",
   "metadata": {},
   "source": [
    "# 10 内部表現の描画"
   ]
  },
  {
   "cell_type": "code",
   "execution_count": 34,
   "metadata": {},
   "outputs": [
    {
     "data": {
      "image/png": "[encoded data removed]",
      "text/plain": [
       "<Figure size 720x720 with 1 Axes>"
      ]
     },
     "metadata": {
      "image/png": {
       "height": 575,
       "width": 626
      },
      "needs_background": "light"
     },
     "output_type": "display_data"
    }
   ],
   "source": [
    "tsne_result.shape\n",
    "plt.figure(figsize=(10,10))\n",
    "plt.scatter(tsne_result[:,0],tsne_result[:,1])\n",
    "plt.show()"
   ]
  },
  {
   "cell_type": "code",
   "execution_count": 35,
   "metadata": {},
   "outputs": [
    {
     "name": "stdout",
     "output_type": "stream",
     "text": [
      "X 座標最小値:のど仏\n",
      "X 座標最大値:消しゴム\n",
      "Y 座標最小値:大根\n",
      "Y 座標最大値:ステーキ\n"
     ]
    }
   ],
   "source": [
    "x_min = tsne_result[:,0].argmin()\n",
    "x_max = tsne_result[:,0].argmax()\n",
    "y_min = tsne_result[:,1].argmin()\n",
    "y_max = tsne_result[:,1].argmax()\n",
    "\n",
    "print(f'X 座標最小値:{tlpa.vocab[x_min]}')\n",
    "print(f'X 座標最大値:{tlpa.vocab[x_max]}')\n",
    "print(f'Y 座標最小値:{tlpa.vocab[y_min]}')\n",
    "print(f'Y 座標最大値:{tlpa.vocab[y_max]}')\n"
   ]
  },
  {
   "cell_type": "code",
   "execution_count": 38,
   "metadata": {},
   "outputs": [
    {
     "data": {
      "text/plain": [
       "'のど仏'"
      ]
     },
     "execution_count": 38,
     "metadata": {},
     "output_type": "execute_result"
    }
   ],
   "source": [
    "tlpa.vocab[x_min]"
   ]
  },
  {
   "cell_type": "code",
   "execution_count": 48,
   "metadata": {},
   "outputs": [
    {
     "data": {
      "text/plain": [
       "<All keys matched successfully>"
      ]
     },
     "execution_count": 48,
     "metadata": {},
     "output_type": "execute_result"
    }
   ],
   "source": [
    "#path_saved = params['path_saved'] # '2022_0212tlpa_p2o.pt'\n",
    "path_saved = '2022checkpoints/2022_0214tlpa_p2o.pt'\n",
    "torch.save({'encoder':encoder.state_dict(),\n",
    "            'decoder':decoder.state_dict()}, path_saved)\n",
    "checkpoint = torch.load(path_saved)\n",
    "encoder2 = EncoderRNN(len(tlpa.phone_vocab), hidden_size).to(device)\n",
    "decoder2 = AttnDecoderRNN(n_hid=hidden_size, n_out=len(tlpa.ortho_vocab), dropout_p=params['dropout_p']).to(device)\n",
    "encoder2.load_state_dict(checkpoint['encoder'])\n",
    "decoder2.load_state_dict(checkpoint['decoder'])\n",
    "    "
   ]
  },
  {
   "cell_type": "code",
   "execution_count": 49,
   "metadata": {},
   "outputs": [
    {
     "name": "stdout",
     "output_type": "stream",
     "text": [
      "-rw-r--r-- 1 asakawa staff 5776053 Feb 13 00:08 2022_0212tlpa_o2p.pt\n",
      "\n",
      "2022checkpoints:\n",
      "total 7940\n",
      "-rw-r--r-- 1 asakawa staff 7667573 Feb 14 17:32 2022_0214tlpa_p2o.pt\n"
     ]
    }
   ],
   "source": [
    "!gls -lt *.pt 2022checkpoints"
   ]
  },
  {
   "cell_type": "code",
   "execution_count": null,
   "metadata": {},
   "outputs": [],
   "source": []
  }
 ],
 "metadata": {
  "kernelspec": {
   "display_name": "Python 3 (ipykernel)",
   "language": "python",
   "name": "python3"
  },
  "language_info": {
   "codemirror_mode": {
    "name": "ipython",
    "version": 3
   },
   "file_extension": ".py",
   "mimetype": "text/x-python",
   "name": "python",
   "nbconvert_exporter": "python",
   "pygments_lexer": "ipython3",
   "version": "3.9.7"
  },
  "widgets": {
   "application/vnd.jupyter.widget-state+json": {
    "state": {
     "18d5dd626af14f51825decaa153b9b04": {
      "model_module": "@jupyter-widgets/controls",
      "model_module_version": "1.5.0",
      "model_name": "DescriptionStyleModel",
      "state": {
       "description_width": ""
      }
     },
     "2acba75387ad40b3b9f1c30155b6df66": {
      "model_module": "@jupyter-widgets/controls",
      "model_module_version": "1.5.0",
      "model_name": "HTMLModel",
      "state": {
       "layout": "IPY_MODEL_835b19da357345169a75d862ee8fbee1",
       "style": "IPY_MODEL_18d5dd626af14f51825decaa153b9b04",
       "value": "  6%"
      }
     },
     "30dee2f4c69a4c9eb358da5342ddd9e7": {
      "model_module": "@jupyter-widgets/base",
      "model_module_version": "1.2.0",
      "model_name": "LayoutModel",
      "state": {}
     },
     "322e4fe57c764506bd44ee777dff0ac0": {
      "model_module": "@jupyter-widgets/base",
      "model_module_version": "1.2.0",
      "model_name": "LayoutModel",
      "state": {}
     },
     "6dd9acf1754f4b79a567287ebb93f17e": {
      "model_module": "@jupyter-widgets/base",
      "model_module_version": "1.2.0",
      "model_name": "LayoutModel",
      "state": {}
     },
     "7abd55918fb54083a0c3f76375da1c80": {
      "model_module": "@jupyter-widgets/controls",
      "model_module_version": "1.5.0",
      "model_name": "ProgressStyleModel",
      "state": {
       "description_width": ""
      }
     },
     "835b19da357345169a75d862ee8fbee1": {
      "model_module": "@jupyter-widgets/base",
      "model_module_version": "1.2.0",
      "model_name": "LayoutModel",
      "state": {}
     },
     "a782cdbb75234e24b38e707428197c00": {
      "model_module": "@jupyter-widgets/controls",
      "model_module_version": "1.5.0",
      "model_name": "DescriptionStyleModel",
      "state": {
       "description_width": ""
      }
     },
     "b593da012f1a402ebcc0f9c09f15934b": {
      "model_module": "@jupyter-widgets/controls",
      "model_module_version": "1.5.0",
      "model_name": "HTMLModel",
      "state": {
       "layout": "IPY_MODEL_6dd9acf1754f4b79a567287ebb93f17e",
       "style": "IPY_MODEL_a782cdbb75234e24b38e707428197c00",
       "value": " 10069/158824 [00:00&lt;00:09, 15718.90it/s]"
      }
     },
     "d80c5c527a7c47a886a2c3c2f204c016": {
      "model_module": "@jupyter-widgets/controls",
      "model_module_version": "1.5.0",
      "model_name": "FloatProgressModel",
      "state": {
       "bar_style": "danger",
       "layout": "IPY_MODEL_322e4fe57c764506bd44ee777dff0ac0",
       "max": 158824,
       "style": "IPY_MODEL_7abd55918fb54083a0c3f76375da1c80",
       "value": 10069
      }
     },
     "f83f96c6e5414b7981da0743123edb25": {
      "model_module": "@jupyter-widgets/controls",
      "model_module_version": "1.5.0",
      "model_name": "HBoxModel",
      "state": {
       "children": [
        "IPY_MODEL_2acba75387ad40b3b9f1c30155b6df66",
        "IPY_MODEL_d80c5c527a7c47a886a2c3c2f204c016",
        "IPY_MODEL_b593da012f1a402ebcc0f9c09f15934b"
       ],
       "layout": "IPY_MODEL_30dee2f4c69a4c9eb358da5342ddd9e7"
      }
     }
    },
    "version_major": 2,
    "version_minor": 0
   }
  }
 },
 "nbformat": 4,
 "nbformat_minor": 4
}
