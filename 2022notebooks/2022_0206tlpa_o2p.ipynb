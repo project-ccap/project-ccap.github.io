{
  "cells": [
    {
      "cell_type": "markdown",
      "metadata": {
        "id": "view-in-github",
        "colab_type": "text"
      },
      "source": [
        "<a href=\"https://colab.research.google.com/github/project-ccap/project-ccap.github.io/blob/master/2022notebooks/2022_0206tlpa_o2p.ipynb\" target=\"_parent\"><img src=\"https://colab.research.google.com/assets/colab-badge.svg\" alt=\"Open In Colab\"/></a>"
      ]
    },
    {
      "cell_type": "markdown",
      "metadata": {
        "id": "WyOJVgdsCfsB"
      },
      "source": [
        "# TLPA 絵画命名検査での単語発話モデル CCAP バージョン\n",
        "\n",
        "- date: 2022-0206\n",
        "- filename: 2022_0206tlpa_o2p.ipynb\n",
        "- file required: 呼称(TLPA)語彙属性.xlsx\n",
        "- author: 浅川伸一\n",
        "- license: MIT\n",
        "\n",
        "## 手続き\n",
        "\n",
        "\n",
        "### 材料\n",
        "\n",
        "TLPA の絵画命名課題に用いられる図版 200 枚を単語にして刺激語として用いた。\n",
        "TLPA の本課題は，入力が白黒画像であるが，これを単語として表現した場合，複数の表記が考えられる。\n",
        "たとえば，「海苔巻き」と「ノリ巻き」とであれば，どちらでも刺激図版を表す単語として用いることができる。\n",
        "今回は，日本語ウィキペディア 2021 年 5 月版に記載のあった単語を用いることとした。\n",
        "このため，200 枚の図版に対して，237 語の刺激語を用いた。\n",
        "一方，NTT 日本語語彙特性 (天野，近藤, 1999) の頻度に基づいて，最頻語を 10,000 語用いて訓練データとした。\n",
        "NTT 日本語語彙特性に基づく単語頻度のうち，記号やアルファベットを除き，かつ，上述の TLPA 単語 237 語を除外した\n",
        "上位 10,000 語を訓練データとした。\n",
        "\n",
        "訓練においては，各入力単語は，文字別に付番した番号を文字トークン ID とした。\n",
        "この文字トークン ID を ワンホットベクトルとみなし，入力層に与えた。\n",
        "出力の音素表現については，単語の読みを mecab (Kudo, 2007) によって取得した。\n",
        "得られた単語の読みを julius 表記によってアルファベット文字列に変換した情報をワンホットベクトルとみなして出力表現とした。\n",
        "このようにして得られた，単語の音表現は 41 種 と特殊トークン 4 種の計 45 種 であった。\n",
        "特殊トークン 4 種とは，入力表現でも用いられた，次の 4 種である。\n",
        "\n",
        "* '\\<EOW\\>': 単語の終端を表す特殊トークン\n",
        "* '\\<SOW\\>': 単語の先端を表す特殊トークン\n",
        "* '\\<UNK\\>': 未知記号を表す特殊トークン\n",
        "* '\\<PAD\\>': 埋め草用特殊トークン，ミニバッチ学習の際に入出力表現ベクトルの次元を揃えるために用いられる\n",
        "    \n",
        "このようにして得られた入力用文字トークンは，1903 種，音トークンは先述のとおり 45 種とした。\n",
        "入力文字トークン系列の最大系列長は 12, 出力音トークン系列の最大系列長は，28 であった。\n",
        "\n",
        "たとえば，単語「バス」についての入出力表現は，以下の通りである:\n",
        "\n",
        "```\n",
        "{0: {'orig': 'バス', 'ortho': ['バ', 'ス'], 'phone': ['b', 'a', 's', 'u'], 'ortho_ids': [696, 519], 'phone_ids': [25, 7, 19, 12]\n",
        "```\n",
        "\n",
        "### 訓練手続き\n",
        "\n",
        "材料の項で述べた単語の書記素表現系列から音表現系列への変換を，符号化器=復号化器モデル，あるいは seq2seq モデル，(Sutskever et.al, 2014, arxiv:1409.3215) \n",
        "を用いて学習させた。\n",
        "中間層のニューロン数は 64 または 256 とした。\n",
        "符号化器=復号化器モデルに用いた理関連とニューラルネットワークとして GRU (Cho, et.al, 2014) を用いた。\n",
        "学習の評価には，負の対数尤度を用いた。\n",
        "学習は Adam (Kingma and Welling, 2015, arxiv:1412.6980) を用いて訓練した。\n",
        "このとき学習係数は 0.01，alpha, beta の値は PyTorch の既定値を用いた。\n",
        "各学習エポックでは，10,000 語のデータが用いれ，TLPA 語は学習には用いず，検証データして用いた。\n",
        "\n",
        "\n",
        "\n",
        "\n",
        "### 補足\n",
        "- 用いた TLPA 単語 (237 語)\n",
        "```\n",
        "'バス', '緑', '桜', 'のり巻き', '海苔巻', '五重塔', 'コップ', 'ごぼう', '土踏まず', '風呂', 'ヒトデ', 'ハム', 'うさぎ', '兎', 'ウサギ', 'ロープウェイ', '学校', 'ちりとり', '縁側', '歯', 'ねぎ', 'あじさい', '紫陽花', '灰色', '天井', '鍵', '肌色', 'ワニ', '鰐', '電車', '顔', '松', 'ガードレール', '柿', 'ちまき', '信号', 'ススキ', '薄', 'じょうろ', 'ジョウロ', 'コンセント', '天ぷら', 'てんぷら', '中指', 'ヨット', 'ピンク', 'フクロウ', 'ふくろう', 'みかん', '蜜柑', 'ミカン', '柱', '角砂糖', '犬', 'かご', '駕籠', 'バラ', '薔薇', '鍋', 'まぶた', 'くるみ', '黒', 'デパート', 'カーネーション', '城', 'アリ', '豆腐', 'ドライバー', '紺', '階段', '戦車', '人参', '背中', '鏡餅', 'スプーン', '朝顔', '金色', '足', 'ふすま', 'へび', '蛇', 'ヘビ', 'レモン', '公園', '乳母車', '床', '藤', 'ピンセット', 'トラック', 'いちご', '苺', 'イチゴ', '黄土色', '銭湯', 'ナマズ', 'ソバ', '蕎麦', 'おなか', 'お腹', 'オレンジ', 'バター', '工場', 'ハト', '鳩', '電卓', 'のど仏', '喉仏', 'チューリップ', '白菜', 'トラクター', '廊下', 'パトカー', '押し入れ', '鉛筆', '目尻', '芋', '吊橋', '赤', 'かき氷', '豹', 'サボテン', 'ピラミッド', 'サイ', '目', 'ひまわり', 'はたき', 'さしみ', '刺身', '玄関', 'トマト', '黄緑', '三輪車', 'にわとり', '鶏', 'つむじ', 'アスパラガス', 'ドア', '銀色', 'ウイスキー', '梅', 'タクシー', '動物園', '床の間', 'こげ茶', 'ぶどう', '葡萄', 'ブドウ', '飴', '毛虫', 'アイロン', '寺', 'そり', 'ひょうたん', '首', '消しゴム', '頬', 'イチョウ', 'いちょう', '駅', '餃子', '牛', 'びわ', '枇杷', '飛行機', '畳', '白', '竹', 'ペリカン', '紫', '手すり', '口', '大根', '風車', '鋏', 'ハサミ', '潜水艦', 'ステーキ', 'マッチ', '二階', '落花生', 'ごはん', 'ご飯', '自転車', '歩道橋', 'クジラ', '鯨', '茶色', 'あやめ', 'ふくらはぎ', 'もも', '桃', '鯛焼き', '道路', '靴べら', '水色', '壁', 'タンポポ', 'たんぽぽ', 'いかだ', 'ヤギ', '山羊', '鼻', 'エビ', '海老', '台所', 'オートバイ', 'かぶ', '蕪', '柳', 'しゃもじ', 'まんじゅう', '饅頭', 'かかと', '薄紫', '家', 'おせち料理', '青', '傘', 'つくし', 'リンゴ', '林檎', '馬車', '線路', 'タツノオトシゴ', '耳', '便所', 'レンコン', '蓮根', '猫', '黄色', 'へそ', '街灯', '障子', '酒', '船', '安全ピン', 'もみじ'\n",
        "```\n",
        "\n",
        "- 用いた音表現\n",
        "```\n",
        "'<EOW>', '<SOW>', '<UNK>', '<PAD>', 'n', 'o', 'h', 'a', 'i', 't', 'g', 'r', 'u', 'd', 'e', 'sh', 'q', 'm', 'k', 's', 'y', 'ch', 'p', 'N', '', 'b', 'ts', 'o:', 'ky', 'f', 'w', 'ry', 'gy', 'u:', 'z', 'j', 'py', 'hy', 'i:', 'e:', 'a:', 'by', 'ny', 'my', 'dy'\n",
        "```\n"
      ]
    },
    {
      "cell_type": "markdown",
      "metadata": {
        "id": "Fs6KxzUWCfsE"
      },
      "source": [
        "# 0. ハイパーパラメータの定義"
      ]
    },
    {
      "cell_type": "code",
      "execution_count": 1,
      "metadata": {
        "colab": {
          "base_uri": "https://localhost:8080/"
        },
        "id": "PmmeMMQ5CfsF",
        "outputId": "535d17f4-3e74-4412-93c8-5ac72bdc4790"
      },
      "outputs": [
        {
          "output_type": "stream",
          "name": "stdout",
          "text": [
            "{'traindata_size': 10000, 'epochs': 20, 'hidden_size': 128, 'loss_func': CrossEntropyLoss(), 'optim_func': <class 'torch.optim.adam.Adam'>, 'lr': 0.001, 'dropout_p': 0.1}\n"
          ]
        }
      ],
      "source": [
        "import torch.nn\n",
        "import torch.optim\n",
        "\n",
        "params = {\n",
        "    'traindata_size': 10000,\n",
        "    'epochs': 20,\n",
        "    'hidden_size': 128, \n",
        "    'loss_func' :torch.nn.CrossEntropyLoss(), # 交差エントロピー損失\n",
        "    #'loss_func': torch.nn.NLLLoss(),         # 負の対数尤度損失   \n",
        "    #'optim_func': torch.optim.SGD\n",
        "    #'optim_func': torch.optim.AdamW\n",
        "    'optim_func': torch.optim.Adam, \n",
        "    'lr': 0.001,                              # 学習率\n",
        "    'dropout_p': 0.1,                         # ドロップアウト率\n",
        "}\n",
        "\n",
        "print(params)"
      ]
    },
    {
      "cell_type": "markdown",
      "metadata": {
        "id": "zKn02dYNCfsG"
      },
      "source": [
        "## 0.1 準備作業"
      ]
    },
    {
      "cell_type": "code",
      "execution_count": 2,
      "metadata": {
        "colab": {
          "base_uri": "https://localhost:8080/"
        },
        "id": "hzS8UBOwCfsG",
        "outputId": "942e86e6-da8f-410d-a764-cdaf87e32a16"
      },
      "outputs": [
        {
          "output_type": "stream",
          "name": "stdout",
          "text": [
            "Collecting Levenshtein\n",
            "  Downloading Levenshtein-0.18.1-cp37-cp37m-manylinux_2_17_x86_64.manylinux2014_x86_64.whl (258 kB)\n",
            "\u001b[K     |████████████████████████████████| 258 kB 5.3 MB/s \n",
            "\u001b[?25hCollecting rapidfuzz<3.0.0,>=2.0.1\n",
            "  Downloading rapidfuzz-2.0.2-cp37-cp37m-manylinux_2_17_x86_64.manylinux2014_x86_64.whl (2.2 MB)\n",
            "\u001b[K     |████████████████████████████████| 2.2 MB 50.9 MB/s \n",
            "\u001b[?25hInstalling collected packages: rapidfuzz, Levenshtein\n",
            "Successfully installed Levenshtein-0.18.1 rapidfuzz-2.0.2\n",
            "Cloning into 'mecab-ipadic-neologd'...\n",
            "remote: Enumerating objects: 75, done.\u001b[K\n",
            "remote: Counting objects: 100% (75/75), done.\u001b[K\n",
            "remote: Compressing objects: 100% (74/74), done.\u001b[K\n",
            "remote: Total 75 (delta 5), reused 54 (delta 0), pack-reused 0\u001b[K\n",
            "Unpacking objects: 100% (75/75), done.\n",
            "Collecting konoha[mecab]\n",
            "  Downloading konoha-5.2.1-py3-none-any.whl (17 kB)\n",
            "Collecting overrides<4.0.0,>=3.0.0\n",
            "  Downloading overrides-3.1.0.tar.gz (11 kB)\n",
            "Requirement already satisfied: importlib-metadata<5.0.0,>=4.0.0 in /usr/local/lib/python3.7/dist-packages (from konoha[mecab]) (4.10.1)\n",
            "Collecting requests<3.0.0,>=2.26.0\n",
            "  Downloading requests-2.27.1-py2.py3-none-any.whl (63 kB)\n",
            "\u001b[K     |████████████████████████████████| 63 kB 1.3 MB/s \n",
            "\u001b[?25hCollecting natto-py<0.10.0,>=0.9.0\n",
            "  Downloading natto-py-0.9.2.tar.gz (36 kB)\n",
            "Requirement already satisfied: zipp>=0.5 in /usr/local/lib/python3.7/dist-packages (from importlib-metadata<5.0.0,>=4.0.0->konoha[mecab]) (3.7.0)\n",
            "Requirement already satisfied: typing-extensions>=3.6.4 in /usr/local/lib/python3.7/dist-packages (from importlib-metadata<5.0.0,>=4.0.0->konoha[mecab]) (3.10.0.2)\n",
            "Requirement already satisfied: cffi in /usr/local/lib/python3.7/dist-packages (from natto-py<0.10.0,>=0.9.0->konoha[mecab]) (1.15.0)\n",
            "Requirement already satisfied: urllib3<1.27,>=1.21.1 in /usr/local/lib/python3.7/dist-packages (from requests<3.0.0,>=2.26.0->konoha[mecab]) (1.24.3)\n",
            "Requirement already satisfied: idna<4,>=2.5 in /usr/local/lib/python3.7/dist-packages (from requests<3.0.0,>=2.26.0->konoha[mecab]) (2.10)\n",
            "Requirement already satisfied: certifi>=2017.4.17 in /usr/local/lib/python3.7/dist-packages (from requests<3.0.0,>=2.26.0->konoha[mecab]) (2021.10.8)\n",
            "Requirement already satisfied: charset-normalizer~=2.0.0 in /usr/local/lib/python3.7/dist-packages (from requests<3.0.0,>=2.26.0->konoha[mecab]) (2.0.11)\n",
            "Requirement already satisfied: pycparser in /usr/local/lib/python3.7/dist-packages (from cffi->natto-py<0.10.0,>=0.9.0->konoha[mecab]) (2.21)\n",
            "Building wheels for collected packages: natto-py, overrides\n",
            "  Building wheel for natto-py (setup.py) ... \u001b[?25l\u001b[?25hdone\n",
            "  Created wheel for natto-py: filename=natto_py-0.9.2-py3-none-any.whl size=45196 sha256=9bd0c0b08c3ce0fda26cfced23f381b3c94f58dcf11e4dbaa7b33b161ab6f7f2\n",
            "  Stored in directory: /root/.cache/pip/wheels/54/15/98/789e8a28fed7d16b00c4a292cf6cb586ad1b81c1e755b4fced\n",
            "  Building wheel for overrides (setup.py) ... \u001b[?25l\u001b[?25hdone\n",
            "  Created wheel for overrides: filename=overrides-3.1.0-py3-none-any.whl size=10187 sha256=b2767afe02ec315dace9b7f5bcfbacc0629a5b40058f64bbd7d537eb2d1c5ffd\n",
            "  Stored in directory: /root/.cache/pip/wheels/3a/0d/38/01a9bc6e20dcfaf0a6a7b552d03137558ba1c38aea47644682\n",
            "Successfully built natto-py overrides\n",
            "Installing collected packages: requests, overrides, natto-py, konoha\n",
            "  Attempting uninstall: requests\n",
            "    Found existing installation: requests 2.23.0\n",
            "    Uninstalling requests-2.23.0:\n",
            "      Successfully uninstalled requests-2.23.0\n",
            "\u001b[31mERROR: pip's dependency resolver does not currently take into account all the packages that are installed. This behaviour is the source of the following dependency conflicts.\n",
            "google-colab 1.0.0 requires requests~=2.23.0, but you have requests 2.27.1 which is incompatible.\n",
            "datascience 0.10.6 requires folium==0.2.1, but you have folium 0.8.3 which is incompatible.\u001b[0m\n",
            "Successfully installed konoha-5.2.1 natto-py-0.9.2 overrides-3.1.0 requests-2.27.1\n",
            "Collecting jaconv\n",
            "  Downloading jaconv-0.3.tar.gz (15 kB)\n",
            "Building wheels for collected packages: jaconv\n",
            "  Building wheel for jaconv (setup.py) ... \u001b[?25l\u001b[?25hdone\n",
            "  Created wheel for jaconv: filename=jaconv-0.3-py3-none-any.whl size=15564 sha256=2fa33f3fdf74c76974350da78e99cdd36c7b1c8ab8899a2ff17cb66037496170\n",
            "  Stored in directory: /root/.cache/pip/wheels/8f/4f/c2/a2a3b14d0e94f855f4aa8887bf0267bee9ecfb8e62a9ee2d92\n",
            "Successfully built jaconv\n",
            "Installing collected packages: jaconv\n",
            "Successfully installed jaconv-0.3\n",
            "Collecting japanize_matplotlib\n",
            "  Downloading japanize-matplotlib-1.1.3.tar.gz (4.1 MB)\n",
            "\u001b[K     |████████████████████████████████| 4.1 MB 5.5 MB/s \n",
            "\u001b[?25hRequirement already satisfied: matplotlib in /usr/local/lib/python3.7/dist-packages (from japanize_matplotlib) (3.2.2)\n",
            "Requirement already satisfied: cycler>=0.10 in /usr/local/lib/python3.7/dist-packages (from matplotlib->japanize_matplotlib) (0.11.0)\n",
            "Requirement already satisfied: kiwisolver>=1.0.1 in /usr/local/lib/python3.7/dist-packages (from matplotlib->japanize_matplotlib) (1.3.2)\n",
            "Requirement already satisfied: numpy>=1.11 in /usr/local/lib/python3.7/dist-packages (from matplotlib->japanize_matplotlib) (1.19.5)\n",
            "Requirement already satisfied: python-dateutil>=2.1 in /usr/local/lib/python3.7/dist-packages (from matplotlib->japanize_matplotlib) (2.8.2)\n",
            "Requirement already satisfied: pyparsing!=2.0.4,!=2.1.2,!=2.1.6,>=2.0.1 in /usr/local/lib/python3.7/dist-packages (from matplotlib->japanize_matplotlib) (3.0.7)\n",
            "Requirement already satisfied: six>=1.5 in /usr/local/lib/python3.7/dist-packages (from python-dateutil>=2.1->matplotlib->japanize_matplotlib) (1.15.0)\n",
            "Building wheels for collected packages: japanize-matplotlib\n",
            "  Building wheel for japanize-matplotlib (setup.py) ... \u001b[?25l\u001b[?25hdone\n",
            "  Created wheel for japanize-matplotlib: filename=japanize_matplotlib-1.1.3-py3-none-any.whl size=4120275 sha256=8ab4cb057b5f5308310a2a778e861d9b4c2219704456850dd13792a51b2f1157\n",
            "  Stored in directory: /root/.cache/pip/wheels/83/97/6b/e9e0cde099cc40f972b8dd23367308f7705ae06cd6d4714658\n",
            "Successfully built japanize-matplotlib\n",
            "Installing collected packages: japanize-matplotlib\n",
            "Successfully installed japanize-matplotlib-1.1.3\n"
          ]
        }
      ],
      "source": [
        "import os\n",
        "import sys\n",
        "import typing\n",
        "import numpy as np\n",
        "import random\n",
        "import pandas as pd\n",
        "import gzip\n",
        "from termcolor import colored\n",
        "\n",
        "# from tqdm import tqdm         #commandline で実行時\n",
        "from tqdm.notebook import tqdm  #jupyter で実行時\n",
        "\n",
        "isColab = 'google.colab' in str(get_ipython())\n",
        "if isColab:\n",
        "    !pip install Levenshtein \n",
        "\n",
        "    # MeCab, ipadic のインストール\n",
        "    #!apt install aptitude swig > /dev/null 2>&1\n",
        "    #!aptitude install mecab libmecab-dev mecab-ipadic-utf8 git make curl xz-utils file -y > /dev/null 2>&1\n",
        "    #!pip install mecab-python3\n",
        "    #!pip install unidic\n",
        "    #!git clone --depth 1 https://github.com/neologd/mecab-ipadic-neologd.git > /dev/null 2>&1\n",
        "    #!echo yes | mecab-ipadic-neologd/bin/install-mecab-ipadic-neologd -n -a > /dev/null 2>&1\n",
        "    \n",
        "\n",
        "    #'①Mecabと辞書のインストール'\n",
        "    !apt-get -q -y install sudo file mecab libmecab-dev mecab-ipadic-utf8 git curl python-mecab > /dev/null\n",
        "    !git clone --depth 1 https://github.com/neologd/mecab-ipadic-neologd.git > /dev/null\n",
        "    !echo yes | mecab-ipadic-neologd/bin/install-mecab-ipadic-neologd -n -a > /dev/null 2>&1\n",
        "    !pip install mecab-python3 > /dev/null    \n",
        "\n",
        "    #import subprocess\n",
        "    #cmd='echo `mecab-config --dicdir`\\\"/mecab-ipadic-neologd\\\"'\n",
        "    #path_neologd = (subprocess.Popen(cmd, stdout=subprocess.PIPE,\n",
        "    #                                 shell=True).communicate()[0]).decode('utf-8')\n",
        "\n",
        "    #!python -m unidic download\n",
        "    #!pip install ipadic > /dev/null 2>&1\n",
        "    !pip install 'konoha[mecab]'\n",
        "    !pip install jaconv \n",
        "    !pip install japanize_matplotlib\n",
        "\n",
        "\n",
        "import Levenshtein    \n",
        "import jaconv    "
      ]
    },
    {
      "cell_type": "code",
      "source": [
        "#!mecab-config --dicdir\n",
        "#!ls -l /usr/lib/x86_64-linux-gnu/mecab/dic/mecab-ipadic-neologd\n",
        "#!cat  /usr/lib/x86_64-linux-gnu/mecab/dic/mecab-ipadic-neologd/dicrc\n",
        "!ln -s /etc/mecabrc /usr/local/etc/mecabrc\n",
        "import MeCab\n",
        "yomi = MeCab.Tagger('-Oyomi -d /usr/lib/x86_64-linux-gnu/mecab/dic/mecab-ipadic-neologd').parse\n",
        "wakati = MeCab.Tagger('-Owakati').parse \n",
        "\n",
        "print(yomi('行く川の流れ絶えずして'))\n",
        "print(wakati('行く川の流れ絶えずして'))"
      ],
      "metadata": {
        "colab": {
          "base_uri": "https://localhost:8080/"
        },
        "id": "YNGVnsw7vyy3",
        "outputId": "55447a00-c000-4f78-c7d9-53c1e9528e60"
      },
      "execution_count": 4,
      "outputs": [
        {
          "output_type": "stream",
          "name": "stdout",
          "text": [
            "イクカワノナガレタエズシテ\n",
            "\n",
            "行く 川 の 流れ 絶えず し て \n",
            "\n"
          ]
        }
      ]
    },
    {
      "cell_type": "markdown",
      "metadata": {
        "id": "KR1Fc7MyCfsG"
      },
      "source": [
        "# 1 データセットの読み込み"
      ]
    },
    {
      "cell_type": "code",
      "execution_count": 6,
      "metadata": {
        "colab": {
          "base_uri": "https://localhost:8080/",
          "height": 293
        },
        "id": "HBZtG9s9CfsH",
        "outputId": "0d1b1ae9-8dba-45e0-ac41-cbdfdd6540fb"
      },
      "outputs": [
        {
          "output_type": "stream",
          "name": "stdout",
          "text": [
            "Cloning into 'ccap'...\n",
            "remote: Enumerating objects: 185, done.\u001b[K\n",
            "remote: Counting objects: 100% (185/185), done.\u001b[K\n",
            "remote: Compressing objects: 100% (173/173), done.\u001b[K\n",
            "remote: Total 185 (delta 92), reused 3 (delta 2), pack-reused 0\u001b[K\n",
            "Receiving objects: 100% (185/185), 4.56 MiB | 8.88 MiB/s, done.\n",
            "Resolving deltas: 100% (92/92), done.\n"
          ]
        },
        {
          "output_type": "error",
          "ename": "SyntaxError",
          "evalue": "ignored",
          "traceback": [
            "\u001b[0;36m  File \u001b[0;32m\"/content/ccap/ccap_w2v.py\"\u001b[0;36m, line \u001b[0;32m76\u001b[0m\n\u001b[0;31m    !wget --no-check-certificate --load-cookies /tmp/cookies.txt \"https://docs.google.com/uc?export=download&confirm=$(wget --quiet --save-cookies /tmp/cookies.txt --keep-session-cookies --no-check-certificate 'https://docs.google.com/uc?export=download&id=1B9HGhLZOja4Xku5c_d-kMhCXn1LBZgDb' -O- | sed -rn 's/.*confirm=([0-9A-Za-z_]+).*/\\1\\n/p')&id=1B9HGhLZOja4Xku5c_d-kMhCXn1LBZgDb\" -O 2021_05jawiki_hid128_win10_neg10_cbow.bin.gz && rm -rf /tmp/cookies.txt\u001b[0m\n\u001b[0m    ^\u001b[0m\n\u001b[0;31mSyntaxError\u001b[0m\u001b[0;31m:\u001b[0m invalid syntax\n"
          ]
        }
      ],
      "source": [
        "%reload_ext autoreload\n",
        "%autoreload 2\n",
        "\n",
        "# 自作ライブラリの読み込み\n",
        "if isColab:\n",
        "    ![ -d ccap ] & /bin/rm -rf ccap\n",
        "    !git clone https://github.com/ShinAsakawa/ccap.git\n",
        "\n",
        "from ccap import ccap_w2v\n",
        "w2v = ccap_w2v(is2017=False, isColab=isColab).w2v\n",
        "\n",
        "import MeCab\n",
        "#wakati = MeCab.Tagger('-Owakati').parse\n",
        "from ccap.mecab_settings import yomi\n",
        "\n",
        "from ccap.tlpa_o2p import TLPA\n",
        "tlpa = TLPA(traindata_size=params['traindata_size'])\n",
        "print(colored(f'訓練データサイズ:{len(tlpa.training_data)} 語。NTT 日本語語彙特性の頻度上位 {len(tlpa.training_data)} 語','blue',attrs=['bold']))\n",
        "print('ただし，TLPA に用いられる単語は含まない')\n",
        "print(colored(f'検証データサイズ:{len(tlpa.tlpa_data)} TLPA 単語数','blue',attrs=['bold']))\n",
        "print(colored(f'音素数:{len(tlpa.phone_vocab)}','blue',attrs=['bold']))\n",
        "print(colored(f'書記素数:{len(tlpa.ortho_vocab)}','blue',attrs=['bold']))\n",
        "print(colored(f'最長書記素(文字)数:{tlpa.max_ortho_length}, 最長音素数:{tlpa.max_phone_length}', 'blue',attrs=['bold']))"
      ]
    },
    {
      "cell_type": "code",
      "source": [
        "w2v_2021 = {'cbow128': { 'id': '1B9HGhLZOja4Xku5c_d-kMhCXn1LBZgDb',  'outfile': '2021_05jawiki_hid128_win10_neg10_cbow.bin.gz'},\n",
        "            'sgns128': { 'id': '1OWmFOVRC6amCxsomcRwdA6ILAA5s4y4M',  'outfile': '2021_05jawiki_hid128_win10_neg10_sgns.bin.gz'},\n",
        "            'cbow200': { 'id': '1JTkU5SUBU2GkURCYeHkAWYs_Zlbqob0s',  'outfile': '2021_05jawiki_hid200_win20_neg20_sgns.bin.gz'}\n",
        "}\n",
        "(f_id, outfile) = w2v_2021['sgns128']['id'], w2v_2021['sgns128']['outfile']\n",
        "print(f_id, outfile)\n",
        "\n",
        "from google_drive_downloader import GoogleDriveDownloader as gdd\n",
        "gdd.download_file_from_google_drive(file_id=f_id, dest_path=outfile)"
      ],
      "metadata": {
        "colab": {
          "base_uri": "https://localhost:8080/",
          "height": 496
        },
        "id": "8cs4b4Qm1lmJ",
        "outputId": "f1a2c6f8-b04e-4c15-f12a-5bddb5e482ff"
      },
      "execution_count": null,
      "outputs": [
        {
          "output_type": "stream",
          "name": "stdout",
          "text": [
            "1OWmFOVRC6amCxsomcRwdA6ILAA5s4y4M 2021_05jawiki_hid128_win10_neg10_sgns.bin.gz\n"
          ]
        },
        {
          "output_type": "error",
          "ename": "FileNotFoundError",
          "evalue": "ignored",
          "traceback": [
            "\u001b[0;31m---------------------------------------------------------------------------\u001b[0m",
            "\u001b[0;31mFileNotFoundError\u001b[0m                         Traceback (most recent call last)",
            "\u001b[0;32m<ipython-input-22-c0b3e024ff9e>\u001b[0m in \u001b[0;36m<module>\u001b[0;34m()\u001b[0m\n\u001b[1;32m      7\u001b[0m \u001b[0;34m\u001b[0m\u001b[0m\n\u001b[1;32m      8\u001b[0m \u001b[0;32mfrom\u001b[0m \u001b[0mgoogle_drive_downloader\u001b[0m \u001b[0;32mimport\u001b[0m \u001b[0mGoogleDriveDownloader\u001b[0m \u001b[0;32mas\u001b[0m \u001b[0mgdd\u001b[0m\u001b[0;34m\u001b[0m\u001b[0;34m\u001b[0m\u001b[0m\n\u001b[0;32m----> 9\u001b[0;31m \u001b[0mgdd\u001b[0m\u001b[0;34m.\u001b[0m\u001b[0mdownload_file_from_google_drive\u001b[0m\u001b[0;34m(\u001b[0m\u001b[0mfile_id\u001b[0m\u001b[0;34m=\u001b[0m\u001b[0mf_id\u001b[0m\u001b[0;34m,\u001b[0m \u001b[0mdest_path\u001b[0m\u001b[0;34m=\u001b[0m\u001b[0moutfile\u001b[0m\u001b[0;34m)\u001b[0m\u001b[0;34m\u001b[0m\u001b[0;34m\u001b[0m\u001b[0m\n\u001b[0m",
            "\u001b[0;32m/usr/local/lib/python3.7/dist-packages/google_drive_downloader/google_drive_downloader.py\u001b[0m in \u001b[0;36mdownload_file_from_google_drive\u001b[0;34m(file_id, dest_path, overwrite, unzip, showsize)\u001b[0m\n\u001b[1;32m     45\u001b[0m         \u001b[0mdestination_directory\u001b[0m \u001b[0;34m=\u001b[0m \u001b[0mdirname\u001b[0m\u001b[0;34m(\u001b[0m\u001b[0mdest_path\u001b[0m\u001b[0;34m)\u001b[0m\u001b[0;34m\u001b[0m\u001b[0;34m\u001b[0m\u001b[0m\n\u001b[1;32m     46\u001b[0m         \u001b[0;32mif\u001b[0m \u001b[0;32mnot\u001b[0m \u001b[0mexists\u001b[0m\u001b[0;34m(\u001b[0m\u001b[0mdestination_directory\u001b[0m\u001b[0;34m)\u001b[0m\u001b[0;34m:\u001b[0m\u001b[0;34m\u001b[0m\u001b[0;34m\u001b[0m\u001b[0m\n\u001b[0;32m---> 47\u001b[0;31m             \u001b[0mmakedirs\u001b[0m\u001b[0;34m(\u001b[0m\u001b[0mdestination_directory\u001b[0m\u001b[0;34m)\u001b[0m\u001b[0;34m\u001b[0m\u001b[0;34m\u001b[0m\u001b[0m\n\u001b[0m\u001b[1;32m     48\u001b[0m \u001b[0;34m\u001b[0m\u001b[0m\n\u001b[1;32m     49\u001b[0m         \u001b[0;32mif\u001b[0m \u001b[0;32mnot\u001b[0m \u001b[0mexists\u001b[0m\u001b[0;34m(\u001b[0m\u001b[0mdest_path\u001b[0m\u001b[0;34m)\u001b[0m \u001b[0;32mor\u001b[0m \u001b[0moverwrite\u001b[0m\u001b[0;34m:\u001b[0m\u001b[0;34m\u001b[0m\u001b[0;34m\u001b[0m\u001b[0m\n",
            "\u001b[0;32m/usr/lib/python3.7/os.py\u001b[0m in \u001b[0;36mmakedirs\u001b[0;34m(name, mode, exist_ok)\u001b[0m\n\u001b[1;32m    221\u001b[0m             \u001b[0;32mreturn\u001b[0m\u001b[0;34m\u001b[0m\u001b[0;34m\u001b[0m\u001b[0m\n\u001b[1;32m    222\u001b[0m     \u001b[0;32mtry\u001b[0m\u001b[0;34m:\u001b[0m\u001b[0;34m\u001b[0m\u001b[0;34m\u001b[0m\u001b[0m\n\u001b[0;32m--> 223\u001b[0;31m         \u001b[0mmkdir\u001b[0m\u001b[0;34m(\u001b[0m\u001b[0mname\u001b[0m\u001b[0;34m,\u001b[0m \u001b[0mmode\u001b[0m\u001b[0;34m)\u001b[0m\u001b[0;34m\u001b[0m\u001b[0;34m\u001b[0m\u001b[0m\n\u001b[0m\u001b[1;32m    224\u001b[0m     \u001b[0;32mexcept\u001b[0m \u001b[0mOSError\u001b[0m\u001b[0;34m:\u001b[0m\u001b[0;34m\u001b[0m\u001b[0;34m\u001b[0m\u001b[0m\n\u001b[1;32m    225\u001b[0m         \u001b[0;31m# Cannot rely on checking for EEXIST, since the operating system\u001b[0m\u001b[0;34m\u001b[0m\u001b[0;34m\u001b[0m\u001b[0;34m\u001b[0m\u001b[0m\n",
            "\u001b[0;31mFileNotFoundError\u001b[0m: [Errno 2] No such file or directory: ''"
          ]
        }
      ]
    },
    {
      "cell_type": "code",
      "source": [
        "!wget http://www.cis.twcu.ac.jp/~asakawa/2017jpa/2017Jul_jawiki-wakati_neologd_hid200_win20_neg20_cbow.bin.gz\n",
        "!wget http://www.cis.twcu.ac.jp/~asakawa/2017jpa/2017Jul_jawiki-wakati_neologd_hid200_win20_neg20_sgns.bin.gz\n",
        "!wget http://www.cis.twcu.ac.jp/~asakawa/2017jpa/2017Jul_jawiki-wakati_neologd_hid300_win20_neg20_sgns.bin.gz\n",
        "!wget http://www.cis.twcu.ac.jp/~asakawa/2017jpa/2017Jul_jawiki-wakati_neologd_hid200_win20_neg20_cbow.bin.gz\n"
      ],
      "metadata": {
        "id": "qZo8Hviq1AuI",
        "outputId": "14f075cd-f4a9-4b02-ba7b-8923e02a7eac",
        "colab": {
          "base_uri": "https://localhost:8080/"
        }
      },
      "execution_count": 3,
      "outputs": [
        {
          "output_type": "stream",
          "name": "stdout",
          "text": [
            "--2022-02-15 01:16:52--  http://www.cis.twcu.ac.jp/~asakawa/2017jpa/2017Jul_jawiki-wakati_neologd_hid200_win20_neg20_cbow.bin.gz\n",
            "Resolving www.cis.twcu.ac.jp (www.cis.twcu.ac.jp)... 160.13.90.21\n",
            "Connecting to www.cis.twcu.ac.jp (www.cis.twcu.ac.jp)|160.13.90.21|:80... connected.\n",
            "HTTP request sent, awaiting response... 302 Found\n",
            "Location: https://www.cis.twcu.ac.jp/~asakawa/2017jpa/2017Jul_jawiki-wakati_neologd_hid200_win20_neg20_cbow.bin.gz [following]\n",
            "--2022-02-15 01:16:53--  https://www.cis.twcu.ac.jp/~asakawa/2017jpa/2017Jul_jawiki-wakati_neologd_hid200_win20_neg20_cbow.bin.gz\n",
            "Connecting to www.cis.twcu.ac.jp (www.cis.twcu.ac.jp)|160.13.90.21|:443... connected.\n",
            "HTTP request sent, awaiting response... 200 OK\n",
            "Length: 1369049082 (1.3G) [application/x-gzip]\n",
            "Saving to: ‘2017Jul_jawiki-wakati_neologd_hid200_win20_neg20_cbow.bin.gz’\n",
            "\n",
            "2017Jul_jawiki-waka 100%[===================>]   1.27G  21.8MB/s    in 62s     \n",
            "\n",
            "2022-02-15 01:17:56 (20.9 MB/s) - ‘2017Jul_jawiki-wakati_neologd_hid200_win20_neg20_cbow.bin.gz’ saved [1369049082/1369049082]\n",
            "\n",
            "--2022-02-15 01:17:56--  http://www.cis.twcu.ac.jp/~asakawa/2017jpa/2017Jul_jawiki-wakati_neologd_hid200_win20_neg20_sgns.bin.gz\n",
            "Resolving www.cis.twcu.ac.jp (www.cis.twcu.ac.jp)... 160.13.90.21\n",
            "Connecting to www.cis.twcu.ac.jp (www.cis.twcu.ac.jp)|160.13.90.21|:80... connected.\n",
            "HTTP request sent, awaiting response... 302 Found\n",
            "Location: https://www.cis.twcu.ac.jp/~asakawa/2017jpa/2017Jul_jawiki-wakati_neologd_hid200_win20_neg20_sgns.bin.gz [following]\n",
            "--2022-02-15 01:17:56--  https://www.cis.twcu.ac.jp/~asakawa/2017jpa/2017Jul_jawiki-wakati_neologd_hid200_win20_neg20_sgns.bin.gz\n",
            "Connecting to www.cis.twcu.ac.jp (www.cis.twcu.ac.jp)|160.13.90.21|:443... connected.\n",
            "HTTP request sent, awaiting response... 200 OK\n",
            "Length: 1367091440 (1.3G) [application/x-gzip]\n",
            "Saving to: ‘2017Jul_jawiki-wakati_neologd_hid200_win20_neg20_sgns.bin.gz’\n",
            "\n",
            "2017Jul_jawiki-waka 100%[===================>]   1.27G  21.0MB/s    in 63s     \n",
            "\n",
            "2022-02-15 01:19:00 (20.6 MB/s) - ‘2017Jul_jawiki-wakati_neologd_hid200_win20_neg20_sgns.bin.gz’ saved [1367091440/1367091440]\n",
            "\n",
            "--2022-02-15 01:19:00--  http://www.cis.twcu.ac.jp/~asakawa/2017jpa/2017Jul_jawiki-wakati_neologd_hid300_win20_neg20_sgns.bin.gz\n",
            "Resolving www.cis.twcu.ac.jp (www.cis.twcu.ac.jp)... 160.13.90.21\n",
            "Connecting to www.cis.twcu.ac.jp (www.cis.twcu.ac.jp)|160.13.90.21|:80... connected.\n",
            "HTTP request sent, awaiting response... 302 Found\n",
            "Location: https://www.cis.twcu.ac.jp/~asakawa/2017jpa/2017Jul_jawiki-wakati_neologd_hid300_win20_neg20_sgns.bin.gz [following]\n",
            "--2022-02-15 01:19:00--  https://www.cis.twcu.ac.jp/~asakawa/2017jpa/2017Jul_jawiki-wakati_neologd_hid300_win20_neg20_sgns.bin.gz\n",
            "Connecting to www.cis.twcu.ac.jp (www.cis.twcu.ac.jp)|160.13.90.21|:443... connected.\n",
            "HTTP request sent, awaiting response... 404 Not Found\n",
            "2022-02-15 01:19:01 ERROR 404: Not Found.\n",
            "\n",
            "--2022-02-15 01:19:01--  http://www.cis.twcu.ac.jp/~asakawa/2017jpa/2017Jul_jawiki-wakati_neologd_hid200_win20_neg20_cbow.bin.gz\n",
            "Resolving www.cis.twcu.ac.jp (www.cis.twcu.ac.jp)... 160.13.90.21\n",
            "Connecting to www.cis.twcu.ac.jp (www.cis.twcu.ac.jp)|160.13.90.21|:80... connected.\n",
            "HTTP request sent, awaiting response... 302 Found\n",
            "Location: https://www.cis.twcu.ac.jp/~asakawa/2017jpa/2017Jul_jawiki-wakati_neologd_hid200_win20_neg20_cbow.bin.gz [following]\n",
            "--2022-02-15 01:19:01--  https://www.cis.twcu.ac.jp/~asakawa/2017jpa/2017Jul_jawiki-wakati_neologd_hid200_win20_neg20_cbow.bin.gz\n",
            "Connecting to www.cis.twcu.ac.jp (www.cis.twcu.ac.jp)|160.13.90.21|:443... connected.\n",
            "HTTP request sent, awaiting response... 200 OK\n",
            "Length: 1369049082 (1.3G) [application/x-gzip]\n",
            "Saving to: ‘2017Jul_jawiki-wakati_neologd_hid200_win20_neg20_cbow.bin.gz.1’\n",
            "\n",
            "2017Jul_jawiki-waka 100%[===================>]   1.27G  21.5MB/s    in 62s     \n",
            "\n",
            "2022-02-15 01:20:04 (21.1 MB/s) - ‘2017Jul_jawiki-wakati_neologd_hid200_win20_neg20_cbow.bin.gz.1’ saved [1369049082/1369049082]\n",
            "\n"
          ]
        }
      ]
    },
    {
      "cell_type": "code",
      "source": [
        "!wget --no-check-certificate --load-cookies /tmp/cookies.txt \"https://docs.google.com/uc?export=download&confirm=$(wget --quiet --save-cookies /tmp/cookies.txt --keep-session-cookies --no-check-certificate 'https://docs.google.com/uc?export=download&id=1B9HGhLZOja4Xku5c_d-kMhCXn1LBZgDb' -O- | sed -rn 's/.*confirm=([0-9A-Za-z_]+).*/\\1\\n/p')&id=1B9HGhLZOja4Xku5c_d-kMhCXn1LBZgDb\" -O 2021_05jawiki_hid128_win10_neg10_cbow.bin.gz && rm -rf /tmp/cookies.txt"
      ],
      "metadata": {
        "colab": {
          "base_uri": "https://localhost:8080/"
        },
        "id": "deJK-Q1E0sU1",
        "outputId": "8f37d819-20d8-4061-94f6-0abfce83a34d"
      },
      "execution_count": null,
      "outputs": [
        {
          "output_type": "stream",
          "name": "stderr",
          "text": [
            "[autoreload of ccap.ccap failed: Traceback (most recent call last):\n",
            "  File \"/usr/local/lib/python3.7/dist-packages/IPython/extensions/autoreload.py\", line 247, in check\n",
            "    superreload(m, reload, self.old_objects)\n",
            "ImportError: parent 'ccap' not in sys.modules\n",
            "]\n",
            "[autoreload of ccap.ccap_w2v failed: Traceback (most recent call last):\n",
            "  File \"/usr/local/lib/python3.7/dist-packages/IPython/extensions/autoreload.py\", line 247, in check\n",
            "    superreload(m, reload, self.old_objects)\n",
            "ImportError: parent 'ccap' not in sys.modules\n",
            "]\n",
            "[autoreload of ccap.tsne failed: Traceback (most recent call last):\n",
            "  File \"/usr/local/lib/python3.7/dist-packages/IPython/extensions/autoreload.py\", line 247, in check\n",
            "    superreload(m, reload, self.old_objects)\n",
            "ImportError: parent 'ccap' not in sys.modules\n",
            "]\n",
            "[autoreload of ccap.ccap_normalize_neologd failed: Traceback (most recent call last):\n",
            "  File \"/usr/local/lib/python3.7/dist-packages/IPython/extensions/autoreload.py\", line 247, in check\n",
            "    superreload(m, reload, self.old_objects)\n",
            "ImportError: parent 'ccap' not in sys.modules\n",
            "]\n",
            "[autoreload of ccap.onomatope failed: Traceback (most recent call last):\n",
            "  File \"/usr/local/lib/python3.7/dist-packages/IPython/extensions/autoreload.py\", line 247, in check\n",
            "    superreload(m, reload, self.old_objects)\n",
            "ImportError: parent 'ccap' not in sys.modules\n",
            "]\n",
            "[autoreload of ccap.minnichi failed: Traceback (most recent call last):\n",
            "  File \"/usr/local/lib/python3.7/dist-packages/IPython/extensions/autoreload.py\", line 247, in check\n",
            "    superreload(m, reload, self.old_objects)\n",
            "ImportError: parent 'ccap' not in sys.modules\n",
            "]\n",
            "[autoreload of ccap.vdj2500 failed: Traceback (most recent call last):\n",
            "  File \"/usr/local/lib/python3.7/dist-packages/IPython/extensions/autoreload.py\", line 247, in check\n",
            "    superreload(m, reload, self.old_objects)\n",
            "ImportError: parent 'ccap' not in sys.modules\n",
            "]\n",
            "[autoreload of ccap.mecab_settings failed: Traceback (most recent call last):\n",
            "  File \"/usr/local/lib/python3.7/dist-packages/IPython/extensions/autoreload.py\", line 247, in check\n",
            "    superreload(m, reload, self.old_objects)\n",
            "ImportError: parent 'ccap' not in sys.modules\n",
            "]\n"
          ]
        },
        {
          "output_type": "stream",
          "name": "stdout",
          "text": [
            "--2022-02-15 00:40:42--  https://docs.google.com/uc?export=download&confirm=LJgy&id=1B9HGhLZOja4Xku5c_d-kMhCXn1LBZgDb\n",
            "Resolving docs.google.com (docs.google.com)... 142.250.141.102, 142.250.141.101, 142.250.141.113, ...\n",
            "Connecting to docs.google.com (docs.google.com)|142.250.141.102|:443... connected.\n",
            "HTTP request sent, awaiting response... 302 Moved Temporarily\n",
            "Location: https://doc-0k-3k-docs.googleusercontent.com/docs/securesc/gv3u6rtbvrog1en8a0sdnm5nu24hi14i/64p8pg5fpn0mnu70ffe534tgma0p09sd/1644885600000/10804218431552746902/01342805690271912378Z/1B9HGhLZOja4Xku5c_d-kMhCXn1LBZgDb?e=download [following]\n",
            "--2022-02-15 00:40:42--  https://doc-0k-3k-docs.googleusercontent.com/docs/securesc/gv3u6rtbvrog1en8a0sdnm5nu24hi14i/64p8pg5fpn0mnu70ffe534tgma0p09sd/1644885600000/10804218431552746902/01342805690271912378Z/1B9HGhLZOja4Xku5c_d-kMhCXn1LBZgDb?e=download\n",
            "Resolving doc-0k-3k-docs.googleusercontent.com (doc-0k-3k-docs.googleusercontent.com)... 142.250.141.132, 2607:f8b0:4023:c0b::84\n",
            "Connecting to doc-0k-3k-docs.googleusercontent.com (doc-0k-3k-docs.googleusercontent.com)|142.250.141.132|:443... connected.\n",
            "HTTP request sent, awaiting response... 302 Found\n",
            "Location: https://docs.google.com/nonceSigner?nonce=vaeoqo317pf44&continue=https://doc-0k-3k-docs.googleusercontent.com/docs/securesc/gv3u6rtbvrog1en8a0sdnm5nu24hi14i/64p8pg5fpn0mnu70ffe534tgma0p09sd/1644885600000/10804218431552746902/01342805690271912378Z/1B9HGhLZOja4Xku5c_d-kMhCXn1LBZgDb?e%3Ddownload&hash=ujqspq3pff6ng7acmsqo6mpqa6n8dcj1 [following]\n",
            "--2022-02-15 00:40:42--  https://docs.google.com/nonceSigner?nonce=vaeoqo317pf44&continue=https://doc-0k-3k-docs.googleusercontent.com/docs/securesc/gv3u6rtbvrog1en8a0sdnm5nu24hi14i/64p8pg5fpn0mnu70ffe534tgma0p09sd/1644885600000/10804218431552746902/01342805690271912378Z/1B9HGhLZOja4Xku5c_d-kMhCXn1LBZgDb?e%3Ddownload&hash=ujqspq3pff6ng7acmsqo6mpqa6n8dcj1\n",
            "Connecting to docs.google.com (docs.google.com)|142.250.141.102|:443... connected.\n",
            "HTTP request sent, awaiting response... 302 Found\n",
            "Location: https://doc-0k-3k-docs.googleusercontent.com/docs/securesc/gv3u6rtbvrog1en8a0sdnm5nu24hi14i/64p8pg5fpn0mnu70ffe534tgma0p09sd/1644885600000/10804218431552746902/01342805690271912378Z/1B9HGhLZOja4Xku5c_d-kMhCXn1LBZgDb?e=download&nonce=vaeoqo317pf44&user=01342805690271912378Z&hash=gm1kbrus53he1ol4tjmt1u8na3b7q614 [following]\n",
            "--2022-02-15 00:40:42--  https://doc-0k-3k-docs.googleusercontent.com/docs/securesc/gv3u6rtbvrog1en8a0sdnm5nu24hi14i/64p8pg5fpn0mnu70ffe534tgma0p09sd/1644885600000/10804218431552746902/01342805690271912378Z/1B9HGhLZOja4Xku5c_d-kMhCXn1LBZgDb?e=download&nonce=vaeoqo317pf44&user=01342805690271912378Z&hash=gm1kbrus53he1ol4tjmt1u8na3b7q614\n",
            "Connecting to doc-0k-3k-docs.googleusercontent.com (doc-0k-3k-docs.googleusercontent.com)|142.250.141.132|:443... connected.\n",
            "HTTP request sent, awaiting response... 200 OK\n",
            "Length: 468167372 (446M) [application/x-gzip]\n",
            "Saving to: ‘2021_05jawiki_hid128_win10_neg10_cbow.bin.gz’\n",
            "\n",
            "2021_05jawiki_hid12 100%[===================>] 446.48M  62.9MB/s    in 9.5s    \n",
            "\n",
            "2022-02-15 00:40:52 (47.2 MB/s) - ‘2021_05jawiki_hid128_win10_neg10_cbow.bin.gz’ saved [468167372/468167372]\n",
            "\n"
          ]
        }
      ]
    },
    {
      "cell_type": "markdown",
      "metadata": {
        "id": "5GxlVCH0CfsH"
      },
      "source": [
        "---\n",
        "\n",
        "## 1.1 補足説明\n",
        "\n",
        "### 著作権に関する注意事項\n",
        "\n",
        "上で読み込んだ `tlpa` には，tlpa の絵画命名検査に用いられる 200 図版の単語情報と，NTT 日本語語彙特性の頻度情報が含まれています。\n",
        "本コードを再配布する際には，これら 2 つ，TLPA と NTT 日本語語彙特性データの著作権にご留意ください。\n",
        "\n",
        "### ライブラリの使い方\n",
        "\n",
        "今回作成したライブラリには以下のものが含まれる\n",
        "\n",
        "- `tlpa.vocab`: 登録されている全単語 159061 語のリスト\n",
        "- `tlpa.phone_vocab`: julius 表記した音表現のリスト。音であるから vocab ではなく phoneme などとすべきだったかも知れないが，特殊トークンを含む 47 音表現\n",
        "- `tlpa.ortho_vocab`: 書記素表現のリスト，上の phone_vocab 同様に vocab という表記は適切ではなく，grapheme などと表記すべきだが，自然言語の文脈で考えていたので，このよな表記となった。\n",
        "- `ntt_orth2hira`: NTT 日本語語彙特性に現れる表記を，ひらがなに変換する辞書 `tlpa.ntt_orth2hira[\"神経\"]` などとすれば，`シンケイ` という読みを得る\n",
        "- `tlpa.tlpa`: tlpa で用いられる単語 237 語の，音表現，カタカナ，意味表現(word2vec) \n",
        "\n",
        "\n",
        "---"
      ]
    },
    {
      "cell_type": "code",
      "execution_count": null,
      "metadata": {
        "colab": {
          "base_uri": "https://localhost:8080/"
        },
        "id": "vyhpxUVoCfsH",
        "outputId": "2277021e-a870-4cf4-acb4-9a64f20ee3a7"
      },
      "outputs": [
        {
          "output_type": "stream",
          "name": "stdout",
          "text": [
            "None\n"
          ]
        }
      ],
      "source": [
        "# 再現性確保のため，乱数の種を設定する\n",
        "import random\n",
        "import torch\n",
        "\n",
        "# リソースの選択（CPU/GPU）\n",
        "device = torch.device(\"cuda:0\" if torch.cuda.is_available() else \"cpu\")\n",
        "\n",
        "# 乱数シード固定（再現性の担保）\n",
        "def fix_seed(seed):\n",
        "    random.seed(seed)  # for random\n",
        "    np.random.seed(seed) # for numpy\n",
        "\n",
        "    # for pytorch\n",
        "    torch.manual_seed(seed)\n",
        "    torch.cuda.manual_seed_all(seed)\n",
        "    torch.backends.cudnn.deterministic = True\n",
        "    torch.backends.cudnn.benchmark = False\n",
        "\n",
        "seed = 42\n",
        "fix_seed(seed)\n",
        "\n",
        "# データローダーのサブプロセスの乱数の seed が固定\n",
        "def worker_init_fn(worker_id):\n",
        "    np.random.seed(np.random.get_state()[1][0] + worker_id)\n",
        "\n",
        "print(worker_init_fn(1))"
      ]
    },
    {
      "cell_type": "code",
      "execution_count": null,
      "metadata": {
        "colab": {
          "base_uri": "https://localhost:8080/",
          "height": 365
        },
        "id": "3XNuPsuQCfsI",
        "outputId": "9ca1ce61-98e2-412e-f0f3-e4cc199d4698"
      },
      "outputs": [
        {
          "output_type": "error",
          "ename": "NameError",
          "evalue": "ignored",
          "traceback": [
            "\u001b[0;31m---------------------------------------------------------------------------\u001b[0m",
            "\u001b[0;31mNameError\u001b[0m                                 Traceback (most recent call last)",
            "\u001b[0;32m<ipython-input-7-a7e1088c87f3>\u001b[0m in \u001b[0;36m<module>\u001b[0;34m()\u001b[0m\n\u001b[1;32m      2\u001b[0m \u001b[0;32mimport\u001b[0m \u001b[0mtorch\u001b[0m\u001b[0;34m.\u001b[0m\u001b[0mutils\u001b[0m\u001b[0;34m.\u001b[0m\u001b[0mdata\u001b[0m\u001b[0;34m\u001b[0m\u001b[0;34m\u001b[0m\u001b[0m\n\u001b[1;32m      3\u001b[0m \u001b[0;34m\u001b[0m\u001b[0m\n\u001b[0;32m----> 4\u001b[0;31m \u001b[0;32mclass\u001b[0m \u001b[0m_train_dataset\u001b[0m\u001b[0;34m(\u001b[0m\u001b[0mtorch\u001b[0m\u001b[0;34m.\u001b[0m\u001b[0mutils\u001b[0m\u001b[0;34m.\u001b[0m\u001b[0mdata\u001b[0m\u001b[0;34m.\u001b[0m\u001b[0mDataset\u001b[0m\u001b[0;34m)\u001b[0m\u001b[0;34m:\u001b[0m\u001b[0;34m\u001b[0m\u001b[0;34m\u001b[0m\u001b[0m\n\u001b[0m\u001b[1;32m      5\u001b[0m     '''\n\u001b[1;32m      6\u001b[0m     \u001b[0m上で読み込んだ自作データ管理ライブラリ\u001b[0m \u001b[0mTLPA\u001b[0m \u001b[0mでも良いので冗長なのだが\u001b[0m\u001b[0;31m，\u001b[0m\u001b[0m訓練データセットと検証データセットとを明示的に定義しておく\u001b[0m\u001b[0;34m\u001b[0m\u001b[0;34m\u001b[0m\u001b[0m\n",
            "\u001b[0;32m<ipython-input-7-a7e1088c87f3>\u001b[0m in \u001b[0;36m_train_dataset\u001b[0;34m()\u001b[0m\n\u001b[1;32m      7\u001b[0m     '''\n\u001b[1;32m      8\u001b[0m \u001b[0;34m\u001b[0m\u001b[0m\n\u001b[0;32m----> 9\u001b[0;31m     \u001b[0;32mdef\u001b[0m \u001b[0m__init__\u001b[0m\u001b[0;34m(\u001b[0m\u001b[0mself\u001b[0m\u001b[0;34m,\u001b[0m \u001b[0mtlpa\u001b[0m\u001b[0;34m=\u001b[0m\u001b[0mtlpa\u001b[0m\u001b[0;34m)\u001b[0m\u001b[0;34m->\u001b[0m\u001b[0;32mNone\u001b[0m\u001b[0;34m:\u001b[0m\u001b[0;34m\u001b[0m\u001b[0;34m\u001b[0m\u001b[0m\n\u001b[0m\u001b[1;32m     10\u001b[0m         \u001b[0mself\u001b[0m\u001b[0;34m.\u001b[0m\u001b[0mtlpa\u001b[0m \u001b[0;34m=\u001b[0m \u001b[0mtlpa\u001b[0m\u001b[0;34m\u001b[0m\u001b[0;34m\u001b[0m\u001b[0m\n\u001b[1;32m     11\u001b[0m         \u001b[0mself\u001b[0m\u001b[0;34m.\u001b[0m\u001b[0mdata\u001b[0m \u001b[0;34m=\u001b[0m \u001b[0mtlpa\u001b[0m\u001b[0;34m.\u001b[0m\u001b[0mtraining_data\u001b[0m\u001b[0;34m\u001b[0m\u001b[0;34m\u001b[0m\u001b[0m\n",
            "\u001b[0;31mNameError\u001b[0m: name 'tlpa' is not defined"
          ]
        }
      ],
      "source": [
        "import torch\n",
        "import torch.utils.data\n",
        "\n",
        "class _train_dataset(torch.utils.data.Dataset):\n",
        "    '''\n",
        "    上で読み込んだ自作データ管理ライブラリ TLPA でも良いので冗長なのだが，訓練データセットと検証データセットとを明示的に定義しておく\n",
        "    '''\n",
        "    \n",
        "    def __init__(self, tlpa=tlpa)->None:\n",
        "        self.tlpa = tlpa\n",
        "        self.data = tlpa.training_data\n",
        "        self.order = {i:self.data[x] for i, x in enumerate(self.data)}\n",
        "        \n",
        "    def __len__(self)->int:\n",
        "        return len(self.data)\n",
        "    \n",
        "    def __getitem__(self, x:int):\n",
        "        return self.order[x]['ortho_ids'] + [self.tlpa.ortho_vocab.index('<EOW>')], self.order[x]['phone_ids'] + [self.tlpa.phone_vocab.index('<EOW>')]\n",
        "    \n",
        "    def convert_ortho_ids_to_tokens(self, ids:list):\n",
        "        return [self.tlpa.ortho_vocab[idx] for idx in ids]\n",
        "    \n",
        "    def convert_phone_ids_to_tokens(self, ids:list):\n",
        "        return [self.tlpa.phone_vocab[idx] for idx in ids]\n",
        "\n",
        "\n",
        "class _val_dataset(torch.utils.data.Dataset):\n",
        "    def __init__(self, tlpa=tlpa)->None:\n",
        "        self.tlpa = tlpa\n",
        "        self.data = tlpa.tlpa_data\n",
        "        self.order = {i:self.data[x] for i, x in enumerate(self.data)}\n",
        "        \n",
        "    def __len__(self)->int:\n",
        "        return len(self.data)\n",
        "    \n",
        "    def __getitem__(self, x:int):\n",
        "        return self.order[x]['ortho_ids'] + [self.tlpa.ortho_vocab.index('<EOW>')], self.order[x]['phone_ids'] + [self.tlpa.phone_vocab.index('<EOW>')]\n",
        "        #return self.order[x]['ortho_ids'], self.order[x]['phone_ids']\n",
        "    \n",
        "    def convert_ortho_ids_to_tokens(self, ids:list):\n",
        "        return [self.tlpa.ortho_vocab[idx] for idx in ids]\n",
        "    \n",
        "    def convert_phone_ids_to_tokens(self, ids:list):\n",
        "        return [self.tlpa.phone_vocab[idx] for idx in ids]\n",
        "    \n",
        "train_dataset = _train_dataset()\n",
        "val_dataset = _val_dataset()"
      ]
    },
    {
      "cell_type": "markdown",
      "metadata": {
        "id": "UYxQ46DCCfsI"
      },
      "source": [
        "# 2 学習に用いる，符号化器 (エンコーダ)，復号化器 (デコーダ) の定義"
      ]
    },
    {
      "cell_type": "code",
      "execution_count": null,
      "metadata": {
        "id": "Dgu3VwtXCfsI"
      },
      "outputs": [],
      "source": [
        "import torch\n",
        "import torch.nn as nn\n",
        "import torch.optim as optim\n",
        "import torch.nn.functional as F\n",
        "\n",
        "class EncoderRNN(nn.Module):\n",
        "    '''RNNによる符号化器'''\n",
        "    def __init__(self, n_inp, n_hid):\n",
        "        super().__init__()\n",
        "        self.n_hid = n_hid\n",
        "\n",
        "        self.embedding = nn.Embedding(n_inp, n_hid)\n",
        "        self.gru = nn.GRU(n_hid, n_hid)\n",
        "\n",
        "    def forward(self, inp, hid):\n",
        "        embedded = self.embedding(inp).view(1, 1, -1)\n",
        "        out = embedded\n",
        "        out, hid = self.gru(out, hid)\n",
        "        return out, hid\n",
        "\n",
        "    def initHidden(self):\n",
        "        return torch.zeros(1, 1, self.n_hid, device=device)\n",
        "\n",
        "\n",
        "class AttnDecoderRNN(nn.Module):\n",
        "    '''注意付き復号化器の定義'''\n",
        "    def __init__(self, n_hid, n_out, dropout_p=0.1, max_length=tlpa.max_phone_length+1):\n",
        "        super().__init__()\n",
        "        self.n_hid = n_hid\n",
        "        self.n_out = n_out\n",
        "        self.dropout_p = dropout_p\n",
        "        self.max_length = max_length\n",
        "\n",
        "        self.embedding = nn.Embedding(self.n_out, self.n_hid)\n",
        "        self.attn = nn.Linear(self.n_hid * 2, self.max_length)\n",
        "        self.attn_combine = nn.Linear(self.n_hid * 2, self.n_hid)\n",
        "        self.dropout = nn.Dropout(self.dropout_p)\n",
        "        self.gru = nn.GRU(self.n_hid, self.n_hid)\n",
        "        self.out = nn.Linear(self.n_hid, self.n_out)\n",
        "\n",
        "    def forward(self, inp, hid, encoder_outputs):\n",
        "        embedded = self.embedding(inp).view(1, 1, -1)\n",
        "        embedded = self.dropout(embedded)\n",
        "\n",
        "        attn_weights = F.softmax(self.attn(torch.cat((embedded[0], hid[0]), 1)), dim=1)\n",
        "        attn_applied = torch.bmm(attn_weights.unsqueeze(0), encoder_outputs.unsqueeze(0))\n",
        "\n",
        "        out = torch.cat((embedded[0], attn_applied[0]), 1)\n",
        "        out = self.attn_combine(out).unsqueeze(0)\n",
        "\n",
        "        out = F.relu(out)\n",
        "        out, hid = self.gru(out, hid)\n",
        "\n",
        "        out = F.log_softmax(self.out(out[0]), dim=1)\n",
        "        return out, hid, attn_weights\n",
        "\n",
        "    def initHidden(self):\n",
        "        return torch.zeros(1, 1, self.n_hid, device=device)"
      ]
    },
    {
      "cell_type": "markdown",
      "metadata": {
        "id": "1baS686OCfsI"
      },
      "source": [
        "# 3. 訓練関数 `train()` の定義 教師強制付き"
      ]
    },
    {
      "cell_type": "code",
      "execution_count": null,
      "metadata": {
        "id": "LMADCASqCfsJ"
      },
      "outputs": [],
      "source": [
        "def convert_ids2tensor(sentence_ids):\n",
        "    return torch.tensor(sentence_ids, dtype=torch.long, device=device).view(-1, 1)\n",
        "\n",
        "teacher_forcing_ratio = 0.5  # 教師強制率。文献によっては，訓練中にこの値を徐々に減衰させることも行われます\n",
        "\n",
        "def train(input_tensor, \n",
        "          target_tensor, \n",
        "          encoder, decoder, \n",
        "          encoder_optimizer, decoder_optimizer, \n",
        "          criterion, max_length=tlpa.max_phone_length+1):\n",
        "    \n",
        "    encoder_hidden = encoder.initHidden() # 符号化器の中間層を初期化\n",
        "    encoder_optimizer.zero_grad()         # 符号化器の最適化関数の初期化\n",
        "    decoder_optimizer.zero_grad()         # 復号化器の最適化関数の初期化\n",
        "\n",
        "    input_length = input_tensor.size(0)\n",
        "    target_length = target_tensor.size(0)\n",
        "    encoder_outputs = torch.zeros(max_length, encoder.n_hid, device=device)\n",
        "    loss = 0\n",
        "\n",
        "    for ei in range(input_length):\n",
        "        encoder_output, encoder_hidden = encoder(\n",
        "            input_tensor[ei], encoder_hidden)\n",
        "        encoder_outputs[ei] = encoder_output[0, 0]\n",
        "\n",
        "    decoder_input = torch.tensor([[train_dataset.tlpa.ortho_vocab.index('<SOW>')]], device=device)\n",
        "    decoder_hidden = encoder_hidden\n",
        "    \n",
        "    # 教師強制をするか否かを確率的に決める\n",
        "    use_teacher_forcing = True if random.random() < teacher_forcing_ratio else False\n",
        "    if use_teacher_forcing: # 教師強制する場合 Teacher forcing: Feed the target as the next input\n",
        "        for di in range(target_length):\n",
        "            decoder_output, decoder_hidden, decoder_attention = decoder(\n",
        "                decoder_input, decoder_hidden, encoder_outputs)\n",
        "            loss += criterion(decoder_output, target_tensor[di])\n",
        "            decoder_input = target_tensor[di]  # Teacher forcing\n",
        "\n",
        "    else: # 教師強制しない場合 Without teacher forcing: use its own predictions as the next input\n",
        "        for di in range(target_length):\n",
        "            decoder_output, decoder_hidden, decoder_attention = decoder(\n",
        "                decoder_input, decoder_hidden, encoder_outputs)\n",
        "            topv, topi = decoder_output.topk(1)\n",
        "            decoder_input = topi.squeeze().detach()  # detach from history as input\n",
        "\n",
        "            loss += criterion(decoder_output, target_tensor[di])\n",
        "            if decoder_input.item() == train_dataset.tlpa.ortho_vocab.index('<EOW>'):\n",
        "                break\n",
        "\n",
        "    loss.backward()\n",
        "    encoder_optimizer.step()\n",
        "    decoder_optimizer.step()\n",
        "\n",
        "    return loss.item() / target_length"
      ]
    },
    {
      "cell_type": "code",
      "execution_count": null,
      "metadata": {
        "id": "oLlLGA06CfsJ"
      },
      "outputs": [],
      "source": [
        "import time\n",
        "import math\n",
        "\n",
        "def asMinutes(s):\n",
        "    \"\"\"時間変数を見やすいように，分と秒に変換して返す\"\"\"\n",
        "    m = math.floor(s / 60)\n",
        "    s -= m * 60\n",
        "    return f'{int(m):2d}分 {int(s):2d}秒'\n",
        "    return '%dm %ds' % (m, s)\n",
        "\n",
        "\n",
        "def timeSince(since, percent):\n",
        "    \"\"\"開始時刻 since と，現在の処理が全処理中に示す割合 percent を与えて，経過時間と残り時間を計算して表示する\"\"\"\n",
        "    now = time.time()  #現在時刻を取得\n",
        "    s = now - since    # 開始時刻から現在までの経過時間を計算\n",
        "    #s = since - now    \n",
        "    es = s / (percent) # 経過時間を現在までの処理割合で割って終了予想時間を計算\n",
        "    rs = es - s        # 終了予想時刻から経過した時間を引いて残り時間を計算\n",
        "\n",
        "    return f'経過時間:{asMinutes(s)} (残り時間 {asMinutes(rs)})'"
      ]
    },
    {
      "cell_type": "markdown",
      "metadata": {
        "id": "CPb_tsv_CfsJ"
      },
      "source": [
        "# 4. `fit()` 関数の定義 エポックを反復して `train()` を呼び出す"
      ]
    },
    {
      "cell_type": "code",
      "execution_count": null,
      "metadata": {
        "id": "qypzOOGDCfsJ"
      },
      "outputs": [],
      "source": [
        "def fit(encoder:nn.Module, \n",
        "        decoder:nn.Module, \n",
        "        epochs:int=params['epochs'],\n",
        "        lr:float=params['lr'],\n",
        "        n_sample:int=3)->list:\n",
        "    \n",
        "    start_time = time.time()\n",
        "    \n",
        "    encoder.train()\n",
        "    decoder.train()\n",
        "    #encoder_optimizer = optim.SGD(encoder.parameters(), lr=lr)\n",
        "    #decoder_optimizer = optim.SGD(decoder.parameters(), lr=lr)\n",
        "    #encoder_optimizer = optim.Adam(encoder.parameters(), lr=lr)\n",
        "    #decoder_optimizer = optim.Adam(decoder.parameters(), lr=lr)\n",
        "    encoder_optimizer = params['optim_func'](encoder.parameters(), lr=lr)\n",
        "    decoder_optimizer = params['optim_func'](decoder.parameters(), lr=lr)\n",
        "    criterion = params['loss_func']\n",
        "    losses = []\n",
        "\n",
        "    for epoch in range(epochs):\n",
        "        epoch_loss = 0\n",
        "        \n",
        "        #エポックごとに学習順をシャッフルする\n",
        "        learning_order = np.random.permutation(train_dataset.__len__())\n",
        "        for i in range(train_dataset.__len__()):\n",
        "            x = learning_order[i]   # ランダムにデータを取り出す \n",
        "            inputs, targets = train_dataset.__getitem__(x)\n",
        "            input_tensor = convert_ids2tensor(inputs)\n",
        "            target_tensor = convert_ids2tensor(targets)\n",
        "            \n",
        "            #訓練の実施\n",
        "            loss = train(input_tensor, target_tensor, \n",
        "                         encoder, decoder, \n",
        "                         encoder_optimizer, decoder_optimizer, \n",
        "                         criterion)\n",
        "            epoch_loss += loss\n",
        "        \n",
        "        losses.append(epoch_loss/train_dataset.__len__())\n",
        "        print(colored(f'エポック:{epoch:2d} 損失:{epoch_loss/train_dataset.__len__():.2f}', 'cyan', attrs=['bold']),\n",
        "              f'{timeSince(start_time, (epoch+1) * train_dataset.__len__()/(epochs * train_dataset.__len__()))}')\n",
        "        \n",
        "        evaluateRandomly(encoder, decoder, n=n_sample)\n",
        "        \n",
        "    return losses"
      ]
    },
    {
      "cell_type": "markdown",
      "metadata": {
        "id": "4u_R9pvvCfsJ"
      },
      "source": [
        "# 5 評価関数 `evaluate()` の定義"
      ]
    },
    {
      "cell_type": "code",
      "execution_count": null,
      "metadata": {
        "id": "BwE3USsFCfsJ"
      },
      "outputs": [],
      "source": [
        "def evaluate(encoder:nn.Module, \n",
        "             decoder:nn.Module, \n",
        "             input_ids:list, \n",
        "             max_length:int=tlpa.max_phone_length+1)->(list,torch.LongTensor):\n",
        "    with torch.no_grad():\n",
        "        input_tensor = convert_ids2tensor(input_ids)\n",
        "        input_length = input_tensor.size()[0]\n",
        "        encoder_hidden = encoder.initHidden()\n",
        "\n",
        "        encoder_outputs = torch.zeros(max_length, encoder.n_hid, device=device)\n",
        "\n",
        "        for ei in range(input_length):\n",
        "            encoder_output, encoder_hidden = encoder(input_tensor[ei], encoder_hidden)\n",
        "            encoder_outputs[ei] += encoder_output[0, 0]\n",
        "\n",
        "        decoder_input = torch.tensor([[val_dataset.tlpa.phone_vocab.index('<SOW>')]], device=device)\n",
        "        decoder_hidden = encoder_hidden\n",
        "\n",
        "        decoded_words, decoded_ids = [], []  # decoded_ids を追加\n",
        "        decoder_attentions = torch.zeros(max_length, max_length)\n",
        "\n",
        "        for di in range(max_length):\n",
        "            decoder_output, decoder_hidden, decoder_attention = decoder(\n",
        "                decoder_input, decoder_hidden, encoder_outputs)\n",
        "            decoder_attentions[di] = decoder_attention.data\n",
        "            topv, topi = decoder_output.data.topk(1)\n",
        "            decoded_ids.append(int(topi.squeeze().detach())) # decoded_ids に追加\n",
        "            if topi.item() == val_dataset.tlpa.phone_vocab.index('<EOW>'):\n",
        "                decoded_words.append('<EOW>')\n",
        "                break\n",
        "            else:\n",
        "                decoded_words.append(val_dataset.tlpa.phone_vocab[topi.item()])\n",
        "\n",
        "            decoder_input = topi.squeeze().detach()\n",
        "\n",
        "        return decoded_words, decoded_ids, decoder_attentions[:di + 1]  # decoded_ids を返すように変更\n",
        "        #return decoded_words, decoder_attentions[:di + 1]    "
      ]
    },
    {
      "cell_type": "code",
      "execution_count": null,
      "metadata": {
        "id": "D3EZR7kpCfsK"
      },
      "outputs": [],
      "source": [
        "def evaluateRandomly(encoder:nn.Module, \n",
        "                     decoder:nn.Module, \n",
        "                     n:int=5)->float:\n",
        "    \n",
        "    srcs, preds = [], []\n",
        "    for x in np.random.randint(val_dataset.__len__(), size=n):\n",
        "        input_ids, target_ids = val_dataset.__getitem__(x)\n",
        "        input_words = val_dataset.convert_ortho_ids_to_tokens(input_ids)\n",
        "        print(f'入力: {target_ids}<-{input_ids}:{input_words}')\n",
        "        output_words, output_ids, attentions = evaluate(encoder, decoder, input_ids)\n",
        "        #output_ids, attentions = evaluate(encoder, decoder, input_ids)\n",
        "        #output_word = val_dataset.convert_phone_ids_to_tokens(output_ids)\n",
        "        #output_word = output_ids\n",
        "\n",
        "        srcs.append(input_words)\n",
        "        preds.append(output_words)\n",
        "        print(f'出力: {output_ids}',f':{output_words}')\n",
        "        print('---')\n",
        "    return srcs, preds"
      ]
    },
    {
      "cell_type": "code",
      "execution_count": null,
      "metadata": {
        "id": "S60pimCQCfsK"
      },
      "outputs": [],
      "source": [
        "#evaluateRandomly(encoder,decoder,n=5)\n",
        "#val_dataset.__getitem__(3)"
      ]
    },
    {
      "cell_type": "markdown",
      "metadata": {
        "id": "_135TpoiCfsK"
      },
      "source": [
        "# 6. 学習の実施"
      ]
    },
    {
      "cell_type": "code",
      "execution_count": null,
      "metadata": {
        "id": "ZGR3N1nVCfsK"
      },
      "outputs": [],
      "source": [
        "%%time\n",
        "hidden_size = params['hidden_size']\n",
        "encoder = EncoderRNN(len(tlpa.ortho_vocab), hidden_size).to(device)\n",
        "decoder = AttnDecoderRNN(n_hid=hidden_size, n_out=len(tlpa.phone_vocab), dropout_p=params['dropout_p']).to(device)\n",
        "\n",
        "losses = []\n",
        "losses = losses + fit(encoder, decoder, epochs=params['epochs'], n_sample=3)"
      ]
    },
    {
      "cell_type": "code",
      "execution_count": null,
      "metadata": {
        "id": "XPS1Io9hCfsK"
      },
      "outputs": [],
      "source": [
        "losses = losses + fit(encoder, decoder, epochs=params['epochs'], n_sample=5)"
      ]
    },
    {
      "cell_type": "markdown",
      "metadata": {
        "id": "uUpwmMVnCfsK"
      },
      "source": [
        "# 7 学習経過の描画"
      ]
    },
    {
      "cell_type": "code",
      "execution_count": null,
      "metadata": {
        "id": "GH544axsCfsK"
      },
      "outputs": [],
      "source": [
        "import matplotlib.pyplot as plt\n",
        "import japanize_matplotlib\n",
        "import matplotlib.ticker as ticker\n",
        "import numpy as np\n",
        "\n",
        "def showPlot(points:list)->None:\n",
        "    plt.figure()\n",
        "    fig, ax = plt.subplots()\n",
        "    loc = ticker.MultipleLocator(base=0.2) # this locator puts ticks at regular intervals\n",
        "    ax.yaxis.set_major_locator(loc)\n",
        "    plt.plot(points)\n",
        "    \n",
        "showPlot(losses)    "
      ]
    },
    {
      "cell_type": "code",
      "execution_count": null,
      "metadata": {
        "id": "w2gjCRV2CfsK"
      },
      "outputs": [],
      "source": [
        "_ = evaluateRandomly(encoder, decoder, n=5)"
      ]
    },
    {
      "cell_type": "markdown",
      "metadata": {
        "id": "QRXO_EyfCfsK"
      },
      "source": [
        "# 8 自由入力による評価"
      ]
    },
    {
      "cell_type": "code",
      "execution_count": null,
      "metadata": {
        "id": "SWPju0w0CfsL"
      },
      "outputs": [],
      "source": [
        "def tokenize(inp_word:str, pad:bool=False)->list:\n",
        "    if pad:\n",
        "        ret = [tlpa.ortho_vocab.index('<PAD>') for _ in range(tlpa.max_ortho_length - len(inp_word))]\n",
        "    else:\n",
        "        ret = []\n",
        "    return ret + [tlpa.ortho_vocab.index(ch) if ch in tlpa.ortho_vocab else tlpa.ortho_vocab[tlpa.ortho_vocab.index('<UNK>')] for ch in inp_word]\n",
        "\n",
        "\n",
        "#print(train_dataset.convert_ortho_ids_to_tokens(tokenize('わたし',pad=True)))"
      ]
    },
    {
      "cell_type": "code",
      "execution_count": null,
      "metadata": {
        "id": "BZNKZOZhCfsL"
      },
      "outputs": [],
      "source": [
        "import torch.nn as nn"
      ]
    },
    {
      "cell_type": "code",
      "execution_count": null,
      "metadata": {
        "id": "pMVw56xNCfsL"
      },
      "outputs": [],
      "source": [
        "def evaluate_free_input(encoder:nn.Module, \n",
        "                        decoder:nn.Module,\n",
        "                        inp=None,\n",
        "                       )->None:\n",
        "    if inp == None:\n",
        "        inp = input()\n",
        "    inp = jaconv.normalize(inp)\n",
        "    inputs = tokenize(inp, pad=False)\n",
        "    input_ids = inputs # ['input_ids']\n",
        "    output_tokens, output_words, attentions = evaluate(encoder, decoder, input_ids)\n",
        "    #output_ids = val_dataset.convert_phone_ids_to_tokens(output_tokens)\n",
        "    output_ids = output_tokens\n",
        "    return input_ids, output_ids\n"
      ]
    },
    {
      "cell_type": "code",
      "execution_count": null,
      "metadata": {
        "id": "IB0a-f7ICfsL"
      },
      "outputs": [],
      "source": [
        "#inp, out = evaluate_free_input(encoder,decoder, inp='お前は虎だ。虎になるのだ。')\n",
        "inp, out = evaluate_free_input(encoder,decoder)\n",
        "print(val_dataset.convert_ortho_ids_to_tokens(inp))\n",
        "print(out)"
      ]
    },
    {
      "cell_type": "markdown",
      "metadata": {
        "id": "3jiH-3BMCfsL"
      },
      "source": [
        "# 9 エンコーダの内部表現の取得"
      ]
    },
    {
      "cell_type": "code",
      "execution_count": null,
      "metadata": {
        "id": "SnJs1B-yCfsL"
      },
      "outputs": [],
      "source": [
        "def get_an_encoder_representation(encoder:nn.Module,\n",
        "                                  input_ids:list,\n",
        "                                  max_length:int=tlpa.max_phone_length+1)->(list,torch.LongTensor):\n",
        "    with torch.no_grad():\n",
        "        input_tensor = convert_ids2tensor(input_ids)\n",
        "        input_length = input_tensor.size()[0]\n",
        "        encoder_hidden = encoder.initHidden()\n",
        "        encoder_outputs = torch.zeros(max_length, encoder.n_hid, device=device)\n",
        "\n",
        "        for ei in range(input_length):\n",
        "            encoder_output, encoder_hidden = encoder(input_tensor[ei],\n",
        "                                                     encoder_hidden)\n",
        "            encoder_outputs[ei] += encoder_output[0, 0]\n",
        "\n",
        "        return encoder_hidden\n"
      ]
    },
    {
      "cell_type": "code",
      "execution_count": null,
      "metadata": {
        "id": "R1Z6JJYaCfsL"
      },
      "outputs": [],
      "source": [
        "X = np.zeros((val_dataset.__len__(),hidden_size))\n",
        "for i in range(val_dataset.__len__()):\n",
        "    x = get_an_encoder_representation(encoder, input_ids = val_dataset.__getitem__(1)[0])\n",
        "    X[i] = x.squeeze(0).clone().detach().numpy()[0]\n",
        "\n",
        "print(X.shape)"
      ]
    },
    {
      "cell_type": "code",
      "execution_count": null,
      "metadata": {
        "id": "j3N_XaLcCfsL"
      },
      "outputs": [],
      "source": [
        "import ccap.tsne as tsne\n",
        "\n",
        "tsne_result = tsne.tsne(X)"
      ]
    },
    {
      "cell_type": "markdown",
      "metadata": {
        "id": "L1DNZF7vCfsL"
      },
      "source": [
        "# 10 内部表現の描画"
      ]
    },
    {
      "cell_type": "code",
      "execution_count": null,
      "metadata": {
        "id": "szxqUixdCfsL"
      },
      "outputs": [],
      "source": [
        "tsne_result.shape\n",
        "plt.figure(figsize=(10,10))\n",
        "plt.scatter(tsne_result[:,0],tsne_result[:,1])\n",
        "plt.show()"
      ]
    },
    {
      "cell_type": "code",
      "execution_count": null,
      "metadata": {
        "id": "NdA82vt-CfsL"
      },
      "outputs": [],
      "source": [
        "x_min = tsne_result[:,0].argmin()\n",
        "x_max = tsne_result[:,0].argmax()\n",
        "y_min = tsne_result[:,1].argmin()\n",
        "y_max = tsne_result[:,1].argmax()\n",
        "\n",
        "print(f'X 座標最小値:{tlpa.vocab[x_min]}')\n",
        "print(f'X 座標最大値:{tlpa.vocab[x_max]}')\n",
        "print(f'Y 座標最小値:{tlpa.vocab[y_min]}')\n",
        "print(f'Y 座標最大値:{tlpa.vocab[y_max]}')\n"
      ]
    },
    {
      "cell_type": "code",
      "execution_count": null,
      "metadata": {
        "id": "skLnoiffCfsL"
      },
      "outputs": [],
      "source": [
        "tlpa.vocab[x_min]"
      ]
    },
    {
      "cell_type": "code",
      "execution_count": null,
      "metadata": {
        "id": "NO0LHLJNCfsL"
      },
      "outputs": [],
      "source": [
        "path_saved = '2022_0212tlpa_o2p.pt'\n",
        "torch.save({'encoder':encoder.state_dict(),\n",
        "            'decoder':decoder.state_dict()}, path_saved)\n",
        "checkpoint = torch.load(path_saved)\n",
        "encoder2 = EncoderRNN(len(tlpa.ortho_vocab), hidden_size).to(device)\n",
        "decoder2 = AttnDecoderRNN(n_hid=hidden_size, n_out=len(tlpa.phone_vocab), dropout_p=params['dropout_p']).to(device)\n",
        "encoder2.load_state_dict(checkpoint['encoder'])\n",
        "decoder2.load_state_dict(checkpoint['decoder'])\n",
        "encoder2.eval()\n",
        "decoder2.eval()"
      ]
    },
    {
      "cell_type": "code",
      "execution_count": null,
      "metadata": {
        "id": "JfvcShrYCfsL"
      },
      "outputs": [],
      "source": [
        "_ = evaluateRandomly(encoder2, decoder2, n=10)"
      ]
    },
    {
      "cell_type": "code",
      "execution_count": null,
      "metadata": {
        "id": "jSLTi7FqCfsM"
      },
      "outputs": [],
      "source": [
        ""
      ]
    }
  ],
  "metadata": {
    "kernelspec": {
      "display_name": "Python 3 (ipykernel)",
      "language": "python",
      "name": "python3"
    },
    "language_info": {
      "codemirror_mode": {
        "name": "ipython",
        "version": 3
      },
      "file_extension": ".py",
      "mimetype": "text/x-python",
      "name": "python",
      "nbconvert_exporter": "python",
      "pygments_lexer": "ipython3",
      "version": "3.9.7"
    },
    "colab": {
      "name": "2022_0206tlpa_o2p.ipynb",
      "provenance": [],
      "include_colab_link": true
    }
  },
  "nbformat": 4,
  "nbformat_minor": 0
}