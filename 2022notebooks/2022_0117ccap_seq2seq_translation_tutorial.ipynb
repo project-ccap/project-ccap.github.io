{
 "cells": [
  {
   "cell_type": "markdown",
   "metadata": {
    "id": "G-nD6j8ZGmHq"
   },
   "source": [
    "- original: https://colab.research.google.com/github/pytorch/tutorials/blob/gh-pages/_downloads/a60617788061539b5449701ae76aee56/seq2seq_translation_tutorial.ipynb#scrollTo=9j9xzK9gFgNL\n",
    "- url: https://pytorch.org/tutorials/intermediate/seq2seq_translation_tutorial.html\n",
    "- related: file:///Users/asakawa/study/2021personal/2018Eitenne_seq2seq_ja.md\n",
    "- filename: 2022_0115seq2seq_translation_tutorial.ipynb\n",
    "\n"
   ]
  },
  {
   "cell_type": "code",
   "execution_count": null,
   "metadata": {
    "id": "xsNQs0oiFgNH"
   },
   "outputs": [],
   "source": [
    "%matplotlib inline"
   ]
  },
  {
   "cell_type": "markdown",
   "metadata": {
    "id": "FkOMQ13EFgNK"
   },
   "source": [
    "\n",
    "<!-- NLP From Scratch: Translation with a Sequence to Sequence Network and Attention -->\n",
    "# ゼロからの自然言語処理 (NLP): Seq2seq (あるいは，エンコーダ・デコーダ) ネットワークによる翻訳と注意\n",
    "*******************************************************************************\n",
    "**Author**: [Sean Robertson](https://github.com/spro/practical-pytorch)\n",
    "\n",
    "このチュートリアルは 「ゼロからの自然言語処理 (NLP)」を行うための 3 つ目のチュートリアルで，最後になります。\n",
    "このチュートリアルを終えた後は，このチュートリアルに続く 3 つのチュートリアルで，`torchtext` がどのようにこの前処理の多くを処理できるかを学んでください。\n",
    "\n",
    "<!-- This is the third and final tutorial on doing \"NLP From Scratch\", where we write our own classes and functions to preprocess the data to do our NLP modeling tasks. \n",
    "We hope after you complete this tutorial that you'll proceed to learn how `torchtext` can handle much of this preprocessing for you in the three tutorials immediately following this one.-->\n",
    "\n",
    "このプロジェクトでは，ニューラルネットワークにフランス語から英語への翻訳を教えます。\n",
    "<!-- In this project we will be teaching a neural network to translate from French to English. -->\n",
    "\n",
    "\n",
    "    [KEY: > input, = target, < output]\n",
    "\n",
    "    > il est en train de peindre un tableau .\n",
    "    = he is painting a picture .\n",
    "    < he is painting a picture .\n",
    "\n",
    "    > pourquoi ne pas essayer ce vin delicieux ?\n",
    "    = why not try that delicious wine ?\n",
    "    < why not try that delicious wine ?\n",
    "\n",
    "    > elle n est pas poete mais romanciere .\n",
    "    = she is not a poet but a novelist .\n",
    "    < she not not a poet but a novelist .\n",
    "\n",
    "    > vous etes trop maigre .\n",
    "    = you re too skinny .\n",
    "    < you re all alone .\n",
    "\n",
    "... と、程度の差こそあれ、成功しています。\n",
    "<!-- to varying degrees of success. -->\n",
    "\n",
    "これを可能にしているのが，2 つのリカレントニューラルネットワークが協力して，ある系列を別の系列に変換するという，シンプルだが強力な [sequence to sequence network](https://arxiv.org/abs/1409.3215) というアイデアです。\n",
    "符号化ネットワークは，入力系列をベクトルに凝縮し，復号化ネットワークは，そのベクトルを新しい系列に展開します。\n",
    "<!-- This is made possible by the simple but powerful idea of the `sequence to sequence network <https://arxiv.org/abs/1409.3215>`__, in which two recurrent neural networks work together to transform one sequence to another. \n",
    "An encoder network condenses an input sequence into a vector, and a decoder network unfolds that vector into a new sequence. -->\n",
    "\n",
    "<center>\n",
    "<img src=\"https://pytorch.org/tutorials/_images/seq2seq.png\">\n",
    "</center>\n",
    "\n",
    "このモデルを改良するために，復号化器(デコーダ) に入力配列の特定の範囲に集中することを学習させる [注意機構](https://arxiv.org/abs/1409.0473) を使用します。\n",
    "<!-- To improve upon this model we'll use an `attention mechanism <https://arxiv.org/abs/1409.0473>`__, which lets the decoder learn to focus over a specific range of the input sequence. -->\n",
    "\n",
    "**オススメの読み物**\n",
    "\n",
    "PyTorch がインストール済で，Python を知っていて，テンソル (Tensors) を理解していることが前提です。\n",
    "\n",
    "- PyTorhch のインストールについては [https://pytorch.org](https://pytorch.org)\n",
    "-  PyTorchの一般的な使用方法については [60 分でわかるディープラーニング](https://pytorch.org/tutorials/beginner/deep_learning_60min_blitz.html)\n",
    "- 広く深く概要を知るためには，[具体例でわかる Pytorch](https://pytorch.org/tutorials/beginner/pytorch_with_examples.html)\n",
    "- 旧 Lua Torch ユーザの場合は  [former_torchies_tutorial](https://pytorch.org/tutorials/beginner/former_torchies_tutorial.html) となります\n",
    "\n",
    "<!-- **Recommended Reading:**\n",
    "\n",
    "I assume you have at least installed PyTorch, know Python, and understand Tensors:\n",
    "\n",
    "-  https://pytorch.org/ For installation instructions\n",
    "-  :doc:`/beginner/deep_learning_60min_blitz` to get started with PyTorch in general\n",
    "-  :doc:`/beginner/pytorch_with_examples` for a wide and deep overview\n",
    "-  :doc:`/beginner/former_torchies_tutorial` if you are former Lua Torch user -->\n",
    "\n",
    "また Sequence to Sequence ネットワークとその仕組みについても知っておくと役に立つでしょう。\n",
    "\n",
    "- [Learning Phrase Representations using RNN Encoder-Decoder for Statistical Machine Translation](https://arxiv.org/abs/1406.1078)\n",
    "- [Sequence to Sequence Learning with Neural Networks（ニューラルネットワークによる系列から系列間の学習）](https://arxiv.org/abs/1409.3215)\n",
    "- [整列と翻訳を同時に学習するニューラル機械翻訳](https://arxiv.org/abs/1409.0473)\n",
    "- [ニューラル対話モデル](https://arxiv.org/abs/1506.05869)\n",
    "\n",
    "また，l以前のチュートリアルである [文字ベース RNN チュートリアル](https://pytorch.org/tutorials/intermediate/char_rnn_classification_tutorial.html) と[中級：文字生成チュートリアル](https://pytorch.org/tutorials/intermediate/char_rnn_generation_tutorial.html)  は，それぞれの概念が符号化モデルと復号化モデルに非常に似ているので，参考になるでしょう。\n",
    "\n",
    "<!-- \n",
    "It would also be useful to know about Sequence to Sequence networks and how they work:\n",
    "\n",
    "-  `Learning Phrase Representations using RNN Encoder-Decoder for Statistical Machine Translation <https://arxiv.org/abs/1406.1078>`\n",
    "-  `Sequence to Sequence Learning with Neural Networks <https://arxiv.org/abs/1409.3215>`\n",
    "-  `Neural Machine Translation by Jointly Learning to Align and Translate <https://arxiv.org/abs/1409.0473>`\n",
    "-  `A Neural Conversational Model <https://arxiv.org/abs/1506.05869>`\n",
    "\n",
    "You will also find the previous tutorials on :doc:`/intermediate/char_rnn_classification_tutorial` and :doc:`/intermediate/char_rnn_generation_tutorial` helpful as those concepts are very similar to the Encoder and Decoder models, respectively.\n",
    "\n",
    "**必要条件**.\n",
    "<!--**Requirements** -->\n",
    "\n"
   ]
  },
  {
   "cell_type": "code",
   "execution_count": 51,
   "metadata": {
    "id": "9j9xzK9gFgNL"
   },
   "outputs": [],
   "source": [
    "from __future__ import unicode_literals, print_function, division\n",
    "from io import open\n",
    "import unicodedata\n",
    "import string\n",
    "import re\n",
    "import random\n",
    "\n",
    "import torch\n",
    "import torch.nn as nn\n",
    "from torch import optim\n",
    "import torch.nn.functional as F\n",
    "\n",
    "device = torch.device(\"cuda\" if torch.cuda.is_available() else \"cpu\")"
   ]
  },
  {
   "cell_type": "markdown",
   "metadata": {
    "id": "C9mPxWjgFgNM"
   },
   "source": [
    "# 1. データファイルの読み込み\n",
    "<!-- Loading data files-->\n",
    "\n",
    "このプロジェクトのデータは、何千もの英仏の翻訳対のセットです。\n",
    "<!-- The data for this project is a set of many thousands of English to French translation pairs. -->\n",
    "\n",
    "[Open Data Stack Exchange](https://opendata.stackexchange.com/questions/3888/dataset-of-sentences-translated-into-many-languages)  のこの質問は、 https://tatoeba.org/ というオープンな翻訳サイトを教えてくれました。\n",
    "さらに，言語対を個々のテキストファイルに分割するという余分な作業をしてくれた人がいます： https://www.manythings.org/anki/ \n",
    "英語とフランス語のペアは大きすぎてレポに含めることができないので，続ける前に  ``data/eng-fra.txt`` にダウンロードしてください。\n",
    "このファイルは翻訳対のタブ区切りのリストです。\n",
    "<!--\n",
    "`This question on Open Data Stack Exchange <https://opendata.stackexchange.com/questions/3888/dataset-of-sentences-translated-into-many-languages>` pointed me to the open translation site https://tatoeba.org/ which has\n",
    "downloads available at https://tatoeba.org/eng/downloads - and better yet, someone did the extra work of splitting language pairs into individual text files here: https://www.manythings.org/anki/ \n",
    "The English to French pairs are too big to include in the repo, so download to ``data/eng-fra.txt`` before continuing. \n",
    "The file is a tab separated list of translation pairs: -->\n",
    "\n",
    "\n",
    "    I am cold.    J'ai froid.\n",
    "\n",
    "### 注::\n",
    "\n",
    "データは [こちら](https://download.pytorch.org/tutorial/data.zip) からダウンロードし，カレントディレクトリに展開してください。\n",
    "<!-- Download the data from [here](https://download.pytorch.org/tutorial/data.zip) and extract it to the current directory. -->"
   ]
  },
  {
   "cell_type": "code",
   "execution_count": 52,
   "metadata": {},
   "outputs": [],
   "source": [
    "# 訳注: ダウンロードするには，このセルの下の 2 行の行頭の # をコメントアウトして，実行してください\n",
    "#!wget -O data.zip https://download.pytorch.org/tutorial/data.zip\n",
    "#!unzip data.zip"
   ]
  },
  {
   "cell_type": "markdown",
   "metadata": {
    "id": "_r3M2EQ8FgNM"
   },
   "source": [
    "文字レベルの RNN チュートリアルで使用した文字符号化と同様，ここでは，言語の各単語をワンホットベクトル，つまり 1 つの 1 (単語のインデックス) を除くゼロの巨大なベクトルとして表現します。\n",
    "1 つの言語に存在する数十個の文字に比べて，単語の数ははるかに多いので，符号化ベクトルははるかに大きくなります。\n",
    "しかし，ここでは少しズルをして 1 つの言語につき数千語しか使わないようにデータを切り詰めます。\n",
    "<!-- Similar to the character encoding used in the character-level RNN tutorials, we will be representing each word in a language as a one-hot vector, or giant vector of zeros except for a single one (at the index of the word). Compared to the dozens of characters that might exist in a language, there are many many more words, so the encoding vector is much larger. \n",
    "We will however cheat a bit and trim the data to only use a few thousand words per language. -->\n",
    "\n",
    "<center>\n",
    "<img src=\"https://pytorch.org/tutorials/_images/word-encoding.png\">\n",
    "</center>\n",
    "<!-- \n",
    ".. figure:: /_static/img/seq-seq-images/word-encoding.png\n",
    "   :alt: -->\n",
    "\n",
    "\n",
    "\n"
   ]
  },
  {
   "cell_type": "markdown",
   "metadata": {
    "id": "83BB_z6QFgNN"
   },
   "source": [
    "後でネットワークの入力とターゲットとして使うために、単語ごとにユニークなインデックスが必要になります。\n",
    "``Lang`` というヘルパークラスを使って，単語→索引 (``word2index``) と索引→単語 (``index2word``) の辞書を持ち，さらに各単語の数をカウントする ``word2count`` も持っています。\n",
    "このクラスは，単語を ID に変換 (word → index ``word2index``) と ID を単語に変換 ( index → word ``index2word``)  の辞書と，各単語の頻度 ``word2count``  を持っており，これは後で低頻度語を置き換えるために使用されます。\n",
    "\n",
    "<!-- We'll need a unique index per word to use as the inputs and targets of the networks later. To keep track of all this we will use a helper class called ``Lang`` which has word → index (``word2index``) and index → word (``index2word``) dictionaries, as well as a count of each word ``word2count`` which will be used to replace rare words later. -->\n"
   ]
  },
  {
   "cell_type": "code",
   "execution_count": 53,
   "metadata": {
    "id": "kiAK-6IxFgNN"
   },
   "outputs": [],
   "source": [
    "SOS_token = 0\n",
    "EOS_token = 1\n",
    "\n",
    "class Lang:\n",
    "    def __init__(self, name):\n",
    "        self.name = name\n",
    "        self.word2index = {}\n",
    "        self.word2count = {}\n",
    "        self.index2word = {0: \"SOS\", 1: \"EOS\"}\n",
    "        self.n_words = 2  # Count SOS and EOS\n",
    "\n",
    "    def addSentence(self, sentence):\n",
    "        for word in sentence.split(' '):\n",
    "            self.addWord(word)\n",
    "\n",
    "    def addWord(self, word):\n",
    "        if word not in self.word2index:\n",
    "            self.word2index[word] = self.n_words\n",
    "            self.word2count[word] = 1\n",
    "            self.index2word[self.n_words] = word\n",
    "            self.n_words += 1\n",
    "        else:\n",
    "            self.word2count[word] += 1"
   ]
  },
  {
   "cell_type": "markdown",
   "metadata": {
    "id": "1h1Q0kmRFgNO"
   },
   "source": [
    "ファイルはすべて Unicode で，簡略化するために，Unicode の文字を ASCII に変換し，すべて小文字にして，ほとんどの句読点を削除します。\n",
    "<!-- The files are all in Unicode, to simplify we will turn Unicode characters to ASCII, make everything lowercase, and trim most punctuation. -->\n"
   ]
  },
  {
   "cell_type": "code",
   "execution_count": 54,
   "metadata": {
    "id": "5HgBWkLoFgNO"
   },
   "outputs": [],
   "source": [
    "# Unicode の文字列を ASCII に変換 # Turn a Unicode string to plain ASCII, thanks to\n",
    "# https://stackoverflow.com/a/518232/2809427\n",
    "def unicodeToAscii(s):\n",
    "    return ''.join(\n",
    "        c for c in unicodedata.normalize('NFD', s)\n",
    "        if unicodedata.category(c) != 'Mn'\n",
    "    )\n",
    "\n",
    "# 小文字化、トリミング、非文字の削除 # Lowercase, trim, and remove non-letter characters\n",
    "def normalizeString(s):\n",
    "    s = unicodeToAscii(s.lower().strip())\n",
    "    s = re.sub(r\"([.!?])\", r\" \\1\", s)\n",
    "    s = re.sub(r\"[^a-zA-Z.!?]+\", r\" \", s)\n",
    "    return s"
   ]
  },
  {
   "cell_type": "markdown",
   "metadata": {
    "id": "f82UdnVvFgNO"
   },
   "source": [
    "データファイルを読むために，ファイルを行に分割し，さらに行を対に分割します。\n",
    "ファイルはすべて英語→その他の言語なので，その他の言語→英語に翻訳したい場合は、``reverse`` フラグを追加して、対を逆にしています。\n",
    "<!-- To read the data file we will split the file into lines, and then split lines into pairs. \n",
    "The files are all English → Other Language, so if we want to translate from Other Language → English I added the ``reverse`` flag to reverse the pairs.\n",
    "-->\n"
   ]
  },
  {
   "cell_type": "code",
   "execution_count": 55,
   "metadata": {
    "id": "yXzJLHxZFgNP"
   },
   "outputs": [],
   "source": [
    "def readLangs(lang1, lang2, reverse=False):\n",
    "    print(\"Reading lines...\")\n",
    "\n",
    "    # Read the file and split into lines\n",
    "    lines = open('data/%s-%s.txt' % (lang1, lang2), encoding='utf-8').read().strip().split('\\n')\n",
    "\n",
    "    # Split every line into pairs and normalize\n",
    "    pairs = [[normalizeString(s) for s in l.split('\\t')] for l in lines]\n",
    "\n",
    "    # Reverse pairs, make Lang instances\n",
    "    if reverse:\n",
    "        pairs = [list(reversed(p)) for p in pairs]\n",
    "        input_lang = Lang(lang2)\n",
    "        output_lang = Lang(lang1)\n",
    "    else:\n",
    "        input_lang = Lang(lang1)\n",
    "        output_lang = Lang(lang2)\n",
    "\n",
    "    return input_lang, output_lang, pairs"
   ]
  },
  {
   "cell_type": "code",
   "execution_count": 56,
   "metadata": {},
   "outputs": [],
   "source": [
    "#readLangs('eng', 'fra')"
   ]
  },
  {
   "cell_type": "markdown",
   "metadata": {
    "id": "taWaEUu2FgNP"
   },
   "source": [
    "たくさんの例文があり，すぐに訓練を行いたいので，データセットを比較的短くて単純な文だけに絞り込みます。\n",
    "ここでは，最大の文長は 10 語 (最後の句読点を含む) とし，I am や He is などの形に変換される文にフィルタリングします (以前に置き換えられたアポストロフィを考慮して)。\n",
    "<!-- Since there are a *lot* of example sentences and we want to train something quickly, we'll trim the data set to only relatively short and simple sentences. \n",
    "Here the maximum length is 10 words (that includes ending punctuation) and we're filtering to sentences that translate to the form \"I am\" or \"He is\" etc. (accounting for apostrophes replaced earlier).\n",
    "-->\n"
   ]
  },
  {
   "cell_type": "code",
   "execution_count": 57,
   "metadata": {
    "id": "T-6ouYYVFgNP"
   },
   "outputs": [],
   "source": [
    "MAX_LENGTH = 10\n",
    "\n",
    "eng_prefixes = (\n",
    "    \"i am \", \"i m \",\n",
    "    \"he is\", \"he s \",\n",
    "    \"she is\", \"she s \",\n",
    "    \"you are\", \"you re \",\n",
    "    \"we are\", \"we re \",\n",
    "    \"they are\", \"they re \"\n",
    ")\n",
    "\n",
    "\n",
    "def filterPair(p):\n",
    "    return len(p[0].split(' ')) < MAX_LENGTH and len(p[1].split(' ')) < MAX_LENGTH and p[1].startswith(eng_prefixes)\n",
    "\n",
    "\n",
    "def filterPairs(pairs):\n",
    "    return [pair for pair in pairs if filterPair(pair)]"
   ]
  },
  {
   "cell_type": "markdown",
   "metadata": {
    "id": "TDI-SkAHFgNQ"
   },
   "source": [
    "データ作成の全工程は\n",
    "<!-- The full process for preparing the data is: -->\n",
    "\n",
    "- テキストファイルを読み込んで行単位に分割，行をペアに分割\n",
    "- テキストを正規化し、長さと内容でフィルタリング\n",
    "- 文章をペアにして単語リストを作成\n",
    "\n",
    "<!--\n",
    "-  Read text file and split into lines, split lines into pairs\n",
    "-  Normalize text, filter by length and content\n",
    "-  Make word lists from sentences in pairs\n",
    "-->\n"
   ]
  },
  {
   "cell_type": "code",
   "execution_count": 58,
   "metadata": {
    "id": "huQgZO8kFgNQ"
   },
   "outputs": [
    {
     "name": "stdout",
     "output_type": "stream",
     "text": [
      "Reading lines...\n",
      "Read 135842 sentence pairs\n",
      "Trimmed to 10599 sentence pairs\n",
      "Counting words...\n",
      "Counted words:\n",
      "fra 4345\n",
      "eng 2803\n",
      "['il est a l eglise en ce moment .', 'he s at church right now .']\n"
     ]
    }
   ],
   "source": [
    "def prepareData(lang1, lang2, reverse=False):\n",
    "    input_lang, output_lang, pairs = readLangs(lang1, lang2, reverse)\n",
    "    print(\"Read %s sentence pairs\" % len(pairs))\n",
    "    pairs = filterPairs(pairs)\n",
    "    print(\"Trimmed to %s sentence pairs\" % len(pairs))\n",
    "    print(\"Counting words...\")\n",
    "    for pair in pairs:\n",
    "        input_lang.addSentence(pair[0])\n",
    "        output_lang.addSentence(pair[1])\n",
    "    print(\"Counted words:\")\n",
    "    print(input_lang.name, input_lang.n_words)\n",
    "    print(output_lang.name, output_lang.n_words)\n",
    "    return input_lang, output_lang, pairs\n",
    "\n",
    "\n",
    "input_lang, output_lang, pairs = prepareData('eng', 'fra', True)\n",
    "print(random.choice(pairs))"
   ]
  },
  {
   "cell_type": "code",
   "execution_count": 59,
   "metadata": {},
   "outputs": [
    {
     "data": {
      "text/plain": [
       "[['j ai ans .', 'i m .'],\n",
       " ['je vais bien .', 'i m ok .'],\n",
       " ['ca va .', 'i m ok .']]"
      ]
     },
     "execution_count": 59,
     "metadata": {},
     "output_type": "execute_result"
    }
   ],
   "source": [
    "pairs[:3]"
   ]
  },
  {
   "cell_type": "markdown",
   "metadata": {
    "id": "CqCSsOyoFgNQ"
   },
   "source": [
    "# 2. Seq2Seqモデル\n",
    "<!-- The Seq2Seq Model \n",
    "================= -->\n",
    "\n",
    "Recurrent Neural Network (RNN) は，系列を操作し，自分の出力を後続のステップの入力として使用するネットワークです。\n",
    "<!-- A Recurrent Neural Network, or RNN, is a network that operates on a sequence and uses its own output as input for subsequent steps. -->\n",
    "\n",
    "[Sequence to Sequence network](https://arxiv.org/abs/1409.3215),  すなわち  seq2seq ネットワーク，または，[エンコーダ・デコーダネットワーク](https://arxiv.org/pdf/1406.1078v3.pdf)  は，符号化器と復号化器と呼ばれる 2 つの RNN からなるモデルです。\n",
    "符号化器は入力配列を読み込んで 1 つのベクトルを出力し，復号化器はそのベクトルを読み込んで出力配列を生成します。\n",
    "<!-- A `Sequence to Sequence network <https://arxiv.org/abs/1409.3215>`__, or seq2seq network, or `Encoder Decoder network <https://arxiv.org/pdf/1406.1078v3.pdf>`__, is a model consisting of two RNNs called the encoder and decoder. The encoder reads an input sequence and outputs a single vector, and the decoder reads that vector to produce an output sequence. -->\n",
    "\n",
    "<center>\n",
    "<img src=\"https://pytorch.org/tutorials/_images/seq2seq.png\">\n",
    "</center>\n",
    "<!-- \n",
    ".. figure:: /_static/img/seq-seq-images/seq2seq.png\n",
    " :alt: -->\n",
    " \n",
    "すべての入力が出力に対応する単一の RNN による配列予測とは異なり，seq2seq モデルでは，配列の長さや順序から解放されるため，2 つの言語間の翻訳に最適です。\n",
    "<!-- Unlike sequence prediction with a single RNN, where every input corresponds to an output, the seq2seq model frees us from sequence length and order, which makes it ideal for translation between two languages. -->\n",
    "\n",
    "Je ne suis pas le chat noir →「私は黒猫ではない，という文を考えてみましょう。\n",
    "入力文のほとんどの単語は出力文で直訳されていますが，例えば chat noir と black cat のように，順序が少しずつ異なっています。\n",
    "また、 ne/pas 構文のため，入力文にはもう一つの単語があります。\n",
    "このように，入力された単語の並びから直接正しい翻訳を行うことは困難です。\n",
    "<!-- Consider the sentence \"Je ne suis pas le chat noir\" → \"I am not the black cat\". Most of the words in the input sentence have a direct translation in the output sentence, but are in slightly different orders, e.g. \"chat noir\" and \"black cat\". Because of the \"ne/pas\" construction there is also one more word in the input sentence. It would be difficult to produce a correct translation directly from the sequence of input words. -->\n",
    "\n",
    "seq2seq モデルでは，符号化器 は 1 つのベクトルを作成し，理想的なケースでは，入力系列の「意味」を 1 つのベクトル，つまり文の N 次元空間の 1 つの点に符号化します。\n",
    "<!-- With a seq2seq model the encoder creates a single vector which, in the ideal case, encodes the \"meaning\" of the input sequence into a single vector — a single point in some N dimensional space of sentences. -->\n",
    "\n",
    "\n"
   ]
  },
  {
   "cell_type": "markdown",
   "metadata": {
    "id": "UegKcyPtFgNQ"
   },
   "source": [
    "## 2.1 符号化器 (エンコーダ)\n",
    "<!-- The Encoder\n",
    "---------- -->\n",
    "\n",
    "seq2seq ネットワークの符号化器 (エンコーダ) は，入力文の各単語に対して何らかの値を出力する RNN です。\n",
    "符号化器 (エンコーダ) は，入力された単語ごとに，ベクトルと隠れ層状態を出力し，隠れ層の状態を次の時刻の入力単語に使用します。\n",
    "<!-- The encoder of a seq2seq network is a RNN that outputs some value for every word from the input sentence. For every input word the encoder outputs a vector and a hidden state, and uses the hidden state for the next input word. -->\n",
    "\n",
    "<center>\n",
    "<img src=\"https://pytorch.org/tutorials/_images/encoder-network.png\">\n",
    "</center>\n",
    "<!-- \n",
    ".. figure:: /_static/img/seq-seq-images/encoder-network.png\n",
    "   :alt: -->\n",
    "\n",
    "\n",
    "\n"
   ]
  },
  {
   "cell_type": "code",
   "execution_count": null,
   "metadata": {
    "colab": {
     "base_uri": "https://localhost:8080/",
     "height": 235
    },
    "id": "BfZOUVIGFgNQ",
    "outputId": "52aa7fc8-dc4b-40a0-f2ad-ec8eaba0be44"
   },
   "outputs": [],
   "source": [
    "class EncoderRNN(nn.Module):\n",
    "    def __init__(self, input_size, hidden_size):\n",
    "        super(EncoderRNN, self).__init__()\n",
    "        self.hidden_size = hidden_size\n",
    "\n",
    "        self.embedding = nn.Embedding(input_size, hidden_size)\n",
    "        self.gru = nn.GRU(hidden_size, hidden_size)\n",
    "\n",
    "    def forward(self, input, hidden):\n",
    "        embedded = self.embedding(input).view(1, 1, -1)\n",
    "        output = embedded\n",
    "        output, hidden = self.gru(output, hidden)\n",
    "        return output, hidden\n",
    "\n",
    "    def initHidden(self):\n",
    "        return torch.zeros(1, 1, self.hidden_size, device=device)"
   ]
  },
  {
   "cell_type": "markdown",
   "metadata": {
    "id": "dAqZwmNlFgNR"
   },
   "source": [
    "## 2.2 複合化器 (デコーダ)\n",
    "<!-- The Decoder \n",
    "----------- -->\n",
    "\n",
    "複合化器 (デコーダ) は，符号化器の出力ベクトルを受け取り，翻訳を作成するための一連の単語を出力する別の RNN です。\n",
    "<!--\n",
    "The decoder is another RNN that takes the encoder output vector(s) and outputs a sequence of words to create the translation. -->\n",
    "\n"
   ]
  },
  {
   "cell_type": "markdown",
   "metadata": {
    "id": "GOg45rY7FgNR"
   },
   "source": [
    "## 2.3 簡単な符号化器\n",
    "<!-- ### Simple Decoder -->\n",
    "\n",
    "最も単純な seq2seq 符号化器では，符号化器の最後の出力のみを使用します。\n",
    "この最後の出力は，系列全体の文脈を符号化しているので，**文脈ベクトル** と呼ばれることもあります。\n",
    "この文脈ベクトルは，複合化器の初期隠れ状態として使われます。\n",
    "<!--\n",
    "In the simplest seq2seq decoder we use only last output of the encoder. \n",
    "This last output is sometimes called the *context vector* as it encodes context from the entire sequence. \n",
    "This context vector is used as the initial hidden state of the decoder. -->\n",
    "\n",
    "複合化の各段階で，複合化器には入力トークンと隠れ状態が与えられます。\n",
    "最初の入力トークンは，文字列の先頭の ``<SOS>`` トークンで，最初の隠れた状態は，文脈ベクトル (符号化器の最後の隠れ層状態) です。\n",
    "<!-- \n",
    "At every step of decoding, the decoder is given an input token and hidden state. The initial input token is the start-of-string ``<SOS>`` token, and the first hidden state is the context vector (the encoder's last hidden state). -->\n",
    "\n",
    "\n",
    "<center>\n",
    "<img src=\"https://pytorch.org/tutorials/_images/decoder-network.png\">\n",
    "</center>\n",
    "<!-- .. figure:: /_static/img/seq-seq-images/decoder-network.png\n",
    "   :alt: -->\n",
    "\n",
    "\n",
    "\n"
   ]
  },
  {
   "cell_type": "code",
   "execution_count": null,
   "metadata": {
    "id": "xlyYqS9NFgNR"
   },
   "outputs": [],
   "source": [
    "class DecoderRNN(nn.Module):\n",
    "    def __init__(self, hidden_size, output_size):\n",
    "        super(DecoderRNN, self).__init__()\n",
    "        self.hidden_size = hidden_size\n",
    "\n",
    "        self.embedding = nn.Embedding(output_size, hidden_size)\n",
    "        self.gru = nn.GRU(hidden_size, hidden_size)\n",
    "        self.out = nn.Linear(hidden_size, output_size)\n",
    "        self.softmax = nn.LogSoftmax(dim=1)\n",
    "\n",
    "    def forward(self, input, hidden):\n",
    "        output = self.embedding(input).view(1, 1, -1)\n",
    "        output = F.relu(output)\n",
    "        output, hidden = self.gru(output, hidden)\n",
    "        output = self.softmax(self.out(output[0]))\n",
    "        return output, hidden\n",
    "\n",
    "    def initHidden(self):\n",
    "        return torch.zeros(1, 1, self.hidden_size, device=device)"
   ]
  },
  {
   "cell_type": "markdown",
   "metadata": {
    "id": "io7L4ulPFgNR"
   },
   "source": [
    "このモデルを使って訓練を行い，その結果を観察することをお勧めしますが，スペースを節約するために，今回はストレートに「注意機構」を紹介します。\n",
    "<!-- I encourage you to train and observe the results of this model, but to save space we'll be going straight for the gold and introducing the Attention Mechanism. -->\n",
    "\n",
    "\n"
   ]
  },
  {
   "cell_type": "markdown",
   "metadata": {
    "id": "RmyfM5f_FgNR"
   },
   "source": [
    "## 2.4 注意つき符号化器\n",
    "<!-- Attention Decoder\n",
    "^^^^^^^^^^^^^^^^^ -->\n",
    "\n",
    "符号化器と複合化器との間で文脈ベクトルだけが渡されると，その 1 つのベクトルが文全体の符号化を担うことになりまする。\n",
    "<!-- If only the context vector is passed between the encoder and decoder, that single vector carries the burden of encoding the entire sentence. -->\n",
    "\n",
    "注意は，復号化ネットワークが，複合化器自身の出力の各ステップごとに，符号化器の出力の異なる部分に「焦点を合せる」することを可能にします。\n",
    "まず，一連の *注意重み* を計算します。\n",
    "この重みを符号化器の出力ベクトルに掛け合わせて，重み付きの組み合わせを作ります。\n",
    "この結果 (コードでは ``attn_applied`` と呼ばれています) には，入力系列の特定の部分に関する情報が含まれており，複合化器が正しい出力語を選択するのに役立つはずです。\n",
    "<!-- Attention allows the decoder network to \"focus\" on a different part of the encoder's outputs for every step of the decoder's own outputs. \n",
    "First we calculate a set of *attention weights*. These will be multiplied by the encoder output vectors to create a weighted combination. \n",
    "The result (called ``attn_applied`` in the code) should contain information about that specific part of the input sequence, and thus help the decoder choose the right output words. -->\n",
    "\n",
    "<center>\n",
    "<img src=\"https://i.imgur.com/1152PYf.png\">\n",
    "</center>\n",
    "<!-- \n",
    ".. figure:: https://i.imgur.com/1152PYf.png\n",
    "   :alt: -->\n",
    "\n",
    "注意の重みの計算は，復号化器の入力と隠れ状態を入力として，別のフィードフォワード層 ``attn`` で行います。\n",
    "学習データにはあらゆるサイズの文が含まれているので，この層を実際に作成して学習するには，この層が適用できる最大の文の長さ (符号化器の出力に対する入力の長さ) を選択する必要があります。\n",
    "最大の長さの文では，すべての注意重みを使用しますが，短い文では最初のいくつかの重みしか使用しません。\n",
    "<!-- Calculating the attention weights is done with another feed-forward layer ``attn``, using the decoder's input and hidden state as inputs.\n",
    "Because there are sentences of all sizes in the training data, to actually create and train this layer we have to choose a maximum sentence length (input length, for encoder outputs) that it can apply to. Sentences of the maximum length will use all the attention weights, while shorter sentences will only use the first few. -->\n",
    "\n",
    "<center>\n",
    "<img src=\"https://pytorch.org/tutorials/_images/attention-decoder-network.png\"\n",
    "</center>\n",
    "<!-- \n",
    ".. figure:: /_static/img/seq-seq-images/attention-decoder-network.png\n",
    "   :alt: -->\n",
    "\n",
    "\n",
    "\n"
   ]
  },
  {
   "cell_type": "code",
   "execution_count": null,
   "metadata": {
    "colab": {
     "base_uri": "https://localhost:8080/",
     "height": 235
    },
    "id": "BiWeTJSrFgNS",
    "outputId": "065fde01-de42-41cc-fef5-89ccd7edc922"
   },
   "outputs": [],
   "source": [
    "class AttnDecoderRNN(nn.Module):\n",
    "    def __init__(self, hidden_size, output_size, dropout_p=0.1, max_length=MAX_LENGTH):\n",
    "        super(AttnDecoderRNN, self).__init__()\n",
    "        self.hidden_size = hidden_size\n",
    "        self.output_size = output_size\n",
    "        self.dropout_p = dropout_p\n",
    "        self.max_length = max_length\n",
    "\n",
    "        self.embedding = nn.Embedding(self.output_size, self.hidden_size)\n",
    "        self.attn = nn.Linear(self.hidden_size * 2, self.max_length)\n",
    "        self.attn_combine = nn.Linear(self.hidden_size * 2, self.hidden_size)\n",
    "        self.dropout = nn.Dropout(self.dropout_p)\n",
    "        self.gru = nn.GRU(self.hidden_size, self.hidden_size)\n",
    "        self.out = nn.Linear(self.hidden_size, self.output_size)\n",
    "\n",
    "    def forward(self, input, hidden, encoder_outputs):\n",
    "        embedded = self.embedding(input).view(1, 1, -1)\n",
    "        embedded = self.dropout(embedded)\n",
    "\n",
    "        attn_weights = F.softmax(\n",
    "            self.attn(torch.cat((embedded[0], hidden[0]), 1)), dim=1)\n",
    "        attn_applied = torch.bmm(attn_weights.unsqueeze(0),\n",
    "                                 encoder_outputs.unsqueeze(0))\n",
    "\n",
    "        output = torch.cat((embedded[0], attn_applied[0]), 1)\n",
    "        output = self.attn_combine(output).unsqueeze(0)\n",
    "\n",
    "        output = F.relu(output)\n",
    "        output, hidden = self.gru(output, hidden)\n",
    "\n",
    "        output = F.log_softmax(self.out(output[0]), dim=1)\n",
    "        return output, hidden, attn_weights\n",
    "\n",
    "    def initHidden(self):\n",
    "        return torch.zeros(1, 1, self.hidden_size, device=device)"
   ]
  },
  {
   "cell_type": "markdown",
   "metadata": {
    "id": "AESA6Hb7FgNS"
   },
   "source": [
    "<div class=\"alert alert-info\">\n",
    "<h4>注</h4><p>\n",
    "\n",
    "長さの制限を回避するために，相対的な位置関係を利用した注意の形態もあります。\n",
    "[Effective Approaches to Attention-based Neural Machine Translation](https://arxiv.org/abs/1508.04025)  では 局所的注意について書かれています。\n",
    "<!-- There are other forms of attention that work around the length limitation by using a relative position approach. \n",
    "Read about \"local attention\" in `Effective Approaches to Attention-based Neural Machine Translation <https://arxiv.org/abs/1508.04025>`. -->\n",
    "</p></div>\n",
    "\n",
    "# 3. 訓練\n",
    "\n",
    "<!-- Training\n",
    "======== -->\n",
    "\n",
    "## 3.1 訓練データの準備\n",
    "-----------------------\n",
    "<!-- Preparing Training Data\n",
    "----------------------- -->\n",
    "\n",
    "学習のためには，各対に対して，入力テンソル (入力文中の単語のインデックス) とターゲットテンソル (ターゲット文中の単語のインデックス) が必要になります。\n",
    "これらのベクトルを作成する際に，EOS トークン を両方の系列に追加します。\n",
    "<!--\n",
    "To train, for each pair we will need an input tensor (indexes of the words in the input sentence) and target tensor (indexes of the words in the target sentence). \n",
    "While creating these vectors we will append the EOS token to both sequences.-->\n"
   ]
  },
  {
   "cell_type": "code",
   "execution_count": null,
   "metadata": {
    "id": "xlbcdyA1FgNS"
   },
   "outputs": [],
   "source": [
    "def indexesFromSentence(lang, sentence):\n",
    "    return [lang.word2index[word] for word in sentence.split(' ')]\n",
    "\n",
    "\n",
    "def tensorFromSentence(lang, sentence):\n",
    "    indexes = indexesFromSentence(lang, sentence)\n",
    "    indexes.append(EOS_token)\n",
    "    return torch.tensor(indexes, dtype=torch.long, device=device).view(-1, 1)\n",
    "\n",
    "\n",
    "def tensorsFromPair(pair):\n",
    "    input_tensor = tensorFromSentence(input_lang, pair[0])\n",
    "    target_tensor = tensorFromSentence(output_lang, pair[1])\n",
    "    return (input_tensor, target_tensor)"
   ]
  },
  {
   "cell_type": "markdown",
   "metadata": {
    "id": "WxlHSm-dFgNS"
   },
   "source": [
    "## 3.2 モデルの訓練\n",
    "<!-- Training the Model\n",
    "------------------ -->\n",
    "\n",
    "学習のために，入力文を符号化器に通し，すべての出力と最新の隠れ状態を記録します。\n",
    "そして，復号化器には，最初の入力として ``<SOS>`` トークンが与えられ，最初の隠れ状態として符号化器の最後の隠れ状態が与えられます。\n",
    "<!-- To train we run the input sentence through the encoder, and keep track of every output and the latest hidden state. \n",
    "Then the decoder is given the ``<SOS>`` token as its first input, and the last hidden state of the encoder as its first hidden state. -->\n",
    "\n",
    "**教師強制 Teacher forcing**  とは，復号化器の推測を次の入力として使うのではなく，実際の目標出力をそれぞれの次の入力として使うという概念です。\n",
    "教師強制を使うと，収束が早くなりますが，[学習したネットワークを利用すると、不安定になることがあります] (http://citeseerx.ist.psu.edu/viewdoc/download?doi=10.1.1.378.4095&rep=rep1&type=pdf) 。\n",
    "<!-- \"Teacher forcing\" is the concept of using the real target outputs as each next input, instead of using the decoder's guess as the next input. \n",
    "Using teacher forcing causes it to converge faster but `when the trained network is exploited, it may exhibit instability <http://citeseerx.ist.psu.edu/viewdoc/download?doi=10.1.1.378.4095&rep=rep1&type=pdf>`__. -->\n",
    "\n",
    "直感的には，出力された文法を表現することを学習し，教師が最初の数語を教えれば意味を「拾う」ことができますが，そもそも翻訳から文を作る方法を適切に学習していないのです。\n",
    "<!-- You can observe outputs of teacher-forced networks that read with coherent grammar but wander far from the correct translation - intuitively it has learned to represent the output grammar and can \"pick up\" the meaning once the teacher tells it the first few words, but it has not properly learned how to create the sentence from the translation  in the first place. -->\n",
    "\n",
    "PyTorch の autograd は自由度が高いので，単純な if 文で教師の強制を使うかどうかをランダムに選ぶことができます。\n",
    "``Teacher_forcing_ratio`` を上げれば、より多くの強制力を使うことができます。\n",
    "<!-- Because of the freedom PyTorch's autograd gives us, we can randomly choose to use teacher forcing or not with a simple if statement. \n",
    "Turn ``teacher_forcing_ratio`` up to use more of it. -->\n"
   ]
  },
  {
   "cell_type": "code",
   "execution_count": null,
   "metadata": {
    "id": "Y3Ei36TxFgNS"
   },
   "outputs": [],
   "source": [
    "teacher_forcing_ratio = 0.5  # 訳注：教師強制率。文献によっては，訓練中にこの値を徐々に減衰させることも行われます\n",
    "\n",
    "def train(input_tensor, target_tensor, encoder, decoder, encoder_optimizer, decoder_optimizer, criterion, max_length=MAX_LENGTH):\n",
    "    encoder_hidden = encoder.initHidden()\n",
    "\n",
    "    encoder_optimizer.zero_grad()\n",
    "    decoder_optimizer.zero_grad()\n",
    "\n",
    "    input_length = input_tensor.size(0)\n",
    "    target_length = target_tensor.size(0)\n",
    "\n",
    "    encoder_outputs = torch.zeros(max_length, encoder.hidden_size, device=device)\n",
    "\n",
    "    loss = 0\n",
    "\n",
    "    for ei in range(input_length):\n",
    "        encoder_output, encoder_hidden = encoder(\n",
    "            input_tensor[ei], encoder_hidden)\n",
    "        encoder_outputs[ei] = encoder_output[0, 0]\n",
    "\n",
    "    decoder_input = torch.tensor([[SOS_token]], device=device)\n",
    "\n",
    "    decoder_hidden = encoder_hidden\n",
    "\n",
    "    use_teacher_forcing = True if random.random() < teacher_forcing_ratio else False\n",
    "\n",
    "    if use_teacher_forcing:\n",
    "        # Teacher forcing: Feed the target as the next input\n",
    "        for di in range(target_length):\n",
    "            decoder_output, decoder_hidden, decoder_attention = decoder(\n",
    "                decoder_input, decoder_hidden, encoder_outputs)\n",
    "            loss += criterion(decoder_output, target_tensor[di])\n",
    "            decoder_input = target_tensor[di]  # Teacher forcing\n",
    "\n",
    "    else:\n",
    "        # Without teacher forcing: use its own predictions as the next input\n",
    "        for di in range(target_length):\n",
    "            decoder_output, decoder_hidden, decoder_attention = decoder(\n",
    "                decoder_input, decoder_hidden, encoder_outputs)\n",
    "            topv, topi = decoder_output.topk(1)\n",
    "            decoder_input = topi.squeeze().detach()  # detach from history as input\n",
    "\n",
    "            loss += criterion(decoder_output, target_tensor[di])\n",
    "            if decoder_input.item() == EOS_token:\n",
    "                break\n",
    "\n",
    "    loss.backward()\n",
    "\n",
    "    encoder_optimizer.step()\n",
    "    decoder_optimizer.step()\n",
    "\n",
    "    return loss.item() / target_length"
   ]
  },
  {
   "cell_type": "markdown",
   "metadata": {
    "id": "Ue8KptBZFgNT"
   },
   "source": [
    "以下は，現在の時刻と進行状況から，経過時間と残り時間の推定値を表示するヘルパー関数です。\n",
    "<!-- This is a helper function to print time elapsed and estimated time remaining given the current time and progress %.-->\n"
   ]
  },
  {
   "cell_type": "code",
   "execution_count": null,
   "metadata": {
    "id": "Y1kDrL88FgNT"
   },
   "outputs": [],
   "source": [
    "import time\n",
    "import math\n",
    "\n",
    "def asMinutes(s):\n",
    "    m = math.floor(s / 60)\n",
    "    s -= m * 60\n",
    "    return '%dm %ds' % (m, s)\n",
    "\n",
    "\n",
    "def timeSince(since, percent):\n",
    "    now = time.time()\n",
    "    s = now - since\n",
    "    es = s / (percent)\n",
    "    rs = es - s\n",
    "    return '%s (- %s)' % (asMinutes(s), asMinutes(rs))"
   ]
  },
  {
   "cell_type": "markdown",
   "metadata": {
    "id": "X_dCMjHgFgNT"
   },
   "source": [
    "訓練の全体像は以下のようになっています。\n",
    "<!-- The whole training process looks like this:-->\n",
    "\n",
    "- タイマーの起動\n",
    "- 最適化関数と収束基準の初期化\n",
    "- 訓練対の作成\n",
    "- プロット用の空の損失配列を作成\n",
    "\n",
    "<!-- -  Start a timer\n",
    "-  Initialize optimizers and criterion\n",
    "-  Create set of training pairs\n",
    "-  Start empty losses array for plotting -->\n",
    "\n",
    "そして  ``train`` を何度も呼び出し，時々，進捗状況 (例の割合，これまでの時間，推定時間) と平均損失を表示します。\n",
    "<!--\n",
    "Then we call ``train`` many times and occasionally print the progress (% of examples, time so far, estimated time) and average loss.\n",
    "-->"
   ]
  },
  {
   "cell_type": "code",
   "execution_count": null,
   "metadata": {
    "id": "KjkrZcXFFgNT"
   },
   "outputs": [],
   "source": [
    "# 訳注：一般には，`fit()` あるいは `train()` などと命名される関数，訓練を n_iters だけ繰り返す\n",
    "def trainIters(encoder, decoder, n_iters, print_every=1000, plot_every=100, learning_rate=0.01):\n",
    "    start = time.time()\n",
    "    plot_losses = []\n",
    "    print_loss_total = 0  # Reset every print_every\n",
    "    plot_loss_total = 0  # Reset every plot_every\n",
    "\n",
    "    encoder_optimizer = optim.SGD(encoder.parameters(), lr=learning_rate)\n",
    "    decoder_optimizer = optim.SGD(decoder.parameters(), lr=learning_rate)\n",
    "    training_pairs = [tensorsFromPair(random.choice(pairs))\n",
    "                      for i in range(n_iters)]\n",
    "    criterion = nn.NLLLoss()\n",
    "\n",
    "    for iter in range(1, n_iters + 1):\n",
    "        training_pair = training_pairs[iter - 1]\n",
    "        input_tensor = training_pair[0]\n",
    "        target_tensor = training_pair[1]\n",
    "\n",
    "        loss = train(input_tensor, target_tensor, encoder,\n",
    "                     decoder, encoder_optimizer, decoder_optimizer, criterion)\n",
    "        print_loss_total += loss\n",
    "        plot_loss_total += loss\n",
    "\n",
    "        if iter % print_every == 0:\n",
    "            print_loss_avg = print_loss_total / print_every\n",
    "            print_loss_total = 0\n",
    "            print('%s (%d %d%%) %.4f' % (timeSince(start, iter / n_iters),\n",
    "                                         iter, iter / n_iters * 100, print_loss_avg))\n",
    "\n",
    "        if iter % plot_every == 0:\n",
    "            plot_loss_avg = plot_loss_total / plot_every\n",
    "            plot_losses.append(plot_loss_avg)\n",
    "            plot_loss_total = 0\n",
    "\n",
    "    showPlot(plot_losses)"
   ]
  },
  {
   "cell_type": "markdown",
   "metadata": {
    "id": "jE-pr5oaFgNT"
   },
   "source": [
    "## 3.3 結果のプロット\n",
    "<!-- Plotting results\n",
    "------------------>\n",
    "\n",
    "プロットには matplotlib を使用し，訓練中に保存された損失値の配列  ``plot_losses``  を使用します。\n",
    "<!--\n",
    "Plotting is done with matplotlib, using the array of loss values ``plot_losses`` saved while training.\n",
    "-->"
   ]
  },
  {
   "cell_type": "code",
   "execution_count": null,
   "metadata": {
    "id": "TLmCM5pPFgNT"
   },
   "outputs": [],
   "source": [
    "import matplotlib.pyplot as plt\n",
    "#backend が 'agg' だと動作しない場合があるのでコメントアウト\n",
    "#plt.switch_backend('agg')\n",
    "import matplotlib.ticker as ticker\n",
    "import numpy as np\n",
    "\n",
    "def showPlot(points):\n",
    "    plt.figure()\n",
    "    fig, ax = plt.subplots()\n",
    "    # this locator puts ticks at regular intervals\n",
    "    loc = ticker.MultipleLocator(base=0.2)\n",
    "    ax.yaxis.set_major_locator(loc)\n",
    "    plt.plot(points)"
   ]
  },
  {
   "cell_type": "code",
   "execution_count": null,
   "metadata": {},
   "outputs": [],
   "source": [
    "#help(plt.switch_backend)"
   ]
  },
  {
   "cell_type": "markdown",
   "metadata": {
    "id": "84FOsLDhFgNT"
   },
   "source": [
    "# 4. 評価\n",
    "<!-- Evaluation\n",
    "========== -->\n",
    "\n",
    "評価は訓練とほぼ同じですが，ターゲットがないので，各ステップで復号化器の予測値を自分自身にフィードバックするだけです。\n",
    "単語を予測するたびに，その単語を出力文字列に追加し，EOS トークンを予測した場合はそこで止めます。\n",
    "また，復号化器の注意の出力を保存し，後で表示できるようにしています。\n",
    "<!--\n",
    "Evaluation is mostly the same as training, but there are no targets so we simply feed the decoder's predictions back to itself for each step.\n",
    "Every time it predicts a word we add it to the output string, and if it predicts the EOS token we stop there. \n",
    "We also store the decoder's attention outputs for display later.\n",
    "-->"
   ]
  },
  {
   "cell_type": "code",
   "execution_count": null,
   "metadata": {
    "id": "2vll3LruFgNT"
   },
   "outputs": [],
   "source": [
    "def evaluate(encoder, decoder, sentence, max_length=MAX_LENGTH):\n",
    "    with torch.no_grad():\n",
    "        input_tensor = tensorFromSentence(input_lang, sentence)\n",
    "        input_length = input_tensor.size()[0]\n",
    "        encoder_hidden = encoder.initHidden()\n",
    "\n",
    "        encoder_outputs = torch.zeros(max_length, encoder.hidden_size, device=device)\n",
    "\n",
    "        for ei in range(input_length):\n",
    "            encoder_output, encoder_hidden = encoder(input_tensor[ei],\n",
    "                                                     encoder_hidden)\n",
    "            encoder_outputs[ei] += encoder_output[0, 0]\n",
    "\n",
    "        decoder_input = torch.tensor([[SOS_token]], device=device)  # SOS\n",
    "\n",
    "        decoder_hidden = encoder_hidden\n",
    "\n",
    "        decoded_words = []\n",
    "        decoder_attentions = torch.zeros(max_length, max_length)\n",
    "\n",
    "        for di in range(max_length):\n",
    "            decoder_output, decoder_hidden, decoder_attention = decoder(\n",
    "                decoder_input, decoder_hidden, encoder_outputs)\n",
    "            decoder_attentions[di] = decoder_attention.data\n",
    "            topv, topi = decoder_output.data.topk(1)\n",
    "            if topi.item() == EOS_token:\n",
    "                decoded_words.append('<EOS>')\n",
    "                break\n",
    "            else:\n",
    "                decoded_words.append(output_lang.index2word[topi.item()])\n",
    "\n",
    "            decoder_input = topi.squeeze().detach()\n",
    "\n",
    "        return decoded_words, decoder_attentions[:di + 1]"
   ]
  },
  {
   "cell_type": "markdown",
   "metadata": {
    "id": "L79e51qLFgNU"
   },
   "source": [
    "訓練セットからランダムな文章を評価し，入力，ターゲット，出力をプリントアウトすることで，主観的な品質判断を行うことができます。\n",
    "<!-- We can evaluate random sentences from the training set and print out the input, target, and output to make some subjective quality judgements:\n",
    "-->"
   ]
  },
  {
   "cell_type": "code",
   "execution_count": null,
   "metadata": {
    "id": "m4ITVcGCFgNU"
   },
   "outputs": [],
   "source": [
    "def evaluateRandomly(encoder, decoder, n=10):\n",
    "    for i in range(n):\n",
    "        pair = random.choice(pairs)\n",
    "        print('>', pair[0])\n",
    "        print('=', pair[1])\n",
    "        output_words, attentions = evaluate(encoder, decoder, pair[0])\n",
    "        output_sentence = ' '.join(output_words)\n",
    "        print('<', output_sentence)\n",
    "        print('')"
   ]
  },
  {
   "cell_type": "markdown",
   "metadata": {
    "id": "N0agCMjHFgNU"
   },
   "source": [
    "# 5. 訓練と評価\n",
    "<!-- Training and Evaluating\n",
    "=======================  -->\n",
    "\n",
    "これらのヘルパー関数が揃ったところで (余計なことをしているように見えますが，複数の実験を簡単に行うことができます)，実際にネットワークを初期化して訓練を開始します。\n",
    "<!-- With all these helper functions in place (it looks like extra work, but it makes it easier to run multiple experiments) we can actually initialize a network and start training. -->\n",
    "\n",
    "入力文は大きくフィルタリングされていることを覚えておいてください。\n",
    "この小さなデータセットでは，256 の隠れノードと 1 つの GRU 層 という，比較的小さなネットワークを使うことができます。\n",
    "MacBook の CPU で約 40 分後，妥当な結果が得られます。\n",
    "<!-- Remember that the input sentences were heavily filtered. For this small dataset we can use relatively small networks of 256 hidden nodes and a single GRU layer. \n",
    "After about 40 minutes on a MacBook CPU we'll get some reasonable results. -->\n",
    "\n",
    "注：\n",
    "   このノートブックを実行すると，訓練を行い，カーネルを中断し，評価を行い，後で訓練を続けることができます。\n",
    "符号化器と復号化器を初期化している行をコメントアウトして，再度  ``trainIters`` を実行してください．\n",
    "<!--\n",
    ".. Note::\n",
    "   If you run this notebook you can train, interrupt the kernel, evaluate, and continue training later. Comment out the lines where the encoder and decoder are initialized and run ``trainIters`` again.\n",
    "-->"
   ]
  },
  {
   "cell_type": "code",
   "execution_count": null,
   "metadata": {
    "id": "SxIq86L5FgNU"
   },
   "outputs": [],
   "source": [
    "%%time\n",
    "hidden_size = 256\n",
    "encoder1 = EncoderRNN(input_lang.n_words, hidden_size).to(device)\n",
    "attn_decoder1 = AttnDecoderRNN(hidden_size, output_lang.n_words, dropout_p=0.1).to(device)\n",
    "\n",
    "#訳注: フランス語に詳しくないので，訓練を繰り返しても正しいかどうか分かりません。\n",
    "#そこで，時間節約のため，オリジナルの設定の 1/20 だけ実施してみます。\n",
    "trainIters(encoder1, attn_decoder1, 3250, print_every=250)\n",
    "#trainIters(encoder1, attn_decoder1, 75000, print_every=5000)"
   ]
  },
  {
   "cell_type": "code",
   "execution_count": null,
   "metadata": {},
   "outputs": [],
   "source": [
    "%%time\n",
    "trainIters(encoder1, attn_decoder1, 7000, print_every=500)"
   ]
  },
  {
   "cell_type": "code",
   "execution_count": null,
   "metadata": {
    "id": "M8VeCjZTFgNU"
   },
   "outputs": [],
   "source": [
    "evaluateRandomly(encoder1, attn_decoder1)"
   ]
  },
  {
   "cell_type": "markdown",
   "metadata": {
    "id": "5f7Uv_BtFgNU"
   },
   "source": [
    "# 6. 注意の可視化\n",
    "<!-- Visualizing Attention\n",
    "--------------------- -->\n",
    "\n",
    "注意機構の有用な特性は，その高度に解釈可能な出力です。\n",
    "これは，入力系列の特定の復号化器出力に重み付けをするために使用されるので，各時間ステップでネットワークがどこに最も焦点を当てているかを見ることを想像することができます。\n",
    "<!-- A useful property of the attention mechanism is its highly interpretable outputs. \n",
    "Because it is used to weight specific encoder outputs of the input sequence, we can imagine looking where the network is focused most at each time step. -->\n",
    "\n",
    "単純に ``plt.matshow(attentions)`` を実行すれば，列が入力ステップ、行が出力ステップの行列として表示された注意出力を見ることができます。\n",
    "<!-- You could simply run ``plt.matshow(attentions)`` to see attention output displayed as a matrix, with the columns being input steps and rows being output steps:\n",
    "-->"
   ]
  },
  {
   "cell_type": "code",
   "execution_count": null,
   "metadata": {
    "id": "6MJt9cbuFgNU"
   },
   "outputs": [],
   "source": [
    "output_words, attentions = evaluate(\n",
    "    encoder1, attn_decoder1, \"je suis trop froid .\")\n",
    "plt.matshow(attentions.numpy())"
   ]
  },
  {
   "cell_type": "markdown",
   "metadata": {
    "id": "H3DdXKqHFgNV"
   },
   "source": [
    "より良い表示のために、軸とラベルを追加するという余分な作業を行います。\n",
    "<!-- For a better viewing experience we will do the extra work of adding axes and labels:\n",
    " -->\n",
    "\n"
   ]
  },
  {
   "cell_type": "code",
   "execution_count": null,
   "metadata": {},
   "outputs": [],
   "source": [
    "import importlib"
   ]
  },
  {
   "cell_type": "code",
   "execution_count": null,
   "metadata": {
    "id": "vMtc1i3WFgNV"
   },
   "outputs": [],
   "source": [
    "def showAttention(input_sentence, output_words, attentions):\n",
    "    # Set up figure with colorbar\n",
    "    fig = plt.figure()\n",
    "    ax = fig.add_subplot(111)\n",
    "    cax = ax.matshow(attentions.numpy(), cmap='bone')\n",
    "    fig.colorbar(cax)\n",
    "\n",
    "    # Set up axes\n",
    "    ax.set_xticklabels([''] + input_sentence.split(' ') +\n",
    "                       ['<EOS>'], rotation=90)\n",
    "    ax.set_yticklabels([''] + output_words)\n",
    "\n",
    "    # Show label at every tick\n",
    "    ax.xaxis.set_major_locator(ticker.MultipleLocator(1))\n",
    "    ax.yaxis.set_major_locator(ticker.MultipleLocator(1))\n",
    "\n",
    "    plt.show()\n",
    "\n",
    "\n",
    "def evaluateAndShowAttention(input_sentence):\n",
    "    output_words, attentions = evaluate(\n",
    "        encoder1, attn_decoder1, input_sentence)\n",
    "    print('input =', input_sentence)\n",
    "    print('output =', ' '.join(output_words))\n",
    "    showAttention(input_sentence, output_words, attentions)\n",
    "\n",
    "import matplotlib\n",
    "#matplotlib.use('agg')\n",
    "matplotlib = importlib.reload(matplotlib)\n",
    "#matplotlib.use('MacOSX')    \n",
    "#matplotlib.use('TKAgg',force=True)\n",
    "##import matplotlib.ticker as ticker\n",
    "\n",
    "evaluateAndShowAttention(\"elle a cinq ans de moins que moi .\")\n",
    "evaluateAndShowAttention(\"elle est trop petit .\")\n",
    "evaluateAndShowAttention(\"je ne crains pas de mourir .\")\n",
    "evaluateAndShowAttention(\"c est un jeune directeur plein de talent .\")"
   ]
  },
  {
   "cell_type": "markdown",
   "metadata": {
    "id": "3QuCY72RFgNV"
   },
   "source": [
    "# 7. 演習\n",
    "<!-- Exercises\n",
    "========= -->\n",
    "\n",
    "- 別のデータセットで試す\n",
    "<!-- -  Try with a different dataset -->\n",
    "\n",
    "- 別の言語対\n",
    "<!-- -  Another language pair -->\n",
    "   - 人間 → 機械 (例: IOTコマンド)\n",
    "   - チャット → 応答\n",
    "   - 質問 → 回答\n",
    "\n",
    "<!--\n",
    "   -  Human → Machine (e.g. IOT commands)\n",
    "   -  Chat → Response\n",
    "   -  Question → Answer\n",
    "-->\n",
    "\n",
    "- 埋め込みを word2vec や GloVe などの事前に学習した単語埋め込みに置き換える。\n",
    "- 層数，隠れユニット数，文の数を増やしてみる。学習時間と結果を比較してみてください。\n",
    "- 同じフレーズのペアが 2 つある翻訳ファイル（``I am test \\t I am test``）を使うと、オートエンコーダーとして使うことができます。\n",
    "これを試してみてください。\n",
    "\n",
    "<!-- \n",
    "-  Replace the embeddings with pre-trained word embeddings such as word2vec or GloVe\n",
    "-  Try with more layers, more hidden units, and more sentences. \n",
    "Compare the training time and results.\n",
    "-  If you use a translation file where pairs have two of the same phrase (``I am test \\t I am test``), you can use this as an autoencoder. \n",
    "Try this:\n",
    "-->\n",
    "\n",
    "   - オートエンコーダーとして学習\n",
    "   - エンコーダーネットワークのみを保存\n",
    "   - そこから翻訳用のデコーダを新たに学習\n",
    "\n",
    "<!--    -  Train as an autoencoder\n",
    "   -  Save only the Encoder network\n",
    "   -  Train a new Decoder for translation from there\n",
    " -->\n",
    "\n"
   ]
  },
  {
   "cell_type": "markdown",
   "metadata": {},
   "source": [
    "---\n",
    "\n",
    "# A. 浅川の拡張\n",
    "\n",
    "ここから先は，浅川の拡張です。\n",
    "フランス語がチンプンカンプンなので，日本語の題材があった方がわかりやすいかと思い，作成してみました。\n",
    "上のコードと重複して冗長ですが，ここから下だけを切り出しても動作するように，あえて重複させています。"
   ]
  },
  {
   "cell_type": "code",
   "execution_count": null,
   "metadata": {},
   "outputs": [],
   "source": [
    "from __future__ import unicode_literals, print_function, division\n",
    "from io import open\n",
    "import unicodedata\n",
    "import string\n",
    "import re\n",
    "import random\n",
    "\n",
    "import torch\n",
    "import torch.nn as nn\n",
    "from torch import optim\n",
    "import torch.nn.functional as F\n",
    "\n",
    "device = torch.device(\"cuda\" if torch.cuda.is_available() else \"cpu\")"
   ]
  },
  {
   "cell_type": "markdown",
   "metadata": {},
   "source": [
    "## A1. データファイルの読み込み"
   ]
  },
  {
   "cell_type": "code",
   "execution_count": 22,
   "metadata": {},
   "outputs": [],
   "source": [
    "# 訳注: ダウンロードするには，このセルの下の 2 行の行頭の # をコメントアウトして，実行してください\n",
    "#!wget -O eng-jpn.txt https://raw.githubusercontent.com/ShinAsakawa/ShinAsakawa.github.io/master/2022notebooks/eng-jpn.txt\n",
    "#!if ! [ -d data ]; then mkdir data; fi\n",
    "#!mv eng-jpn.txt data"
   ]
  },
  {
   "cell_type": "code",
   "execution_count": 23,
   "metadata": {},
   "outputs": [],
   "source": [
    "import platform\n",
    "isColab = platform.system() == 'Linux'\n",
    "if isColab:\n",
    "    !pip install japanize_matplotlib"
   ]
  },
  {
   "cell_type": "code",
   "execution_count": null,
   "metadata": {},
   "outputs": [],
   "source": [
    "SOS_token = 0  # SOS: Start Of Sentence\n",
    "EOS_token = 1  # EOS: End Of Sentence\n",
    "\n",
    "class Lang:\n",
    "    def __init__(self, name):\n",
    "        self.name = name\n",
    "        self.word2index = {}\n",
    "        self.word2count = {}\n",
    "        self.index2word = {0: \"SOS\", 1: \"EOS\"}\n",
    "        self.n_words = 2  # Count SOS and EOS\n",
    "\n",
    "    def addSentence(self, sentence):\n",
    "        for word in sentence.split(' '):\n",
    "            self.addWord(word)\n",
    "\n",
    "    def addWord(self, word):\n",
    "        if word not in self.word2index:\n",
    "            self.word2index[word] = self.n_words\n",
    "            self.word2count[word] = 1\n",
    "            self.index2word[self.n_words] = word\n",
    "            self.n_words += 1\n",
    "        else:\n",
    "            self.word2count[word] += 1"
   ]
  },
  {
   "cell_type": "code",
   "execution_count": null,
   "metadata": {},
   "outputs": [],
   "source": [
    "def unicodeToAscii(s):\n",
    "    return ''.join(\n",
    "        c for c in unicodedata.normalize('NFD', s)\n",
    "        if unicodedata.category(c) != 'Mn'\n",
    "    )\n",
    "\n",
    "# サンプルコードのように Unicode の文字列を ASCII に変換してしまうと日本語は\n",
    "# 処理できないので，`unicodeToAscii()` は使わない。\n",
    "# 小文字化、トリミング、非文字の削除 # Lowercase, trim, and remove non-letter characters\n",
    "def normalizeString(s):\n",
    "    #s = unicodeToAscii(s.lower().strip())\n",
    "    #s = re.sub(r\"([.!?])\", r\" \\1\", s)\n",
    "    #s = re.sub(r\"[^a-zA-Z.!?]+\", r\" \", s)\n",
    "    return s"
   ]
  },
  {
   "cell_type": "code",
   "execution_count": null,
   "metadata": {},
   "outputs": [],
   "source": [
    "def readLangs(lang1, lang2, reverse=False):\n",
    "    print(\"Reading lines...\")\n",
    "\n",
    "    # Read the file and split into lines\n",
    "    lines = open('data/%s-%s.txt' % (lang1, lang2), encoding='utf-8').read().strip().split('\\n')\n",
    "\n",
    "    # Split every line into pairs and normalize\n",
    "    pairs = [[normalizeString(s) for s in l.split('\\t')] for l in lines]\n",
    "\n",
    "    # Reverse pairs, make Lang instances\n",
    "    if reverse:\n",
    "        pairs = [list(reversed(p)) for p in pairs]\n",
    "        input_lang = Lang(lang2)\n",
    "        output_lang = Lang(lang1)\n",
    "    else:\n",
    "        input_lang = Lang(lang1)\n",
    "        output_lang = Lang(lang2)\n",
    "\n",
    "    return input_lang, output_lang, pairs"
   ]
  },
  {
   "cell_type": "code",
   "execution_count": null,
   "metadata": {},
   "outputs": [],
   "source": [
    "MAX_LENGTH = 10\n",
    "\n",
    "eng_prefixes = (\n",
    "    \"i am \", \"i m \",\n",
    "    \"he is\", \"he s \",\n",
    "    \"she is\", \"she s \",\n",
    "    \"you are\", \"you re \",\n",
    "    \"we are\", \"we re \",\n",
    "    \"they are\", \"they re \"\n",
    ")\n",
    "\n",
    "\n",
    "def filterPair(p):\n",
    "    return len(p[0].split(' ')) < MAX_LENGTH and \\\n",
    "        len(p[1].split(' ')) < MAX_LENGTH and \\\n",
    "        p[1].startswith(eng_prefixes)\n",
    "\n",
    "def filterPairs(pairs):\n",
    "    return [pair for pair in pairs if filterPair(pair)]"
   ]
  },
  {
   "cell_type": "code",
   "execution_count": null,
   "metadata": {},
   "outputs": [],
   "source": [
    "def prepareData(lang1, lang2, reverse=False):\n",
    "    input_lang, output_lang, pairs = readLangs(lang1, lang2, reverse)\n",
    "    print(\"Read %s sentence pairs\" % len(pairs))\n",
    "    pairs = filterPairs(pairs)\n",
    "    print(\"Trimmed to %s sentence pairs\" % len(pairs))\n",
    "    print(\"Counting words...\")\n",
    "    for pair in pairs:\n",
    "        input_lang.addSentence(pair[0])\n",
    "        output_lang.addSentence(pair[1])\n",
    "    print(\"Counted words:\")\n",
    "    print(input_lang.name, input_lang.n_words)\n",
    "    print(output_lang.name, output_lang.n_words)\n",
    "    return input_lang, output_lang, pairs\n",
    "\n",
    "\n",
    "input_lang, output_lang, pairs = prepareData('eng', 'jpn', True)\n",
    "print(random.choice(pairs))"
   ]
  },
  {
   "cell_type": "code",
   "execution_count": null,
   "metadata": {},
   "outputs": [],
   "source": [
    "print(type(pairs[1]), len(pairs[1]), pairs[1][0])"
   ]
  },
  {
   "cell_type": "markdown",
   "metadata": {},
   "source": [
    "## A2. Seq2seq モデル"
   ]
  },
  {
   "cell_type": "code",
   "execution_count": null,
   "metadata": {},
   "outputs": [],
   "source": [
    "class EncoderRNN(nn.Module):\n",
    "    def __init__(self, input_size, hidden_size):\n",
    "        super(EncoderRNN, self).__init__()\n",
    "        self.hidden_size = hidden_size\n",
    "\n",
    "        self.embedding = nn.Embedding(input_size, hidden_size)\n",
    "        self.gru = nn.GRU(hidden_size, hidden_size)\n",
    "\n",
    "    def forward(self, input, hidden):\n",
    "        embedded = self.embedding(input).view(1, 1, -1)\n",
    "        output = embedded\n",
    "        output, hidden = self.gru(output, hidden)\n",
    "        return output, hidden\n",
    "\n",
    "    def initHidden(self):\n",
    "        return torch.zeros(1, 1, self.hidden_size, device=device)"
   ]
  },
  {
   "cell_type": "markdown",
   "metadata": {},
   "source": [
    "### A2.4 注意つき符号化器"
   ]
  },
  {
   "cell_type": "code",
   "execution_count": null,
   "metadata": {},
   "outputs": [],
   "source": [
    "class AttnDecoderRNN(nn.Module):\n",
    "    def __init__(self, hidden_size, output_size, dropout_p=0.1, max_length=MAX_LENGTH):\n",
    "        super(AttnDecoderRNN, self).__init__()\n",
    "        self.hidden_size = hidden_size\n",
    "        self.output_size = output_size\n",
    "        self.dropout_p = dropout_p\n",
    "        self.max_length = max_length\n",
    "\n",
    "        self.embedding = nn.Embedding(self.output_size, self.hidden_size)\n",
    "        self.attn = nn.Linear(self.hidden_size * 2, self.max_length)\n",
    "        self.attn_combine = nn.Linear(self.hidden_size * 2, self.hidden_size)\n",
    "        self.dropout = nn.Dropout(self.dropout_p)\n",
    "        self.gru = nn.GRU(self.hidden_size, self.hidden_size)\n",
    "        self.out = nn.Linear(self.hidden_size, self.output_size)\n",
    "\n",
    "    def forward(self, input, hidden, encoder_outputs):\n",
    "        embedded = self.embedding(input).view(1, 1, -1)\n",
    "        embedded = self.dropout(embedded)\n",
    "\n",
    "        attn_weights = F.softmax(\n",
    "            self.attn(torch.cat((embedded[0], hidden[0]), 1)), dim=1)\n",
    "        attn_applied = torch.bmm(attn_weights.unsqueeze(0),\n",
    "                                 encoder_outputs.unsqueeze(0))\n",
    "\n",
    "        output = torch.cat((embedded[0], attn_applied[0]), 1)\n",
    "        output = self.attn_combine(output).unsqueeze(0)\n",
    "\n",
    "        output = F.relu(output)\n",
    "        output, hidden = self.gru(output, hidden)\n",
    "\n",
    "        output = F.log_softmax(self.out(output[0]), dim=1)\n",
    "        return output, hidden, attn_weights\n",
    "\n",
    "    def initHidden(self):\n",
    "        return torch.zeros(1, 1, self.hidden_size, device=device)"
   ]
  },
  {
   "cell_type": "markdown",
   "metadata": {},
   "source": [
    "## A3. 訓練\n",
    "\n",
    "### A3.1 訓練データの準備"
   ]
  },
  {
   "cell_type": "code",
   "execution_count": null,
   "metadata": {},
   "outputs": [],
   "source": [
    "def indexesFromSentence(lang, sentence):\n",
    "    return [lang.word2index[word] for word in sentence.split(' ')]\n",
    "\n",
    "\n",
    "def tensorFromSentence(lang, sentence):\n",
    "    indexes = indexesFromSentence(lang, sentence)\n",
    "    indexes.append(EOS_token)\n",
    "    return torch.tensor(indexes, dtype=torch.long, device=device).view(-1, 1)\n",
    "\n",
    "\n",
    "def tensorsFromPair(pair):\n",
    "    input_tensor = tensorFromSentence(input_lang, pair[0])\n",
    "    target_tensor = tensorFromSentence(output_lang, pair[1])\n",
    "    return (input_tensor, target_tensor)"
   ]
  },
  {
   "cell_type": "markdown",
   "metadata": {},
   "source": [
    "### A3.2 モデルの訓練"
   ]
  },
  {
   "cell_type": "code",
   "execution_count": null,
   "metadata": {},
   "outputs": [],
   "source": [
    "teacher_forcing_ratio = 0.5  # 訳注：教師強制率。文献によっては，訓練中にこの値を徐々に減衰させることも行われます\n",
    "\n",
    "def train(input_tensor, target_tensor, encoder, decoder, encoder_optimizer, decoder_optimizer, criterion, max_length=MAX_LENGTH):\n",
    "    encoder_hidden = encoder.initHidden()\n",
    "\n",
    "    encoder_optimizer.zero_grad()\n",
    "    decoder_optimizer.zero_grad()\n",
    "\n",
    "    input_length = input_tensor.size(0)\n",
    "    target_length = target_tensor.size(0)\n",
    "\n",
    "    encoder_outputs = torch.zeros(max_length, encoder.hidden_size, device=device)\n",
    "\n",
    "    loss = 0\n",
    "\n",
    "    for ei in range(input_length):\n",
    "        encoder_output, encoder_hidden = encoder(\n",
    "            input_tensor[ei], encoder_hidden)\n",
    "        encoder_outputs[ei] = encoder_output[0, 0]\n",
    "\n",
    "    decoder_input = torch.tensor([[SOS_token]], device=device)\n",
    "\n",
    "    decoder_hidden = encoder_hidden\n",
    "\n",
    "    use_teacher_forcing = True if random.random() < teacher_forcing_ratio else False\n",
    "\n",
    "    if use_teacher_forcing:\n",
    "        # Teacher forcing: Feed the target as the next input\n",
    "        for di in range(target_length):\n",
    "            decoder_output, decoder_hidden, decoder_attention = decoder(\n",
    "                decoder_input, decoder_hidden, encoder_outputs)\n",
    "            loss += criterion(decoder_output, target_tensor[di])\n",
    "            decoder_input = target_tensor[di]  # Teacher forcing\n",
    "\n",
    "    else:\n",
    "        # Without teacher forcing: use its own predictions as the next input\n",
    "        for di in range(target_length):\n",
    "            decoder_output, decoder_hidden, decoder_attention = decoder(\n",
    "                decoder_input, decoder_hidden, encoder_outputs)\n",
    "            topv, topi = decoder_output.topk(1)\n",
    "            decoder_input = topi.squeeze().detach()  # detach from history as input\n",
    "\n",
    "            loss += criterion(decoder_output, target_tensor[di])\n",
    "            if decoder_input.item() == EOS_token:\n",
    "                break\n",
    "\n",
    "    loss.backward()\n",
    "\n",
    "    encoder_optimizer.step()\n",
    "    decoder_optimizer.step()\n",
    "\n",
    "    return loss.item() / target_length"
   ]
  },
  {
   "cell_type": "code",
   "execution_count": null,
   "metadata": {},
   "outputs": [],
   "source": [
    "import time\n",
    "import math\n",
    "\n",
    "def asMinutes(s):\n",
    "    m = math.floor(s / 60)\n",
    "    s -= m * 60\n",
    "    return '%dm %ds' % (m, s)\n",
    "\n",
    "\n",
    "def timeSince(since, percent):\n",
    "    now = time.time()\n",
    "    s = now - since\n",
    "    es = s / (percent)\n",
    "    rs = es - s\n",
    "    #return '%s (- %s)' % (asMinutes(s), asMinutes(rs))\n",
    "    return f'経過時間:{asMinutes(s)} (残り時間 {asMinutes(rs)})'"
   ]
  },
  {
   "cell_type": "code",
   "execution_count": null,
   "metadata": {},
   "outputs": [],
   "source": [
    "# 訳注：一般には，`fit()` あるいは `train()` などと命名される関数，訓練を n_iters だけ繰り返す\n",
    "def trainIters(encoder, decoder, n_iters, print_every=1000, plot_every=100, learning_rate=0.01):\n",
    "    start = time.time()\n",
    "    plot_losses = []\n",
    "    print_loss_total = 0  # Reset every print_every\n",
    "    plot_loss_total = 0  # Reset every plot_every\n",
    "\n",
    "    encoder_optimizer = optim.SGD(encoder.parameters(), lr=learning_rate)\n",
    "    decoder_optimizer = optim.SGD(decoder.parameters(), lr=learning_rate)\n",
    "    training_pairs = [tensorsFromPair(random.choice(pairs))\n",
    "                      for i in range(n_iters)]\n",
    "    criterion = nn.NLLLoss()\n",
    "\n",
    "    for iter in range(1, n_iters + 1):\n",
    "        training_pair = training_pairs[iter - 1]\n",
    "        input_tensor = training_pair[0]\n",
    "        target_tensor = training_pair[1]\n",
    "\n",
    "        loss = train(input_tensor, target_tensor, encoder,\n",
    "                     decoder, encoder_optimizer, decoder_optimizer, criterion)\n",
    "        print_loss_total += loss\n",
    "        plot_loss_total += loss\n",
    "\n",
    "        if iter % print_every == 0:\n",
    "            print_loss_avg = print_loss_total / print_every\n",
    "            print_loss_total = 0\n",
    "            #print('%s (%d %d%%) %.4f' % (timeSince(start, iter / n_iters),\n",
    "            #                             iter, iter / n_iters * 100, print_loss_avg))\n",
    "            print(f'{timeSince(start, iter / n_iters)} (反復回数: {iter:5d} 割合:{iter/n_iters:.2f}) 損失: {print_loss_avg:.2f}')\n",
    "\n",
    "        if iter % plot_every == 0:\n",
    "            plot_loss_avg = plot_loss_total / plot_every\n",
    "            plot_losses.append(plot_loss_avg)\n",
    "            plot_loss_total = 0\n",
    "\n",
    "    showPlot(plot_losses)"
   ]
  },
  {
   "cell_type": "markdown",
   "metadata": {},
   "source": [
    "### A3.3 結果のプロット"
   ]
  },
  {
   "cell_type": "code",
   "execution_count": null,
   "metadata": {},
   "outputs": [],
   "source": [
    "import matplotlib.pyplot as plt\n",
    "#backend が 'agg' だと動作しない場合があるのでコメントアウト\n",
    "#plt.switch_backend('agg')\n",
    "import matplotlib.ticker as ticker\n",
    "import numpy as np\n",
    "\n",
    "def showPlot(points):\n",
    "    plt.figure()\n",
    "    fig, ax = plt.subplots()\n",
    "    # this locator puts ticks at regular intervals\n",
    "    loc = ticker.MultipleLocator(base=0.2)\n",
    "    ax.yaxis.set_major_locator(loc)\n",
    "    plt.plot(points)"
   ]
  },
  {
   "cell_type": "markdown",
   "metadata": {},
   "source": [
    "## A4. 評価"
   ]
  },
  {
   "cell_type": "code",
   "execution_count": null,
   "metadata": {},
   "outputs": [],
   "source": [
    "def evaluate(encoder, decoder, sentence, max_length=MAX_LENGTH):\n",
    "    with torch.no_grad():\n",
    "        input_tensor = tensorFromSentence(input_lang, sentence)\n",
    "        input_length = input_tensor.size()[0]\n",
    "        encoder_hidden = encoder.initHidden()\n",
    "\n",
    "        encoder_outputs = torch.zeros(max_length, encoder.hidden_size, device=device)\n",
    "\n",
    "        for ei in range(input_length):\n",
    "            encoder_output, encoder_hidden = encoder(input_tensor[ei],\n",
    "                                                     encoder_hidden)\n",
    "            encoder_outputs[ei] += encoder_output[0, 0]\n",
    "\n",
    "        decoder_input = torch.tensor([[SOS_token]], device=device)  # SOS\n",
    "\n",
    "        decoder_hidden = encoder_hidden\n",
    "\n",
    "        decoded_words = []\n",
    "        decoder_attentions = torch.zeros(max_length, max_length)\n",
    "\n",
    "        for di in range(max_length):\n",
    "            decoder_output, decoder_hidden, decoder_attention = decoder(\n",
    "                decoder_input, decoder_hidden, encoder_outputs)\n",
    "            decoder_attentions[di] = decoder_attention.data\n",
    "            topv, topi = decoder_output.data.topk(1)\n",
    "            if topi.item() == EOS_token:\n",
    "                decoded_words.append('<EOS>')\n",
    "                break\n",
    "            else:\n",
    "                decoded_words.append(output_lang.index2word[topi.item()])\n",
    "\n",
    "            decoder_input = topi.squeeze().detach()\n",
    "\n",
    "        return decoded_words, decoder_attentions[:di + 1]"
   ]
  },
  {
   "cell_type": "code",
   "execution_count": null,
   "metadata": {},
   "outputs": [],
   "source": [
    "def evaluateRandomly(encoder, decoder, n=10):\n",
    "    for i in range(n):\n",
    "        pair = random.choice(pairs)\n",
    "        print('>', pair[0])\n",
    "        print('=', pair[1])\n",
    "        output_words, attentions = evaluate(encoder, decoder, pair[0])\n",
    "        output_sentence = ' '.join(output_words)\n",
    "        print('<', output_sentence)\n",
    "        print('')"
   ]
  },
  {
   "cell_type": "markdown",
   "metadata": {},
   "source": [
    "## A5. 訓練と評価 "
   ]
  },
  {
   "cell_type": "code",
   "execution_count": null,
   "metadata": {},
   "outputs": [],
   "source": [
    "%%time\n",
    "hidden_size = 256\n",
    "encoder1 = EncoderRNN(input_lang.n_words, hidden_size).to(device)\n",
    "attn_decoder1 = AttnDecoderRNN(hidden_size, output_lang.n_words, dropout_p=0.1).to(device)\n",
    "\n",
    "trainIters(encoder1, attn_decoder1, 3250, print_every=250)\n",
    "#trainIters(encoder1, attn_decoder1, 75000, print_every=5000)\n"
   ]
  },
  {
   "cell_type": "code",
   "execution_count": null,
   "metadata": {},
   "outputs": [],
   "source": [
    "trainIters(encoder1, attn_decoder1, 32500, print_every=2500)\n",
    "#trainIters(encoder1, attn_decoder1, 75000, print_every=5000)"
   ]
  },
  {
   "cell_type": "code",
   "execution_count": null,
   "metadata": {},
   "outputs": [],
   "source": [
    "#trainIters(encoder1, attn_decoder1, 300, print_every=30)\n",
    "evaluateRandomly(encoder1, attn_decoder1)"
   ]
  },
  {
   "cell_type": "markdown",
   "metadata": {},
   "source": [
    "## A6. 注意の可視化"
   ]
  },
  {
   "cell_type": "code",
   "execution_count": null,
   "metadata": {},
   "outputs": [],
   "source": [
    "output_words, attentions = evaluate(\n",
    "    encoder1, attn_decoder1, \"怖く なん て ない さ\")\n",
    "plt.matshow(attentions.numpy())"
   ]
  },
  {
   "cell_type": "code",
   "execution_count": null,
   "metadata": {},
   "outputs": [],
   "source": [
    "import importlib\n",
    "import japanize_matplotlib"
   ]
  },
  {
   "cell_type": "code",
   "execution_count": null,
   "metadata": {},
   "outputs": [],
   "source": [
    "def showAttention(input_sentence, output_words, attentions):\n",
    "    # Set up figure with colorbar\n",
    "    fig = plt.figure()\n",
    "    ax = fig.add_subplot(111)\n",
    "    cax = ax.matshow(attentions.numpy(), cmap='bone')\n",
    "    fig.colorbar(cax)\n",
    "\n",
    "    # Set up axes\n",
    "    ax.set_xticklabels([''] + input_sentence.split(' ') +\n",
    "                       ['<EOS>'], rotation=90)\n",
    "    ax.set_yticklabels([''] + output_words)\n",
    "\n",
    "    # Show label at every tick\n",
    "    ax.xaxis.set_major_locator(ticker.MultipleLocator(1))\n",
    "    ax.yaxis.set_major_locator(ticker.MultipleLocator(1))\n",
    "\n",
    "    plt.show()\n",
    "\n",
    "\n",
    "def evaluateAndShowAttention(input_sentence):\n",
    "    output_words, attentions = evaluate(\n",
    "        encoder1, attn_decoder1, input_sentence)\n",
    "    print('input =', input_sentence)\n",
    "    print('output =', ' '.join(output_words))\n",
    "    showAttention(input_sentence, output_words, attentions)\n",
    "\n",
    "import matplotlib\n",
    "#matplotlib.use('agg')\n",
    "matplotlib = importlib.reload(matplotlib)\n",
    "#matplotlib.use('MacOSX')    \n",
    "#matplotlib.use('TKAgg',force=True)\n",
    "##import matplotlib.ticker as ticker\n",
    "\n",
    "evaluateAndShowAttention(\"注意 に 注意 し な さ い 。\")\n",
    "#evaluateAndShowAttention(\"elle est trop petit .\")\n",
    "#evaluateAndShowAttention(\"je ne crains pas de mourir .\")\n",
    "#evaluateAndShowAttention(\"c est un jeune directeur plein de talent .\")"
   ]
  },
  {
   "cell_type": "markdown",
   "metadata": {},
   "source": [
    "# B. 浅川の拡張 その 2\n",
    "\n",
    "浅川の拡張その 2 です。\n",
    "日本語から日本語へと変換する。オウム返しの反復になりますが，\n",
    "これが短期記憶のモデルですし，\n",
    "符号化器・復号化器モデル (encoder-decoder models) になります。\n",
    "短期記憶のみならず，情報圧縮，次元削減，注意とも関連します。\n",
    "\n",
    "上のコード 2 つと重複しています。\n",
    "ですが，ここから下だけを切り出しても動作するように，あえて重複させています。\n",
    "\n",
    "## B1. データファイルの読み込み"
   ]
  },
  {
   "cell_type": "code",
   "execution_count": 1,
   "metadata": {},
   "outputs": [],
   "source": [
    "from __future__ import unicode_literals, print_function, division\n",
    "# 通信環境にも依存しますが，このセルを Colob 上で実行すると終了までに 15 分くらい待たされることがあります。\n",
    "\n",
    "%matplotlib inline\n",
    "import os\n",
    "import sys\n",
    "import numpy as np\n",
    "from termcolor import colored\n",
    "\n",
    "from io import open\n",
    "import unicodedata\n",
    "import string\n",
    "import re\n",
    "import random\n",
    "\n",
    "import torch\n",
    "import torch.nn as nn\n",
    "from torch import optim\n",
    "import torch.nn.functional as F\n",
    "\n",
    "device = torch.device(\"cuda\" if torch.cuda.is_available() else \"cpu\")\n",
    "\n",
    "# 本ファイルを Google Colaboratory 上で実行する場合に，必要となるライブラリをインストールする\n",
    "import platform\n",
    "isColab = platform.system() == 'Linux'\n",
    "if isColab:\n",
    "    #!pip install transformers > /dev/null 2>&1 \n",
    "\n",
    "    # MeCab, fugashi, ipadic のインストール\n",
    "    !apt install aptitude swig > /dev/null 2>&1\n",
    "    !aptitude install mecab libmecab-dev mecab-ipadic-utf8 git make curl xz-utils file -y > /dev/null 2>&1\n",
    "    !pip install mecab-python3 > /dev/null 2>&1\n",
    "    !git clone --depth 1 https://github.com/neologd/mecab-ipadic-neologd.git > /dev/null 2>&1\n",
    "    !echo yes | mecab-ipadic-neologd/bin/install-mecab-ipadic-neologd -n -a > /dev/null 2>&1\n",
    "    \n",
    "    import subprocess\n",
    "    cmd='echo `mecab-config --dicdir`\\\"/mecab-ipadic-neologd\\\"'\n",
    "    path_neologd = (subprocess.Popen(cmd, stdout=subprocess.PIPE,\n",
    "                                     shell=True).communicate()[0]).decode('utf-8')\n",
    "\n",
    "    !pip install 'fugashi[unidic]' > /dev/null 2>&1\n",
    "    !python -m unidic download > /dev/null 2>&1\n",
    "    !pip install ipadic > /dev/null 2>&1\n",
    "    !pip install jaconv > /dev/null 2>&1 \n",
    "    !pip install japanize_matplotlib > /dev/null 2>&1    "
   ]
  },
  {
   "cell_type": "code",
   "execution_count": 2,
   "metadata": {},
   "outputs": [],
   "source": [
    "# ダウンロードするには，このセルの下の 2 行の行頭の # をコメントアウトして，実行してください\n",
    "#!wget -O jpn-eng.zip https://www.manythings.org/anki/jpn-eng.zip    \n",
    "#!unzip jpn-eng.zip"
   ]
  },
  {
   "cell_type": "code",
   "execution_count": 3,
   "metadata": {},
   "outputs": [],
   "source": [
    "with open('jpn.txt','r') as fi:\n",
    "    a = fi.readlines()\n",
    "a_ = [x.strip().split('\\t')[:-1] for x in a]    "
   ]
  },
  {
   "cell_type": "code",
   "execution_count": 4,
   "metadata": {},
   "outputs": [],
   "source": [
    "import sys\n",
    "import MeCab\n",
    "wakati = MeCab.Tagger('-Owakati')\n",
    "import jaconv\n",
    "\n",
    "jpn_txt = []\n",
    "for i, aa in enumerate(a_): # [:3]):\n",
    "    c1 = jaconv.normalize(a_[i][1])\n",
    "    a_[i][1] =\"\".join(wakati.parse(c1).strip())\n",
    "    jpn_txt.append(a_[i][1])\n"
   ]
  },
  {
   "cell_type": "code",
   "execution_count": 5,
   "metadata": {},
   "outputs": [],
   "source": [
    "SOS_token = 0  # SOS: Start Of Sentence\n",
    "EOS_token = 1  # EOS: End Of Sentence\n",
    "\n",
    "class Lang:\n",
    "    \"\"\"Lang という名前のクラスだが，実体は単語 ID を返す，トークナイザの役割である\"\"\"\n",
    "    def __init__(self, name):\n",
    "        self.name = name\n",
    "        self.word2index = {}\n",
    "        self.word2count = {}\n",
    "        self.index2word = {0: \"SOS\", 1: \"EOS\"}\n",
    "        self.n_words = 2  # Count SOS and EOS\n",
    "\n",
    "    def addSentence(self, sentence):\n",
    "        for word in sentence.split(' '):\n",
    "            self.addWord(word)\n",
    "\n",
    "    def addWord(self, word):\n",
    "        if word not in self.word2index:\n",
    "            self.word2index[word] = self.n_words\n",
    "            self.word2count[word] = 1\n",
    "            self.index2word[self.n_words] = word\n",
    "            self.n_words += 1\n",
    "        else:\n",
    "            self.word2count[word] += 1"
   ]
  },
  {
   "cell_type": "code",
   "execution_count": 60,
   "metadata": {},
   "outputs": [
    {
     "name": "stdout",
     "output_type": "stream",
     "text": [
      "Counted words:\n",
      "jpn0 11050\n",
      "jpn1 11050\n",
      "['ごめん 、 起こし ちゃっ た ね 。', 'ごめん 、 起こし ちゃっ た ね 。']\n",
      "<class 'list'> 2 ジャンプ し て !\n"
     ]
    }
   ],
   "source": [
    "MAX_LENGTH=10  # 大域変数として MAX_LENGTH を定義したくはないのだが，後の処理で参照されている\n",
    "\n",
    "input_lang, output_lang = Lang(name='jpn0'), Lang(name='jpn1')\n",
    "\n",
    "def filtering_lang(lines=jpn_txt,MAX_LENGTH=10):\n",
    "    src_lang, dst_lang = Lang(name='jpn0'), Lang(name='jpn1')\n",
    "    pairs = []\n",
    "    for line in lines:\n",
    "        length = len(line.split(' '))\n",
    "        if (3 < length) and (length < MAX_LENGTH):\n",
    "            src_lang.addSentence(line)\n",
    "            dst_lang.addSentence(line)\n",
    "            pairs.append([line,line])\n",
    "\n",
    "    print(\"Counted words:\")\n",
    "    print(src_lang.name, src_lang.n_words)\n",
    "    print(dst_lang.name, dst_lang.n_words)\n",
    "    return src_lang, dst_lang, pairs\n",
    "\n",
    "input_lang, output_lang, pairs = filtering_lang(MAX_LENGTH=MAX_LENGTH)\n",
    "print(random.choice(pairs))\n",
    "print(type(pairs[1]), len(pairs[1]), pairs[1][0])"
   ]
  },
  {
   "cell_type": "markdown",
   "metadata": {},
   "source": [
    "## B2 Seq2seq モデル"
   ]
  },
  {
   "cell_type": "code",
   "execution_count": 64,
   "metadata": {},
   "outputs": [],
   "source": [
    "class EncoderRNN(nn.Module):\n",
    "    def __init__(self, input_size, hidden_size):\n",
    "        super(EncoderRNN, self).__init__()\n",
    "        self.hidden_size = hidden_size\n",
    "\n",
    "        self.embedding = nn.Embedding(input_size, hidden_size)\n",
    "        self.gru = nn.GRU(hidden_size, hidden_size)\n",
    "\n",
    "    def forward(self, input, hidden):\n",
    "        embedded = self.embedding(input).view(1, 1, -1)\n",
    "        output = embedded\n",
    "        output, hidden = self.gru(output, hidden)\n",
    "        return output, hidden\n",
    "\n",
    "    def initHidden(self):\n",
    "        return torch.zeros(1, 1, self.hidden_size, device=device)"
   ]
  },
  {
   "cell_type": "code",
   "execution_count": 65,
   "metadata": {},
   "outputs": [],
   "source": [
    "class AttnDecoderRNN(nn.Module):\n",
    "    def __init__(self, hidden_size, output_size, dropout_p=0.1, max_length=MAX_LENGTH):\n",
    "        super(AttnDecoderRNN, self).__init__()\n",
    "        self.hidden_size = hidden_size\n",
    "        self.output_size = output_size\n",
    "        self.dropout_p = dropout_p\n",
    "        self.max_length = max_length\n",
    "\n",
    "        self.embedding = nn.Embedding(self.output_size, self.hidden_size)\n",
    "        self.attn = nn.Linear(self.hidden_size * 2, self.max_length)\n",
    "        self.attn_combine = nn.Linear(self.hidden_size * 2, self.hidden_size)\n",
    "        self.dropout = nn.Dropout(self.dropout_p)\n",
    "        self.gru = nn.GRU(self.hidden_size, self.hidden_size)\n",
    "        self.out = nn.Linear(self.hidden_size, self.output_size)\n",
    "\n",
    "    def forward(self, input, hidden, encoder_outputs):\n",
    "        embedded = self.embedding(input).view(1, 1, -1)\n",
    "        embedded = self.dropout(embedded)\n",
    "\n",
    "        attn_weights = F.softmax(\n",
    "            self.attn(torch.cat((embedded[0], hidden[0]), 1)), dim=1)\n",
    "        attn_applied = torch.bmm(attn_weights.unsqueeze(0),\n",
    "                                 encoder_outputs.unsqueeze(0))\n",
    "\n",
    "        output = torch.cat((embedded[0], attn_applied[0]), 1)\n",
    "        output = self.attn_combine(output).unsqueeze(0)\n",
    "\n",
    "        output = F.relu(output)\n",
    "        output, hidden = self.gru(output, hidden)\n",
    "\n",
    "        output = F.log_softmax(self.out(output[0]), dim=1)\n",
    "        return output, hidden, attn_weights\n",
    "\n",
    "    def initHidden(self):\n",
    "        return torch.zeros(1, 1, self.hidden_size, device=device)"
   ]
  },
  {
   "cell_type": "markdown",
   "metadata": {},
   "source": [
    "## B2.4 注意つき符号化器"
   ]
  },
  {
   "cell_type": "code",
   "execution_count": 66,
   "metadata": {},
   "outputs": [],
   "source": [
    "class AttnDecoderRNN(nn.Module):\n",
    "    def __init__(self, hidden_size, output_size, dropout_p=0.1, max_length=MAX_LENGTH):\n",
    "        super(AttnDecoderRNN, self).__init__()\n",
    "        self.hidden_size = hidden_size\n",
    "        self.output_size = output_size\n",
    "        self.dropout_p = dropout_p\n",
    "        self.max_length = max_length\n",
    "\n",
    "        self.embedding = nn.Embedding(self.output_size, self.hidden_size)\n",
    "        self.attn = nn.Linear(self.hidden_size * 2, self.max_length)\n",
    "        self.attn_combine = nn.Linear(self.hidden_size * 2, self.hidden_size)\n",
    "        self.dropout = nn.Dropout(self.dropout_p)\n",
    "        self.gru = nn.GRU(self.hidden_size, self.hidden_size)\n",
    "        self.out = nn.Linear(self.hidden_size, self.output_size)\n",
    "\n",
    "    def forward(self, input, hidden, encoder_outputs):\n",
    "        embedded = self.embedding(input).view(1, 1, -1)\n",
    "        embedded = self.dropout(embedded)\n",
    "\n",
    "        attn_weights = F.softmax(\n",
    "            self.attn(torch.cat((embedded[0], hidden[0]), 1)), dim=1)\n",
    "        attn_applied = torch.bmm(attn_weights.unsqueeze(0),\n",
    "                                 encoder_outputs.unsqueeze(0))\n",
    "\n",
    "        output = torch.cat((embedded[0], attn_applied[0]), 1)\n",
    "        output = self.attn_combine(output).unsqueeze(0)\n",
    "\n",
    "        output = F.relu(output)\n",
    "        output, hidden = self.gru(output, hidden)\n",
    "\n",
    "        output = F.log_softmax(self.out(output[0]), dim=1)\n",
    "        return output, hidden, attn_weights\n",
    "\n",
    "    def initHidden(self):\n",
    "        return torch.zeros(1, 1, self.hidden_size, device=device)"
   ]
  },
  {
   "cell_type": "markdown",
   "metadata": {},
   "source": [
    "## B3. 訓練\n",
    "\n",
    "### B3.1 訓練データの準備"
   ]
  },
  {
   "cell_type": "code",
   "execution_count": 67,
   "metadata": {},
   "outputs": [],
   "source": [
    "def indexesFromSentence(lang, sentence):\n",
    "    return [lang.word2index[word] for word in sentence.split(' ')]\n",
    "\n",
    "\n",
    "def tensorFromSentence(lang, sentence):\n",
    "    indexes = indexesFromSentence(lang, sentence)\n",
    "    indexes.append(EOS_token)\n",
    "    return torch.tensor(indexes, dtype=torch.long, device=device).view(-1, 1)\n",
    "\n",
    "\n",
    "def tensorsFromPair(pair):\n",
    "    input_tensor = tensorFromSentence(input_lang, pair[0])\n",
    "    target_tensor = tensorFromSentence(output_lang, pair[1])\n",
    "    return (input_tensor, target_tensor)"
   ]
  },
  {
   "cell_type": "markdown",
   "metadata": {},
   "source": [
    "## B3.2 モデルの訓練"
   ]
  },
  {
   "cell_type": "code",
   "execution_count": 68,
   "metadata": {},
   "outputs": [],
   "source": [
    "teacher_forcing_ratio = 0.5  # 訳注：教師強制率。文献によっては，訓練中にこの値を徐々に減衰させることも行われます\n",
    "\n",
    "def train(input_tensor, target_tensor, encoder, decoder, encoder_optimizer, decoder_optimizer, criterion, max_length=MAX_LENGTH):\n",
    "    encoder_hidden = encoder.initHidden()\n",
    "\n",
    "    encoder_optimizer.zero_grad()\n",
    "    decoder_optimizer.zero_grad()\n",
    "\n",
    "    input_length = input_tensor.size(0)\n",
    "    target_length = target_tensor.size(0)\n",
    "\n",
    "    encoder_outputs = torch.zeros(max_length, encoder.hidden_size, device=device)\n",
    "\n",
    "    loss = 0\n",
    "\n",
    "    for ei in range(input_length):\n",
    "        encoder_output, encoder_hidden = encoder(\n",
    "            input_tensor[ei], encoder_hidden)\n",
    "        encoder_outputs[ei] = encoder_output[0, 0]\n",
    "\n",
    "    decoder_input = torch.tensor([[SOS_token]], device=device)\n",
    "\n",
    "    decoder_hidden = encoder_hidden\n",
    "\n",
    "    use_teacher_forcing = True if random.random() < teacher_forcing_ratio else False\n",
    "\n",
    "    if use_teacher_forcing:\n",
    "        # Teacher forcing: Feed the target as the next input\n",
    "        for di in range(target_length):\n",
    "            decoder_output, decoder_hidden, decoder_attention = decoder(\n",
    "                decoder_input, decoder_hidden, encoder_outputs)\n",
    "            loss += criterion(decoder_output, target_tensor[di])\n",
    "            decoder_input = target_tensor[di]  # Teacher forcing\n",
    "\n",
    "    else:\n",
    "        # Without teacher forcing: use its own predictions as the next input\n",
    "        for di in range(target_length):\n",
    "            decoder_output, decoder_hidden, decoder_attention = decoder(\n",
    "                decoder_input, decoder_hidden, encoder_outputs)\n",
    "            topv, topi = decoder_output.topk(1)\n",
    "            decoder_input = topi.squeeze().detach()  # detach from history as input\n",
    "\n",
    "            loss += criterion(decoder_output, target_tensor[di])\n",
    "            if decoder_input.item() == EOS_token:\n",
    "                break\n",
    "\n",
    "    loss.backward()\n",
    "\n",
    "    encoder_optimizer.step()\n",
    "    decoder_optimizer.step()\n",
    "\n",
    "    return loss.item() / target_length"
   ]
  },
  {
   "cell_type": "code",
   "execution_count": 85,
   "metadata": {},
   "outputs": [],
   "source": [
    "import time\n",
    "import math\n",
    "\n",
    "def asMinutes(s):\n",
    "    m = math.floor(s / 60)\n",
    "    s -= m * 60\n",
    "    return f'{int(m):2d}分 {int(s):2d}秒'\n",
    "    return '%dm %ds' % (m, s)\n",
    "\n",
    "\n",
    "def timeSince(since, percent):\n",
    "    now = time.time()\n",
    "    s = now - since\n",
    "    es = s / (percent)\n",
    "    rs = es - s\n",
    "    #return '%s (- %s)' % (asMinutes(s), asMinutes(rs))\n",
    "    return f'経過時間:{asMinutes(s)} (残り時間 {asMinutes(rs)})'"
   ]
  },
  {
   "cell_type": "code",
   "execution_count": 86,
   "metadata": {},
   "outputs": [],
   "source": [
    "# 訳注：一般には，`fit()` あるいは `train()` などと命名される関数，訓練を n_iters だけ繰り返す\n",
    "def trainIters(encoder, decoder, n_iters, print_every=1000, plot_every=100, learning_rate=0.01):\n",
    "    start = time.time()\n",
    "    plot_losses = []\n",
    "    print_loss_total = 0  # Reset every print_every\n",
    "    plot_loss_total = 0  # Reset every plot_every\n",
    "\n",
    "    encoder_optimizer = optim.SGD(encoder.parameters(), lr=learning_rate)\n",
    "    decoder_optimizer = optim.SGD(decoder.parameters(), lr=learning_rate)\n",
    "    training_pairs = [tensorsFromPair(random.choice(pairs))\n",
    "                      for i in range(n_iters)]\n",
    "    criterion = nn.NLLLoss()\n",
    "\n",
    "    for iter in range(1, n_iters + 1):\n",
    "        training_pair = training_pairs[iter - 1]\n",
    "        input_tensor = training_pair[0]\n",
    "        target_tensor = training_pair[1]\n",
    "\n",
    "        loss = train(input_tensor, target_tensor, encoder,\n",
    "                     decoder, encoder_optimizer, decoder_optimizer, criterion)\n",
    "        print_loss_total += loss\n",
    "        plot_loss_total += loss\n",
    "\n",
    "        if iter % print_every == 0:\n",
    "            print_loss_avg = print_loss_total / print_every\n",
    "            print_loss_total = 0\n",
    "            #print('%s (%d %d%%) %.4f' % (timeSince(start, iter / n_iters),\n",
    "            #                             iter, iter / n_iters * 100, print_loss_avg))\n",
    "            print(f'{timeSince(start, iter / n_iters)} (反復回数: {iter:5d} 割合:{iter/n_iters:.2f}) 損失: {print_loss_avg:.2f}')\n",
    "\n",
    "        if iter % plot_every == 0:\n",
    "            plot_loss_avg = plot_loss_total / plot_every\n",
    "            plot_losses.append(plot_loss_avg)\n",
    "            plot_loss_total = 0\n",
    "\n",
    "    showPlot(plot_losses)"
   ]
  },
  {
   "cell_type": "markdown",
   "metadata": {},
   "source": [
    "## B3.3 結果のプロット"
   ]
  },
  {
   "cell_type": "code",
   "execution_count": 87,
   "metadata": {},
   "outputs": [],
   "source": [
    "import matplotlib.pyplot as plt\n",
    "#backend が 'agg' だと動作しない場合があるのでコメントアウト\n",
    "#plt.switch_backend('agg')\n",
    "import matplotlib.ticker as ticker\n",
    "import numpy as np\n",
    "\n",
    "def showPlot(points):\n",
    "    plt.figure()\n",
    "    fig, ax = plt.subplots()\n",
    "    # this locator puts ticks at regular intervals\n",
    "    loc = ticker.MultipleLocator(base=0.2)\n",
    "    ax.yaxis.set_major_locator(loc)\n",
    "    plt.plot(points)"
   ]
  },
  {
   "cell_type": "markdown",
   "metadata": {},
   "source": [
    "## B4. 評価"
   ]
  },
  {
   "cell_type": "code",
   "execution_count": 88,
   "metadata": {},
   "outputs": [],
   "source": [
    "def evaluate(encoder, decoder, sentence, max_length=MAX_LENGTH):\n",
    "    with torch.no_grad():\n",
    "        input_tensor = tensorFromSentence(input_lang, sentence)\n",
    "        input_length = input_tensor.size()[0]\n",
    "        encoder_hidden = encoder.initHidden()\n",
    "\n",
    "        encoder_outputs = torch.zeros(max_length, encoder.hidden_size, device=device)\n",
    "\n",
    "        for ei in range(input_length):\n",
    "            encoder_output, encoder_hidden = encoder(input_tensor[ei],\n",
    "                                                     encoder_hidden)\n",
    "            encoder_outputs[ei] += encoder_output[0, 0]\n",
    "\n",
    "        decoder_input = torch.tensor([[SOS_token]], device=device)  # SOS\n",
    "\n",
    "        decoder_hidden = encoder_hidden\n",
    "\n",
    "        decoded_words = []\n",
    "        decoder_attentions = torch.zeros(max_length, max_length)\n",
    "\n",
    "        for di in range(max_length):\n",
    "            decoder_output, decoder_hidden, decoder_attention = decoder(\n",
    "                decoder_input, decoder_hidden, encoder_outputs)\n",
    "            decoder_attentions[di] = decoder_attention.data\n",
    "            topv, topi = decoder_output.data.topk(1)\n",
    "            if topi.item() == EOS_token:\n",
    "                decoded_words.append('<EOS>')\n",
    "                break\n",
    "            else:\n",
    "                decoded_words.append(output_lang.index2word[topi.item()])\n",
    "\n",
    "            decoder_input = topi.squeeze().detach()\n",
    "\n",
    "        return decoded_words, decoder_attentions[:di + 1]"
   ]
  },
  {
   "cell_type": "code",
   "execution_count": 89,
   "metadata": {},
   "outputs": [],
   "source": [
    "def evaluateRandomly(encoder, decoder, n=10):\n",
    "    for i in range(n):\n",
    "        pair = random.choice(pairs)\n",
    "        print('入力文: ', pair[0])\n",
    "        print('正解文: ', pair[1])\n",
    "        output_words, attentions = evaluate(encoder, decoder, pair[0])\n",
    "        output_sentence = ' '.join(output_words)\n",
    "        print('出力文: ', output_sentence)\n",
    "        print('')"
   ]
  },
  {
   "cell_type": "markdown",
   "metadata": {},
   "source": [
    "## B5. 訓練と評価 "
   ]
  },
  {
   "cell_type": "code",
   "execution_count": null,
   "metadata": {},
   "outputs": [],
   "source": [
    "%%time\n",
    "hidden_size = 256\n",
    "encoder1 = EncoderRNN(input_lang.n_words, hidden_size).to(device)\n",
    "attn_decoder1 = AttnDecoderRNN(hidden_size, output_lang.n_words, dropout_p=0.1).to(device)\n",
    "\n",
    "#trainIters(encoder1, attn_decoder1, 3250, print_every=250)\n",
    "trainIters(encoder1, attn_decoder1, 7500, print_every=1000)\n",
    "#trainIters(encoder1, attn_decoder1, 75000, print_every=5000)"
   ]
  },
  {
   "cell_type": "code",
   "execution_count": null,
   "metadata": {},
   "outputs": [],
   "source": [
    "# 訓練が足りなかったら，あるいは，じゅう文に学習した結果を見たければこのセルを実行してください\n",
    "trainIters(encoder1, attn_decoder1, 75000, print_every=5000)"
   ]
  },
  {
   "cell_type": "code",
   "execution_count": 90,
   "metadata": {},
   "outputs": [
    {
     "name": "stdout",
     "output_type": "stream",
     "text": [
      "経過時間: 0分  1秒 (残り時間  0分 13秒) (反復回数:    30 割合:0.10) 損失: 2.61\n",
      "経過時間: 0分  3秒 (残り時間  0分 12秒) (反復回数:    60 割合:0.20) 損失: 2.91\n",
      "経過時間: 0分  4秒 (残り時間  0分 10秒) (反復回数:    90 割合:0.30) 損失: 3.02\n",
      "経過時間: 0分  6秒 (残り時間  0分  9秒) (反復回数:   120 割合:0.40) 損失: 3.16\n",
      "経過時間: 0分  7秒 (残り時間  0分  7秒) (反復回数:   150 割合:0.50) 損失: 3.11\n",
      "経過時間: 0分  9秒 (残り時間  0分  6秒) (反復回数:   180 割合:0.60) 損失: 2.59\n",
      "経過時間: 0分 10秒 (残り時間  0分  4秒) (反復回数:   210 割合:0.70) 損失: 2.75\n",
      "経過時間: 0分 12秒 (残り時間  0分  3秒) (反復回数:   240 割合:0.80) 損失: 2.87\n",
      "経過時間: 0分 13秒 (残り時間  0分  1秒) (反復回数:   270 割合:0.90) 損失: 2.72\n",
      "経過時間: 0分 15秒 (残り時間  0分  0秒) (反復回数:   300 割合:1.00) 損失: 3.14\n",
      "入力文:  お前 なんか 、 もう 必要 ない 。\n",
      "正解文:  お前 なんか 、 もう 必要 ない 。\n",
      "出力文:  もう 、 、 、 て ない 。 <EOS>\n",
      "\n",
      "入力文:  トム の 住所 知っ てる ?\n",
      "正解文:  トム の 住所 知っ てる ?\n",
      "出力文:  トム は トム てる てる ? <EOS>\n",
      "\n",
      "入力文:  トイレ を 借り て も いい です か 。\n",
      "正解文:  トイレ を 借り て も いい です か 。\n",
      "出力文:  何 を て て も いい です か 。 <EOS>\n",
      "\n",
      "入力文:  俺 たち に つい て こい 。\n",
      "正解文:  俺 たち に つい て こい 。\n",
      "出力文:  その に に に て て 。 <EOS>\n",
      "\n",
      "入力文:  あいつ の こと を 頼れ ば いい よ 。\n",
      "正解文:  あいつ の こと を 頼れ ば いい よ 。\n",
      "出力文:  君 の を を を な の よ 。 <EOS>\n",
      "\n",
      "入力文:  来週 は 忙しく なり そう だ 。\n",
      "正解文:  来週 は 忙しく なり そう だ 。\n",
      "出力文:  その は とても そう そう だ 。 <EOS>\n",
      "\n",
      "入力文:  彼 は いつ も 彼女 を 誉める 。\n",
      "正解文:  彼 は いつ も 彼女 を 誉める 。\n",
      "出力文:  彼 は 私 と 私 を ください 。 <EOS>\n",
      "\n",
      "入力文:  アイス 早く 食べ ない と 溶け ちゃう よ 。\n",
      "正解文:  アイス 早く 食べ ない と 溶け ちゃう よ 。\n",
      "出力文:  君 と ない と ない な の よ 。 <EOS>\n",
      "\n",
      "入力文:  彼女 の 感情 は 傷つき やすい 。\n",
      "正解文:  彼女 の 感情 は 傷つき やすい 。\n",
      "出力文:  私 は は は が 悪い 。 <EOS>\n",
      "\n",
      "入力文:  トム が 行く なら 私 も 行く 。\n",
      "正解文:  トム が 行く なら 私 も 行く 。\n",
      "出力文:  トム は 私 の も も いる 。 <EOS>\n",
      "\n"
     ]
    },
    {
     "data": {
      "text/plain": [
       "<Figure size 432x288 with 0 Axes>"
      ]
     },
     "metadata": {},
     "output_type": "display_data"
    },
    {
     "data": {
      "image/png": "[encoded data removed]",
      "text/plain": [
       "<Figure size 432x288 with 1 Axes>"
      ]
     },
     "metadata": {
      "needs_background": "light"
     },
     "output_type": "display_data"
    }
   ],
   "source": [
    "trainIters(encoder1, attn_decoder1, 300, print_every=30)\n",
    "evaluateRandomly(encoder1, attn_decoder1)"
   ]
  },
  {
   "cell_type": "markdown",
   "metadata": {},
   "source": [
    "## B6. 注意の可視化"
   ]
  },
  {
   "cell_type": "code",
   "execution_count": 91,
   "metadata": {},
   "outputs": [
    {
     "data": {
      "text/plain": [
       "<matplotlib.image.AxesImage at 0x7ff3cccdc9d0>"
      ]
     },
     "execution_count": 91,
     "metadata": {},
     "output_type": "execute_result"
    },
    {
     "data": {
      "image/png": "[encoded data removed]",
      "text/plain": [
       "<Figure size 411.429x288 with 1 Axes>"
      ]
     },
     "metadata": {
      "needs_background": "light"
     },
     "output_type": "display_data"
    }
   ],
   "source": [
    "output_words, attentions = evaluate(\n",
    "    encoder1, attn_decoder1, \"怖く なん て ない さ\")\n",
    "plt.matshow(attentions.numpy())"
   ]
  },
  {
   "cell_type": "code",
   "execution_count": 92,
   "metadata": {},
   "outputs": [],
   "source": [
    "import importlib\n",
    "import japanize_matplotlib"
   ]
  },
  {
   "cell_type": "code",
   "execution_count": 93,
   "metadata": {},
   "outputs": [
    {
     "name": "stdout",
     "output_type": "stream",
     "text": [
      "input = 注意 に 注意 し な さ い 。\n",
      "output = 君 に こと な な で ない 。 <EOS>\n"
     ]
    },
    {
     "name": "stderr",
     "output_type": "stream",
     "text": [
      "/var/folders/6g/j7x38zn134n7vlw9jj56rdww0000gn/T/ipykernel_19790/2750690556.py:9: UserWarning: FixedFormatter should only be used together with FixedLocator\n",
      "  ax.set_xticklabels([''] + input_sentence.split(' ') +\n",
      "/var/folders/6g/j7x38zn134n7vlw9jj56rdww0000gn/T/ipykernel_19790/2750690556.py:11: UserWarning: FixedFormatter should only be used together with FixedLocator\n",
      "  ax.set_yticklabels([''] + output_words)\n"
     ]
    },
    {
     "data": {
      "image/png": "[encoded data removed]",
      "text/plain": [
       "<Figure size 640x480 with 2 Axes>"
      ]
     },
     "metadata": {},
     "output_type": "display_data"
    }
   ],
   "source": [
    "def showAttention(input_sentence, output_words, attentions):\n",
    "    # Set up figure with colorbar\n",
    "    fig = plt.figure()\n",
    "    ax = fig.add_subplot(111)\n",
    "    cax = ax.matshow(attentions.numpy(), cmap='bone')\n",
    "    fig.colorbar(cax)\n",
    "\n",
    "    # Set up axes\n",
    "    ax.set_xticklabels([''] + input_sentence.split(' ') +\n",
    "                       ['<EOS>'], rotation=90)\n",
    "    ax.set_yticklabels([''] + output_words)\n",
    "\n",
    "    # Show label at every tick\n",
    "    ax.xaxis.set_major_locator(ticker.MultipleLocator(1))\n",
    "    ax.yaxis.set_major_locator(ticker.MultipleLocator(1))\n",
    "\n",
    "    plt.show()\n",
    "\n",
    "\n",
    "def evaluateAndShowAttention(input_sentence):\n",
    "    output_words, attentions = evaluate(\n",
    "        encoder1, attn_decoder1, input_sentence)\n",
    "    print('input =', input_sentence)\n",
    "    print('output =', ' '.join(output_words))\n",
    "    showAttention(input_sentence, output_words, attentions)\n",
    "\n",
    "import matplotlib\n",
    "#matplotlib.use('agg')\n",
    "matplotlib = importlib.reload(matplotlib)\n",
    "#matplotlib.use('MacOSX')    \n",
    "#matplotlib.use('TKAgg',force=True)\n",
    "##import matplotlib.ticker as ticker\n",
    "\n",
    "evaluateAndShowAttention(\"注意 に 注意 し な さ い 。\")\n",
    "#evaluateAndShowAttention(\"elle est trop petit .\")\n",
    "#evaluateAndShowAttention(\"je ne crains pas de mourir .\")\n",
    "#evaluateAndShowAttention(\"c est un jeune directeur plein de talent .\")"
   ]
  },
  {
   "cell_type": "code",
   "execution_count": null,
   "metadata": {},
   "outputs": [],
   "source": []
  }
 ],
 "metadata": {
  "colab": {
   "collapsed_sections": [],
   "name": "2022_0115seq2seq_translation_tutorial.ipynb",
   "provenance": []
  },
  "kernelspec": {
   "display_name": "Python 3 (ipykernel)",
   "language": "python",
   "name": "python3"
  },
  "language_info": {
   "codemirror_mode": {
    "name": "ipython",
    "version": 3
   },
   "file_extension": ".py",
   "mimetype": "text/x-python",
   "name": "python",
   "nbconvert_exporter": "python",
   "pygments_lexer": "ipython3",
   "version": "3.9.7"
  },
  "widgets": {
   "application/vnd.jupyter.widget-state+json": {
    "state": {},
    "version_major": 2,
    "version_minor": 0
   }
  }
 },
 "nbformat": 4,
 "nbformat_minor": 4
}
