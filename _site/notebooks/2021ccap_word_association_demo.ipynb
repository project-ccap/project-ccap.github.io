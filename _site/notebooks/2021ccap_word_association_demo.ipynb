{
  "nbformat": 4,
  "nbformat_minor": 0,
  "metadata": {
    "colab": {
      "name": "Copy of 2021ccap_word_association_demo.ipynb",
      "provenance": [],
      "collapsed_sections": [],
      "include_colab_link": true
    },
    "kernelspec": {
      "display_name": "Python 3",
      "language": "python",
      "name": "python3"
    }
  },
  "cells": [
    {
      "cell_type": "markdown",
      "metadata": {
        "id": "view-in-github",
        "colab_type": "text"
      },
      "source": [
        "<a href=\"https://colab.research.google.com/github/project-ccap/project-ccap.github.io/blob/master/notebooks/2021ccap_word_association_demo.ipynb\" target=\"_parent\"><img src=\"https://colab.research.google.com/assets/colab-badge.svg\" alt=\"Open In Colab\"/></a>"
      ]
    },
    {
      "cell_type": "markdown",
      "metadata": {
        "id": "b31yw4PFDP7r"
      },
      "source": [
        "# 2021ccap word2vec による単語連想課題のデモ\n",
        "\n",
        "<div align='right'>\n",
        "<a href='mailto:asakawa@ieee.org'>Shin Aasakawa</a>, all rights reserved.<br>\n",
        "Date: 05/Feb/2021<br>\n",
        " MIT license\n",
        "</div>"
      ]
    },
    {
      "cell_type": "code",
      "metadata": {
        "id": "5NOJVZZMC0TJ"
      },
      "source": [
        "# -*- coding: utf-8 -*-\n",
        "from six.moves.urllib import request\n",
        "\n",
        "import numpy as np\n",
        "import os\n",
        "import sys\n",
        "import time\n",
        "import gensim"
      ],
      "execution_count": null,
      "outputs": []
    },
    {
      "cell_type": "code",
      "metadata": {
        "id": "f4JI08HKVC_W"
      },
      "source": [
        "# word2vec の訓練済モデルを入手\n",
        "!wget http://www.cis.twcu.ac.jp/~asakawa/2017jpa/2017Jul_jawiki-wakati_neologd_hid200_win20_neg20_cbow.bin.gz\n",
        "#!wget http://www.cis.twcu.ac.jp/~asakawa/2017jpa/2017Jul_jawiki-wakati_neologd_hid200_win20_neg20_sgns.bin.gz\n",
        "#!wget http://www.cis.twcu.ac.jp/~asakawa/2017jpa/2017Jul_jawiki-wakati_neologd_hid300_win20_neg20_sgns.bin.gz'\n",
        "#!wget http://www.cis.twcu.ac.jp/~asakawa/2017jpa/2017Jul_jawiki-wakati_neologd_hid200_win20_neg20_cbow.bin.g"
      ],
      "execution_count": null,
      "outputs": []
    },
    {
      "cell_type": "code",
      "metadata": {
        "id": "Yqfd5fBcC0Tw"
      },
      "source": [
        "word2vec_file='2017Jul_jawiki-wakati_neologd_hid200_win20_neg20_cbow.bin.gz'\n",
        "model = gensim.models.KeyedVectors.load_word2vec_format(word2vec_file, \n",
        "                                                        encoding='utf-8', \n",
        "                                                        unicode_errors='replace', \n",
        "                                                        binary=True)\n",
        "w2v = model"
      ],
      "execution_count": null,
      "outputs": []
    },
    {
      "cell_type": "code",
      "metadata": {
        "id": "MLgAKPceC0T2"
      },
      "source": [
        "# まずは word2vec の確認\n",
        "w2v.most_similar(positive=['woman', 'king'], negative=['man'], topn=5)"
      ],
      "execution_count": null,
      "outputs": []
    },
    {
      "cell_type": "code",
      "metadata": {
        "id": "dORxdWn4C0T7"
      },
      "source": [
        "# 読み込んだモデルは日本語モデルなので日本語で検討\n",
        "w2v.most_similar(positive=['王','女'], negative=['男'], topn=10)"
      ],
      "execution_count": null,
      "outputs": []
    },
    {
      "cell_type": "code",
      "metadata": {
        "id": "6-43g9qSC0T_"
      },
      "source": [
        "# 今回の元になった論文による結果\n",
        "from IPython.display import SVG, display, HTML\n",
        "github_base = 'https://raw.githubusercontent.com/project-ccap/project-ccap.github.io/master/figures/'\n",
        "SVG(url=github_base+'2018Rotaru_fig3.svg')"
      ],
      "execution_count": null,
      "outputs": []
    },
    {
      "cell_type": "code",
      "metadata": {
        "id": "ZbsVQ2ZaC0UC"
      },
      "source": [
        "!pip install --upgrade jaconv japanize_matplotlib "
      ],
      "execution_count": null,
      "outputs": []
    },
    {
      "cell_type": "code",
      "metadata": {
        "id": "fOROcyBts_YR"
      },
      "source": [
        "import time"
      ],
      "execution_count": null,
      "outputs": []
    },
    {
      "cell_type": "code",
      "metadata": {
        "id": "JwDbFhUmC0UE"
      },
      "source": [
        "def free_word_assoc(word, topn=10, beta=0.03, n_seq=10, seed=int(time.time()), verbose=False, w2v=w2v):\n",
        "    \"\"\"\n",
        "    自由連想課題のシミュレーション: 単語 word を刺激語として逐次自由連想を繰り返す\n",
        "    パラメータ:\n",
        "        word: 刺激語 \n",
        "        topn: 想起する単語の最大数，上位 topn 個の単語までが考慮される(int)\n",
        "        beta: 温度パラメータ，低いと決定論的に振る舞い，高いとその都度振る舞いが異なる(float)\n",
        "        seed: 乱数の種 指定しなければ現在の時刻を用いる。指定すると再現性が保たれる (int) \n",
        "        verbose: 冗長な出力を行う (bool)\n",
        "        w2v: word2vec の本体\n",
        "    \"\"\"\n",
        "    np.random.seed(seed)\n",
        "    ret = []\n",
        "    for i in range(n_seq):\n",
        "        vec = w2v.similar_by_word(word, topn=topn)\n",
        "        sims = np.array([x[1] for x in vec][1:])\n",
        "        names = [x[0] for x in vec][1:]\n",
        "        prob = np.exp(sims/beta) / np.exp(sims/beta).sum()\n",
        "        word = np.random.choice(names,p=prob)\n",
        "        ret.append(word)\n",
        "        if verbose:\n",
        "            print(word, end=\"\")\n",
        "            print(' :', names.index(word)+1, names, prob)\n",
        "    return ret\n",
        "\n",
        "free_word_assoc('ネコ', n_seq=5, beta=0.02, verbose=False)"
      ],
      "execution_count": null,
      "outputs": []
    },
    {
      "cell_type": "code",
      "metadata": {
        "id": "1c308SFDC0UU"
      },
      "source": [
        "free_word_assoc('NTT')"
      ],
      "execution_count": null,
      "outputs": []
    },
    {
      "cell_type": "code",
      "metadata": {
        "id": "0slKlslIC0UW"
      },
      "source": [
        "free_word_assoc('東京')\n"
      ],
      "execution_count": null,
      "outputs": []
    },
    {
      "cell_type": "code",
      "metadata": {
        "id": "MYJmb27mC0UY"
      },
      "source": [
        "free_word_assoc('女性')"
      ],
      "execution_count": null,
      "outputs": []
    },
    {
      "cell_type": "code",
      "metadata": {
        "id": "YRpEWDtWC0Ua"
      },
      "source": [
        "for  word in 'computer', 'コンピュータ':\n",
        "    print(free_word_assoc(word))"
      ],
      "execution_count": null,
      "outputs": []
    },
    {
      "cell_type": "code",
      "metadata": {
        "id": "ZDT_IqOKC0Ui"
      },
      "source": [
        "for word in 'コーヒー', '紅茶':\n",
        "    print(free_word_assoc(word,n_seq=3))"
      ],
      "execution_count": null,
      "outputs": []
    },
    {
      "cell_type": "code",
      "metadata": {
        "id": "4xl2jP8eC0Uk"
      },
      "source": [
        "for word in 'ビール', '日本酒':\n",
        "    print(free_word_assoc(word,n_seq=5))"
      ],
      "execution_count": null,
      "outputs": []
    }
  ]
}