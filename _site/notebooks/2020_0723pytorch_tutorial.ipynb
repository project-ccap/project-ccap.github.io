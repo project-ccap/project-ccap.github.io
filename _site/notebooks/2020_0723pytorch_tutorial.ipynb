{
  "nbformat": 4,
  "nbformat_minor": 0,
  "metadata": {
    "kernelspec": {
      "display_name": "Python 3",
      "language": "python",
      "name": "python3"
    },
    "language_info": {
      "codemirror_mode": {
        "name": "ipython",
        "version": 3
      },
      "file_extension": ".py",
      "mimetype": "text/x-python",
      "name": "python",
      "nbconvert_exporter": "python",
      "pygments_lexer": "ipython3",
      "version": "3.6.8"
    },
    "colab": {
      "name": "2020-0723pytorch_tutorial.ipynb",
      "provenance": [],
      "include_colab_link": true
    }
  },
  "cells": [
    {
      "cell_type": "markdown",
      "metadata": {
        "id": "view-in-github",
        "colab_type": "text"
      },
      "source": [
        "<a href=\"https://colab.research.google.com/github/project-ccap/project-ccap.github.io/blob/master/notebooks/2020_0723pytorch_tutorial.ipynb\" target=\"_parent\"><img src=\"https://colab.research.google.com/assets/colab-badge.svg\" alt=\"Open In Colab\"/></a>"
      ]
    },
    {
      "cell_type": "markdown",
      "metadata": {
        "id": "d2Ezm_N3Fag7",
        "colab_type": "text"
      },
      "source": [
        "# PyTorch tutorial の内容について\n",
        "\n",
        "[https://github.com/pytorch/tutorials/tree/master/beginner_source/nlp](https://github.com/pytorch/tutorials/tree/master/beginner_source/nlp) を見ると\n",
        "PyTorch で 自然言語処理を行う場合のチュートリアルは以下とおりである\n",
        "\n",
        "```\n",
        "Deep Learning for NLP with Pytorch\n",
        "----------------------------------\n",
        "\n",
        "1. pytorch_tutorial.py\n",
        "\tIntroduction to PyTorch\n",
        "\thttps://pytorch.org/tutorials/beginner/nlp/pytorch_tutorial.html\n",
        "\n",
        "2. deep_learning_tutorial.py\n",
        "\tDeep Learning with PyTorch\n",
        "\thttps://pytorch.org/tutorials/beginner/nlp/deep_learning_tutorial.html\n",
        "\n",
        "3. word_embeddings_tutorial.py\n",
        "\tWord Embeddings: Encoding Lexical Semantics\n",
        "\thttps://pytorch.org/tutorials/beginner/nlp/word_embeddings_tutorial.html\n",
        "\n",
        "4. sequence_models_tutorial.py\n",
        "\tSequence Models and Long-Short Term Memory Networks\n",
        "\thttps://pytorch.org/tutorials/beginner/nlp/sequence_models_tutorial.html\n",
        "\n",
        "5. advanced_tutorial.py\n",
        "\tAdvanced: Making Dynamic Decisions and the Bi-LSTM CRF\n",
        "\thttps://pytorch.org/tutorials/beginner/nlp/advanced_tutorial.html\n",
        "```\n",
        "\n",
        "以下では，このうちの 1 について解説している。\n"
      ]
    },
    {
      "cell_type": "code",
      "metadata": {
        "id": "CPOlAhSfCeze",
        "colab_type": "code",
        "colab": {}
      },
      "source": [
        "%matplotlib inline"
      ],
      "execution_count": null,
      "outputs": []
    },
    {
      "cell_type": "markdown",
      "metadata": {
        "id": "uArW8eC0Cezi",
        "colab_type": "text"
      },
      "source": [
        "---\n",
        "- original: https://colab.research.google.com/github/pytorch/tutorials/blob/gh-pages/_downloads/7e00f82429a7b691e42bb5828dbb036e/pytorch_tutorial.ipynb\n",
        "- 注: この colab ファイルは PyTorch の公式チュートリアルからの翻訳に手を加えたものです。\n",
        "- date: 2020-0723\n",
        "---\n",
        "\n",
        "# Torch のテンソルライブラリ紹介 <!---Introduction to Torch's tensor library--->\n",
        "\n",
        "テンソルとは 2 次以上の次元を持つ行列の一般化であり，ディープラーニングモデルはすべてテンソルに関する計算です。\n",
        "これが何を意味するのかについては，後ほど詳しく説明します．まず，テンソルで何ができるかを見てみましょう．\n",
        "<!---\n",
        "All of deep learning is computations on tensors, which are generalizations of a matrix that can be indexed in more than 2 dimensions. \n",
        "We will see exactly what this means in-depth later. First, lets look what we can do with tensors.\n",
        "-->\n"
      ]
    },
    {
      "cell_type": "code",
      "metadata": {
        "id": "d13w0ClQCezi",
        "colab_type": "code",
        "colab": {
          "base_uri": "https://localhost:8080/",
          "height": 34
        },
        "outputId": "3e177fa8-4801-4511-9ce7-486cf65c26d2"
      },
      "source": [
        "# Author: Robert Guthrie\n",
        "\n",
        "import torch\n",
        "import torch.autograd as autograd\n",
        "import torch.nn as nn\n",
        "import torch.nn.functional as F\n",
        "import torch.optim as optim\n",
        "\n",
        "torch.manual_seed(1)"
      ],
      "execution_count": null,
      "outputs": [
        {
          "output_type": "execute_result",
          "data": {
            "text/plain": [
              "<torch._C.Generator at 0x7ff28f474430>"
            ]
          },
          "metadata": {
            "tags": []
          },
          "execution_count": 2
        }
      ]
    },
    {
      "cell_type": "markdown",
      "metadata": {
        "id": "QV0d8J6RCezk",
        "colab_type": "text"
      },
      "source": [
        "### テンソルの作成 \n",
        "\n",
        "テンソルは `torch.tesor()` 関数を使って作成される Python のリストです。\n",
        "<!--Tensors can be created from Python lists with the torch.tensor() function.-->\n",
        "\n",
        "\n"
      ]
    },
    {
      "cell_type": "code",
      "metadata": {
        "id": "259Ae29ZCezl",
        "colab_type": "code",
        "colab": {
          "base_uri": "https://localhost:8080/",
          "height": 153
        },
        "outputId": "3bdf7c62-c701-43bd-a69b-ece0468ffe91"
      },
      "source": [
        "# torch.tensor(data) により任意のデータを持つ  torch.Tensor オブジェクトが生成されます。 \n",
        "V_data = [1., 2., 3.]\n",
        "V = torch.tensor(V_data)\n",
        "print(V)\n",
        "\n",
        "# 行列を生成します \n",
        "M_data = [[1., 2., 3.], [4., 5., 6]]\n",
        "M = torch.tensor(M_data)\n",
        "print(M)\n",
        "\n",
        "# 2ｘ2ｘ2 の 3階テンソルを作成します\n",
        "T_data = [[[1., 2.], [3., 4.]],\n",
        "          [[5., 6.], [7., 8.]]]\n",
        "T = torch.tensor(T_data)\n",
        "print(T)"
      ],
      "execution_count": null,
      "outputs": [
        {
          "output_type": "stream",
          "text": [
            "tensor([1., 2., 3.])\n",
            "tensor([[1., 2., 3.],\n",
            "        [4., 5., 6.]])\n",
            "tensor([[[1., 2.],\n",
            "         [3., 4.]],\n",
            "\n",
            "        [[5., 6.],\n",
            "         [7., 8.]]])\n"
          ],
          "name": "stdout"
        }
      ]
    },
    {
      "cell_type": "markdown",
      "metadata": {
        "id": "aJ5IcSjGCezn",
        "colab_type": "text"
      },
      "source": [
        "What is a 3D tensor anyway? Think about it like this. If you have a\n",
        "vector, indexing into the vector gives you a scalar. If you have a\n",
        "matrix, indexing into the matrix gives you a vector. If you have a 3D\n",
        "tensor, then indexing into the tensor gives you a matrix!\n",
        "\n",
        "A note on terminology:\n",
        "when I say \"tensor\" in this tutorial, it refers\n",
        "to any torch.Tensor object. Matrices and vectors are special cases of\n",
        "torch.Tensors, where their dimension is 1 and 2 respectively. When I am\n",
        "talking about 3D tensors, I will explicitly use the term \"3D tensor\".\n",
        "\n",
        "\n"
      ]
    },
    {
      "cell_type": "code",
      "metadata": {
        "id": "9Zmyi8SNCezo",
        "colab_type": "code",
        "colab": {}
      },
      "source": [
        "# Index into V and get a scalar (0 dimensional tensor)\n",
        "print(V[0])\n",
        "# Get a Python number from it\n",
        "print(V[0].item())\n",
        "\n",
        "# Index into M and get a vector\n",
        "print(M[0])\n",
        "\n",
        "# Index into T and get a matrix\n",
        "print(T[0])"
      ],
      "execution_count": null,
      "outputs": []
    },
    {
      "cell_type": "markdown",
      "metadata": {
        "id": "muh8XQZFCezq",
        "colab_type": "text"
      },
      "source": [
        "You can also create tensors of other data types. To create a tensor of integer types, try\n",
        "torch.tensor([[1, 2], [3, 4]]) (where all elements in the list are integers).\n",
        "You can also specify a data type by passing in ``dtype=torch.data_type``.\n",
        "Check the documentation for more data types, but\n",
        "Float and Long will be the most common.\n",
        "\n",
        "\n"
      ]
    },
    {
      "cell_type": "markdown",
      "metadata": {
        "id": "uSUVc4U3Cezq",
        "colab_type": "text"
      },
      "source": [
        "You can create a tensor with random data and the supplied dimensionality\n",
        "with torch.randn()\n",
        "\n",
        "\n"
      ]
    },
    {
      "cell_type": "code",
      "metadata": {
        "id": "cFjzBY3pCezr",
        "colab_type": "code",
        "colab": {}
      },
      "source": [
        "x = torch.randn((3, 4, 5))\n",
        "print(x)"
      ],
      "execution_count": null,
      "outputs": []
    },
    {
      "cell_type": "markdown",
      "metadata": {
        "id": "mF1s0IhsCezt",
        "colab_type": "text"
      },
      "source": [
        "Operations with Tensors\n",
        "<!--~~~~~~~~~~~~~~~~~~~~~~~\n",
        "\n",
        "You can operate on tensors in the ways you would expect.\n",
        "-->\n"
      ]
    },
    {
      "cell_type": "code",
      "metadata": {
        "id": "Pm_DdY7DCezt",
        "colab_type": "code",
        "colab": {}
      },
      "source": [
        "x = torch.tensor([1., 2., 3.])\n",
        "y = torch.tensor([4., 5., 6.])\n",
        "z = x + y\n",
        "print(z)"
      ],
      "execution_count": null,
      "outputs": []
    },
    {
      "cell_type": "markdown",
      "metadata": {
        "id": "Nen9DdXgCezw",
        "colab_type": "text"
      },
      "source": [
        "See [`the documentation`](https://pytorch.org/docs/torch.html) for a complete list of the massive number of operations available to you. \n",
        "They expand beyond just mathematical operations.\n",
        "\n",
        "One helpful operation that we will make use of later is concatenation.\n",
        "\n",
        "\n"
      ]
    },
    {
      "cell_type": "code",
      "metadata": {
        "id": "Ro4-XgnbCezw",
        "colab_type": "code",
        "colab": {}
      },
      "source": [
        "# By default, it concatenates along the first axis (concatenates rows)\n",
        "x_1 = torch.randn(2, 5)\n",
        "y_1 = torch.randn(3, 5)\n",
        "z_1 = torch.cat([x_1, y_1])\n",
        "print(z_1)\n",
        "\n",
        "# Concatenate columns:\n",
        "x_2 = torch.randn(2, 3)\n",
        "y_2 = torch.randn(2, 5)\n",
        "# second arg specifies which axis to concat along\n",
        "z_2 = torch.cat([x_2, y_2], 1)\n",
        "print(z_2)\n",
        "\n",
        "# If your tensors are not compatible, torch will complain.  Uncomment to see the error\n",
        "# torch.cat([x_1, x_2])"
      ],
      "execution_count": null,
      "outputs": []
    },
    {
      "cell_type": "markdown",
      "metadata": {
        "id": "ZiXBkI3CCezy",
        "colab_type": "text"
      },
      "source": [
        "### Reshaping Tensors\n",
        "\n",
        "Use the .view() method to reshape a tensor. This method receives heavy\n",
        "use, because many neural network components expect their inputs to have\n",
        "a certain shape. Often you will need to reshape before passing your data\n",
        "to the component.\n",
        "\n",
        "\n"
      ]
    },
    {
      "cell_type": "code",
      "metadata": {
        "id": "a0W-OIRECezy",
        "colab_type": "code",
        "colab": {}
      },
      "source": [
        "x = torch.randn(2, 3, 4)\n",
        "print(x)\n",
        "print(x.view(2, 12))  # Reshape to 2 rows, 12 columns\n",
        "# Same as above.  If one of the dimensions is -1, its size can be inferred\n",
        "print(x.view(2, -1))"
      ],
      "execution_count": null,
      "outputs": []
    },
    {
      "cell_type": "markdown",
      "metadata": {
        "id": "G8skymd9Cez1",
        "colab_type": "text"
      },
      "source": [
        "Computation Graphs and Automatic Differentiation\n",
        "================================================\n",
        "\n",
        "The concept of a computation graph is essential to efficient deep\n",
        "learning programming, because it allows you to not have to write the\n",
        "back propagation gradients yourself. A computation graph is simply a\n",
        "specification of how your data is combined to give you the output. Since\n",
        "the graph totally specifies what parameters were involved with which\n",
        "operations, it contains enough information to compute derivatives. This\n",
        "probably sounds vague, so let's see what is going on using the\n",
        "fundamental flag ``requires_grad``.\n",
        "\n",
        "First, think from a programmers perspective. What is stored in the\n",
        "torch.Tensor objects we were creating above? Obviously the data and the\n",
        "shape, and maybe a few other things. But when we added two tensors\n",
        "together, we got an output tensor. All this output tensor knows is its\n",
        "data and shape. It has no idea that it was the sum of two other tensors\n",
        "(it could have been read in from a file, it could be the result of some\n",
        "other operation, etc.)\n",
        "\n",
        "If ``requires_grad=True``, the Tensor object keeps track of how it was\n",
        "created. Lets see it in action.\n",
        "\n",
        "\n"
      ]
    },
    {
      "cell_type": "code",
      "metadata": {
        "id": "HvVCcVBNCez1",
        "colab_type": "code",
        "colab": {}
      },
      "source": [
        "# Tensor factory methods have a ``requires_grad`` flag\n",
        "x = torch.tensor([1., 2., 3], requires_grad=True)\n",
        "\n",
        "# With requires_grad=True, you can still do all the operations you previously\n",
        "# could\n",
        "y = torch.tensor([4., 5., 6], requires_grad=True)\n",
        "z = x + y\n",
        "print(z)\n",
        "\n",
        "# BUT z knows something extra.\n",
        "print(z.grad_fn)"
      ],
      "execution_count": null,
      "outputs": []
    },
    {
      "cell_type": "markdown",
      "metadata": {
        "id": "cnc9rHszCez3",
        "colab_type": "text"
      },
      "source": [
        "So Tensors know what created them. z knows that it wasn't read in from\n",
        "a file, it wasn't the result of a multiplication or exponential or\n",
        "whatever. And if you keep following z.grad_fn, you will find yourself at\n",
        "x and y.\n",
        "\n",
        "But how does that help us compute a gradient?\n",
        "\n",
        "\n"
      ]
    },
    {
      "cell_type": "code",
      "metadata": {
        "id": "vgjkPw_vCez3",
        "colab_type": "code",
        "colab": {}
      },
      "source": [
        "# Lets sum up all the entries in z\n",
        "s = z.sum()\n",
        "print(s)\n",
        "print(s.grad_fn)"
      ],
      "execution_count": null,
      "outputs": []
    },
    {
      "cell_type": "markdown",
      "metadata": {
        "id": "pncS0SL2Cez6",
        "colab_type": "text"
      },
      "source": [
        "So now, what is the derivative of this sum with respect to the first\n",
        "component of x? In math, we want\n",
        "\n",
        "\\begin{align}\\frac{\\partial s}{\\partial x_0}\\end{align}\n",
        "\n",
        "\n",
        "\n",
        "Well, s knows that it was created as a sum of the tensor z. z knows\n",
        "that it was the sum x + y. So\n",
        "\n",
        "\\begin{align}s = \\overbrace{x_0 + y_0}^\\text{$z_0$} + \\overbrace{x_1 + y_1}^\\text{$z_1$} + \\overbrace{x_2 + y_2}^\\text{$z_2$}\\end{align}\n",
        "\n",
        "And so s contains enough information to determine that the derivative\n",
        "we want is 1!\n",
        "\n",
        "Of course this glosses over the challenge of how to actually compute\n",
        "that derivative. The point here is that s is carrying along enough\n",
        "information that it is possible to compute it. In reality, the\n",
        "developers of Pytorch program the sum() and + operations to know how to\n",
        "compute their gradients, and run the back propagation algorithm. An\n",
        "in-depth discussion of that algorithm is beyond the scope of this\n",
        "tutorial.\n",
        "\n",
        "\n"
      ]
    },
    {
      "cell_type": "markdown",
      "metadata": {
        "id": "Ef_BXEtVCez6",
        "colab_type": "text"
      },
      "source": [
        "Lets have Pytorch compute the gradient, and see that we were right:\n",
        "(note if you run this block multiple times, the gradient will increment.\n",
        "That is because Pytorch *accumulates* the gradient into the .grad\n",
        "property, since for many models this is very convenient.)\n",
        "\n",
        "\n"
      ]
    },
    {
      "cell_type": "code",
      "metadata": {
        "id": "2mnp1254Cez7",
        "colab_type": "code",
        "colab": {}
      },
      "source": [
        "# calling .backward() on any variable will run backprop, starting from it.\n",
        "s.backward()\n",
        "print(x.grad)"
      ],
      "execution_count": null,
      "outputs": []
    },
    {
      "cell_type": "markdown",
      "metadata": {
        "id": "r0U9twbUCez9",
        "colab_type": "text"
      },
      "source": [
        "Understanding what is going on in the block below is crucial for being a\n",
        "successful programmer in deep learning.\n",
        "\n",
        "\n"
      ]
    },
    {
      "cell_type": "code",
      "metadata": {
        "id": "DBhhZmQTCez9",
        "colab_type": "code",
        "colab": {}
      },
      "source": [
        "x = torch.randn(2, 2)\n",
        "y = torch.randn(2, 2)\n",
        "# By default, user created Tensors have ``requires_grad=False``\n",
        "print(x.requires_grad, y.requires_grad)\n",
        "z = x + y\n",
        "# So you can't backprop through z\n",
        "print(z.grad_fn)\n",
        "\n",
        "# ``.requires_grad_( ... )`` changes an existing Tensor's ``requires_grad``\n",
        "# flag in-place. The input flag defaults to ``True`` if not given.\n",
        "x = x.requires_grad_()\n",
        "y = y.requires_grad_()\n",
        "# z contains enough information to compute gradients, as we saw above\n",
        "z = x + y\n",
        "print(z.grad_fn)\n",
        "# If any input to an operation has ``requires_grad=True``, so will the output\n",
        "print(z.requires_grad)\n",
        "\n",
        "# Now z has the computation history that relates itself to x and y\n",
        "# Can we just take its values, and **detach** it from its history?\n",
        "new_z = z.detach()\n",
        "\n",
        "# ... does new_z have information to backprop to x and y?\n",
        "# NO!\n",
        "print(new_z.grad_fn)\n",
        "# And how could it? ``z.detach()`` returns a tensor that shares the same storage\n",
        "# as ``z``, but with the computation history forgotten. It doesn't know anything\n",
        "# about how it was computed.\n",
        "# In essence, we have broken the Tensor away from its past history"
      ],
      "execution_count": null,
      "outputs": []
    },
    {
      "cell_type": "markdown",
      "metadata": {
        "id": "6PAtAEAfCez_",
        "colab_type": "text"
      },
      "source": [
        "You can also stop autograd from tracking history on Tensors\n",
        "with ``.requires_grad``=True by wrapping the code block in\n",
        "``with torch.no_grad():``\n",
        "\n"
      ]
    },
    {
      "cell_type": "code",
      "metadata": {
        "id": "MFPqZj_MCez_",
        "colab_type": "code",
        "colab": {}
      },
      "source": [
        "print(x.requires_grad)\n",
        "print((x ** 2).requires_grad)\n",
        "\n",
        "with torch.no_grad():\n",
        "\tprint((x ** 2).requires_grad)"
      ],
      "execution_count": null,
      "outputs": []
    }
  ]
}