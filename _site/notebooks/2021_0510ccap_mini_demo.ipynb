{
  "nbformat": 4,
  "nbformat_minor": 0,
  "metadata": {
    "kernelspec": {
      "display_name": "Python 3",
      "language": "python",
      "name": "python3"
    },
    "language_info": {
      "codemirror_mode": {
        "name": "ipython",
        "version": 3
      },
      "file_extension": ".py",
      "mimetype": "text/x-python",
      "name": "python",
      "nbconvert_exporter": "python",
      "pygments_lexer": "ipython3",
      "version": "3.7.9"
    },
    "colab": {
      "name": "2021_0510ccap_mini_demo.ipynb",
      "provenance": [],
      "include_colab_link": true
    }
  },
  "cells": [
    {
      "cell_type": "markdown",
      "metadata": {
        "id": "view-in-github",
        "colab_type": "text"
      },
      "source": [
        "<a href=\"https://colab.research.google.com/github/project-ccap/project-ccap.github.io/blob/master/notebooks/2021_0510ccap_mini_demo.ipynb\" target=\"_parent\"><img src=\"https://colab.research.google.com/assets/colab-badge.svg\" alt=\"Open In Colab\"/></a>"
      ]
    },
    {
      "cell_type": "markdown",
      "metadata": {
        "id": "HCd-RXCh96wZ"
      },
      "source": [
        "# CCAP デモ\n",
        "- date: 2021_0510\n",
        "- filename: 2021_0510ccap_demo.pynb\n",
        "- author: 浅川伸一\n",
        "- 概要:"
      ]
    },
    {
      "cell_type": "code",
      "metadata": {
        "id": "WIJhTDSlvmJm"
      },
      "source": [
        "#colab 上で MeCab をインストール際に，次行をコメントアウト\n",
        "!pip install mecab-python3==0.996.3\n",
        "import MeCab\n",
        "\n",
        "!pip install jaconv\n",
        "import jaconv\n",
        "\n",
        "import matplotlib.pyplot as plot\n",
        "!pip install japanize_matplotlib\n",
        "import japanize_matplotlib "
      ],
      "execution_count": null,
      "outputs": []
    },
    {
      "cell_type": "code",
      "metadata": {
        "id": "wkWVRTkOv8hu"
      },
      "source": [
        "from google.colab import files\n",
        "uploaded = files.upload()  # ここで tsne.py, ja_util.py, linalg_util.py, 2021_0510.pickle を \n"
      ],
      "execution_count": null,
      "outputs": []
    },
    {
      "cell_type": "code",
      "metadata": {
        "id": "5JN05y_txxyQ"
      },
      "source": [
        "#!ls -l *.pickle"
      ],
      "execution_count": 23,
      "outputs": []
    },
    {
      "cell_type": "code",
      "metadata": {
        "id": "yCLJZaoBxaV7"
      },
      "source": [
        "import pickle\n",
        "D = pickle.load(open(\"2021_0510.pickle\", \"rb\"))\n",
        "\n",
        "print(list(D))"
      ],
      "execution_count": null,
      "outputs": []
    },
    {
      "cell_type": "code",
      "metadata": {
        "id": "typUIMFS0x3t"
      },
      "source": [
        "!wget http://www.cis.twcu.ac.jp/~asakawa/2017jpa/2017Jul_jawiki-wakati_neologd_hid200_win20_neg20_cbow.bin.gz"
      ],
      "execution_count": null,
      "outputs": []
    },
    {
      "cell_type": "code",
      "metadata": {
        "colab": {
          "base_uri": "https://localhost:8080/"
        },
        "id": "Z6q-E4UPzKn_",
        "outputId": "c2f6a859-c101-413d-bdee-c01de045a2fb"
      },
      "source": [
        "import numpy as np\n",
        "# 表示精度桁数の設定\n",
        "np.set_printoptions(suppress=False, formatter={'float': '{:6.3f}'.format})\n",
        "\n",
        "# word2vec データ処理のため gensim を使う\n",
        "import os\n",
        "import sys\n",
        "from gensim.models import KeyedVectors\n",
        "from gensim.models import Word2Vec\n",
        "\n",
        "print('# word2vec データの読み込み')\n",
        "print('# 訓練済 word2vec，訓練データは wikipedia 全文  読み込みに時間がかかります...', end=\"\")\n",
        "# ファイルの所在に応じて変更してください\n",
        "w2v_base = '.'\n",
        "w2v_file = '2017Jul_jawiki-wakati_neologd_hid200_win20_neg20_cbow.bin.gz'\n",
        "#w2v_base = '/Users/asakawa/study/2016wikipedia/'\n",
        "#w2v_file = '2017Jul_jawiki-wakati_neologd_hid200_win20_neg20_cbow.bin.gz'\n",
        "#w2v_file = '2017Jul_jawiki-wakati_neologd_hid200_win20_neg10_cbow.bin.gz'\n",
        "#w2v_file = '2017Jul_jawiki-wakati_neologd_hid200_win20_neg20_sgns.bin.gz'\n",
        "#w2v_file = '2017Jul_jawiki-wakati_neologd_hid200_win20_neg10_sgns.bin.gz'\n",
        "asakawa_w2v_file = os.path.join(w2v_base, w2v_file)\n",
        "asakawa_w2v = KeyedVectors.load_word2vec_format(asakawa_w2v_file, \n",
        "                                                encoding='utf-8', \n",
        "                                                unicode_errors='replace',\n",
        "                                                binary=True) \n",
        "\n",
        "w2v = asakawa_w2v\n",
        "print('done')"
      ],
      "execution_count": 33,
      "outputs": [
        {
          "output_type": "stream",
          "text": [
            "# word2vec データの読み込み\n",
            "# 訓練済 word2vec，訓練データは wikipedia 全文  読み込みに時間がかかります...done\n"
          ],
          "name": "stdout"
        }
      ]
    },
    {
      "cell_type": "code",
      "metadata": {
        "id": "cshhgJH91gKU"
      },
      "source": [
        "%load_ext autoreload\n",
        "%autoreload 2\n",
        "import linalg_util\n",
        "import tsne"
      ],
      "execution_count": null,
      "outputs": []
    },
    {
      "cell_type": "code",
      "metadata": {
        "colab": {
          "base_uri": "https://localhost:8080/"
        },
        "id": "3DPOCPLs3JP8",
        "outputId": "dc41a013-069e-4ade-e69c-36caa825ec5a"
      },
      "source": [
        "%%time\n",
        "M_animal_norm = np.array([x/np.linalg.norm(x) for x in D['M_animal']])\n",
        "R_animal = M_animal_norm.dot(M_animal_norm.T)\n",
        "print(f'R_animal.shape: {R_animal.shape}')\n",
        "\n",
        "M_onmtp_norm = np.array([x/np.linalg.norm(x) for x in D['M_onmtp']])\n",
        "R_onmtp = M_onmtp_norm.dot(M_onmtp_norm.T)\n",
        "print(f'R_onmtp.shape: {R_onmtp.shape}')\n",
        "\n",
        "M_ntt_norm = np.array([x/np.linalg.norm(x) for x in D['M_ntt']]) \n",
        "R_ntt = M_ntt_norm.dot(M_ntt_norm.T)\n",
        "print(f'R_ntt.shape: {R_ntt.shape}')"
      ],
      "execution_count": 34,
      "outputs": [
        {
          "output_type": "stream",
          "text": [
            "R_animal.shape: (647, 647)\n",
            "R_onmtp.shape: (1636, 1636)\n",
            "R_ntt.shape: (4000, 4000)\n",
            "CPU times: user 611 ms, sys: 413 ms, total: 1.02 s\n",
            "Wall time: 783 ms\n"
          ],
          "name": "stdout"
        }
      ]
    },
    {
      "cell_type": "code",
      "metadata": {
        "id": "6htKbHzU1kB5"
      },
      "source": [
        "#基本単語を 元にした オノマトペ単語の近隣語\n",
        "def sim_O(word, n_best=10, \n",
        "          X_norm=M_onmtp_norm, Y_norm=M_ntt_norm,\n",
        "          X_list=D['onmtp_names'], Y_list=D['ntt3k_names']):\n",
        "    \n",
        "    SimMat = X_norm.dot(Y_norm.T)          # X x Yの類似度行列\n",
        "    assert word in Y_list, 'not exit'\n",
        "    \n",
        "    idx = Y_list.index(word)\n",
        "    sim_vec = SimMat.T[idx]\n",
        "    \n",
        "    idx_list = np.argsort(sim_vec)[::-1]\n",
        "    return [[X_list[idx],sim_vec[idx]] for idx in idx_list]\n",
        "\n",
        "\n",
        "#オノマトペを元にした 基本単語の近隣語\n",
        "def sim_B(word, n_best=10, \n",
        "          X_norm=M_ntt_norm, Y_norm=M_onmtp_norm, \n",
        "          X_list=D['ntt3k_names'], Y_list=D['onmtp_names']):\n",
        "    \n",
        "    SimMat = X_norm.dot(Y_norm.T)       # X x Y の類似度行列\n",
        "    assert word in Y_list, 'not exit'\n",
        "    \n",
        "    idx = Y_list.index(word)\n",
        "    sim_vec = SimMat[idx]\n",
        "    \n",
        "    idx_list = np.argsort(sim_vec)[::-1]\n",
        "    return [[X_list[idx], sim_vec[idx]] for idx in idx_list]"
      ],
      "execution_count": 35,
      "outputs": []
    },
    {
      "cell_type": "code",
      "metadata": {
        "colab": {
          "base_uri": "https://localhost:8080/"
        },
        "id": "1GMNU_S-2AWE",
        "outputId": "20921158-adea-4116-d24b-e0ec167f2051"
      },
      "source": [
        "n = 5\n",
        "topn = 10\n",
        "\n",
        "for i, w in enumerate(np.random.choice(D['onmtp_names'], n)):\n",
        "    print(f'{i+1:3d} {w:<10s}', end=\":\")\n",
        "    for x, p in sim_B(w)[:topn]:\n",
        "        print(f'({x}:{p:.3f}) ', end=\" \")\n",
        "    print()\n",
        "\n",
        "print()\n",
        "for i, w in enumerate(np.random.choice(D['ntt3k_names'], n)):\n",
        "    print(f'{i+1:3d} {w:<10s}', end=\":\")\n",
        "    for x, p in sim_O(w)[:topn]:\n",
        "        print(f'({x}:{p:.3f}) ', end=\" \")\n",
        "    print()"
      ],
      "execution_count": 38,
      "outputs": [
        {
          "output_type": "stream",
          "text": [
            "  1 ギンギン      :(成果:0.374)  (場合:0.335)  (権利:0.326)  (再び:0.320)  (手続き:0.314)  (安定:0.310)  (要望:0.299)  (外国:0.288)  (融資:0.286)  (取材:0.283)  \n",
            "  2 すかっ       :(隊:0.366)  (異なる:0.311)  (似る:0.292)  (印象:0.289)  (十六:0.285)  (中央:0.284)  (大使館:0.279)  (講演:0.269)  (推薦:0.262)  (続ける:0.256)  \n",
            "  3 コツコツ      :(値上げ:0.265)  (安定:0.265)  (高:0.262)  (両:0.262)  (伝える:0.231)  (際:0.229)  (赤字:0.223)  (動き:0.214)  (交換:0.209)  (始める:0.208)  \n",
            "  4 がぶっ       :(演出:0.298)  (年度:0.212)  (改めて:0.203)  (大蔵省:0.178)  (需要:0.169)  (市長:0.149)  (選挙:0.135)  (抑える:0.134)  (改革:0.132)  (重視:0.123)  \n",
            "  5 ぱくり       :(市長:0.225)  (支払う:0.204)  (地震:0.193)  (不良:0.190)  (運用:0.183)  (夜:0.172)  (開放:0.172)  (及ぶ:0.169)  (専門:0.167)  (解消:0.157)  \n",
            "\n",
            "  1 少し        :(だんだん:0.489)  (どんどん:0.455)  (しっかり:0.411)  (ふらふら:0.369)  (ボロボロ:0.354)  (きっ:0.341)  (バラバラ:0.335)  (ぼろぼろ:0.318)  (フラフラ:0.314)  (ぴったり:0.311)  \n",
            "  2 距離        :(ジグザグ:0.344)  (ぎりぎり:0.333)  (トン:0.306)  (ジリジリ:0.267)  (ドット:0.264)  (ギリギリ:0.246)  (パー:0.238)  (スルスル:0.238)  (ボタン:0.218)  (ズルズル:0.204)  \n",
            "  3 賛成        :(うやむや:0.253)  (すんなり:0.214)  (ハッタ:0.207)  (ぴらぴら:0.205)  (きっぱり:0.201)  (ペロン:0.195)  (うんざり:0.192)  (がっかり:0.184)  (はっきり:0.178)  (ドボン:0.172)  \n",
            "  4 守る        :(さらっ:0.313)  (ヨヨ:0.261)  (だっ:0.228)  (メラメラ:0.226)  (コロリン:0.221)  (ぴかり:0.217)  (ぬけぬけ:0.213)  (しっかり:0.209)  (シン:0.206)  (ギンギラギン:0.206)  \n",
            "  5 欠陥        :(メチャメチャ:0.253)  (すかすか:0.237)  (ごたごた:0.227)  (ヒクヒク:0.212)  (ぎりぎり:0.200)  (ゲーゲー:0.197)  (トロリ:0.197)  (バラバラ:0.189)  (うやむや:0.188)  (ずたずた:0.175)  \n"
          ],
          "name": "stdout"
        }
      ]
    },
    {
      "cell_type": "code",
      "metadata": {
        "colab": {
          "base_uri": "https://localhost:8080/"
        },
        "id": "dEnKw3072be-",
        "outputId": "2ada0f9f-da6e-43bc-d63b-b5c6843ce37b"
      },
      "source": [
        "topn = 5\n",
        "for word in ['大学', '学校']:\n",
        "    print(word, end=\":  \")\n",
        "    for x, p in sim_O(word)[:topn]:\n",
        "        print(f'({x}:{p:.3f}) ', end=\" \")\n",
        "    print()"
      ],
      "execution_count": 53,
      "outputs": [
        {
          "output_type": "stream",
          "text": [
            "大学:  (バキン:0.227)  (ボン:0.218)  (クラリ:0.210)  (ワラワラ:0.196)  (ハラリ:0.175)  \n",
            "学校:  (のびのび:0.254)  (バキン:0.241)  (あくせく:0.234)  (がっ:0.221)  (ハキハキ:0.207)  \n"
          ],
          "name": "stdout"
        }
      ]
    },
    {
      "cell_type": "code",
      "metadata": {
        "colab": {
          "base_uri": "https://localhost:8080/"
        },
        "id": "KwDlxvzz4iDL",
        "outputId": "e2f927ed-b789-4efc-da30-2f2d3d177ab5"
      },
      "source": [
        "topn = 5\n",
        "for word in ['ガッカリ', 'プリプリ']:\n",
        "    print(word, end=\":  \")\n",
        "    for x, p in sim_B(word)[:topn]:\n",
        "        print(f'({x}:{p:.3f}) ', end=\" \")\n",
        "    print()"
      ],
      "execution_count": 54,
      "outputs": [
        {
          "output_type": "stream",
          "text": [
            "ガッカリ:  (ドル:0.291)  (大使:0.288)  (届く:0.277)  (心:0.254)  (印象:0.242)  \n",
            "プリプリ:  (形:0.419)  (対抗:0.340)  (予算:0.316)  (税:0.293)  (実績:0.282)  \n"
          ],
          "name": "stdout"
        }
      ]
    },
    {
      "cell_type": "code",
      "metadata": {
        "id": "VPdSNZrB5NjJ"
      },
      "source": [
        ""
      ],
      "execution_count": null,
      "outputs": []
    }
  ]
}