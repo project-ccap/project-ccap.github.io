{
  "nbformat": 4,
  "nbformat_minor": 0,
  "metadata": {
    "kernelspec": {
      "display_name": "Python 3",
      "language": "python",
      "name": "python3"
    },
    "language_info": {
      "codemirror_mode": {
        "name": "ipython",
        "version": 3
      },
      "file_extension": ".py",
      "mimetype": "text/x-python",
      "name": "python",
      "nbconvert_exporter": "python",
      "pygments_lexer": "ipython3",
      "version": "3.7.9"
    },
    "toc-autonumbering": false,
    "toc-showcode": true,
    "toc-showmarkdowntxt": false,
    "toc-showtags": false,
    "colab": {
      "name": "2021-0301ccap_word2vec_onomatopea_projection.ipynb",
      "provenance": [],
      "include_colab_link": true
    }
  },
  "cells": [
    {
      "cell_type": "markdown",
      "metadata": {
        "id": "view-in-github",
        "colab_type": "text"
      },
      "source": [
        "<a href=\"https://colab.research.google.com/github/project-ccap/project-ccap.github.io/blob/master/notebooks/2021_0301ccap_word2vec_onomatopea_projection.ipynb\" target=\"_parent\"><img src=\"https://colab.research.google.com/assets/colab-badge.svg\" alt=\"Open In Colab\"/></a>"
      ]
    },
    {
      "cell_type": "markdown",
      "metadata": {
        "id": "z0JyqgH-u74S"
      },
      "source": [
        "# 日本語オノマトペ表現の単語ベクトル (word2vec) モデルによる理解\n",
        "\n",
        "- date: 2021-0301\n",
        "- author: 浅川伸一\n",
        "- lincense: MIT license\n",
        "- filename 2021kondo_onomatopea.ipynb\n",
        "\n",
        "使い方の詳細は内部にコメントとして記述しています。\n",
        "定義した射影空間，と <font color=\"teal\" size=\"+1\">歪んだ</font>射影空間への射影ベクトルを使った最近接語を表示します。\n",
        "\n"
      ]
    },
    {
      "cell_type": "code",
      "metadata": {
        "id": "H68ogUypu74X"
      },
      "source": [
        "#ひとつ下の '日本語オノマトペ辞典4500より.xls' は著作権の問題があり，公にできません。\n",
        "#別の方法で配布させていただきます。\n",
        "from google.colab import files\n",
        "uploaded = files.upload()"
      ],
      "execution_count": null,
      "outputs": []
    },
    {
      "cell_type": "code",
      "metadata": {
        "id": "Bwz6XUYru74Y"
      },
      "source": [
        "import os\n",
        "import sys\n",
        "from scipy import stats\n",
        "import pandas as pd\n",
        "import numpy as np\n",
        "np.set_printoptions(precision=2)\n",
        "\n",
        "!pip install jaconv\n",
        "import jaconv  # ひらがなカタカナ変換用 `pip install jaconv` してください\n",
        "\n",
        "#import matplotlib.pyplot as plt\n",
        "#import japanize_matplotlib  # matplotlib の日本語表示\n",
        "#%matplotlib inline\n",
        "\n",
        "\n",
        "# 2021/Jan 近藤先生からいただいたオノマトペ辞典のデータ\n",
        "# 著作権の問題が不明のため colab で利用可能データにしていませんのでご注意ください\n",
        "# データ置き場\n",
        "#ccap_base = '/Users/asakawa/study/2021ccap/notebooks'\n",
        "ccap_base = '.'\n",
        "\n",
        "# xlsx ファイルでは読み込めないため xls ファイルに変換して利用\n",
        "#onomatopea_excel = '日本語オノマトペ辞典4500より.xlsx'\n",
        "onomatopea_excel = '日本語オノマトペ辞典4500より.xls'\n",
        "\n",
        "# 実際のエクセルファイルの読み込み\n",
        "onmtp2761 = pd.read_excel(os.path.join(ccap_base, onomatopea_excel), sheet_name='2761語')\n",
        "\n",
        "# 読み込んだデータ確認のため印字\n",
        "print(len(list(onmtp2761['オノマトペ'])), ': データ数')\n",
        "first_n = 5  # 最初の first_n 個のデータをテスト表示\n",
        "print(list(onmtp2761['オノマトペ'])[:first_n], ':最初の', first_n, 'データを表示')"
      ],
      "execution_count": null,
      "outputs": []
    },
    {
      "cell_type": "code",
      "metadata": {
        "id": "u01sL-Wbu74Z"
      },
      "source": [
        "# word2vec データの読み込み\n",
        "# ローカルディスクから読み込むようになっています。colab でお使いの場合には\n",
        "# 適宜変更してください\n",
        "# word2vec の訓練済モデルを入手\n",
        "!wget http://www.cis.twcu.ac.jp/~asakawa/2017jpa/2017Jul_jawiki-wakati_neologd_hid200_win20_neg20_cbow.bin.gz\n",
        "#!wget http://www.cis.twcu.ac.jp/~asakawa/2017jpa/2017Jul_jawiki-wakati_neologd_hid200_win20_neg20_sgns.bin.gz\n",
        "#!wget http://www.cis.twcu.ac.jp/~asakawa/2017jpa/2017Jul_jawiki-wakati_neologd_hid300_win20_neg20_sgns.bin.gz'\n",
        "#!wget http://www.cis.twcu.ac.jp/~asakawa/2017jpa/2017Jul_jawiki-wakati_neologd_hid200_win20_neg20_cbow.bin.gz'\n",
        "#w2v_base = '/Users/asakawa/study/2016wikipedia/'\n",
        "w2v_base = '.'\n",
        "w2v_file = '2017Jul_jawiki-wakati_neologd_hid200_win20_neg20_cbow.bin.gz'"
      ],
      "execution_count": null,
      "outputs": []
    },
    {
      "cell_type": "code",
      "metadata": {
        "id": "z8EPDBpHu74Z"
      },
      "source": [
        "# word2vec の読み込み準備\n",
        "from gensim.models import KeyedVectors\n",
        "from gensim.models import Word2Vec"
      ],
      "execution_count": null,
      "outputs": []
    },
    {
      "cell_type": "code",
      "metadata": {
        "id": "ZviQ30W3u74Z"
      },
      "source": [
        "# 訓練済 word2vec，訓練データは wikipedia 全文  読み込みに時間がかかります\n",
        "# 2つ上のセルと同様，ローカルドライブから読み込むようになっています。\n",
        "#w2v_base = '/Users/asakawa/study/2016wikipedia/'\n",
        "w2v_base = '.'\n",
        "w2v_file = '2017Jul_jawiki-wakati_neologd_hid200_win20_neg20_cbow.bin.gz'\n",
        "#w2v_file = '2017Jul_jawiki-wakati_neologd_hid200_win20_neg10_cbow.bin.gz'\n",
        "#w2v_file = '2017Jul_jawiki-wakati_neologd_hid200_win20_neg20_sgns.bin.gz'\n",
        "#w2v_file = '2017Jul_jawiki-wakati_neologd_hid200_win20_neg10_sgns.bin.gz'\n",
        "asakawa_w2v_file = os.path.join(w2v_base, w2v_file)\n",
        "asakawa_w2v = KeyedVectors.load_word2vec_format(asakawa_w2v_file, \n",
        "                                                encoding='utf-8', \n",
        "                                                unicode_errors='replace',\n",
        "                                                binary=True) \n",
        "w2v = asakawa_w2v"
      ],
      "execution_count": null,
      "outputs": []
    },
    {
      "cell_type": "code",
      "metadata": {
        "id": "jJDLpxiWu74a"
      },
      "source": [
        "# オノマトペのうち，word2vec に登録があるかどうかを調査\n",
        "kana_entries = []\n",
        "kata_entries = []\n",
        "count = 0\n",
        "for word in list(onmtp2761['オノマトペ']):\n",
        "    count += 1\n",
        "    if word in w2v.vocab:\n",
        "        kana_entries.append(word)\n",
        "    else:\n",
        "        # オノマトペが word2vec 項目にない場合はカタカナに変換する\n",
        "        kata_w = jaconv.hira2kata(word)\n",
        "        if kata_w in w2v.vocab:\n",
        "            kata_entries.append(kata_w)\n",
        "            #onmtp2761['オノマトペ'][word] = kata_w\n",
        "\n",
        "print('There are', len(set(kana_entries)), 'kana onomatopea words in jawikipedia word2vec')\n",
        "print('There are', len(set(kata_entries)), 'katakana onomatopea words in jawkipedia word2vec.')\n",
        "\n",
        "# entries \n",
        "entries = list(set(kana_entries + kata_entries))\n",
        "print('There are {} entries in total.'.format(len(entries)))"
      ],
      "execution_count": null,
      "outputs": []
    },
    {
      "cell_type": "markdown",
      "metadata": {
        "id": "OM3L0r6wu74a"
      },
      "source": [
        "---\n",
        "\n",
        "ここから下がシミュレーションの本体です。\n",
        "---"
      ]
    },
    {
      "cell_type": "code",
      "metadata": {
        "id": "Jzj1IBCqu74a"
      },
      "source": [
        "class w2v_subspace():\n",
        "    \"\"\"射影行列の表示\n",
        "    少し内容を変更しました。クラス初期化時に引数 entries に任意の単語リストを入れると\n",
        "    その単語リストで構成される部分空間を構成するように変更しました。\n",
        "    \n",
        "    また，結果呼び出し時に 引数 verbose=False にすると各エントリーについて，それぞれの\n",
        "    射影行列 4 種とオリジナル word2vec による最近接語を topn にしてされた個数だけ入れた\n",
        "    リストから構成される dict を返すようにしました\n",
        "    \n",
        "    \n",
        "    # w2v_subspace():\n",
        "    w2v: class w2v\n",
        "        gensim 形式の訓練済 word2vec クラス\n",
        "    entries: list\n",
        "        部分空間を構成する単語のリスト\n",
        "        word2vec に該当する単語がなければ無視する\n",
        "        \n",
        "    # _call_(targets, verbose):\n",
        "    tarets: [str,]\n",
        "        調べたい単語リスト\n",
        "        例: targets=['トラ', 'イヌ', 'ペロペロ']\n",
        "    topn: (int)\n",
        "        最近接語数\n",
        "    verbose: (bool)\n",
        "        True: その都度結果を印字する\n",
        "        Flase: 結果は dict 型データに格納して返す\n",
        "    \"\"\"\n",
        "    \n",
        "    def __init__(self, w2v=w2v, entries=None):\n",
        "        \"\"\"オノマトペリスト wordlist はエクセルファイルであることを仮定\n",
        "        \"\"\"\n",
        "        self.w2v = w2v\n",
        "        self.count = 0\n",
        "        if entries != None:\n",
        "            self.entries = wordlist\n",
        "            self.count = len(self.entries)\n",
        "        else:\n",
        "            # オノマトペのうち，word2vec に登録があるかどうかを調査\n",
        "            kana_entries, kata_entries = [], []\n",
        "            for word in list(onmtp2761['オノマトペ']):\n",
        "                self.count += 1\n",
        "                \n",
        "                if word in w2v.vocab:\n",
        "                    # word2vec にエントリがある場合\n",
        "                    kana_entries.append(word)\n",
        "                else:\n",
        "                    # オノマトペが word2vec 項目にない場合はカタカナに変換\n",
        "                    kata_w = jaconv.hira2kata(word)\n",
        "                    if kata_w in w2v.vocab:\n",
        "                        # カタカナのエントリ存在する場合\n",
        "                        kata_entries.append(kata_w)\n",
        "        \n",
        "            self.entries = list(set(kana_entries + kata_entries))\n",
        "\n",
        "        # 射影行列 P を初期化    \n",
        "        self.P = np.zeros((len(set(self.entries)), w2v.vector_size))\n",
        "        \n",
        "        # 射影空間の作成\n",
        "        for i, x in enumerate(set(self.entries)):\n",
        "            self.P[i] = np.copy(self.w2v[x])\n",
        "            \n",
        "        # 内積逆行列 (X^{T} X)^{-1} の作成\n",
        "        invP = np.linalg.inv(np.dot(self.P, self.P.T))\n",
        "        \n",
        "        # 直交射影行列 Proj の作成\n",
        "        self.Proj = np.dot(self.P.T, np.dot(invP, self.P))\n",
        "        \n",
        "        # 歪んだ射影行列の作成 2021年2月23日 近藤公久先生とのディスカッション\n",
        "        # で解釈可能なら残しても良いということで使ってみる\n",
        "        self.wProj = np.dot(self.P.T, self.P)\n",
        "\n",
        "        # 直交補空間への射影行列の作成\n",
        "        I = np.eye(len(self.Proj))\n",
        "        self.C = I - self.Proj\n",
        "        self.wC = I - self.wProj\n",
        "        return\n",
        "\n",
        "    def __call__(self, targets=['電車','ネコ','東京'], topn=5, verbose=True):\n",
        "        ret = {}\n",
        "        for target in targets:\n",
        "            if not target in self.w2v:\n",
        "                # もし word2vec にエントリが無かったらカタカナに変換\n",
        "                k_target = jaconv.hira2kata(target)\n",
        "                if k_target in self.w2v:\n",
        "                    target = k_target\n",
        "                else:\n",
        "                    continue\n",
        "                    \n",
        "            # target 語の意味ベクトルを取得\n",
        "            x = np.array(self.w2v[target])\n",
        "            \n",
        "            # 射影ベクトルを計算\n",
        "            wPx = np.dot(self.wProj, x)\n",
        "            wPx_list = [w[0] for w in list(self.w2v.similar_by_vector(wPx,topn=topn))]\n",
        "            \n",
        "            wPxc = np.dot(self.wC, x)\n",
        "            wPxc_list = [w[0] for w in list(self.w2v.similar_by_vector(wPxc,topn=topn))]\n",
        "\n",
        "            Px = np.dot(self.Proj, x)\n",
        "            Px_list = [w[0] for w in self.w2v.similar_by_vector(Px,topn=topn)]\n",
        "\n",
        "            Cx = np.dot(self.C, x)\n",
        "            Cx_list = [w[0] for w in w2v.similar_by_vector(Cx,topn=topn)]\n",
        "            \n",
        "            w2v_list = [w[0] for w in list(self.w2v.similar_by_vector(x,topn=topn))]\n",
        "            \n",
        "            ret[target] = {\n",
        "                'word2vec': w2v_list,\n",
        "                'wProj': wPx_list,\n",
        "                'wProj_c': wPxc_list,\n",
        "                'Proj': Px_list,\n",
        "                'Proj_c': Cx_list\n",
        "            }\n",
        "\n",
        "            if verbose:\n",
        "                print('word2vec 最近隣語({0}):{1}'.format(target, w2v_list))\n",
        "                print('         w付き射影ベクトル({0}):{1}'.format(target, wPx_list))\n",
        "                print('        w付き補射影ベクトル({0}):{1}'.format(target, wPxc_list))\n",
        "                print('          直交射影ベクトル({0}):{1}'.format(target, Px_list))\n",
        "                print('         直交射影補ベクトル({0}):{1}'.format(target, Cx_list))\n",
        "        \n",
        "        if verbose:\n",
        "            return\n",
        "        else:\n",
        "            return ret\n",
        "        \n",
        "P = w2v_subspace()\n",
        "P(topn=7)\n"
      ],
      "execution_count": null,
      "outputs": []
    },
    {
      "cell_type": "code",
      "metadata": {
        "id": "dc_CbObOu74b"
      },
      "source": [
        "P(targets=['がたがた', 'ガタガタ', 'どきどき','ドキドキ', 'つるつる', 'ツルツル','すべすべ', 'スベスベ'])"
      ],
      "execution_count": null,
      "outputs": []
    },
    {
      "cell_type": "code",
      "metadata": {
        "id": "Ms-gNBt2u74b"
      },
      "source": [
        "P(targets=['電車','ネコ','男性'])"
      ],
      "execution_count": null,
      "outputs": []
    },
    {
      "cell_type": "code",
      "metadata": {
        "id": "Df-EtPuHu74c"
      },
      "source": [
        "# 確認用，word2vec に登録されている単語を任意に n_test だけ調べて表示する\n",
        "n_test = 5\n",
        "for i in range(5):\n",
        "    word = np.random.choice(list(w2v.vocab.keys()))\n",
        "    P([word])\n"
      ],
      "execution_count": null,
      "outputs": []
    },
    {
      "cell_type": "code",
      "metadata": {
        "id": "hnOCU0dAu74c"
      },
      "source": [
        "kawabe_tab1 = ['きーん', 'じわじわ', 'じんじん', 'すーすー', 'ぽかぽか']\n",
        "P(kawabe_tab1)"
      ],
      "execution_count": null,
      "outputs": []
    },
    {
      "cell_type": "code",
      "metadata": {
        "id": "MGdzrNwRu74c"
      },
      "source": [
        "kawabe_tab2 = (# 自然-天気\n",
        "    'かんかん', 'はらはら', 'ごろごろ', 'ばらばら', 'ざーざー', 'ぱらぱら', 'さーっ',\n",
        "    'びしゃびしゃ', 'ざーっ', 'ひゅー', 'さーさー', 'ひゅーひゅー', 'じりじり', 'びゅーびゅー',\n",
        "    'そよそよ', 'びゅんびゅん',  'ばたばた', 'ぴゅんぴゅん')\n",
        "P(kawabe_tab2)"
      ],
      "execution_count": null,
      "outputs": []
    },
    {
      "cell_type": "code",
      "metadata": {
        "id": "IvOQxbJJu74c"
      },
      "source": [
        "kawabe_tab3 = (# 自然 火・土\n",
        "    'がたがた', 'ぱりぱり', 'がんがん', 'べちょっ', 'ごつごつ', 'ぼーっ', 'さくさく',\n",
        "    'ぼーぼー', 'さくっ', 'ぼこぼこ', 'じゃりじゃり', 'ぼっ', 'ぱちぱち')\n",
        "P(kawabe_tab3)"
      ],
      "execution_count": null,
      "outputs": []
    },
    {
      "cell_type": "code",
      "metadata": {
        "id": "3Vcuoze5u74d"
      },
      "source": [
        "kawabe_tab4 = (# 自然 水・液体\n",
        "    'がばがば', 'ぱしゃっ', 'ころころ', 'ばちゃっ', 'ざばっ', 'びしゃっ', 'さらさら',\n",
        "    'ぴしゃっ', 'ざぶん', 'びちゃっ', 'じゃーじゃー', 'びちゃびちゃ', 'じゃぶん',\n",
        "    'びちょびちょ', 'じゃぼん', 'ぶくぶく', 'だぼだぼ', 'ぷくぷく', 'たぷんたぷん', \n",
        "    'べちゃべちゃ', 'ちゃぷちゃぷ', 'ぼたぼた', 'ちゅっ', 'ぽたぽた', 'ちょろちょろ', \n",
        "    'ぽつん', 'どくどく', 'ぼとぼと', 'どぼどぼ', 'ぽとん', 'どぼん', 'ぽとぽと')\n",
        "\n",
        "kawabe_tab7 = {# 両方の意味をもつ高認知度の単語 20 語 自然分類ごと\n",
        "    '温度': ('ぽかぽか',),\n",
        "    '天気': ('ごろごろ', 'ざーっ', 'じりじり', 'ぱらぱら', 'ひゅー', 'ひゅーひゅー', 'びゅんびゅん'),\n",
        "    '火・土':('ごつごつ', 'じゃりじゃり', 'ぱちぱち', 'べちょっ', 'ぼーぼー', 'ぼこぼこ'),\n",
        "    '水・液体':('さらさら', 'ちょろちょろ', 'ぱしゃっ', 'びちょびちょ', 'べちゃべちゃ', 'ぽつん')}\n",
        "\n",
        "kawabe_tab8 = (#表 8 実験に使用したオノマトペ 10 語\n",
        "    'がたがた', 'じりじり', 'かんかん', 'ばたばた', 'ごろごろ', 'ぱちぱち', 'ざーっ', 'ぶくぶく', \n",
        "    'さくさく', 'ぼーっ')\n",
        "\n",
        "kawabe_tab9 = (# 表 9 実験に使用した多義語 10 語\n",
        "    'さっぱり', '青い', 'そろそろ', 'メジャー', '鋭い', '確か',\n",
        "    '相当', '甘い', '一体', '勝手')\n",
        "\n",
        "print(P(kawabe_tab4))\n",
        "print(P(kawabe_tab7))\n",
        "print(P(kawabe_tab8))\n",
        "print(P(kawabe_tab9))"
      ],
      "execution_count": null,
      "outputs": []
    },
    {
      "cell_type": "code",
      "metadata": {
        "id": "-Az85gyKu74d"
      },
      "source": [
        "kawabe_tab1 = (#自然-温度\n",
        "'きーん', 'じわじわ', 'じんじん', 'すーすー', 'ぽかぽか')\n",
        "P(kawabe_tab1)"
      ],
      "execution_count": null,
      "outputs": []
    },
    {
      "cell_type": "code",
      "metadata": {
        "id": "5wkItrL4u74e"
      },
      "source": [
        "words = ['うさぎ', 'あじさい', 'ワニ', '天ぷら', 'フクロウ', 'みかん', \n",
        "         'かご', 'バラ', 'へび', 'いちご', 'ソバ', 'おなか',\n",
        "         'オレンジ', 'ハト', 'のど仏', '刺身', 'にわとり', 'スリコギ',\n",
        "         'ぶどう', 'イチョウ', 'びわ', '手すり', '風車', '鋏',\n",
        "         'ごはん', 'クジラ', 'タイ焼き', '靴べら', 'タンポポ', 'ヤギ',\n",
        "         'エビ', 'かぶ', 'まんじゅう', 'リンゴ', 'タツノオトシゴ', 'レンコン']\n",
        "P(words)"
      ],
      "execution_count": null,
      "outputs": []
    },
    {
      "cell_type": "code",
      "metadata": {
        "id": "QuxGn5g0u74e"
      },
      "source": [
        "kawabe_taba1=(#表 A1 予備実験に使用したオノマトペ','意味分類','自然-温度(9 語)\n",
        "#自然-温度\n",
        "'きーん', 'ぽかぽか', 'ぎんぎん', 'ぽかりぽかり', 'じわじわ', 'ぽっぽっ', 'じんじん', 'りん', 'すーすー')\n",
        "\n",
        "print(P(kawabe_taba1))"
      ],
      "execution_count": null,
      "outputs": []
    },
    {
      "cell_type": "code",
      "metadata": {
        "id": "mArheZIOu74e"
      },
      "source": [
        "kawaba_taba2 = (# 表 A2 予備実験に使用したオノマトペ','意味分類','自然-天気(45 語)\n",
        "#自然-天気\n",
        "'かっ','ざんざら','びしゃびしゃ',\n",
        "'かっか','ざんざ','ひゅー',\n",
        "'からっ','しゃりしゃり','びゅー',\n",
        "'からり','じりじり','ぴゅー',\n",
        "'かんかん','すーっ','ひゅーひゅー',\n",
        "'ごろごろ','そよそよ','びゅーびゅー',\n",
        "'こんこん','そよ','ぴゅーぴゅー',\n",
        "'ざーざー','そより','ひゅっ',\n",
        "'さーっ','どしゃどしゃ','ぴゅっ',\n",
        "'ざーっ','はたはた','びゅんびゅん',\n",
        "'さーさー','ばたばた','ぴゅんぴゅん',\n",
        "'ざざっ','ぱたぱた','ふー',\n",
        "'ざっ','はらはら','ぶぉーっ',\n",
        "'さやさや','ばらばら','ぶんぶん',\n",
        "'さわさわ','ぱらぱら','みりり'\n",
        ")\n",
        "\n",
        "print(P(kawabe_tab2))"
      ],
      "execution_count": null,
      "outputs": []
    },
    {
      "cell_type": "code",
      "metadata": {
        "id": "x3_VAQxVu74f"
      },
      "source": [
        "kawabe_taba3 = (#表 A3 予備実験に使用したオノマトペ','意味分類','自然-火・土(22 語)\n",
        "#自然-火・土\n",
        "'がたがた','ぱちぱち',\n",
        "'がんがん','ぱりぱり',\n",
        "'ごつごつ','ぶすぶす',\n",
        "'さくさく','ぷすぷす',\n",
        "'さくっ','べちょっ',\n",
        "'さくりさくり','ぼーっ',\n",
        "'ざっく','ぼーぼー',\n",
        "'じゃくり','ぼーん',\n",
        "'じゃりじゃり','ぼこぼこ',\n",
        "'ずぶずぶ','ぼっ',\n",
        "'ちろちろ','もー')\n",
        "\n",
        "print(P(kawabe_taba3))\n"
      ],
      "execution_count": null,
      "outputs": []
    },
    {
      "cell_type": "code",
      "metadata": {
        "id": "e7vRhPQgu74f"
      },
      "source": [
        "kawabe_taba4 = (#表 A4 予備実験に使用したオノマトペ\t意味分類\t自然-水・液体(55 語)\n",
        "#自然-水・液体\n",
        "'がばがば','ずっぷり','とぷんとぷん','しょろしょろ',\n",
        "'がぼがぼ','だぼだぼ','どぼん','ぷくぷく',\n",
        "'ころころ','たぷんたぷん','ばしゃっ','べちゃべちゃ',\n",
        "'ざばっ','たぽたぽ','ぱしゃっ','ぼしゃっ',\n",
        "'ざぶっ','ちゃぷちゃぷ','ばちゃっ','ぼたぼた',\n",
        "'さらさら','ちゅっ','ぱちゃっ','ぽたり',\n",
        "'ざぶん','ちょろちょろ','びしゃっ','ぽたん',\n",
        "'ざんぶり','どーっ','ぴしゃっ','ぽたぽた',\n",
        "'じくじく','どーどー','ひたひた','ぽつん',\n",
        "'しゃーしゃー','とくとく','びちゃっ','ぼとぼと',\n",
        "'じゃーじゃー','どくどく','ぴちゃっ','ぽとり',\n",
        "'じゃぶん','どぶどぶ','びちゃびちゃ','ぽとん',\n",
        "'じゃぼん','どぼどぼ','びちょびちょ','ぽとぽと',\n",
        "'じゅくじゅく','どぶん','ぶくぶく')\n",
        "\n",
        "print(P(kawabe_taba4))"
      ],
      "execution_count": null,
      "outputs": []
    }
  ]
}