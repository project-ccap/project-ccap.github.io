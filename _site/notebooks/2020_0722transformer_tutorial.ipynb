{
  "nbformat": 4,
  "nbformat_minor": 0,
  "metadata": {
    "kernelspec": {
      "display_name": "Python 3",
      "language": "python",
      "name": "python3"
    },
    "language_info": {
      "codemirror_mode": {
        "name": "ipython",
        "version": 3
      },
      "file_extension": ".py",
      "mimetype": "text/x-python",
      "name": "python",
      "nbconvert_exporter": "python",
      "pygments_lexer": "ipython3",
      "version": "3.6.8"
    },
    "colab": {
      "name": "2020-0722transformer_tutorial.ipynb",
      "provenance": [],
      "include_colab_link": true
    },
    "accelerator": "GPU"
  },
  "cells": [
    {
      "cell_type": "markdown",
      "metadata": {
        "id": "view-in-github",
        "colab_type": "text"
      },
      "source": [
        "<a href=\"https://colab.research.google.com/github/project-ccap/project-ccap.github.io/blob/master/notebooks/2020_0722transformer_tutorial.ipynb\" target=\"_parent\"><img src=\"https://colab.research.google.com/assets/colab-badge.svg\" alt=\"Open In Colab\"/></a>"
      ]
    },
    {
      "cell_type": "code",
      "metadata": {
        "id": "izhB0L2VCvCj",
        "colab_type": "code",
        "colab": {}
      },
      "source": [
        "%matplotlib inline"
      ],
      "execution_count": 1,
      "outputs": []
    },
    {
      "cell_type": "markdown",
      "metadata": {
        "id": "tOAm7nfcCvCo",
        "colab_type": "text"
      },
      "source": [
        "\n",
        "# Sequence-to-Sequence Modeling with nn.Transformer and TorchText\n",
        "\n",
        "This is a tutorial on how to train a sequence-to-sequence model\n",
        "that uses the\n",
        "[`nn.Transformer`](https://pytorch.org/docs/master/nn.html?highlight=nn%20transformer#torch.nn.Transformer) module.\n",
        "\n",
        "PyTorch 1.2 release includes a standard transformer module based on the paper [Attention is All You Need](https://arxiv.org/pdf/1706.03762.pdf). \n",
        "The transformer model has been proved to be superior in quality for many sequence-to-sequence problems while being more parallelizable. \n",
        "The `nn.Transformer` module relies entirely on an attention mechanism (another module recently implemented as [`nn.MultiheadAttention`](https://pytorch.org/docs/master/nn.html?highlight=multiheadattention#torch.nn.MultiheadAttention) to draw global dependencies between input and output. \n",
        "The `nn.Transformer` module is now highly modularized such that a single component (like [`nn.TransformerEncoder`](https://pytorch.org/docs/master/nn.html?highlight=nn%20transformerencoder#torch.nn.TransformerEncoder) in this tutorial) can be easily adapted/composed.\n",
        "\n",
        "![](https://pytorch.org/tutorials/_images/transformer_architecture.jpg)\n",
        "\n"
      ]
    },
    {
      "cell_type": "markdown",
      "metadata": {
        "id": "Ltgk212dCvCp",
        "colab_type": "text"
      },
      "source": [
        "## Define the model\n",
        "\n",
        "\n"
      ]
    },
    {
      "cell_type": "markdown",
      "metadata": {
        "id": "40TisKhiCvCq",
        "colab_type": "text"
      },
      "source": [
        "In this tutorial, we train ``nn.TransformerEncoder`` model on a language modeling task. \n",
        "The language modeling task is to assign a probability for the likelihood of a given word (or a sequence of words) to follow a sequence of words. \n",
        "A sequence of tokens are passed to the embedding layer first, followed by a positional encoding layer to account for the order of the word (see the next paragraph for more details). \n",
        "The ``nn.TransformerEncoder`` consists of multiple layers of [`nn.TransformerEncoderLayer`](https://pytorch.org/docs/master/nn.html?highlight=transformerencoderlayer#torch.nn.TransformerEncoderLayer). \n",
        "Along with the input sequence, a square attention mask is required because the self-attention layers in ``nn.TransformerEncoder`` are only allowed to attend the earlier positions in the sequence. \n",
        "For the language modeling task, any tokens on the future positions should be masked. To have the actual words, the output of ``nn.TransformerEncoder`` model is sent to the final Linear layer, which is followed by a log-Softmax function.\n",
        "\n",
        "\n"
      ]
    },
    {
      "cell_type": "code",
      "metadata": {
        "id": "2yXdwL9dCvCq",
        "colab_type": "code",
        "colab": {}
      },
      "source": [
        "import math\n",
        "import torch\n",
        "import torch.nn as nn\n",
        "import torch.nn.functional as F\n",
        "\n",
        "class TransformerModel(nn.Module):\n",
        "\n",
        "    def __init__(self, ntoken, ninp, nhead, nhid, nlayers, dropout=0.5):\n",
        "        super(TransformerModel, self).__init__()\n",
        "        from torch.nn import TransformerEncoder, TransformerEncoderLayer\n",
        "        self.model_type = 'Transformer'\n",
        "        self.src_mask = None\n",
        "        self.pos_encoder = PositionalEncoding(ninp, dropout)\n",
        "        encoder_layers = TransformerEncoderLayer(ninp, nhead, nhid, dropout)\n",
        "        self.transformer_encoder = TransformerEncoder(encoder_layers, nlayers)\n",
        "        self.encoder = nn.Embedding(ntoken, ninp)\n",
        "        self.ninp = ninp\n",
        "        self.decoder = nn.Linear(ninp, ntoken)\n",
        "\n",
        "        self.init_weights()\n",
        "\n",
        "    def _generate_square_subsequent_mask(self, sz):\n",
        "        mask = (torch.triu(torch.ones(sz, sz)) == 1).transpose(0, 1)\n",
        "        mask = mask.float().masked_fill(mask == 0, float('-inf')).masked_fill(mask == 1, float(0.0))\n",
        "        return mask\n",
        "\n",
        "    def init_weights(self):\n",
        "        initrange = 0.1\n",
        "        self.encoder.weight.data.uniform_(-initrange, initrange)\n",
        "        self.decoder.bias.data.zero_()\n",
        "        self.decoder.weight.data.uniform_(-initrange, initrange)\n",
        "\n",
        "    def forward(self, src):\n",
        "        if self.src_mask is None or self.src_mask.size(0) != len(src):\n",
        "            device = src.device\n",
        "            mask = self._generate_square_subsequent_mask(len(src)).to(device)\n",
        "            self.src_mask = mask\n",
        "\n",
        "        src = self.encoder(src) * math.sqrt(self.ninp)\n",
        "        src = self.pos_encoder(src)\n",
        "        output = self.transformer_encoder(src, self.src_mask)\n",
        "        output = self.decoder(output)\n",
        "        return output"
      ],
      "execution_count": 2,
      "outputs": []
    },
    {
      "cell_type": "markdown",
      "metadata": {
        "id": "p0I8drH4CvCt",
        "colab_type": "text"
      },
      "source": [
        "``PositionalEncoding`` module injects some information about the relative or absolute position of the tokens in the sequence. \n",
        "The positional encodings have the same dimension as the embeddings so that the two can be summed. Here, we use ``sine`` and ``cosine`` functions of different frequencies.\n",
        "\n",
        "\n"
      ]
    },
    {
      "cell_type": "code",
      "metadata": {
        "id": "wj8gcDb3CvCu",
        "colab_type": "code",
        "colab": {}
      },
      "source": [
        "class PositionalEncoding(nn.Module):\n",
        "\n",
        "    def __init__(self, d_model, dropout=0.1, max_len=5000):\n",
        "        super(PositionalEncoding, self).__init__()\n",
        "        self.dropout = nn.Dropout(p=dropout)\n",
        "\n",
        "        pe = torch.zeros(max_len, d_model)\n",
        "        position = torch.arange(0, max_len, dtype=torch.float).unsqueeze(1)\n",
        "        div_term = torch.exp(torch.arange(0, d_model, 2).float() * (-math.log(10000.0) / d_model))\n",
        "        pe[:, 0::2] = torch.sin(position * div_term)\n",
        "        pe[:, 1::2] = torch.cos(position * div_term)\n",
        "        pe = pe.unsqueeze(0).transpose(0, 1)\n",
        "        self.register_buffer('pe', pe)\n",
        "\n",
        "    def forward(self, x):\n",
        "        x = x + self.pe[:x.size(0), :]\n",
        "        return self.dropout(x)"
      ],
      "execution_count": 3,
      "outputs": []
    },
    {
      "cell_type": "markdown",
      "metadata": {
        "id": "OpMw1tp4CvCx",
        "colab_type": "text"
      },
      "source": [
        "Load and batch data\n",
        "-------------------\n",
        "\n",
        "\n"
      ]
    },
    {
      "cell_type": "markdown",
      "metadata": {
        "id": "EuSyJAbICvCx",
        "colab_type": "text"
      },
      "source": [
        "The training process uses Wikitext-2 dataset from ``torchtext``. \n",
        "The vocab object is built based on the train dataset and is used to numericalize tokens into tensors. \n",
        "Starting from sequential data, the ``batchify()`` function arranges the dataset into columns, trimming off any tokens remaining after the data has been divided into batches of size ``batch_size``.\n",
        "For instance, with the alphabet as the sequence (total length of 26) and a batch size of 4, we would divide the alphabet into 4 sequences of length 6:\n",
        "\n",
        "\\begin{align}\\begin{bmatrix}\n",
        "  \\text{A} & \\text{B} & \\text{C} & \\ldots & \\text{X} & \\text{Y} & \\text{Z}\n",
        "  \\end{bmatrix}\n",
        "  \\Rightarrow\n",
        "  \\begin{bmatrix}\n",
        "  \\begin{bmatrix}\\text{A} \\\\ \\text{B} \\\\ \\text{C} \\\\ \\text{D} \\\\ \\text{E} \\\\ \\text{F}\\end{bmatrix} &\n",
        "  \\begin{bmatrix}\\text{G} \\\\ \\text{H} \\\\ \\text{I} \\\\ \\text{J} \\\\ \\text{K} \\\\ \\text{L}\\end{bmatrix} &\n",
        "  \\begin{bmatrix}\\text{M} \\\\ \\text{N} \\\\ \\text{O} \\\\ \\text{P} \\\\ \\text{Q} \\\\ \\text{R}\\end{bmatrix} &\n",
        "  \\begin{bmatrix}\\text{S} \\\\ \\text{T} \\\\ \\text{U} \\\\ \\text{V} \\\\ \\text{W} \\\\ \\text{X}\\end{bmatrix}\n",
        "  \\end{bmatrix}\\end{align}\n",
        "\n",
        "These columns are treated as independent by the model, which means that the dependence of ``G`` and ``F`` can not be learned, but allows more efficient batch processing.\n",
        "\n",
        "\n"
      ]
    },
    {
      "cell_type": "code",
      "metadata": {
        "id": "LifyGl02CvCy",
        "colab_type": "code",
        "colab": {
          "base_uri": "https://localhost:8080/",
          "height": 68
        },
        "outputId": "08872458-807e-4541-99e7-4b8bf10487c7"
      },
      "source": [
        "import torchtext\n",
        "from torchtext.data.utils import get_tokenizer\n",
        "#TEXT = torchtext.data.Field(tokenize=get_tokenizer(\"basic_english\"),\n",
        "TEXT = torchtext.data.Field(tokenize=get_tokenizer(\"spacy\"),\n",
        "#TEXT = torchtext.data.Field(tokenize=get_tokenizer(\"moses\"),\n",
        "                            init_token='<sos>',\n",
        "                            eos_token='<eos>',\n",
        "                            lower=True)\n",
        "train_txt, val_txt, test_txt = torchtext.datasets.WikiText2.splits(TEXT)\n",
        "TEXT.build_vocab(train_txt)\n",
        "device = torch.device(\"cuda\" if torch.cuda.is_available() else \"cpu\")\n",
        "\n",
        "def batchify(data, bsz):\n",
        "    data = TEXT.numericalize([data.examples[0].text])\n",
        "    # Divide the dataset into bsz parts.\n",
        "    nbatch = data.size(0) // bsz\n",
        "    # Trim off any extra elements that wouldn't cleanly fit (remainders).\n",
        "    data = data.narrow(0, 0, nbatch * bsz)\n",
        "    # Evenly divide the data across the bsz batches.\n",
        "    data = data.view(bsz, -1).t().contiguous()\n",
        "    return data.to(device)\n",
        "\n",
        "batch_size = 20\n",
        "eval_batch_size = 10\n",
        "train_data = batchify(train_txt, batch_size)\n",
        "val_data = batchify(val_txt, eval_batch_size)\n",
        "test_data = batchify(test_txt, eval_batch_size)"
      ],
      "execution_count": 7,
      "outputs": [
        {
          "output_type": "stream",
          "text": [
            "downloading wikitext-2-v1.zip\n"
          ],
          "name": "stdout"
        },
        {
          "output_type": "stream",
          "text": [
            "wikitext-2-v1.zip: 100%|██████████| 4.48M/4.48M [00:00<00:00, 8.66MB/s]\n"
          ],
          "name": "stderr"
        },
        {
          "output_type": "stream",
          "text": [
            "extracting\n"
          ],
          "name": "stdout"
        }
      ]
    },
    {
      "cell_type": "markdown",
      "metadata": {
        "id": "EyBA19PSCvC1",
        "colab_type": "text"
      },
      "source": [
        "### Functions to generate input and target sequence\n",
        "\n",
        "\n"
      ]
    },
    {
      "cell_type": "markdown",
      "metadata": {
        "id": "TxLN81NVCvC2",
        "colab_type": "text"
      },
      "source": [
        "``get_batch()`` function generates the input and target sequence for the transformer model. \n",
        "It subdivides the source data into chunks of length ``bptt``. \n",
        "For the language modeling task, the model needs the following words as ``Target``. \n",
        "For example, with a ``bptt`` value of 2, we’d get the following two Variables for ``i`` = 0:\n",
        "\n",
        "![](https://pytorch.org/tutorials/_images/transformer_input_target.png)\n",
        "<!--\n",
        "![](https://github.com/pytorch/tutorials/blob/gh-pages/_downloads/_static/img/transformer_input_target.png?raw=1)\n",
        "-->\n",
        "\n",
        "It should be noted that the chunks are along dimension 0, consistent with the ``S`` dimension in the Transformer model. The batch dimension ``N`` is along dimension 1.\n",
        "\n",
        "\n"
      ]
    },
    {
      "cell_type": "code",
      "metadata": {
        "id": "AtpupptMCvC2",
        "colab_type": "code",
        "colab": {}
      },
      "source": [
        "bptt = 35\n",
        "def get_batch(source, i):\n",
        "    seq_len = min(bptt, len(source) - 1 - i)\n",
        "    data = source[i:i+seq_len]\n",
        "    target = source[i+1:i+1+seq_len].view(-1)\n",
        "    return data, target"
      ],
      "execution_count": 8,
      "outputs": []
    },
    {
      "cell_type": "markdown",
      "metadata": {
        "id": "35lvEX4hCvC5",
        "colab_type": "text"
      },
      "source": [
        "Initiate an instance\n",
        "--------------------\n",
        "\n",
        "\n"
      ]
    },
    {
      "cell_type": "markdown",
      "metadata": {
        "id": "8XJBZYkCCvC6",
        "colab_type": "text"
      },
      "source": [
        "The model is set up with the hyperparameter below. The vocab size is\n",
        "equal to the length of the vocab object.\n",
        "\n",
        "\n"
      ]
    },
    {
      "cell_type": "code",
      "metadata": {
        "id": "rEgBjoSxCvC7",
        "colab_type": "code",
        "colab": {}
      },
      "source": [
        "ntokens = len(TEXT.vocab.stoi) # the size of vocabulary\n",
        "emsize = 200 # embedding dimension\n",
        "nhid = 200 # the dimension of the feedforward network model in nn.TransformerEncoder\n",
        "nlayers = 2 # the number of nn.TransformerEncoderLayer in nn.TransformerEncoder\n",
        "nhead = 2 # the number of heads in the multiheadattention models\n",
        "dropout = 0.2 # the dropout value\n",
        "model = TransformerModel(ntokens, emsize, nhead, nhid, nlayers, dropout).to(device)"
      ],
      "execution_count": 9,
      "outputs": []
    },
    {
      "cell_type": "markdown",
      "metadata": {
        "id": "H9QbhiBvCvC-",
        "colab_type": "text"
      },
      "source": [
        "Run the model\n",
        "-------------\n",
        "\n",
        "\n"
      ]
    },
    {
      "cell_type": "markdown",
      "metadata": {
        "id": "CDcuL_V9CvC-",
        "colab_type": "text"
      },
      "source": [
        "[`CrossEntropyLoss`](https://pytorch.org/docs/master/nn.html?highlight=crossentropyloss#torch.nn.CrossEntropyLoss) is applied to track the loss and [`SGD`](https://pytorch.org/docs/master/optim.html?highlight=sgd#torch.optim.SGD) implements stochastic gradient descent method as the optimizer. \n",
        "The initial learning rate is set to 5.0. \n",
        "[`StepLR`](https://pytorch.org/docs/master/optim.html?highlight=steplr#torch.optim.lr_scheduler.StepLR) is applied to adjust the learn rate through epochs. \n",
        "During the training, we use [`nn.utils.clip_grad_norm_`](https://pytorch.org/docs/master/nn.html?highlight=nn%20utils%20clip_grad_norm#torch.nn.utils.clip_grad_norm_) function to scale all the gradient together to prevent exploding.\n",
        "\n",
        "\n"
      ]
    },
    {
      "cell_type": "code",
      "metadata": {
        "id": "RXaeIhfiCvC_",
        "colab_type": "code",
        "colab": {}
      },
      "source": [
        "criterion = nn.CrossEntropyLoss()\n",
        "lr = 5.0 # learning rate\n",
        "optimizer = torch.optim.SGD(model.parameters(), lr=lr)\n",
        "scheduler = torch.optim.lr_scheduler.StepLR(optimizer, 1.0, gamma=0.95)\n",
        "\n",
        "import time\n",
        "def train():\n",
        "    model.train() # Turn on the train mode\n",
        "    total_loss = 0.\n",
        "    start_time = time.time()\n",
        "    ntokens = len(TEXT.vocab.stoi)\n",
        "    for batch, i in enumerate(range(0, train_data.size(0) - 1, bptt)):\n",
        "        data, targets = get_batch(train_data, i)\n",
        "        optimizer.zero_grad()\n",
        "        output = model(data)\n",
        "        loss = criterion(output.view(-1, ntokens), targets)\n",
        "        loss.backward()\n",
        "        torch.nn.utils.clip_grad_norm_(model.parameters(), 0.5)\n",
        "        optimizer.step()\n",
        "\n",
        "        total_loss += loss.item()\n",
        "        log_interval = 200\n",
        "        if batch % log_interval == 0 and batch > 0:\n",
        "            cur_loss = total_loss / log_interval\n",
        "            elapsed = time.time() - start_time\n",
        "            print('| epoch {:3d} | {:5d}/{:5d} batches | '\n",
        "                  'lr {:02.2f} | ms/batch {:5.2f} | '\n",
        "                  'loss {:5.2f} | ppl {:8.2f}'.format(\n",
        "                    epoch, batch, len(train_data) // bptt, scheduler.get_lr()[0],\n",
        "                    elapsed * 1000 / log_interval,\n",
        "                    cur_loss, math.exp(cur_loss)))\n",
        "            total_loss = 0\n",
        "            start_time = time.time()\n",
        "\n",
        "def evaluate(eval_model, data_source):\n",
        "    eval_model.eval() # Turn on the evaluation mode\n",
        "    total_loss = 0.\n",
        "    ntokens = len(TEXT.vocab.stoi)\n",
        "    with torch.no_grad():\n",
        "        for i in range(0, data_source.size(0) - 1, bptt):\n",
        "            data, targets = get_batch(data_source, i)\n",
        "            output = eval_model(data)\n",
        "            output_flat = output.view(-1, ntokens)\n",
        "            total_loss += len(data) * criterion(output_flat, targets).item()\n",
        "    return total_loss / (len(data_source) - 1)"
      ],
      "execution_count": 10,
      "outputs": []
    },
    {
      "cell_type": "markdown",
      "metadata": {
        "id": "dqeJZzj_CvDC",
        "colab_type": "text"
      },
      "source": [
        "Loop over epochs. Save the model if the validation loss is the best\n",
        "we've seen so far. Adjust the learning rate after each epoch.\n",
        "\n"
      ]
    },
    {
      "cell_type": "code",
      "metadata": {
        "id": "XQGWaf-wCvDC",
        "colab_type": "code",
        "colab": {
          "base_uri": "https://localhost:8080/",
          "height": 1000
        },
        "outputId": "aae43d48-fb28-4bce-a0f1-0a6db14ddf23"
      },
      "source": [
        "best_val_loss = float(\"inf\")\n",
        "epochs = 10 # The number of epochs\n",
        "best_model = None\n",
        "\n",
        "for epoch in range(1, epochs + 1):\n",
        "    epoch_start_time = time.time()\n",
        "    train()\n",
        "    val_loss = evaluate(model, val_data)\n",
        "    print('-' * 89)\n",
        "    print('| end of epoch {:3d} | time: {:5.2f}s | valid loss {:5.2f} | '\n",
        "          'valid ppl {:8.2f}'.format(epoch, (time.time() - epoch_start_time),\n",
        "                                     val_loss, math.exp(val_loss)))\n",
        "    print('-' * 89)\n",
        "\n",
        "    if val_loss < best_val_loss:\n",
        "        best_val_loss = val_loss\n",
        "        best_model = model\n",
        "\n",
        "    scheduler.step()"
      ],
      "execution_count": 14,
      "outputs": [
        {
          "output_type": "stream",
          "text": [
            "/usr/local/lib/python3.6/dist-packages/torch/optim/lr_scheduler.py:351: UserWarning: To get the last learning rate computed by the scheduler, please use `get_last_lr()`.\n",
            "  \"please use `get_last_lr()`.\", UserWarning)\n"
          ],
          "name": "stderr"
        },
        {
          "output_type": "stream",
          "text": [
            "| epoch   1 |   200/ 3195 batches | lr 2.44 | ms/batch 11.64 | loss  4.30 | ppl    73.64\n",
            "| epoch   1 |   400/ 3195 batches | lr 2.44 | ms/batch 11.55 | loss  4.33 | ppl    75.62\n",
            "| epoch   1 |   600/ 3195 batches | lr 2.44 | ms/batch 11.55 | loss  4.22 | ppl    67.98\n",
            "| epoch   1 |   800/ 3195 batches | lr 2.44 | ms/batch 11.60 | loss  4.19 | ppl    66.25\n",
            "| epoch   1 |  1000/ 3195 batches | lr 2.44 | ms/batch 11.51 | loss  4.33 | ppl    76.24\n",
            "| epoch   1 |  1200/ 3195 batches | lr 2.44 | ms/batch 11.47 | loss  4.29 | ppl    72.90\n",
            "| epoch   1 |  1400/ 3195 batches | lr 2.44 | ms/batch 11.47 | loss  4.32 | ppl    75.56\n",
            "| epoch   1 |  1600/ 3195 batches | lr 2.44 | ms/batch 11.57 | loss  4.27 | ppl    71.31\n",
            "| epoch   1 |  1800/ 3195 batches | lr 2.44 | ms/batch 11.50 | loss  4.33 | ppl    75.59\n",
            "| epoch   1 |  2000/ 3195 batches | lr 2.44 | ms/batch 11.48 | loss  4.36 | ppl    78.14\n",
            "| epoch   1 |  2200/ 3195 batches | lr 2.44 | ms/batch 11.49 | loss  4.31 | ppl    74.23\n",
            "| epoch   1 |  2400/ 3195 batches | lr 2.44 | ms/batch 11.55 | loss  4.17 | ppl    64.78\n",
            "| epoch   1 |  2600/ 3195 batches | lr 2.44 | ms/batch 11.59 | loss  4.28 | ppl    72.48\n",
            "| epoch   1 |  2800/ 3195 batches | lr 2.44 | ms/batch 11.51 | loss  4.27 | ppl    71.81\n",
            "| epoch   1 |  3000/ 3195 batches | lr 2.44 | ms/batch 11.47 | loss  4.23 | ppl    68.58\n",
            "-----------------------------------------------------------------------------------------\n",
            "| end of epoch   1 | time: 38.80s | valid loss  4.92 | valid ppl   137.19\n",
            "-----------------------------------------------------------------------------------------\n",
            "| epoch   2 |   200/ 3195 batches | lr 2.32 | ms/batch 11.55 | loss  4.26 | ppl    70.52\n",
            "| epoch   2 |   400/ 3195 batches | lr 2.32 | ms/batch 11.51 | loss  4.28 | ppl    72.45\n",
            "| epoch   2 |   600/ 3195 batches | lr 2.32 | ms/batch 11.54 | loss  4.18 | ppl    65.23\n",
            "| epoch   2 |   800/ 3195 batches | lr 2.32 | ms/batch 11.48 | loss  4.15 | ppl    63.51\n",
            "| epoch   2 |  1000/ 3195 batches | lr 2.32 | ms/batch 11.47 | loss  4.29 | ppl    73.00\n",
            "| epoch   2 |  1200/ 3195 batches | lr 2.32 | ms/batch 11.46 | loss  4.25 | ppl    69.88\n",
            "| epoch   2 |  1400/ 3195 batches | lr 2.32 | ms/batch 11.51 | loss  4.28 | ppl    72.57\n",
            "| epoch   2 |  1600/ 3195 batches | lr 2.32 | ms/batch 11.49 | loss  4.22 | ppl    68.28\n",
            "| epoch   2 |  1800/ 3195 batches | lr 2.32 | ms/batch 11.50 | loss  4.28 | ppl    72.16\n",
            "| epoch   2 |  2000/ 3195 batches | lr 2.32 | ms/batch 11.47 | loss  4.31 | ppl    74.81\n",
            "| epoch   2 |  2200/ 3195 batches | lr 2.32 | ms/batch 11.56 | loss  4.26 | ppl    70.64\n",
            "| epoch   2 |  2400/ 3195 batches | lr 2.32 | ms/batch 11.54 | loss  4.14 | ppl    62.55\n",
            "| epoch   2 |  2600/ 3195 batches | lr 2.32 | ms/batch 11.53 | loss  4.24 | ppl    69.16\n",
            "| epoch   2 |  2800/ 3195 batches | lr 2.32 | ms/batch 11.53 | loss  4.23 | ppl    68.72\n",
            "| epoch   2 |  3000/ 3195 batches | lr 2.32 | ms/batch 11.51 | loss  4.19 | ppl    65.97\n",
            "-----------------------------------------------------------------------------------------\n",
            "| end of epoch   2 | time: 38.74s | valid loss  4.94 | valid ppl   139.39\n",
            "-----------------------------------------------------------------------------------------\n",
            "| epoch   3 |   200/ 3195 batches | lr 2.20 | ms/batch 11.69 | loss  4.21 | ppl    67.57\n",
            "| epoch   3 |   400/ 3195 batches | lr 2.20 | ms/batch 11.55 | loss  4.24 | ppl    69.67\n",
            "| epoch   3 |   600/ 3195 batches | lr 2.20 | ms/batch 11.53 | loss  4.14 | ppl    62.55\n",
            "| epoch   3 |   800/ 3195 batches | lr 2.20 | ms/batch 11.49 | loss  4.11 | ppl    61.23\n",
            "| epoch   3 |  1000/ 3195 batches | lr 2.20 | ms/batch 11.50 | loss  4.25 | ppl    70.45\n",
            "| epoch   3 |  1200/ 3195 batches | lr 2.20 | ms/batch 11.47 | loss  4.21 | ppl    67.59\n",
            "| epoch   3 |  1400/ 3195 batches | lr 2.20 | ms/batch 11.49 | loss  4.24 | ppl    69.69\n",
            "| epoch   3 |  1600/ 3195 batches | lr 2.20 | ms/batch 11.43 | loss  4.18 | ppl    65.42\n",
            "| epoch   3 |  1800/ 3195 batches | lr 2.20 | ms/batch 11.49 | loss  4.25 | ppl    69.82\n",
            "| epoch   3 |  2000/ 3195 batches | lr 2.20 | ms/batch 11.52 | loss  4.28 | ppl    72.38\n",
            "| epoch   3 |  2200/ 3195 batches | lr 2.20 | ms/batch 11.45 | loss  4.22 | ppl    68.36\n",
            "| epoch   3 |  2400/ 3195 batches | lr 2.20 | ms/batch 11.48 | loss  4.10 | ppl    60.41\n",
            "| epoch   3 |  2600/ 3195 batches | lr 2.20 | ms/batch 11.47 | loss  4.20 | ppl    66.84\n",
            "| epoch   3 |  2800/ 3195 batches | lr 2.20 | ms/batch 11.49 | loss  4.20 | ppl    66.59\n",
            "| epoch   3 |  3000/ 3195 batches | lr 2.20 | ms/batch 11.55 | loss  4.15 | ppl    63.73\n",
            "-----------------------------------------------------------------------------------------\n",
            "| end of epoch   3 | time: 38.69s | valid loss  4.95 | valid ppl   141.09\n",
            "-----------------------------------------------------------------------------------------\n",
            "| epoch   4 |   200/ 3195 batches | lr 2.09 | ms/batch 11.50 | loss  4.19 | ppl    65.77\n",
            "| epoch   4 |   400/ 3195 batches | lr 2.09 | ms/batch 11.45 | loss  4.21 | ppl    67.21\n",
            "| epoch   4 |   600/ 3195 batches | lr 2.09 | ms/batch 11.42 | loss  4.10 | ppl    60.55\n",
            "| epoch   4 |   800/ 3195 batches | lr 2.09 | ms/batch 11.46 | loss  4.09 | ppl    59.59\n",
            "| epoch   4 |  1000/ 3195 batches | lr 2.09 | ms/batch 11.39 | loss  4.22 | ppl    68.14\n",
            "| epoch   4 |  1200/ 3195 batches | lr 2.09 | ms/batch 11.46 | loss  4.18 | ppl    65.41\n",
            "| epoch   4 |  1400/ 3195 batches | lr 2.09 | ms/batch 11.50 | loss  4.21 | ppl    67.52\n",
            "| epoch   4 |  1600/ 3195 batches | lr 2.09 | ms/batch 11.45 | loss  4.15 | ppl    63.51\n",
            "| epoch   4 |  1800/ 3195 batches | lr 2.09 | ms/batch 11.46 | loss  4.21 | ppl    67.24\n",
            "| epoch   4 |  2000/ 3195 batches | lr 2.09 | ms/batch 11.47 | loss  4.25 | ppl    69.80\n",
            "| epoch   4 |  2200/ 3195 batches | lr 2.09 | ms/batch 11.47 | loss  4.19 | ppl    66.05\n",
            "| epoch   4 |  2400/ 3195 batches | lr 2.09 | ms/batch 11.50 | loss  4.07 | ppl    58.29\n",
            "| epoch   4 |  2600/ 3195 batches | lr 2.09 | ms/batch 11.53 | loss  4.17 | ppl    64.53\n",
            "| epoch   4 |  2800/ 3195 batches | lr 2.09 | ms/batch 11.55 | loss  4.16 | ppl    64.11\n",
            "| epoch   4 |  3000/ 3195 batches | lr 2.09 | ms/batch 11.43 | loss  4.12 | ppl    61.39\n",
            "-----------------------------------------------------------------------------------------\n",
            "| end of epoch   4 | time: 38.57s | valid loss  4.94 | valid ppl   140.24\n",
            "-----------------------------------------------------------------------------------------\n",
            "| epoch   5 |   200/ 3195 batches | lr 1.99 | ms/batch 11.55 | loss  4.15 | ppl    63.13\n",
            "| epoch   5 |   400/ 3195 batches | lr 1.99 | ms/batch 11.44 | loss  4.18 | ppl    65.10\n",
            "| epoch   5 |   600/ 3195 batches | lr 1.99 | ms/batch 11.51 | loss  4.07 | ppl    58.53\n",
            "| epoch   5 |   800/ 3195 batches | lr 1.99 | ms/batch 11.47 | loss  4.05 | ppl    57.53\n",
            "| epoch   5 |  1000/ 3195 batches | lr 1.99 | ms/batch 11.48 | loss  4.19 | ppl    66.02\n",
            "| epoch   5 |  1200/ 3195 batches | lr 1.99 | ms/batch 11.49 | loss  4.14 | ppl    62.98\n",
            "| epoch   5 |  1400/ 3195 batches | lr 1.99 | ms/batch 11.46 | loss  4.18 | ppl    65.26\n",
            "| epoch   5 |  1600/ 3195 batches | lr 1.99 | ms/batch 11.49 | loss  4.11 | ppl    61.23\n",
            "| epoch   5 |  1800/ 3195 batches | lr 1.99 | ms/batch 11.46 | loss  4.18 | ppl    65.20\n",
            "| epoch   5 |  2000/ 3195 batches | lr 1.99 | ms/batch 11.52 | loss  4.22 | ppl    67.92\n",
            "| epoch   5 |  2200/ 3195 batches | lr 1.99 | ms/batch 11.52 | loss  4.16 | ppl    64.12\n",
            "| epoch   5 |  2400/ 3195 batches | lr 1.99 | ms/batch 11.59 | loss  4.03 | ppl    56.27\n",
            "| epoch   5 |  2600/ 3195 batches | lr 1.99 | ms/batch 11.56 | loss  4.13 | ppl    62.20\n",
            "| epoch   5 |  2800/ 3195 batches | lr 1.99 | ms/batch 11.50 | loss  4.13 | ppl    62.10\n",
            "| epoch   5 |  3000/ 3195 batches | lr 1.99 | ms/batch 11.49 | loss  4.08 | ppl    59.44\n",
            "-----------------------------------------------------------------------------------------\n",
            "| end of epoch   5 | time: 38.68s | valid loss  4.95 | valid ppl   141.03\n",
            "-----------------------------------------------------------------------------------------\n",
            "| epoch   6 |   200/ 3195 batches | lr 1.89 | ms/batch 11.49 | loss  4.11 | ppl    60.95\n",
            "| epoch   6 |   400/ 3195 batches | lr 1.89 | ms/batch 11.47 | loss  4.14 | ppl    62.83\n",
            "| epoch   6 |   600/ 3195 batches | lr 1.89 | ms/batch 11.46 | loss  4.04 | ppl    56.84\n",
            "| epoch   6 |   800/ 3195 batches | lr 1.89 | ms/batch 11.47 | loss  4.03 | ppl    56.07\n",
            "| epoch   6 |  1000/ 3195 batches | lr 1.89 | ms/batch 11.55 | loss  4.16 | ppl    64.04\n",
            "| epoch   6 |  1200/ 3195 batches | lr 1.89 | ms/batch 11.54 | loss  4.12 | ppl    61.46\n",
            "| epoch   6 |  1400/ 3195 batches | lr 1.89 | ms/batch 11.44 | loss  4.15 | ppl    63.38\n",
            "| epoch   6 |  1600/ 3195 batches | lr 1.89 | ms/batch 11.41 | loss  4.08 | ppl    59.31\n",
            "| epoch   6 |  1800/ 3195 batches | lr 1.89 | ms/batch 11.48 | loss  4.15 | ppl    63.35\n",
            "| epoch   6 |  2000/ 3195 batches | lr 1.89 | ms/batch 11.41 | loss  4.18 | ppl    65.42\n",
            "| epoch   6 |  2200/ 3195 batches | lr 1.89 | ms/batch 11.51 | loss  4.13 | ppl    62.19\n",
            "| epoch   6 |  2400/ 3195 batches | lr 1.89 | ms/batch 11.46 | loss  4.00 | ppl    54.56\n",
            "| epoch   6 |  2600/ 3195 batches | lr 1.89 | ms/batch 11.47 | loss  4.10 | ppl    60.26\n",
            "| epoch   6 |  2800/ 3195 batches | lr 1.89 | ms/batch 11.46 | loss  4.09 | ppl    60.02\n",
            "| epoch   6 |  3000/ 3195 batches | lr 1.89 | ms/batch 11.45 | loss  4.06 | ppl    57.82\n",
            "-----------------------------------------------------------------------------------------\n",
            "| end of epoch   6 | time: 38.57s | valid loss  4.95 | valid ppl   140.76\n",
            "-----------------------------------------------------------------------------------------\n",
            "| epoch   7 |   200/ 3195 batches | lr 1.79 | ms/batch 11.53 | loss  4.09 | ppl    59.48\n",
            "| epoch   7 |   400/ 3195 batches | lr 1.79 | ms/batch 11.43 | loss  4.12 | ppl    61.42\n",
            "| epoch   7 |   600/ 3195 batches | lr 1.79 | ms/batch 11.45 | loss  4.01 | ppl    55.27\n",
            "| epoch   7 |   800/ 3195 batches | lr 1.79 | ms/batch 11.48 | loss  3.99 | ppl    54.23\n",
            "| epoch   7 |  1000/ 3195 batches | lr 1.79 | ms/batch 11.43 | loss  4.13 | ppl    62.08\n",
            "| epoch   7 |  1200/ 3195 batches | lr 1.79 | ms/batch 11.44 | loss  4.09 | ppl    59.74\n",
            "| epoch   7 |  1400/ 3195 batches | lr 1.79 | ms/batch 11.38 | loss  4.12 | ppl    61.53\n",
            "| epoch   7 |  1600/ 3195 batches | lr 1.79 | ms/batch 11.39 | loss  4.05 | ppl    57.58\n",
            "| epoch   7 |  1800/ 3195 batches | lr 1.79 | ms/batch 11.40 | loss  4.11 | ppl    61.25\n",
            "| epoch   7 |  2000/ 3195 batches | lr 1.79 | ms/batch 11.47 | loss  4.16 | ppl    64.01\n",
            "| epoch   7 |  2200/ 3195 batches | lr 1.79 | ms/batch 11.43 | loss  4.10 | ppl    60.42\n",
            "| epoch   7 |  2400/ 3195 batches | lr 1.79 | ms/batch 11.42 | loss  3.97 | ppl    53.14\n",
            "| epoch   7 |  2600/ 3195 batches | lr 1.79 | ms/batch 11.41 | loss  4.07 | ppl    58.66\n",
            "| epoch   7 |  2800/ 3195 batches | lr 1.79 | ms/batch 11.53 | loss  4.06 | ppl    58.17\n",
            "| epoch   7 |  3000/ 3195 batches | lr 1.79 | ms/batch 11.49 | loss  4.03 | ppl    56.04\n",
            "-----------------------------------------------------------------------------------------\n",
            "| end of epoch   7 | time: 38.48s | valid loss  4.96 | valid ppl   142.14\n",
            "-----------------------------------------------------------------------------------------\n",
            "| epoch   8 |   200/ 3195 batches | lr 1.70 | ms/batch 11.46 | loss  4.06 | ppl    57.71\n",
            "| epoch   8 |   400/ 3195 batches | lr 1.70 | ms/batch 11.48 | loss  4.09 | ppl    59.51\n",
            "| epoch   8 |   600/ 3195 batches | lr 1.70 | ms/batch 11.42 | loss  3.98 | ppl    53.61\n",
            "| epoch   8 |   800/ 3195 batches | lr 1.70 | ms/batch 11.39 | loss  3.97 | ppl    52.86\n",
            "| epoch   8 |  1000/ 3195 batches | lr 1.70 | ms/batch 11.44 | loss  4.10 | ppl    60.52\n",
            "| epoch   8 |  1200/ 3195 batches | lr 1.70 | ms/batch 11.46 | loss  4.06 | ppl    57.78\n",
            "| epoch   8 |  1400/ 3195 batches | lr 1.70 | ms/batch 11.45 | loss  4.09 | ppl    59.78\n",
            "| epoch   8 |  1600/ 3195 batches | lr 1.70 | ms/batch 11.42 | loss  4.03 | ppl    55.99\n",
            "| epoch   8 |  1800/ 3195 batches | lr 1.70 | ms/batch 11.39 | loss  4.09 | ppl    59.86\n",
            "| epoch   8 |  2000/ 3195 batches | lr 1.70 | ms/batch 11.45 | loss  4.13 | ppl    62.31\n",
            "| epoch   8 |  2200/ 3195 batches | lr 1.70 | ms/batch 11.43 | loss  4.07 | ppl    58.80\n",
            "| epoch   8 |  2400/ 3195 batches | lr 1.70 | ms/batch 11.47 | loss  3.94 | ppl    51.55\n",
            "| epoch   8 |  2600/ 3195 batches | lr 1.70 | ms/batch 11.54 | loss  4.04 | ppl    56.69\n",
            "| epoch   8 |  2800/ 3195 batches | lr 1.70 | ms/batch 11.42 | loss  4.04 | ppl    56.65\n",
            "| epoch   8 |  3000/ 3195 batches | lr 1.70 | ms/batch 11.43 | loss  4.00 | ppl    54.75\n",
            "-----------------------------------------------------------------------------------------\n",
            "| end of epoch   8 | time: 38.48s | valid loss  4.99 | valid ppl   146.84\n",
            "-----------------------------------------------------------------------------------------\n",
            "| epoch   9 |   200/ 3195 batches | lr 1.62 | ms/batch 11.42 | loss  4.03 | ppl    56.29\n",
            "| epoch   9 |   400/ 3195 batches | lr 1.62 | ms/batch 11.43 | loss  4.06 | ppl    58.20\n",
            "| epoch   9 |   600/ 3195 batches | lr 1.62 | ms/batch 11.42 | loss  3.96 | ppl    52.43\n",
            "| epoch   9 |   800/ 3195 batches | lr 1.62 | ms/batch 11.42 | loss  3.95 | ppl    51.71\n",
            "| epoch   9 |  1000/ 3195 batches | lr 1.62 | ms/batch 11.41 | loss  4.08 | ppl    59.05\n",
            "| epoch   9 |  1200/ 3195 batches | lr 1.62 | ms/batch 11.46 | loss  4.04 | ppl    56.62\n",
            "| epoch   9 |  1400/ 3195 batches | lr 1.62 | ms/batch 11.45 | loss  4.07 | ppl    58.45\n",
            "| epoch   9 |  1600/ 3195 batches | lr 1.62 | ms/batch 11.47 | loss  4.00 | ppl    54.56\n",
            "| epoch   9 |  1800/ 3195 batches | lr 1.62 | ms/batch 11.42 | loss  4.07 | ppl    58.37\n",
            "| epoch   9 |  2000/ 3195 batches | lr 1.62 | ms/batch 11.38 | loss  4.10 | ppl    60.50\n",
            "| epoch   9 |  2200/ 3195 batches | lr 1.62 | ms/batch 11.41 | loss  4.05 | ppl    57.59\n",
            "| epoch   9 |  2400/ 3195 batches | lr 1.62 | ms/batch 11.42 | loss  3.92 | ppl    50.42\n",
            "| epoch   9 |  2600/ 3195 batches | lr 1.62 | ms/batch 11.35 | loss  4.02 | ppl    55.44\n",
            "| epoch   9 |  2800/ 3195 batches | lr 1.62 | ms/batch 11.38 | loss  4.01 | ppl    55.34\n",
            "| epoch   9 |  3000/ 3195 batches | lr 1.62 | ms/batch 11.40 | loss  3.97 | ppl    53.18\n",
            "-----------------------------------------------------------------------------------------\n",
            "| end of epoch   9 | time: 38.39s | valid loss  4.99 | valid ppl   146.35\n",
            "-----------------------------------------------------------------------------------------\n",
            "| epoch  10 |   200/ 3195 batches | lr 1.54 | ms/batch 11.44 | loss  4.01 | ppl    55.16\n",
            "| epoch  10 |   400/ 3195 batches | lr 1.54 | ms/batch 11.47 | loss  4.03 | ppl    56.49\n",
            "| epoch  10 |   600/ 3195 batches | lr 1.54 | ms/batch 11.41 | loss  3.93 | ppl    51.11\n",
            "| epoch  10 |   800/ 3195 batches | lr 1.54 | ms/batch 11.45 | loss  3.92 | ppl    50.48\n",
            "| epoch  10 |  1000/ 3195 batches | lr 1.54 | ms/batch 11.40 | loss  4.06 | ppl    57.76\n",
            "| epoch  10 |  1200/ 3195 batches | lr 1.54 | ms/batch 11.38 | loss  4.01 | ppl    55.28\n",
            "| epoch  10 |  1400/ 3195 batches | lr 1.54 | ms/batch 11.36 | loss  4.04 | ppl    56.75\n",
            "| epoch  10 |  1600/ 3195 batches | lr 1.54 | ms/batch 11.37 | loss  3.97 | ppl    53.20\n",
            "| epoch  10 |  1800/ 3195 batches | lr 1.54 | ms/batch 11.45 | loss  4.04 | ppl    56.95\n",
            "| epoch  10 |  2000/ 3195 batches | lr 1.54 | ms/batch 11.39 | loss  4.08 | ppl    59.32\n",
            "| epoch  10 |  2200/ 3195 batches | lr 1.54 | ms/batch 11.38 | loss  4.02 | ppl    55.94\n",
            "| epoch  10 |  2400/ 3195 batches | lr 1.54 | ms/batch 11.43 | loss  3.89 | ppl    49.08\n",
            "| epoch  10 |  2600/ 3195 batches | lr 1.54 | ms/batch 11.41 | loss  3.99 | ppl    54.14\n",
            "| epoch  10 |  2800/ 3195 batches | lr 1.54 | ms/batch 11.41 | loss  3.99 | ppl    53.91\n",
            "| epoch  10 |  3000/ 3195 batches | lr 1.54 | ms/batch 11.41 | loss  3.95 | ppl    52.15\n",
            "-----------------------------------------------------------------------------------------\n",
            "| end of epoch  10 | time: 38.42s | valid loss  4.98 | valid ppl   145.14\n",
            "-----------------------------------------------------------------------------------------\n"
          ],
          "name": "stdout"
        }
      ]
    },
    {
      "cell_type": "markdown",
      "metadata": {
        "id": "58Fw_MNrCvDF",
        "colab_type": "text"
      },
      "source": [
        "Evaluate the model with the test dataset\n",
        "-------------------------------------\n",
        "\n",
        "Apply the best model to check the result with the test dataset.\n",
        "\n"
      ]
    },
    {
      "cell_type": "code",
      "metadata": {
        "id": "VSnoui7nCvDF",
        "colab_type": "code",
        "colab": {
          "base_uri": "https://localhost:8080/",
          "height": 68
        },
        "outputId": "c9b8ae93-ea47-45c3-d411-7d8fcc8892e3"
      },
      "source": [
        "test_loss = evaluate(best_model, test_data)\n",
        "print('=' * 89)\n",
        "print('| End of training | test loss {:5.2f} | test ppl {:8.2f}'.format(\n",
        "    test_loss, math.exp(test_loss)))\n",
        "print('=' * 89)"
      ],
      "execution_count": 12,
      "outputs": [
        {
          "output_type": "stream",
          "text": [
            "=========================================================================================\n",
            "| End of training | test loss  4.82 | test ppl   124.40\n",
            "=========================================================================================\n"
          ],
          "name": "stdout"
        }
      ]
    },
    {
      "cell_type": "code",
      "metadata": {
        "id": "aTqwSbxiITkb",
        "colab_type": "code",
        "colab": {}
      },
      "source": [
        ""
      ],
      "execution_count": null,
      "outputs": []
    }
  ]
}