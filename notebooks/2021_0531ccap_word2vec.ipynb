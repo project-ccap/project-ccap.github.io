{
  "nbformat": 4,
  "nbformat_minor": 0,
  "metadata": {
    "kernelspec": {
      "display_name": "Python 3",
      "language": "python",
      "name": "python3"
    },
    "language_info": {
      "codemirror_mode": {
        "name": "ipython",
        "version": 3
      },
      "file_extension": ".py",
      "mimetype": "text/x-python",
      "name": "python",
      "nbconvert_exporter": "python",
      "pygments_lexer": "ipython3",
      "version": "3.7.9"
    },
    "colab": {
      "name": "2021_0531ccap_word2vec.ipynb",
      "provenance": [],
      "include_colab_link": true
    }
  },
  "cells": [
    {
      "cell_type": "markdown",
      "metadata": {
        "id": "view-in-github",
        "colab_type": "text"
      },
      "source": [
        "<a href=\"https://colab.research.google.com/github/project-ccap/project-ccap.github.io/blob/master/notebooks/2021_0531ccap_word2vec.ipynb\" target=\"_parent\"><img src=\"https://colab.research.google.com/assets/colab-badge.svg\" alt=\"Open In Colab\"/></a>"
      ]
    },
    {
      "cell_type": "markdown",
      "metadata": {
        "id": "HCd-RXCh96wZ"
      },
      "source": [
        "# 2021年5月版 word2vec デモ\n",
        "\n",
        "- date: 2021_0510\n",
        "- filename: 2021_0530ccap_word2vec.pynb\n",
        "- author: 浅川伸一\n",
        "- 概要:"
      ]
    },
    {
      "cell_type": "code",
      "metadata": {
        "id": "iHriyazEyHEc"
      },
      "source": [
        "import numpy as np\n",
        "# 表示精度桁数の設定\n",
        "np.set_printoptions(suppress=False, formatter={'float': '{:6.3f}'.format})"
      ],
      "execution_count": 31,
      "outputs": []
    },
    {
      "cell_type": "code",
      "metadata": {
        "id": "Fz50bKNqi5zu"
      },
      "source": [
        "%time\n",
        "# 形態素分析ライブラリーMeCab と 辞書(mecab-ipadic-NEologd)のインストール \n",
        "# reference: https://qiita.com/jun40vn/items/78e33e29dce3d50c2df1\n",
        "!apt-get -q -y install sudo file mecab libmecab-dev mecab-ipadic-utf8 git curl python-mecab\n",
        "!git clone --depth 1 https://github.com/neologd/mecab-ipadic-neologd.git\n",
        "!echo yes | mecab-ipadic-neologd/bin/install-mecab-ipadic-neologd -n\n",
        "!pip install mecab-python3\n",
        "\n",
        "# シンボリックリンクによるエラー回避\n",
        "!ln -s /etc/mecabrc /usr/local/etc/mecabrc"
      ],
      "execution_count": null,
      "outputs": []
    },
    {
      "cell_type": "code",
      "metadata": {
        "colab": {
          "base_uri": "https://localhost:8080/"
        },
        "id": "PnDY6cIKjRus",
        "outputId": "1ee2aabc-242a-4095-a250-5585f7c28c55"
      },
      "source": [
        "# 動作確認\n",
        "import MeCab\n",
        "neologd_path = \"-d /usr/lib/x86_64-linux-gnu/mecab/dic/mecab-ipadic-neologd\"\n",
        "m = MeCab.Tagger(neologd_path +' -Oyomi')\n",
        "print(m.parse('鬼滅の刃'))"
      ],
      "execution_count": 33,
      "outputs": [
        {
          "output_type": "stream",
          "text": [
            "キメツノヤイバ\n",
            "\n"
          ],
          "name": "stdout"
        }
      ]
    },
    {
      "cell_type": "code",
      "metadata": {
        "id": "typUIMFS0x3t"
      },
      "source": [
        "#訓練済 word2vec ファイルの取得\n",
        "#!wget --no-check-certificate --load-cookies /tmp/cookies.txt \"https://docs.google.com/uc?export=download&confirm=$(wget --quiet --save-cookies /tmp/cookies.txt --keep-session-cookies --no-check-certificate 'https://docs.google.com/uc?export=download&id=1B9HGhLZOja4Xku5c_d-kMhCXn1LBZgDb' -O- | sed -rn 's/.*confirm=([0-9A-Za-z_]+).*/\\1\\n/p')&id=1B9HGhLZOja4Xku5c_d-kMhCXn1LBZgDb\" -O 2021_05jawiki_hid128_win10_neg10_cbow.bin.gz && rm -rf /tmp/cookies.txt\n",
        "#!wget --no-check-certificate --load-cookies /tmp/cookies.txt \"https://docs.google.com/uc?export=download&confirm=$(wget --quiet --save-cookies /tmp/cookies.txt --keep-session-cookies --no-check-certificate 'https://docs.google.com/uc?export=download&id=1OWmFOVRC6amCxsomcRwdA6ILAA5s4y4M' -O- | sed -rn 's/.*confirm=([0-9A-Za-z_]+).*/\\1\\n/p')&id=1OWmFOVRC6amCxsomcRwdA6ILAA5s4y4M\" -O 2021_05jawiki_hid128_win10_neg10_sgns.bin.gz && rm -rf /tmp/cookies.txt\n",
        "!wget --no-check-certificate --load-cookies /tmp/cookies.txt \"https://docs.google.com/uc?export=download&confirm=$(wget --quiet --save-cookies /tmp/cookies.txt --keep-session-cookies --no-check-certificate 'https://docs.google.com/uc?export=download&id=1JTkU5SUBU2GkURCYeHkAWYs_Zlbqob0s' -O- | sed -rn 's/.*confirm=([0-9A-Za-z_]+).*/\\1\\n/p')&id=1JTkU5SUBU2GkURCYeHkAWYs_Zlbqob0s\" -O 2021_05jawiki_hid200_win20_neg20_cbow.bin.gz && rm -rf /tmp/cookies.txt\n",
        "#!wget --no-check-certificate --load-cookies /tmp/cookies.txt \"https://docs.google.com/uc?export=download&confirm=$(wget --quiet --save-cookies /tmp/cookies.txt --keep-session-cookies --no-check-certificate 'https://docs.google.com/uc?export=download&id=1VPL2Mr9JgWHik9HjRmcADoxXIdrQ3ds7' -O- | sed -rn 's/.*confirm=([0-9A-Za-z_]+).*/\\1\\n/p')&id=1VPL2Mr9JgWHik9HjRmcADoxXIdrQ3ds7\" -O 2021_05jawiki_hid200_win20_neg20_sgns.bin.gz && rm -rf /tmp/cookies.txt"
      ],
      "execution_count": null,
      "outputs": []
    },
    {
      "cell_type": "code",
      "metadata": {
        "id": "Z6q-E4UPzKn_"
      },
      "source": [
        "%time\n",
        "#直上のセルで取得したファイルの読み込み\n",
        "# word2vec データ処理のため gensim を使う\n",
        "import os\n",
        "import sys\n",
        "from gensim.models import KeyedVectors\n",
        "from gensim.models import Word2Vec\n",
        "\n",
        "print('# word2vec データの読み込み')\n",
        "print('# 訓練済 word2vec，訓練データは wikipedia 全文  読み込みに時間がかかります...', end=\"\")\n",
        "# ファイルの所在に応じて変更してください\n",
        "w2v_base = '.'\n",
        "#w2v_file='2021_05jawiki_hid128_win10_neg10_cbow.bin.gz'\n",
        "#w2v_file='2021_05jawiki_hid128_win10_neg10_sgns.bin.gz'\n",
        "w2v_file='2021_05jawiki_hid200_win20_neg20_cbow.bin.gz'\n",
        "#w2v_file='2021_05jawiki_hid200_win20_neg20_sgns.bin.gz'\n",
        "asakawa_w2v_file = os.path.join(w2v_base, w2v_file)\n",
        "asakawa_w2v = KeyedVectors.load_word2vec_format(asakawa_w2v_file, \n",
        "                                                encoding='utf-8', \n",
        "                                                unicode_errors='replace',\n",
        "                                                binary=True) \n",
        "\n",
        "w2v = asakawa_w2v\n",
        "print('done')"
      ],
      "execution_count": null,
      "outputs": []
    },
    {
      "cell_type": "code",
      "metadata": {
        "id": "VPdSNZrB5NjJ"
      },
      "source": [
        "#以下は操作例：単語の後の数字はコサイン類似度を表している\n",
        "word = '人工知能' #入力単語\n",
        "topn = 20        #類似度が高い順に何語出力するか\n",
        "word = input('単語を入力してください: ')\n",
        "w2v.most_similar(word,topn=topn)"
      ],
      "execution_count": null,
      "outputs": []
    },
    {
      "cell_type": "markdown",
      "metadata": {
        "id": "SaxC6Bb-zivR"
      },
      "source": [
        "コサイン類似度とは，ベクトル間の類似度を角度 $\\theta$ として表現したもの。\n",
        "\n",
        "$$\n",
        "\\text{$\\mathbf{x}$ と $\\mathbf{y}$ とのコサイン類似度 $\\theta$}=\\frac{(\\mathbf{x}\\cdot\\mathbf{y})}{|\\mathbf{x}||\\mathbf{y}|}\n",
        "$$\n",
        "\n",
        "ただし上式では $-1\\le\\theta\\le1$ であるので，$[0,1]$ の範囲になるように，$\\theta$ に 1 を加えて 0.5 倍してある。"
      ]
    },
    {
      "cell_type": "code",
      "metadata": {
        "id": "bwARuxBfLtdj"
      },
      "source": [
        "w2v.most_similar(positive=('王','女'), negative=('男'),topn=topn)"
      ],
      "execution_count": null,
      "outputs": []
    },
    {
      "cell_type": "code",
      "metadata": {
        "id": "NicK62d-Mija"
      },
      "source": [
        "w2v.most_similar(positive=('早稲田大学','関西'), negative=('関東'))"
      ],
      "execution_count": null,
      "outputs": []
    },
    {
      "cell_type": "code",
      "metadata": {
        "id": "66v0Fxv7NblH"
      },
      "source": [
        "w2v.most_similar(positive=('ジャイアンツ','アメリカ'), negative=('日本'))"
      ],
      "execution_count": null,
      "outputs": []
    },
    {
      "cell_type": "code",
      "metadata": {
        "id": "IShDULFQN8G_"
      },
      "source": [
        "w2v.most_similar(positive=('鬼滅の刃'))"
      ],
      "execution_count": null,
      "outputs": []
    },
    {
      "cell_type": "code",
      "metadata": {
        "id": "i1VL4AfvweMs"
      },
      "source": [
        "!pip install jaconv       #単語をカタカナに変換するために使用するライブラリ\n",
        "!pip install Levenshtein  #レーベンシュタイン距離を算出するライブラリ\n",
        "import jaconv\n",
        "import Levenshtein"
      ],
      "execution_count": null,
      "outputs": []
    },
    {
      "cell_type": "code",
      "metadata": {
        "id": "bYTotbNn-bFh",
        "outputId": "f24fa0d3-4617-4339-ea96-0dbd02feeacb",
        "colab": {
          "base_uri": "https://localhost:8080/"
        }
      },
      "source": [
        "# word2vec の類似語上位 topn 語の読みを元にレーベンシュタイン距離を算出して表示\n",
        "topn=10\n",
        "target = input('word2vec で類似の単語をカタカナ表記してレーベンシュタイン距離を求めるデモです。単語を入力してください: ')\n",
        "mecabtagger = MeCab.Tagger('-Oyomi -d /usr/lib/x86_64-linux-gnu/mecab/dic/mecab-ipadic-neologd')\n",
        "kata_target = mecabtagger.parse(target).strip()\n",
        "word_list = [ent[0] for ent in w2v.most_similar(target,topn=topn)]\n",
        "kata_word_list = [mecabtagger.parse(word).strip() for word in word_list]\n",
        "kata_distances = [Levenshtein.distance(kata_target, kata_word) for kata_word in kata_word_list]\n",
        "sorted_word_list = [word_list[i] for i in  np.argsort(kata_distances)] # [::-1]]\n",
        "\n",
        "print(f'ターゲット語: {target} {kata_target}')\n",
        "for i, word in enumerate(sorted_word_list):\n",
        "    yomi = kata_word_list[word_list.index(sorted_word_list[i])]\n",
        "    dist = kata_distances[word_list.index(sorted_word_list[i])] \n",
        "    print(f'{i+1:2d}: {word} (読み:{yomi}) 距離:{dist}')"
      ],
      "execution_count": 75,
      "outputs": [
        {
          "output_type": "stream",
          "text": [
            "word2vec で類似の単語をカタカナ表記してレーベンシュタイン距離を求めるデモです。単語を入力してください: 鬼滅の刃\n",
            "ターゲット語: 鬼滅の刃 キメツノヤイバ\n",
            " 1: 紅蓮の弓矢 (読み:グレンノユミヤ) 距離:6\n",
            " 2: 竈門炭治郎 (読み:カマドタンジロウ) 距離:8\n",
            " 3: 吾峠呼世晴 (読み:ゴトウゲコヨハル) 距離:8\n",
            " 4: 呪術廻戦 (読み:ジュジュツカイセン) 距離:8\n",
            " 5: 進撃の巨人 (読み:シンゲキノキョジン) 距離:8\n",
            " 6: 約束のネバーランド (読み:ヤクソクノネバーランド) 距離:10\n",
            " 7: ゆらぎ荘の幽奈さん (読み:ユラギソウノユウナサン) 距離:10\n",
            " 8: 炎炎ノ消防隊 (読み:エンエンノショウボウタイ) 距離:11\n",
            " 9: 僕のヒーローアカデミア (読み:ボクノヒーローアカデミア) 距離:12\n",
            "10: 転生したらスライムだった件 (読み:テンセイシタラスライムダッタケン) 距離:15\n"
          ],
          "name": "stdout"
        }
      ]
    },
    {
      "cell_type": "code",
      "metadata": {
        "id": "bJQPUaWW6uhK"
      },
      "source": [
        ""
      ],
      "execution_count": null,
      "outputs": []
    }
  ]
}