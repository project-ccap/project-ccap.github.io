{
  "nbformat": 4,
  "nbformat_minor": 0,
  "metadata": {
    "kernelspec": {
      "display_name": "Python 3",
      "language": "python",
      "name": "python3"
    },
    "language_info": {
      "codemirror_mode": {
        "name": "ipython",
        "version": 3
      },
      "file_extension": ".py",
      "mimetype": "text/x-python",
      "name": "python",
      "nbconvert_exporter": "python",
      "pygments_lexer": "ipython3",
      "version": "3.7.9"
    },
    "colab": {
      "name": "2021_0531ccap_word2vec.ipynb",
      "provenance": [],
      "include_colab_link": true
    }
  },
  "cells": [
    {
      "cell_type": "markdown",
      "metadata": {
        "id": "view-in-github",
        "colab_type": "text"
      },
      "source": [
        "<a href=\"https://colab.research.google.com/github/project-ccap/project-ccap.github.io/blob/master/notebooks/2021_0531ccap_word2vec.ipynb\" target=\"_parent\"><img src=\"https://colab.research.google.com/assets/colab-badge.svg\" alt=\"Open In Colab\"/></a>"
      ]
    },
    {
      "cell_type": "markdown",
      "metadata": {
        "id": "HCd-RXCh96wZ"
      },
      "source": [
        "# 2021年5月版 word2vec デモ\n",
        "\n",
        "- date: 2021_0510\n",
        "- filename: 2021_0530ccap_word2vec.pynb\n",
        "- author: 浅川伸一\n",
        "- 概要:"
      ]
    },
    {
      "cell_type": "code",
      "metadata": {
        "id": "WIJhTDSlvmJm"
      },
      "source": [
        "#colab 上で MeCab をインストール際に，次行をコメントアウト\n",
        "!pip install mecab-python3==0.996.3\n",
        "import MeCab\n",
        "\n",
        "!pip install jaconv\n",
        "import jaconv\n",
        "\n",
        "import matplotlib.pyplot as plot\n",
        "!pip install japanize_matplotlib\n",
        "import japanize_matplotlib "
      ],
      "execution_count": null,
      "outputs": []
    },
    {
      "cell_type": "code",
      "metadata": {
        "id": "typUIMFS0x3t",
        "colab": {
          "base_uri": "https://localhost:8080/"
        },
        "outputId": "1cf63056-60b3-4411-a0bd-c85cdc7bb927"
      },
      "source": [
        "#!wget --no-check-certificate --load-cookies /tmp/cookies.txt \"https://docs.google.com/uc?export=download&confirm=$(wget --quiet --save-cookies /tmp/cookies.txt --keep-session-cookies --no-check-certificate 'https://docs.google.com/uc?export=download&id=1B9HGhLZOja4Xku5c_d-kMhCXn1LBZgDb' -O- | sed -rn 's/.*confirm=([0-9A-Za-z_]+).*/\\1\\n/p')&id=1B9HGhLZOja4Xku5c_d-kMhCXn1LBZgDb\" -O 2021_05jawiki_hid128_win10_neg10_cbow.bin.gz && rm -rf /tmp/cookies.txt\n",
        "#!wget --no-check-certificate --load-cookies /tmp/cookies.txt \"https://docs.google.com/uc?export=download&confirm=$(wget --quiet --save-cookies /tmp/cookies.txt --keep-session-cookies --no-check-certificate 'https://docs.google.com/uc?export=download&id=1OWmFOVRC6amCxsomcRwdA6ILAA5s4y4M' -O- | sed -rn 's/.*confirm=([0-9A-Za-z_]+).*/\\1\\n/p')&id=1OWmFOVRC6amCxsomcRwdA6ILAA5s4y4M\" -O 2021_05jawiki_hid128_win10_neg10_sgns.bin.gz && rm -rf /tmp/cookies.txt\n",
        "!wget --no-check-certificate --load-cookies /tmp/cookies.txt \"https://docs.google.com/uc?export=download&confirm=$(wget --quiet --save-cookies /tmp/cookies.txt --keep-session-cookies --no-check-certificate 'https://docs.google.com/uc?export=download&id=1JTkU5SUBU2GkURCYeHkAWYs_Zlbqob0s' -O- | sed -rn 's/.*confirm=([0-9A-Za-z_]+).*/\\1\\n/p')&id=1JTkU5SUBU2GkURCYeHkAWYs_Zlbqob0s\" -O 2021_05jawiki_hid200_win20_neg20_cbow.bin.gz && rm -rf /tmp/cookies.txt\n",
        "#!wget --no-check-certificate --load-cookies /tmp/cookies.txt \"https://docs.google.com/uc?export=download&confirm=$(wget --quiet --save-cookies /tmp/cookies.txt --keep-session-cookies --no-check-certificate 'https://docs.google.com/uc?export=download&id=1VPL2Mr9JgWHik9HjRmcADoxXIdrQ3ds7' -O- | sed -rn 's/.*confirm=([0-9A-Za-z_]+).*/\\1\\n/p')&id=1VPL2Mr9JgWHik9HjRmcADoxXIdrQ3ds7\" -O 2021_05jawiki_hid200_win20_neg20_sgns.bin.gz && rm -rf /tmp/cookies.txt"
      ],
      "execution_count": null,
      "outputs": [
        {
          "output_type": "stream",
          "text": [
            "--2021-05-31 11:34:45--  https://docs.google.com/uc?export=download&confirm=8TFk&id=1JTkU5SUBU2GkURCYeHkAWYs_Zlbqob0s\n",
            "Resolving docs.google.com (docs.google.com)... 172.217.203.102, 172.217.203.138, 172.217.203.100, ...\n",
            "Connecting to docs.google.com (docs.google.com)|172.217.203.102|:443... connected.\n",
            "HTTP request sent, awaiting response... 302 Moved Temporarily\n",
            "Location: https://doc-04-48-docs.googleusercontent.com/docs/securesc/0vtj9953bpq6kle9vkhfft897a0km490/4i3vk0uas7i8641d19cshl0oki8evrl9/1622460825000/10804218431552746902/10045485480160262011Z/1JTkU5SUBU2GkURCYeHkAWYs_Zlbqob0s?e=download [following]\n",
            "--2021-05-31 11:34:45--  https://doc-04-48-docs.googleusercontent.com/docs/securesc/0vtj9953bpq6kle9vkhfft897a0km490/4i3vk0uas7i8641d19cshl0oki8evrl9/1622460825000/10804218431552746902/10045485480160262011Z/1JTkU5SUBU2GkURCYeHkAWYs_Zlbqob0s?e=download\n",
            "Resolving doc-04-48-docs.googleusercontent.com (doc-04-48-docs.googleusercontent.com)... 172.217.204.132, 2607:f8b0:400c:c15::84\n",
            "Connecting to doc-04-48-docs.googleusercontent.com (doc-04-48-docs.googleusercontent.com)|172.217.204.132|:443... connected.\n",
            "HTTP request sent, awaiting response... 302 Found\n",
            "Location: https://docs.google.com/nonceSigner?nonce=m9i2qkav6icuc&continue=https://doc-04-48-docs.googleusercontent.com/docs/securesc/0vtj9953bpq6kle9vkhfft897a0km490/4i3vk0uas7i8641d19cshl0oki8evrl9/1622460825000/10804218431552746902/10045485480160262011Z/1JTkU5SUBU2GkURCYeHkAWYs_Zlbqob0s?e%3Ddownload&hash=6bl3tlsjp8mqpe3ltfujolp3ikfg1po6 [following]\n",
            "--2021-05-31 11:34:45--  https://docs.google.com/nonceSigner?nonce=m9i2qkav6icuc&continue=https://doc-04-48-docs.googleusercontent.com/docs/securesc/0vtj9953bpq6kle9vkhfft897a0km490/4i3vk0uas7i8641d19cshl0oki8evrl9/1622460825000/10804218431552746902/10045485480160262011Z/1JTkU5SUBU2GkURCYeHkAWYs_Zlbqob0s?e%3Ddownload&hash=6bl3tlsjp8mqpe3ltfujolp3ikfg1po6\n",
            "Connecting to docs.google.com (docs.google.com)|172.217.203.102|:443... connected.\n",
            "HTTP request sent, awaiting response... 302 Found\n",
            "Location: https://doc-04-48-docs.googleusercontent.com/docs/securesc/0vtj9953bpq6kle9vkhfft897a0km490/4i3vk0uas7i8641d19cshl0oki8evrl9/1622460825000/10804218431552746902/10045485480160262011Z/1JTkU5SUBU2GkURCYeHkAWYs_Zlbqob0s?e=download&nonce=m9i2qkav6icuc&user=10045485480160262011Z&hash=s839aacu6muepqdqplloc8668lut32m3 [following]\n",
            "--2021-05-31 11:34:45--  https://doc-04-48-docs.googleusercontent.com/docs/securesc/0vtj9953bpq6kle9vkhfft897a0km490/4i3vk0uas7i8641d19cshl0oki8evrl9/1622460825000/10804218431552746902/10045485480160262011Z/1JTkU5SUBU2GkURCYeHkAWYs_Zlbqob0s?e=download&nonce=m9i2qkav6icuc&user=10045485480160262011Z&hash=s839aacu6muepqdqplloc8668lut32m3\n",
            "Connecting to doc-04-48-docs.googleusercontent.com (doc-04-48-docs.googleusercontent.com)|172.217.204.132|:443... connected.\n",
            "HTTP request sent, awaiting response... 200 OK\n",
            "Length: unspecified [application/x-gzip]\n",
            "Saving to: ‘2021_05jawiki_hid200_win20_neg20_cbow.bin.gz’\n",
            "\n",
            "2021_05jawiki_hid20     [    <=>             ] 689.58M  92.8MB/s    in 8.4s    \n",
            "\n",
            "2021-05-31 11:34:54 (81.9 MB/s) - ‘2021_05jawiki_hid200_win20_neg20_cbow.bin.gz’ saved [723079897]\n",
            "\n"
          ],
          "name": "stdout"
        }
      ]
    },
    {
      "cell_type": "code",
      "metadata": {
        "colab": {
          "base_uri": "https://localhost:8080/"
        },
        "id": "Z6q-E4UPzKn_",
        "outputId": "4a7e5959-e692-46ee-f58c-4a13668b3155"
      },
      "source": [
        "%time\n",
        "import numpy as np\n",
        "# 表示精度桁数の設定\n",
        "np.set_printoptions(suppress=False, formatter={'float': '{:6.3f}'.format})\n",
        "\n",
        "# word2vec データ処理のため gensim を使う\n",
        "import os\n",
        "import sys\n",
        "from gensim.models import KeyedVectors\n",
        "from gensim.models import Word2Vec\n",
        "\n",
        "print('# word2vec データの読み込み')\n",
        "print('# 訓練済 word2vec，訓練データは wikipedia 全文  読み込みに時間がかかります...', end=\"\")\n",
        "# ファイルの所在に応じて変更してください\n",
        "w2v_base = '.'\n",
        "#w2v_file='2021_05jawiki_hid128_win10_neg10_cbow.bin.gz'\n",
        "#w2v_file='2021_05jawiki_hid128_win10_neg10_sgns.bin.gz'\n",
        "w2v_file='2021_05jawiki_hid200_win20_neg20_cbow.bin.gz'\n",
        "#w2v_file='2021_05jawiki_hid200_win20_neg20_sgns.bin.gz'\n",
        "asakawa_w2v_file = os.path.join(w2v_base, w2v_file)\n",
        "asakawa_w2v = KeyedVectors.load_word2vec_format(asakawa_w2v_file, \n",
        "                                                encoding='utf-8', \n",
        "                                                unicode_errors='replace',\n",
        "                                                binary=True) \n",
        "\n",
        "w2v = asakawa_w2v\n",
        "print('done')"
      ],
      "execution_count": null,
      "outputs": [
        {
          "output_type": "stream",
          "text": [
            "# word2vec データの読み込み\n",
            "# 訓練済 word2vec，訓練データは wikipedia 全文  読み込みに時間がかかります...done\n"
          ],
          "name": "stdout"
        }
      ]
    },
    {
      "cell_type": "code",
      "metadata": {
        "id": "VPdSNZrB5NjJ",
        "colab": {
          "base_uri": "https://localhost:8080/"
        },
        "outputId": "1cc4a6b3-d267-4a61-b392-82477ad4ef54"
      },
      "source": [
        "#以下は操作例です。\n",
        "\n",
        "word = '鬼滅の刃' #入力単語\n",
        "topn = 10.       #類似度が高い順に何語出力するか\n",
        "word = input('単語を入力してください')\n",
        "w2v.most_similar(word)"
      ],
      "execution_count": null,
      "outputs": [
        {
          "output_type": "stream",
          "text": [
            "単語を入力してください花\n"
          ],
          "name": "stdout"
        },
        {
          "output_type": "execute_result",
          "data": {
            "text/plain": [
              "[('花びら', 0.7862198352813721),\n",
              " ('白い花', 0.7861863374710083),\n",
              " ('蕾', 0.7830392122268677),\n",
              " ('青い花', 0.7601170539855957),\n",
              " ('赤い花', 0.7570050954818726),\n",
              " ('水仙', 0.7469111680984497),\n",
              " ('小さな花', 0.7404030561447144),\n",
              " ('牡丹', 0.738473117351532),\n",
              " ('梅の花', 0.737271785736084),\n",
              " ('咲き', 0.7367553114891052)]"
            ]
          },
          "metadata": {
            "tags": []
          },
          "execution_count": 6
        }
      ]
    },
    {
      "cell_type": "code",
      "metadata": {
        "id": "bwARuxBfLtdj",
        "colab": {
          "base_uri": "https://localhost:8080/"
        },
        "outputId": "d1d891e4-1941-47c8-f4ed-412805427218"
      },
      "source": [
        "w2v.most_similar(positive=('王','女'), negative=('男'))"
      ],
      "execution_count": null,
      "outputs": [
        {
          "output_type": "execute_result",
          "data": {
            "text/plain": [
              "[('聖王', 0.7146469354629517),\n",
              " ('ジャラーサンダ', 0.7005405426025391),\n",
              " ('王妃', 0.6933296322822571),\n",
              " ('臣下', 0.6854950189590454),\n",
              " ('君主', 0.6794342994689941),\n",
              " ('王子', 0.6732866168022156),\n",
              " ('大王', 0.6719251871109009),\n",
              " ('皇帝', 0.6606279611587524),\n",
              " ('女王', 0.6571927666664124),\n",
              " ('大武神王', 0.6570279002189636)]"
            ]
          },
          "metadata": {
            "tags": []
          },
          "execution_count": 15
        }
      ]
    },
    {
      "cell_type": "code",
      "metadata": {
        "id": "NicK62d-Mija",
        "colab": {
          "base_uri": "https://localhost:8080/"
        },
        "outputId": "ef180e44-c766-4438-9485-0627b2f11b43"
      },
      "source": [
        "w2v.most_similar(positive=('早稲田大学','関西'), negative=('関東'))"
      ],
      "execution_count": null,
      "outputs": [
        {
          "output_type": "execute_result",
          "data": {
            "text/plain": [
              "[('同志社大学', 0.5012803077697754),\n",
              " ('関西学院大学', 0.49142158031463623),\n",
              " ('慶應義塾大学', 0.49109768867492676),\n",
              " ('関西大学', 0.4891352951526642),\n",
              " ('明治大学', 0.48460063338279724),\n",
              " ('法政大学', 0.46867406368255615),\n",
              " ('立命館大学', 0.46194517612457275),\n",
              " ('立教大学', 0.4435693621635437),\n",
              " ('青山学院大学', 0.4349278211593628),\n",
              " ('日本大学', 0.43411391973495483)]"
            ]
          },
          "metadata": {
            "tags": []
          },
          "execution_count": 19
        }
      ]
    },
    {
      "cell_type": "code",
      "metadata": {
        "id": "66v0Fxv7NblH",
        "colab": {
          "base_uri": "https://localhost:8080/"
        },
        "outputId": "f6f0ec3b-901a-4d6e-8fe9-b58af228369b"
      },
      "source": [
        "w2v.most_similar(positive=('ジャイアンツ','アメリカ合衆国'), negative=('日本'))"
      ],
      "execution_count": null,
      "outputs": [
        {
          "output_type": "execute_result",
          "data": {
            "text/plain": [
              "[('パイレーツ', 0.4308600425720215),\n",
              " ('ブランチ・リッキー', 0.4181841313838959),\n",
              " ('カージナルス', 0.4148496985435486),\n",
              " ('カブス', 0.4127900004386902),\n",
              " ('インディアンス', 0.4110332727432251),\n",
              " ('ニューヨーク・ジャイアンツ', 0.40718504786491394),\n",
              " ('ミシガン州', 0.40686190128326416),\n",
              " ('アスレチックス', 0.4054514169692993),\n",
              " ('セントポール・セインツ', 0.4007907509803772),\n",
              " ('シンシナティ・レッズ', 0.399544358253479)]"
            ]
          },
          "metadata": {
            "tags": []
          },
          "execution_count": 21
        }
      ]
    },
    {
      "cell_type": "code",
      "metadata": {
        "id": "IShDULFQN8G_",
        "colab": {
          "base_uri": "https://localhost:8080/"
        },
        "outputId": "70f7704e-a614-4a89-f446-ff4340c69625"
      },
      "source": [
        "w2v.most_similar(positive=('鬼滅の刃'))"
      ],
      "execution_count": null,
      "outputs": [
        {
          "output_type": "execute_result",
          "data": {
            "text/plain": [
              "[('竈門炭治郎', 0.7513207793235779),\n",
              " ('約束のネバーランド', 0.6903928518295288),\n",
              " ('吾峠呼世晴', 0.689347505569458),\n",
              " ('呪術廻戦', 0.6554467082023621),\n",
              " ('転生したらスライムだった件', 0.6463882923126221),\n",
              " ('ゆらぎ荘の幽奈さん', 0.6366949081420898),\n",
              " ('紅蓮の弓矢', 0.6332972645759583),\n",
              " ('進撃の巨人', 0.6329469680786133),\n",
              " ('僕のヒーローアカデミア', 0.6326904296875),\n",
              " ('炎炎ノ消防隊', 0.6274813413619995)]"
            ]
          },
          "metadata": {
            "tags": []
          },
          "execution_count": 24
        }
      ]
    },
    {
      "cell_type": "code",
      "metadata": {
        "id": "NeNfECo9OJKD",
        "colab": {
          "base_uri": "https://localhost:8080/"
        },
        "outputId": "afb2ed8f-e2ad-4af7-b5a3-3d3d339d6f45"
      },
      "source": [
        "w2v.vector_size"
      ],
      "execution_count": null,
      "outputs": [
        {
          "output_type": "execute_result",
          "data": {
            "text/plain": [
              "200"
            ]
          },
          "metadata": {
            "tags": []
          },
          "execution_count": 26
        }
      ]
    },
    {
      "cell_type": "code",
      "metadata": {
        "id": "SV5Np8H_OVgt"
      },
      "source": [
        ""
      ],
      "execution_count": null,
      "outputs": []
    }
  ]
}